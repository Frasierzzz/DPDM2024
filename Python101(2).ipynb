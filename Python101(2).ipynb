{
  "nbformat": 4,
  "nbformat_minor": 0,
  "metadata": {
    "colab": {
      "provenance": [],
      "collapsed_sections": [
        "65Q1QJpJ0h7B",
        "lvYMJk-KcXWa",
        "Z_uWG691g3Ey",
        "O74XrrNyjL2j",
        "vvPrhViVpar1",
        "GrLiBRiYrOxL",
        "s2ji8USqrpYz",
        "yks606PTt6V9",
        "rc0uLj8FuwZe",
        "0ZEFcor3wWLQ",
        "tIG2UkKkxfVX",
        "alyaQfeXky0G",
        "YuNT2uqKyMt8"
      ],
      "toc_visible": true,
      "authorship_tag": "ABX9TyMx2gaD2b1hKKftuhKnVVT8",
      "include_colab_link": true
    },
    "kernelspec": {
      "name": "python3",
      "display_name": "Python 3"
    },
    "language_info": {
      "name": "python"
    }
  },
  "cells": [
    {
      "cell_type": "markdown",
      "metadata": {
        "id": "view-in-github",
        "colab_type": "text"
      },
      "source": [
        "<a href=\"https://colab.research.google.com/github/Frasierzzz/DPDM2024/blob/main/Python101(2).ipynb\" target=\"_parent\"><img src=\"https://colab.research.google.com/assets/colab-badge.svg\" alt=\"Open In Colab\"/></a>"
      ]
    },
    {
      "cell_type": "markdown",
      "source": [
        "##Class 10/07/2567"
      ],
      "metadata": {
        "id": "MfbLolsqcSPU"
      }
    },
    {
      "cell_type": "markdown",
      "source": [
        "# Variable Types"
      ],
      "metadata": {
        "id": "65Q1QJpJ0h7B"
      }
    },
    {
      "cell_type": "markdown",
      "source": [
        "##Char (character : ตัวอักษร)"
      ],
      "metadata": {
        "id": "lvYMJk-KcXWa"
      }
    },
    {
      "cell_type": "markdown",
      "source": [
        "String + String = ต่อตัวอักษร, String * scalar = ข้อความจะทวีคูณจำนวน"
      ],
      "metadata": {
        "id": "TehScB3edIrZ"
      }
    },
    {
      "cell_type": "code",
      "execution_count": 1,
      "metadata": {
        "colab": {
          "base_uri": "https://localhost:8080/"
        },
        "id": "2Cug4Nfma8Mh",
        "outputId": "8b504a8f-a7ca-4d33-c1af-046ccf365f25"
      },
      "outputs": [
        {
          "output_type": "stream",
          "name": "stdout",
          "text": [
            "a=C b=avbc, then C + avbc = Cavbc\n"
          ]
        }
      ],
      "source": [
        "a = 'C'\n",
        "b = 'avbc'\n",
        "print(f'a={a} b={b}, then {a} + {b} = {a+b}')"
      ]
    },
    {
      "cell_type": "code",
      "source": [
        "A = '1'\n",
        "B = 2\n",
        "print(5*A)"
      ],
      "metadata": {
        "colab": {
          "base_uri": "https://localhost:8080/"
        },
        "id": "49P64m3BcHiS",
        "outputId": "d4808bfc-121a-4f0a-a89e-22db11f3e189"
      },
      "execution_count": 5,
      "outputs": [
        {
          "output_type": "stream",
          "name": "stdout",
          "text": [
            "11111\n"
          ]
        }
      ]
    },
    {
      "cell_type": "markdown",
      "source": [
        "##List() โครงสร้างข้อมูล"
      ],
      "metadata": {
        "id": "Z_uWG691g3Ey"
      }
    },
    {
      "cell_type": "markdown",
      "source": [
        "ลำดับของข้อมูลมีผล และมีความสำคัญมาก"
      ],
      "metadata": {
        "id": "R-WI_AyoiK2T"
      }
    },
    {
      "cell_type": "code",
      "source": [
        "list_a = [1,2,3]"
      ],
      "metadata": {
        "id": "0gKWsd92g_PP"
      },
      "execution_count": 6,
      "outputs": []
    },
    {
      "cell_type": "code",
      "source": [
        "list_b = list()\n",
        "list_b"
      ],
      "metadata": {
        "colab": {
          "base_uri": "https://localhost:8080/"
        },
        "id": "pVbnzLBQhhGX",
        "outputId": "553a6b2d-33b4-47df-818d-029265c33e85"
      },
      "execution_count": 8,
      "outputs": [
        {
          "output_type": "execute_result",
          "data": {
            "text/plain": [
              "[]"
            ]
          },
          "metadata": {},
          "execution_count": 8
        }
      ]
    },
    {
      "cell_type": "code",
      "source": [
        "list_a.append(1)\n",
        "list_b.append(2)\n",
        "list_a"
      ],
      "metadata": {
        "colab": {
          "base_uri": "https://localhost:8080/"
        },
        "id": "N4kItd4lh4uV",
        "outputId": "3f09b0d3-7c14-44c7-a1b0-2a294118a7bf"
      },
      "execution_count": 14,
      "outputs": [
        {
          "output_type": "execute_result",
          "data": {
            "text/plain": [
              "[1, 2, 3, 1]"
            ]
          },
          "metadata": {},
          "execution_count": 14
        }
      ]
    },
    {
      "cell_type": "code",
      "source": [
        "list_b.append('f')\n",
        "list_b.append([12,6,'a'])\n",
        "list_b"
      ],
      "metadata": {
        "colab": {
          "base_uri": "https://localhost:8080/"
        },
        "id": "fp1sUoq5iZqd",
        "outputId": "3d56d37e-8dec-449c-bf2b-0310994acf58"
      },
      "execution_count": 16,
      "outputs": [
        {
          "output_type": "execute_result",
          "data": {
            "text/plain": [
              "[2, 'f', [12, 6, 'a']]"
            ]
          },
          "metadata": {},
          "execution_count": 16
        }
      ]
    },
    {
      "cell_type": "code",
      "source": [
        "list_b[2]"
      ],
      "metadata": {
        "colab": {
          "base_uri": "https://localhost:8080/"
        },
        "id": "eQkRlXaFirGJ",
        "outputId": "258dc634-aaea-4fbf-a263-a8b97d0ad9ab"
      },
      "execution_count": 18,
      "outputs": [
        {
          "output_type": "execute_result",
          "data": {
            "text/plain": [
              "[12, 6, 'a']"
            ]
          },
          "metadata": {},
          "execution_count": 18
        }
      ]
    },
    {
      "cell_type": "markdown",
      "source": [
        "##For loop การวนซ้ำ"
      ],
      "metadata": {
        "id": "O74XrrNyjL2j"
      }
    },
    {
      "cell_type": "markdown",
      "source": [
        "~~~\n",
        "for (สมาชิกแต่ละตัว) in (list):\n",
        "     (ทำอะไรสักอย่างหนึง)\n",
        "~~~"
      ],
      "metadata": {
        "id": "KqiulEIqjXa9"
      }
    },
    {
      "cell_type": "code",
      "source": [
        "for i in [1,2,3,4,7]:\n",
        "  print(2*i,end=' ')"
      ],
      "metadata": {
        "colab": {
          "base_uri": "https://localhost:8080/"
        },
        "id": "f9pnggCSjUH_",
        "outputId": "8609a3a2-7898-42f5-fbb5-4c7f12082dd3"
      },
      "execution_count": 20,
      "outputs": [
        {
          "output_type": "stream",
          "name": "stdout",
          "text": [
            "2 4 6 8 14 "
          ]
        }
      ]
    },
    {
      "cell_type": "markdown",
      "source": [
        "## int(eger)(จำนวนเต็ม)\n",
        "\n"
      ],
      "metadata": {
        "id": "vvPrhViVpar1"
      }
    },
    {
      "cell_type": "markdown",
      "source": [
        "ตัวเลขปกติเลย ทำอะไรกันได้ปกติ"
      ],
      "metadata": {
        "id": "AzyEKUhrrJQr"
      }
    },
    {
      "cell_type": "code",
      "source": [
        "2**1/2"
      ],
      "metadata": {
        "colab": {
          "base_uri": "https://localhost:8080/"
        },
        "id": "CEdJ4_MmqeXn",
        "outputId": "a38c970b-11b2-4ef6-a1d6-8edf2721a601"
      },
      "execution_count": 54,
      "outputs": [
        {
          "output_type": "execute_result",
          "data": {
            "text/plain": [
              "1.0"
            ]
          },
          "metadata": {},
          "execution_count": 54
        }
      ]
    },
    {
      "cell_type": "markdown",
      "source": [
        "##Float (จำนวนจริง ทศนิยม)"
      ],
      "metadata": {
        "id": "GrLiBRiYrOxL"
      }
    },
    {
      "cell_type": "code",
      "source": [
        "fl_a = 7.\n",
        "fl_b = 2.571\n",
        "print(fl_a,fl_b)\n",
        "print(type(fl_a),type(fl_b))"
      ],
      "metadata": {
        "colab": {
          "base_uri": "https://localhost:8080/"
        },
        "id": "WZJ-X1-RrVSE",
        "outputId": "aaa9f06d-8366-4f06-dd53-0c0f66eabe83"
      },
      "execution_count": 57,
      "outputs": [
        {
          "output_type": "stream",
          "name": "stdout",
          "text": [
            "7.0 2.571\n",
            "<class 'float'> <class 'float'>\n"
          ]
        }
      ]
    },
    {
      "cell_type": "markdown",
      "source": [
        "##Boolean (ตัวแปรที่มีค่า True or False) ตามตรรกศาสตร์"
      ],
      "metadata": {
        "id": "s2ji8USqrpYz"
      }
    },
    {
      "cell_type": "markdown",
      "source": [
        "~~~\n",
        "#numeric operands\n",
        "== is equal\n",
        "!=  is not equal\n",
        ">   is greater\n",
        "<= is less than or equal\n",
        "~~~"
      ],
      "metadata": {
        "id": "yt9bDEv4r8vE"
      }
    },
    {
      "cell_type": "markdown",
      "source": [
        "~~~\n",
        "#logic operands\n",
        "|    is or\n",
        "&   is and\n",
        "~~~"
      ],
      "metadata": {
        "id": "hWdDN0hwsr9t"
      }
    },
    {
      "cell_type": "markdown",
      "source": [
        "~~~\n",
        "#other operands\n",
        "in   is ตรวจสอบสมาชิกใน list\n",
        "is   is ตรวจสอบชนิดตัวแปร\n",
        "~~~"
      ],
      "metadata": {
        "id": "qWh0tGjus_kU"
      }
    },
    {
      "cell_type": "code",
      "source": [
        "b_t = True\n",
        "b_f = False"
      ],
      "metadata": {
        "id": "ykvCsHooryft"
      },
      "execution_count": 61,
      "outputs": []
    },
    {
      "cell_type": "code",
      "source": [
        "b_t | b_f #จริง หรือ เท็จ"
      ],
      "metadata": {
        "colab": {
          "base_uri": "https://localhost:8080/"
        },
        "id": "ngfspu99tQ-o",
        "outputId": "99624d7d-f2fb-481d-82c4-c9af2389b178"
      },
      "execution_count": 59,
      "outputs": [
        {
          "output_type": "execute_result",
          "data": {
            "text/plain": [
              "True"
            ]
          },
          "metadata": {},
          "execution_count": 59
        }
      ]
    },
    {
      "cell_type": "code",
      "source": [
        "b_t & b_f #จริง และ เท็จ"
      ],
      "metadata": {
        "colab": {
          "base_uri": "https://localhost:8080/"
        },
        "id": "6Qi0Xp_jtW8L",
        "outputId": "4276a2a4-5697-4d1b-fd8e-340689dfe621"
      },
      "execution_count": 60,
      "outputs": [
        {
          "output_type": "execute_result",
          "data": {
            "text/plain": [
              "False"
            ]
          },
          "metadata": {},
          "execution_count": 60
        }
      ]
    },
    {
      "cell_type": "code",
      "source": [
        "name = 'Khon Kaen University'\n",
        "print('T' in name)\n",
        "print('t' in name)"
      ],
      "metadata": {
        "colab": {
          "base_uri": "https://localhost:8080/"
        },
        "id": "oLoLBM2Ptdjz",
        "outputId": "4dc0c8f5-fae3-4856-ffe5-182a0c62512c"
      },
      "execution_count": 62,
      "outputs": [
        {
          "output_type": "stream",
          "name": "stdout",
          "text": [
            "False\n",
            "True\n"
          ]
        }
      ]
    },
    {
      "cell_type": "markdown",
      "source": [
        "##Complex number (จำนวนเชิงซ้อน)"
      ],
      "metadata": {
        "id": "yks606PTt6V9"
      }
    },
    {
      "cell_type": "code",
      "source": [
        "x = 1+2j"
      ],
      "metadata": {
        "id": "jSpuMxxWt_Dl"
      },
      "execution_count": 64,
      "outputs": []
    },
    {
      "cell_type": "markdown",
      "source": [
        "สามารถเช็คประเภทของข้อมูลได้ด้วย"
      ],
      "metadata": {
        "id": "skvodnxKuFYh"
      }
    },
    {
      "cell_type": "code",
      "source": [
        "print(f'variable x value is {x} and datatype is {type(x)}')"
      ],
      "metadata": {
        "colab": {
          "base_uri": "https://localhost:8080/"
        },
        "id": "os57yT86uJZx",
        "outputId": "c98f6813-676a-4640-93ba-fe25aa49b8c7"
      },
      "execution_count": 68,
      "outputs": [
        {
          "output_type": "stream",
          "name": "stdout",
          "text": [
            "variable x value is (1+2j) and datatype is <class 'complex'>\n"
          ]
        }
      ]
    },
    {
      "cell_type": "code",
      "source": [
        "print(f'variable A is {A} and datatype is {type(A)}')"
      ],
      "metadata": {
        "colab": {
          "base_uri": "https://localhost:8080/"
        },
        "id": "oiKQ84-UuhyA",
        "outputId": "12aa3f1d-bf5f-456a-d478-8ec6331b22b6"
      },
      "execution_count": 70,
      "outputs": [
        {
          "output_type": "stream",
          "name": "stdout",
          "text": [
            "variable A is 1 and datatype is <class 'str'>\n"
          ]
        }
      ]
    },
    {
      "cell_type": "code",
      "source": [
        "print(f'variable a is {a} and datatype is {type(a)}')"
      ],
      "metadata": {
        "colab": {
          "base_uri": "https://localhost:8080/"
        },
        "id": "9Vzh8npcuhmI",
        "outputId": "03abdc89-f70c-4a53-d300-aac8ed296b3b"
      },
      "execution_count": 71,
      "outputs": [
        {
          "output_type": "stream",
          "name": "stdout",
          "text": [
            "variable a is C and datatype is <class 'str'>\n"
          ]
        }
      ]
    },
    {
      "cell_type": "markdown",
      "source": [
        "#การแปลงชนิดของตัวแปร (Variable Casting)"
      ],
      "metadata": {
        "id": "rc0uLj8FuwZe"
      }
    },
    {
      "cell_type": "code",
      "source": [
        "int_a = 7\n",
        "int_b = 2"
      ],
      "metadata": {
        "id": "0vNGMbgrvR8D"
      },
      "execution_count": 78,
      "outputs": []
    },
    {
      "cell_type": "code",
      "source": [
        "print(f'int a = {int_a} int_b = {int_b} Fl_a {fl_a} Fl_b={fl_b}')"
      ],
      "metadata": {
        "colab": {
          "base_uri": "https://localhost:8080/"
        },
        "id": "ruRxpa50u68x",
        "outputId": "1eaa8f29-11ce-4537-dee2-772fab939354"
      },
      "execution_count": 79,
      "outputs": [
        {
          "output_type": "stream",
          "name": "stdout",
          "text": [
            "int a = 7 int_b = 2 Fl_a 7.0 Fl_b=2.571\n"
          ]
        }
      ]
    },
    {
      "cell_type": "code",
      "source": [
        "str_a = '6'\n",
        "str_a = '-2'"
      ],
      "metadata": {
        "id": "UBs0iw7XvZbb"
      },
      "execution_count": 74,
      "outputs": []
    },
    {
      "cell_type": "code",
      "source": [
        "str_a2int = int(str_a) # Transform string into int แปลงค่าจาก String เป็น int\n",
        "print(f'ตัวแปร str_a2int ค่าคือ {str_a2int} ชนิด {type(str_a2int)}')"
      ],
      "metadata": {
        "colab": {
          "base_uri": "https://localhost:8080/"
        },
        "id": "70Nl42tTvgTj",
        "outputId": "34982a65-59a3-42bb-d19e-2665d3b3df4c"
      },
      "execution_count": 75,
      "outputs": [
        {
          "output_type": "stream",
          "name": "stdout",
          "text": [
            "ตัวแปร str_a2int ค่าคือ -2 ชนิด <class 'int'>\n"
          ]
        }
      ]
    },
    {
      "cell_type": "code",
      "source": [
        "str_a2int + int_a"
      ],
      "metadata": {
        "colab": {
          "base_uri": "https://localhost:8080/"
        },
        "id": "YhYEnsn-wALo",
        "outputId": "e4d4dd54-2190-46c2-e77e-2274e16dcf97"
      },
      "execution_count": 80,
      "outputs": [
        {
          "output_type": "execute_result",
          "data": {
            "text/plain": [
              "5"
            ]
          },
          "metadata": {},
          "execution_count": 80
        }
      ]
    },
    {
      "cell_type": "code",
      "source": [
        "str_a + int_a #ไม่สามารถนำ string + int ได้"
      ],
      "metadata": {
        "colab": {
          "base_uri": "https://localhost:8080/",
          "height": 141
        },
        "id": "GlZSf4M2wBn8",
        "outputId": "4993e36b-6ec6-4d8c-86c0-6be2b04bccc4"
      },
      "execution_count": 81,
      "outputs": [
        {
          "output_type": "error",
          "ename": "TypeError",
          "evalue": "can only concatenate str (not \"int\") to str",
          "traceback": [
            "\u001b[0;31m---------------------------------------------------------------------------\u001b[0m",
            "\u001b[0;31mTypeError\u001b[0m                                 Traceback (most recent call last)",
            "\u001b[0;32m<ipython-input-81-155156bbe683>\u001b[0m in \u001b[0;36m<cell line: 1>\u001b[0;34m()\u001b[0m\n\u001b[0;32m----> 1\u001b[0;31m \u001b[0mstr_a\u001b[0m \u001b[0;34m+\u001b[0m \u001b[0mint_a\u001b[0m \u001b[0;31m#ไม่สามารถนำ string + int ได้\u001b[0m\u001b[0;34m\u001b[0m\u001b[0;34m\u001b[0m\u001b[0m\n\u001b[0m",
            "\u001b[0;31mTypeError\u001b[0m: can only concatenate str (not \"int\") to str"
          ]
        }
      ]
    },
    {
      "cell_type": "code",
      "source": [
        "str(fl_b) #transform float to string แปลงค่าจาก Float เป็น string ได้"
      ],
      "metadata": {
        "colab": {
          "base_uri": "https://localhost:8080/",
          "height": 35
        },
        "id": "1ZNUedqcwE1u",
        "outputId": "fa3035e6-647a-4315-da76-fc381a9bd460"
      },
      "execution_count": 82,
      "outputs": [
        {
          "output_type": "execute_result",
          "data": {
            "text/plain": [
              "'2.571'"
            ],
            "application/vnd.google.colaboratory.intrinsic+json": {
              "type": "string"
            }
          },
          "metadata": {},
          "execution_count": 82
        }
      ]
    },
    {
      "cell_type": "code",
      "source": [
        "int(fl_b) #transform float to int (but it will cut te floating point) แปลงค่าจาก float เป็น int ได้แต่จะตัดจุดทศนิยมออกไป"
      ],
      "metadata": {
        "colab": {
          "base_uri": "https://localhost:8080/"
        },
        "id": "y2aftWOswGEu",
        "outputId": "d7ade595-493e-4c0c-afba-19eb4f139c0f"
      },
      "execution_count": 83,
      "outputs": [
        {
          "output_type": "execute_result",
          "data": {
            "text/plain": [
              "2"
            ]
          },
          "metadata": {},
          "execution_count": 83
        }
      ]
    },
    {
      "cell_type": "markdown",
      "source": [
        "#Replace() แทนที่ character ใน String"
      ],
      "metadata": {
        "id": "0ZEFcor3wWLQ"
      }
    },
    {
      "cell_type": "code",
      "source": [
        "st_test1 = 'Department of Statistics,'\n",
        "st_test1.replace('e',' ') #replace e with space แทน e ด้วยช่องว่าง"
      ],
      "metadata": {
        "colab": {
          "base_uri": "https://localhost:8080/",
          "height": 35
        },
        "id": "MQ-kH7VBwdCB",
        "outputId": "720f3354-98fc-4825-b371-cd1828b4a59f"
      },
      "execution_count": 84,
      "outputs": [
        {
          "output_type": "execute_result",
          "data": {
            "text/plain": [
              "'D partm nt of Statistics,'"
            ],
            "application/vnd.google.colaboratory.intrinsic+json": {
              "type": "string"
            }
          },
          "metadata": {},
          "execution_count": 84
        }
      ]
    },
    {
      "cell_type": "code",
      "source": [
        "st_test1"
      ],
      "metadata": {
        "colab": {
          "base_uri": "https://localhost:8080/",
          "height": 35
        },
        "id": "z2OOvYIUwidQ",
        "outputId": "a5badd09-d902-488f-ed62-6f21b7871b4f"
      },
      "execution_count": 85,
      "outputs": [
        {
          "output_type": "execute_result",
          "data": {
            "text/plain": [
              "'Department of Statistics,'"
            ],
            "application/vnd.google.colaboratory.intrinsic+json": {
              "type": "string"
            }
          },
          "metadata": {},
          "execution_count": 85
        }
      ]
    },
    {
      "cell_type": "code",
      "source": [
        "st_test2 = st_test1.replace('e',' ')\n",
        "st_test2"
      ],
      "metadata": {
        "colab": {
          "base_uri": "https://localhost:8080/",
          "height": 35
        },
        "id": "Qq4-UCD4xDRH",
        "outputId": "1b02f72b-069a-415b-e5d5-5166c7ffedac"
      },
      "execution_count": 88,
      "outputs": [
        {
          "output_type": "execute_result",
          "data": {
            "text/plain": [
              "'D partm nt of Statistics,'"
            ],
            "application/vnd.google.colaboratory.intrinsic+json": {
              "type": "string"
            }
          },
          "metadata": {},
          "execution_count": 88
        }
      ]
    },
    {
      "cell_type": "code",
      "source": [
        "st_test1.replace('ti','TI') # Modify ti to TI เปลี่ยน ti เป็น TI"
      ],
      "metadata": {
        "colab": {
          "base_uri": "https://localhost:8080/",
          "height": 35
        },
        "id": "o3ugI0KpxDIt",
        "outputId": "7f4b7965-9631-4945-a39c-6a57019ceb8f"
      },
      "execution_count": 89,
      "outputs": [
        {
          "output_type": "execute_result",
          "data": {
            "text/plain": [
              "'Department of StaTIsTIcs,'"
            ],
            "application/vnd.google.colaboratory.intrinsic+json": {
              "type": "string"
            }
          },
          "metadata": {},
          "execution_count": 89
        }
      ]
    },
    {
      "cell_type": "markdown",
      "source": [
        "#Split() แยก string"
      ],
      "metadata": {
        "id": "tIG2UkKkxfVX"
      }
    },
    {
      "cell_type": "markdown",
      "source": [
        "การแยกข้อมูลไว้สำหรับตัดข้อมูลออกซึ่งจะเก็บในรูปแบบ list"
      ],
      "metadata": {
        "id": "LSRvr46-xmfu"
      }
    },
    {
      "cell_type": "code",
      "source": [
        "'a b c d e f g'.split() #ตัด string ที่ช่องว่าง"
      ],
      "metadata": {
        "colab": {
          "base_uri": "https://localhost:8080/"
        },
        "id": "Qzvx1rV1xp90",
        "outputId": "604dd7a7-c8e7-4746-dec3-1dd20d4c920c"
      },
      "execution_count": 90,
      "outputs": [
        {
          "output_type": "execute_result",
          "data": {
            "text/plain": [
              "['a', 'b', 'c', 'd', 'e', 'f', 'g']"
            ]
          },
          "metadata": {},
          "execution_count": 90
        }
      ]
    },
    {
      "cell_type": "code",
      "source": [
        "'abc de fg'.split() # แยกด้วย ช่องว่าง"
      ],
      "metadata": {
        "colab": {
          "base_uri": "https://localhost:8080/"
        },
        "id": "TwzQWjIzx3XJ",
        "outputId": "f666b665-2c98-4b21-f3b7-d2e2b055a0e2"
      },
      "execution_count": 91,
      "outputs": [
        {
          "output_type": "execute_result",
          "data": {
            "text/plain": [
              "['abc', 'de', 'fg']"
            ]
          },
          "metadata": {},
          "execution_count": 91
        }
      ]
    },
    {
      "cell_type": "code",
      "source": [
        "'a,b/c,d e/f g'.split('/') # แยกด้วย /"
      ],
      "metadata": {
        "colab": {
          "base_uri": "https://localhost:8080/"
        },
        "id": "XsI-TUnJyA6N",
        "outputId": "f7352699-c4ed-4206-938e-4718ffa50b52"
      },
      "execution_count": 92,
      "outputs": [
        {
          "output_type": "execute_result",
          "data": {
            "text/plain": [
              "['a,b', 'c,d e', 'f g']"
            ]
          },
          "metadata": {},
          "execution_count": 92
        }
      ]
    },
    {
      "cell_type": "markdown",
      "source": [
        "#Quiz"
      ],
      "metadata": {
        "id": "P2skzB-AyZgl"
      }
    },
    {
      "cell_type": "markdown",
      "source": [
        "##Quiz 2"
      ],
      "metadata": {
        "id": "alyaQfeXky0G"
      }
    },
    {
      "cell_type": "markdown",
      "source": [
        "print Ka 5 ครั้ง  ต่อด้วย Ga อีก 10 ครั้ง แบบใช้ loop และ\n",
        "\n",
        "ขั้น Ka แต่ละตัวด้วย + ขั้น Ga แต่ละตัวด้วย x(อยู่ในบรรทัดเดียวกันทั้งหมด)"
      ],
      "metadata": {
        "id": "YDvu0qBslHR6"
      }
    },
    {
      "cell_type": "code",
      "source": [
        "q1 = 'Ka'\n",
        "q2 = 'Ga'\n",
        "n = list(range(1,16))"
      ],
      "metadata": {
        "id": "dEEICFJLlWjY"
      },
      "execution_count": 45,
      "outputs": []
    },
    {
      "cell_type": "code",
      "source": [
        "for i in n:\n",
        "  if i < 6:\n",
        "    print(q1,end=' + ')\n",
        "  else:\n",
        "    print(q2,end= ' x ')"
      ],
      "metadata": {
        "colab": {
          "base_uri": "https://localhost:8080/"
        },
        "id": "d5zIXZflkw3E",
        "outputId": "d0c1750b-ce90-4c8e-c846-b2e0663d5e42"
      },
      "execution_count": 46,
      "outputs": [
        {
          "output_type": "stream",
          "name": "stdout",
          "text": [
            "Ka + Ka + Ka + Ka + Ka + Ga x Ga x Ga x Ga x Ga x Ga x Ga x Ga x Ga x Ga x "
          ]
        }
      ]
    },
    {
      "cell_type": "code",
      "source": [
        "for i in range(5):\n",
        "  print('Ka',end='')\n",
        "  if i!=4:\n",
        "    print('+',end='')\n",
        "print('%',end='')\n",
        "for i in range(10):\n",
        "  print('Ga',end='')\n",
        "  if i!=9:\n",
        "    print('x',end='')"
      ],
      "metadata": {
        "colab": {
          "base_uri": "https://localhost:8080/"
        },
        "id": "q3g_En1UpgXI",
        "outputId": "6e7406b7-847f-4676-fe3f-cae8fd3a00a2"
      },
      "execution_count": 47,
      "outputs": [
        {
          "output_type": "stream",
          "name": "stdout",
          "text": [
            "Ka+Ka+Ka+Ka+Ka%GaxGaxGaxGaxGaxGaxGaxGaxGaxGa"
          ]
        }
      ]
    },
    {
      "cell_type": "markdown",
      "source": [
        "##Quiz 3"
      ],
      "metadata": {
        "id": "YuNT2uqKyMt8"
      }
    },
    {
      "cell_type": "markdown",
      "source": [
        "แยก 'a,b/c,d e/f g' ออกมาเป็น list -> ['a', 'b', 'c', 'd', 'e', 'f', 'g']"
      ],
      "metadata": {
        "id": "VlbNRkYdyj2j"
      }
    },
    {
      "cell_type": "code",
      "source": [
        "A = 'a,b/c,d e/f g'\n",
        "A_1 = A.replace(',', ' ').replace('/', ' ')\n",
        "A_final = A_1.split()\n",
        "print(A_final )"
      ],
      "metadata": {
        "colab": {
          "base_uri": "https://localhost:8080/"
        },
        "id": "VKvZKr0Pzj96",
        "outputId": "cfc5526a-bc95-4ea7-ebfd-78e434c937dc"
      },
      "execution_count": 103,
      "outputs": [
        {
          "output_type": "stream",
          "name": "stdout",
          "text": [
            "['a', 'b', 'c', 'd', 'e', 'f', 'g']\n"
          ]
        }
      ]
    }
  ]
}