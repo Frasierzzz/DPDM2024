{
  "cells": [
    {
      "cell_type": "markdown",
      "metadata": {
        "id": "view-in-github",
        "colab_type": "text"
      },
      "source": [
        "<a href=\"https://colab.research.google.com/github/Frasierzzz/DPDM2024/blob/main/DPDM_Paper.ipynb\" target=\"_parent\"><img src=\"https://colab.research.google.com/assets/colab-badge.svg\" alt=\"Open In Colab\"/></a>"
      ]
    },
    {
      "cell_type": "code",
      "execution_count": null,
      "metadata": {
        "id": "unsWqkrDehSD"
      },
      "outputs": [],
      "source": [
        "# import time\n",
        "# while True:\n",
        "#     time.sleep(60)\n",
        "#     print(\"Preventing idle disconnection\")\n"
      ]
    },
    {
      "cell_type": "markdown",
      "metadata": {
        "id": "ytxLSe7-zBA2"
      },
      "source": [
        "# Libraries"
      ]
    },
    {
      "cell_type": "code",
      "execution_count": null,
      "metadata": {
        "colab": {
          "base_uri": "https://localhost:8080/"
        },
        "id": "xzrJvrCifKL0",
        "outputId": "c65188a8-fe93-4efb-9755-a5f58e8a6ab2"
      },
      "outputs": [
        {
          "output_type": "stream",
          "name": "stdout",
          "text": [
            "Collecting datasets\n",
            "  Downloading datasets-3.0.2-py3-none-any.whl.metadata (20 kB)\n",
            "Requirement already satisfied: filelock in /usr/local/lib/python3.10/dist-packages (from datasets) (3.16.1)\n",
            "Requirement already satisfied: numpy>=1.17 in /usr/local/lib/python3.10/dist-packages (from datasets) (1.26.4)\n",
            "Requirement already satisfied: pyarrow>=15.0.0 in /usr/local/lib/python3.10/dist-packages (from datasets) (16.1.0)\n",
            "Collecting dill<0.3.9,>=0.3.0 (from datasets)\n",
            "  Downloading dill-0.3.8-py3-none-any.whl.metadata (10 kB)\n",
            "Requirement already satisfied: pandas in /usr/local/lib/python3.10/dist-packages (from datasets) (2.2.2)\n",
            "Requirement already satisfied: requests>=2.32.2 in /usr/local/lib/python3.10/dist-packages (from datasets) (2.32.3)\n",
            "Requirement already satisfied: tqdm>=4.66.3 in /usr/local/lib/python3.10/dist-packages (from datasets) (4.66.5)\n",
            "Collecting xxhash (from datasets)\n",
            "  Downloading xxhash-3.5.0-cp310-cp310-manylinux_2_17_x86_64.manylinux2014_x86_64.whl.metadata (12 kB)\n",
            "Collecting multiprocess<0.70.17 (from datasets)\n",
            "  Downloading multiprocess-0.70.16-py310-none-any.whl.metadata (7.2 kB)\n",
            "Requirement already satisfied: fsspec<=2024.9.0,>=2023.1.0 in /usr/local/lib/python3.10/dist-packages (from fsspec[http]<=2024.9.0,>=2023.1.0->datasets) (2024.6.1)\n",
            "Requirement already satisfied: aiohttp in /usr/local/lib/python3.10/dist-packages (from datasets) (3.10.10)\n",
            "Requirement already satisfied: huggingface-hub>=0.23.0 in /usr/local/lib/python3.10/dist-packages (from datasets) (0.24.7)\n",
            "Requirement already satisfied: packaging in /usr/local/lib/python3.10/dist-packages (from datasets) (24.1)\n",
            "Requirement already satisfied: pyyaml>=5.1 in /usr/local/lib/python3.10/dist-packages (from datasets) (6.0.2)\n",
            "Requirement already satisfied: aiohappyeyeballs>=2.3.0 in /usr/local/lib/python3.10/dist-packages (from aiohttp->datasets) (2.4.3)\n",
            "Requirement already satisfied: aiosignal>=1.1.2 in /usr/local/lib/python3.10/dist-packages (from aiohttp->datasets) (1.3.1)\n",
            "Requirement already satisfied: attrs>=17.3.0 in /usr/local/lib/python3.10/dist-packages (from aiohttp->datasets) (24.2.0)\n",
            "Requirement already satisfied: frozenlist>=1.1.1 in /usr/local/lib/python3.10/dist-packages (from aiohttp->datasets) (1.5.0)\n",
            "Requirement already satisfied: multidict<7.0,>=4.5 in /usr/local/lib/python3.10/dist-packages (from aiohttp->datasets) (6.1.0)\n",
            "Requirement already satisfied: yarl<2.0,>=1.12.0 in /usr/local/lib/python3.10/dist-packages (from aiohttp->datasets) (1.16.0)\n",
            "Requirement already satisfied: async-timeout<5.0,>=4.0 in /usr/local/lib/python3.10/dist-packages (from aiohttp->datasets) (4.0.3)\n",
            "Requirement already satisfied: typing-extensions>=3.7.4.3 in /usr/local/lib/python3.10/dist-packages (from huggingface-hub>=0.23.0->datasets) (4.12.2)\n",
            "Requirement already satisfied: charset-normalizer<4,>=2 in /usr/local/lib/python3.10/dist-packages (from requests>=2.32.2->datasets) (3.4.0)\n",
            "Requirement already satisfied: idna<4,>=2.5 in /usr/local/lib/python3.10/dist-packages (from requests>=2.32.2->datasets) (3.10)\n",
            "Requirement already satisfied: urllib3<3,>=1.21.1 in /usr/local/lib/python3.10/dist-packages (from requests>=2.32.2->datasets) (2.2.3)\n",
            "Requirement already satisfied: certifi>=2017.4.17 in /usr/local/lib/python3.10/dist-packages (from requests>=2.32.2->datasets) (2024.8.30)\n",
            "Requirement already satisfied: python-dateutil>=2.8.2 in /usr/local/lib/python3.10/dist-packages (from pandas->datasets) (2.8.2)\n",
            "Requirement already satisfied: pytz>=2020.1 in /usr/local/lib/python3.10/dist-packages (from pandas->datasets) (2024.2)\n",
            "Requirement already satisfied: tzdata>=2022.7 in /usr/local/lib/python3.10/dist-packages (from pandas->datasets) (2024.2)\n",
            "Requirement already satisfied: six>=1.5 in /usr/local/lib/python3.10/dist-packages (from python-dateutil>=2.8.2->pandas->datasets) (1.16.0)\n",
            "Requirement already satisfied: propcache>=0.2.0 in /usr/local/lib/python3.10/dist-packages (from yarl<2.0,>=1.12.0->aiohttp->datasets) (0.2.0)\n",
            "Downloading datasets-3.0.2-py3-none-any.whl (472 kB)\n",
            "\u001b[2K   \u001b[90m━━━━━━━━━━━━━━━━━━━━━━━━━━━━━━━━━━━━━━━━\u001b[0m \u001b[32m472.7/472.7 kB\u001b[0m \u001b[31m17.4 MB/s\u001b[0m eta \u001b[36m0:00:00\u001b[0m\n",
            "\u001b[?25hDownloading dill-0.3.8-py3-none-any.whl (116 kB)\n",
            "\u001b[2K   \u001b[90m━━━━━━━━━━━━━━━━━━━━━━━━━━━━━━━━━━━━━━━━\u001b[0m \u001b[32m116.3/116.3 kB\u001b[0m \u001b[31m5.0 MB/s\u001b[0m eta \u001b[36m0:00:00\u001b[0m\n",
            "\u001b[?25hDownloading multiprocess-0.70.16-py310-none-any.whl (134 kB)\n",
            "\u001b[2K   \u001b[90m━━━━━━━━━━━━━━━━━━━━━━━━━━━━━━━━━━━━━━━━\u001b[0m \u001b[32m134.8/134.8 kB\u001b[0m \u001b[31m8.3 MB/s\u001b[0m eta \u001b[36m0:00:00\u001b[0m\n",
            "\u001b[?25hDownloading xxhash-3.5.0-cp310-cp310-manylinux_2_17_x86_64.manylinux2014_x86_64.whl (194 kB)\n",
            "\u001b[2K   \u001b[90m━━━━━━━━━━━━━━━━━━━━━━━━━━━━━━━━━━━━━━━━\u001b[0m \u001b[32m194.1/194.1 kB\u001b[0m \u001b[31m10.0 MB/s\u001b[0m eta \u001b[36m0:00:00\u001b[0m\n",
            "\u001b[?25hInstalling collected packages: xxhash, dill, multiprocess, datasets\n",
            "Successfully installed datasets-3.0.2 dill-0.3.8 multiprocess-0.70.16 xxhash-3.5.0\n"
          ]
        }
      ],
      "source": [
        "!pip install datasets"
      ]
    },
    {
      "cell_type": "code",
      "execution_count": null,
      "metadata": {
        "id": "FOWsv1nSeYFV"
      },
      "outputs": [],
      "source": [
        "# Import libraries ที่จำเป็น\n",
        "import torch; import pandas as pd\n",
        "from transformers import T5Tokenizer, T5ForConditionalGeneration, Trainer, TrainingArguments\n",
        "import json; import datasets"
      ]
    },
    {
      "cell_type": "code",
      "execution_count": null,
      "metadata": {
        "colab": {
          "base_uri": "https://localhost:8080/"
        },
        "id": "Nhaj0RGwymF0",
        "outputId": "f2839083-f129-4bbf-8b35-ba4290d9ebbf"
      },
      "outputs": [
        {
          "output_type": "stream",
          "name": "stdout",
          "text": [
            "Mounted at /content/drive\n"
          ]
        }
      ],
      "source": [
        "from google.colab import drive\n",
        "drive.mount('/content/drive')"
      ]
    },
    {
      "cell_type": "markdown",
      "metadata": {
        "id": "v2F5Omh8zAOJ"
      },
      "source": [
        "# Dataset"
      ]
    },
    {
      "cell_type": "code",
      "execution_count": null,
      "metadata": {
        "id": "fIEM9OSZjFp_"
      },
      "outputs": [],
      "source": [
        "import random\n",
        "random.seed(14)"
      ]
    },
    {
      "cell_type": "code",
      "execution_count": null,
      "metadata": {
        "id": "nBd1Y0lJRT-5"
      },
      "outputs": [],
      "source": [
        "# Function load Datasets that's .json file.\n",
        "def load_datasets(file_path):\n",
        "    with open(file_path, 'r', encoding='utf-8') as f:\n",
        "        data = json.load(f)\n",
        "\n",
        "    # Turn .JSON to DataFrame\n",
        "    # dataset = pd.json_normalize(data, record_path=['interaction'], meta=['database_id', ['final', 'utterance'], ['final', 'query']])\n",
        "    return data"
      ]
    },
    {
      "cell_type": "markdown",
      "metadata": {
        "id": "MWY_lM2B4Zw6"
      },
      "source": [
        "## Spider dataset"
      ]
    },
    {
      "cell_type": "code",
      "execution_count": null,
      "metadata": {
        "colab": {
          "base_uri": "https://localhost:8080/",
          "referenced_widgets": [
            "ec5989835e3b4091a09aa5d5c21c3e38",
            "1292e8f561f44fa5b3a1042f3ebff8a1",
            "5270354181bc44e0bd0ad1d1052924be",
            "d537f5e01d504673be1f6fc95489c3b2",
            "94ef05beef8944d9be0d5550008c812e",
            "8c6ccf28885849fd8f0b86e4c10ec111",
            "979714879bd7469483039c40f4c1f11a",
            "17a32da7f117446fba6ff09937e24156",
            "a30e4f99b5f74ecaaa0e117c03741b2a",
            "31f2f89654654e03ac9cf35c9b36bdf7",
            "bc481e4ab38c4c40aa44a8b254d459ca",
            "f962c53f843d4d2590ebc51bf98e1260",
            "c63e9a8cfab44c1eb762956af34b5269",
            "7b254014956544b48895fd2b14c80201",
            "2d080804fcca46d79cb3aa8a87894c87",
            "2e02b8d7f2ab46db814ff30b474723db",
            "86825677036446edb7200af75d97822f",
            "93773f02385d4083ae009337d65bbc08",
            "8f312c3b60614a56a69712f0bf5e1e28",
            "e5022ea406284b6ba52f00feaa92c76a",
            "580206ae2833491681d7c7b3ccbeaad7",
            "3d2b934cd5db42ccadad7c56ad7fb135",
            "61d04714e056475fa7c0f2941670395a",
            "35f67be5d24049f1a14a18032854fe05",
            "240142f6bba14678a140f0b18e6dbacf",
            "827e6a5b6c6946379e521cd4091ba015",
            "deb4346a2a6c4d08876dc40f7a289291",
            "116ebefce1344a5398b3a6f59f1eb825",
            "96483f42c8a540a5a1eb24b710c2c9b6",
            "d8d7bbda7f5a4837b31e55806c5ad778",
            "80869860a59446c2badbb0bbb8484515",
            "108f89504ead4d1b8acb63983d7dd69b",
            "66af514101d54206977af41af2c2bab9",
            "3c63493809ed416b8c3b74405e5462fa",
            "c4dd169fe81a49338b0438831d4cb8ca",
            "df13e75ba7e6460aaaef19d6cb98c719",
            "6ec182a837474b3c9fcdac7845aa6ba3",
            "50c11442fc2c4af8b8e6f5858dbc2711",
            "ba5bc4c9a47e43d3acb0a2d7c5fd9589",
            "44f5c433c1f64cb7a8407081ad04ed9c",
            "525499d1ed764717ae01e1f3e357ffb9",
            "7371f243be5a4ebd88c3de05027f171c",
            "cc6cfd4c91e64de29b58aef33cd8417c",
            "eb0cc6a27e6a433c83649e133fe481a7",
            "516016da29c44974b7cdb0cc8928a47d",
            "eb8884ea75e54a13a3e7861f53429479",
            "1db3d9aa781d4bba8acb42b48979ba60",
            "362d75bb9e774799a5d227d84fb508f8",
            "c1a70105d11b4f1aaf988d2e776d49f4",
            "ee7d7901b5da4fdd837110ec7555e070",
            "0b4114177ba242b68155beecce1ec4a9",
            "3f480630e52e496cb595af456797ef0e",
            "fc0d2c90816b4da2a1e064eefb08126c",
            "6adbe8f45d1946a8b83116dbdff6ea2b",
            "76e150b64c924d0f998f587d3f83f501"
          ]
        },
        "id": "mGgAyVL0-ZMc",
        "outputId": "e908570a-ce32-404c-f9e5-71fcdeaa2884"
      },
      "outputs": [
        {
          "output_type": "display_data",
          "data": {
            "text/plain": [
              "README.md:   0%|          | 0.00/5.51k [00:00<?, ?B/s]"
            ],
            "application/vnd.jupyter.widget-view+json": {
              "version_major": 2,
              "version_minor": 0,
              "model_id": "ec5989835e3b4091a09aa5d5c21c3e38"
            }
          },
          "metadata": {}
        },
        {
          "output_type": "display_data",
          "data": {
            "text/plain": [
              "train-00000-of-00001.parquet:   0%|          | 0.00/831k [00:00<?, ?B/s]"
            ],
            "application/vnd.jupyter.widget-view+json": {
              "version_major": 2,
              "version_minor": 0,
              "model_id": "f962c53f843d4d2590ebc51bf98e1260"
            }
          },
          "metadata": {}
        },
        {
          "output_type": "display_data",
          "data": {
            "text/plain": [
              "validation-00000-of-00001.parquet:   0%|          | 0.00/126k [00:00<?, ?B/s]"
            ],
            "application/vnd.jupyter.widget-view+json": {
              "version_major": 2,
              "version_minor": 0,
              "model_id": "61d04714e056475fa7c0f2941670395a"
            }
          },
          "metadata": {}
        },
        {
          "output_type": "display_data",
          "data": {
            "text/plain": [
              "Generating train split:   0%|          | 0/7000 [00:00<?, ? examples/s]"
            ],
            "application/vnd.jupyter.widget-view+json": {
              "version_major": 2,
              "version_minor": 0,
              "model_id": "3c63493809ed416b8c3b74405e5462fa"
            }
          },
          "metadata": {}
        },
        {
          "output_type": "display_data",
          "data": {
            "text/plain": [
              "Generating validation split:   0%|          | 0/1034 [00:00<?, ? examples/s]"
            ],
            "application/vnd.jupyter.widget-view+json": {
              "version_major": 2,
              "version_minor": 0,
              "model_id": "516016da29c44974b7cdb0cc8928a47d"
            }
          },
          "metadata": {}
        }
      ],
      "source": [
        "from datasets import load_dataset\n",
        "spider_dataset = load_dataset(\"spider\")"
      ]
    },
    {
      "cell_type": "code",
      "execution_count": null,
      "metadata": {
        "colab": {
          "base_uri": "https://localhost:8080/"
        },
        "id": "8i0y69zh-nWQ",
        "outputId": "2557bb9e-feff-4c47-c999-638136d3abe9"
      },
      "outputs": [
        {
          "output_type": "execute_result",
          "data": {
            "text/plain": [
              "DatasetDict({\n",
              "    train: Dataset({\n",
              "        features: ['db_id', 'query', 'question', 'query_toks', 'query_toks_no_value', 'question_toks'],\n",
              "        num_rows: 7000\n",
              "    })\n",
              "    validation: Dataset({\n",
              "        features: ['db_id', 'query', 'question', 'query_toks', 'query_toks_no_value', 'question_toks'],\n",
              "        num_rows: 1034\n",
              "    })\n",
              "})"
            ]
          },
          "metadata": {},
          "execution_count": 9
        }
      ],
      "source": [
        "spider_dataset"
      ]
    },
    {
      "cell_type": "code",
      "execution_count": null,
      "metadata": {
        "id": "z18vf322c1kL"
      },
      "outputs": [],
      "source": [
        "# แบ่งข้อมูล train และ validation dataset ให้มีขนาด 10%\n",
        "spider_train_sample = spider_dataset['train'].train_test_split(test_size=0.1, shuffle=True, seed=14)['test']\n",
        "spider_validation_sample = spider_dataset['validation'].train_test_split(test_size=0.1, shuffle=True, seed=14)['test']"
      ]
    },
    {
      "cell_type": "code",
      "execution_count": null,
      "metadata": {
        "colab": {
          "base_uri": "https://localhost:8080/"
        },
        "id": "b4_JazbPjvrk",
        "outputId": "b08ac498-5b4d-4382-b611-d9d7ecf0ca33"
      },
      "outputs": [
        {
          "output_type": "stream",
          "name": "stdout",
          "text": [
            "700 104\n"
          ]
        }
      ],
      "source": [
        "print(len(spider_train_sample),len(spider_validation_sample))"
      ]
    },
    {
      "cell_type": "code",
      "execution_count": null,
      "metadata": {
        "id": "u0EN3Q07eoh5"
      },
      "outputs": [],
      "source": [
        "# spider_train_sample = spider_train_sample.select_columns(['db_id', 'query', 'question'])\n",
        "# spider_validation_sample = spider_validation_sample.select_columns(['db_id', 'query', 'question'])"
      ]
    },
    {
      "cell_type": "code",
      "execution_count": null,
      "metadata": {
        "colab": {
          "base_uri": "https://localhost:8080/"
        },
        "id": "3iJIq0-velCu",
        "outputId": "def1a376-4e71-4733-8e7a-54885ded5d80"
      },
      "outputs": [
        {
          "output_type": "execute_result",
          "data": {
            "text/plain": [
              "{'db_id': ['document_management'],\n",
              " 'query': ['SELECT document_name ,  access_count FROM documents ORDER BY document_name'],\n",
              " 'question': ['What are the names of all the documents, as well as the access counts of each, ordered alphabetically?'],\n",
              " 'query_toks': [['SELECT',\n",
              "   'document_name',\n",
              "   ',',\n",
              "   'access_count',\n",
              "   'FROM',\n",
              "   'documents',\n",
              "   'ORDER',\n",
              "   'BY',\n",
              "   'document_name']],\n",
              " 'query_toks_no_value': [['select',\n",
              "   'document_name',\n",
              "   ',',\n",
              "   'access_count',\n",
              "   'from',\n",
              "   'documents',\n",
              "   'order',\n",
              "   'by',\n",
              "   'document_name']],\n",
              " 'question_toks': [['What',\n",
              "   'are',\n",
              "   'the',\n",
              "   'names',\n",
              "   'of',\n",
              "   'all',\n",
              "   'the',\n",
              "   'documents',\n",
              "   ',',\n",
              "   'as',\n",
              "   'well',\n",
              "   'as',\n",
              "   'the',\n",
              "   'access',\n",
              "   'counts',\n",
              "   'of',\n",
              "   'each',\n",
              "   ',',\n",
              "   'ordered',\n",
              "   'alphabetically',\n",
              "   '?']]}"
            ]
          },
          "metadata": {},
          "execution_count": 13
        }
      ],
      "source": [
        "spider_train_sample[0:1]"
      ]
    },
    {
      "cell_type": "code",
      "execution_count": null,
      "metadata": {
        "colab": {
          "base_uri": "https://localhost:8080/"
        },
        "id": "48lU-wyGfcjJ",
        "outputId": "8a507062-62a8-4e64-ad13-dabdbe5b1af1"
      },
      "outputs": [
        {
          "output_type": "execute_result",
          "data": {
            "text/plain": [
              "{'db_id': ['concert_singer'],\n",
              " 'query': ['select t2.name ,  t2.capacity from concert as t1 join stadium as t2 on t1.stadium_id  =  t2.stadium_id where t1.year  >  2013 group by t2.stadium_id order by count(*) desc limit 1'],\n",
              " 'question': ['What is the name and capacity of the stadium with the most concerts after 2013 ?'],\n",
              " 'query_toks': [['select',\n",
              "   't2.name',\n",
              "   ',',\n",
              "   't2.capacity',\n",
              "   'from',\n",
              "   'concert',\n",
              "   'as',\n",
              "   't1',\n",
              "   'join',\n",
              "   'stadium',\n",
              "   'as',\n",
              "   't2',\n",
              "   'on',\n",
              "   't1.stadium_id',\n",
              "   '=',\n",
              "   't2.stadium_id',\n",
              "   'where',\n",
              "   't1.year',\n",
              "   '>',\n",
              "   '2013',\n",
              "   'group',\n",
              "   'by',\n",
              "   't2.stadium_id',\n",
              "   'order',\n",
              "   'by',\n",
              "   'count',\n",
              "   '(',\n",
              "   '*',\n",
              "   ')',\n",
              "   'desc',\n",
              "   'limit',\n",
              "   '1']],\n",
              " 'query_toks_no_value': [['select',\n",
              "   't2',\n",
              "   '.',\n",
              "   'name',\n",
              "   ',',\n",
              "   't2',\n",
              "   '.',\n",
              "   'capacity',\n",
              "   'from',\n",
              "   'concert',\n",
              "   'as',\n",
              "   't1',\n",
              "   'join',\n",
              "   'stadium',\n",
              "   'as',\n",
              "   't2',\n",
              "   'on',\n",
              "   't1',\n",
              "   '.',\n",
              "   'stadium_id',\n",
              "   '=',\n",
              "   't2',\n",
              "   '.',\n",
              "   'stadium_id',\n",
              "   'where',\n",
              "   't1',\n",
              "   '.',\n",
              "   'year',\n",
              "   '>',\n",
              "   'value',\n",
              "   'group',\n",
              "   'by',\n",
              "   't2',\n",
              "   '.',\n",
              "   'stadium_id',\n",
              "   'order',\n",
              "   'by',\n",
              "   'count',\n",
              "   '(',\n",
              "   '*',\n",
              "   ')',\n",
              "   'desc',\n",
              "   'limit',\n",
              "   'value']],\n",
              " 'question_toks': [['What',\n",
              "   'is',\n",
              "   'the',\n",
              "   'name',\n",
              "   'and',\n",
              "   'capacity',\n",
              "   'of',\n",
              "   'the',\n",
              "   'stadium',\n",
              "   'with',\n",
              "   'the',\n",
              "   'most',\n",
              "   'concerts',\n",
              "   'after',\n",
              "   '2013',\n",
              "   '?']]}"
            ]
          },
          "metadata": {},
          "execution_count": 14
        }
      ],
      "source": [
        "spider_validation_sample[0:1]"
      ]
    },
    {
      "cell_type": "markdown",
      "metadata": {
        "id": "kFCV5aIk4dYL"
      },
      "source": [
        "## CoSQL dataset"
      ]
    },
    {
      "cell_type": "code",
      "execution_count": null,
      "metadata": {
        "id": "tnaRNTol3zkP"
      },
      "outputs": [],
      "source": [
        "cosql_train = load_datasets(\"/content/drive/MyDrive/DPDM_PJ/CoSQL/cosql_train.json\")\n",
        "cosql_validation = load_datasets(\"/content/drive/MyDrive/DPDM_PJ/CoSQL/cosql_dev.json\")"
      ]
    },
    {
      "cell_type": "code",
      "execution_count": null,
      "metadata": {
        "colab": {
          "base_uri": "https://localhost:8080/"
        },
        "id": "WDPfLai2jZQ9",
        "outputId": "b4c5dd0b-825a-4e3b-e7cd-2d209f139696"
      },
      "outputs": [
        {
          "output_type": "stream",
          "name": "stdout",
          "text": [
            "2159 293\n"
          ]
        }
      ],
      "source": [
        "print(len(cosql_train),len(cosql_validation))"
      ]
    },
    {
      "cell_type": "code",
      "execution_count": null,
      "metadata": {
        "id": "3fAzSu7Wh9rA"
      },
      "outputs": [],
      "source": [
        "# แบ่งข้อมูล train และ validation dataset ให้มีขนาด 10%\n",
        "cosql_train_sample = random.sample(cosql_train, int(len(cosql_train) * 0.1))\n",
        "cosql_validation_sample = random.sample(cosql_validation, int(len(cosql_validation) * 0.1))"
      ]
    },
    {
      "cell_type": "code",
      "execution_count": null,
      "metadata": {
        "colab": {
          "base_uri": "https://localhost:8080/"
        },
        "id": "gIY3ucaih3EW",
        "outputId": "db8e9651-469c-4c40-8593-fa5e083159d5"
      },
      "outputs": [
        {
          "output_type": "stream",
          "name": "stdout",
          "text": [
            "215 29\n"
          ]
        }
      ],
      "source": [
        "print(len(cosql_train_sample),len(cosql_validation_sample))"
      ]
    },
    {
      "cell_type": "code",
      "execution_count": null,
      "metadata": {
        "colab": {
          "base_uri": "https://localhost:8080/"
        },
        "id": "QNiex7-ckfak",
        "outputId": "31442e84-b6d9-4555-ee17-171129a52cbf"
      },
      "outputs": [
        {
          "output_type": "stream",
          "name": "stdout",
          "text": [
            "[{'final': {'utterance': 'Give me the start station and end station for the trips with the three oldest id.', 'query': 'SELECT start_station_name ,  end_station_name FROM trip ORDER BY id LIMIT 3'}, 'database_id': 'bike_1', 'interaction': [{'utterance': 'how many trip are presented on the table', 'utterance_toks': ['how', 'many', 'trip', 'are', 'presented', 'on', 'the', 'table'], 'query': 'SELECT count ( * )  FROM trip', 'query_toks_no_value': ['select', 'count', '(', '*', ')', 'from', 'trip'], 'sql': {'from': {'table_units': [['table_unit', 2]], 'conds': []}, 'select': [False, [[3, [0, [0, 0, False], None]]]], 'where': [], 'groupBy': [], 'having': [], 'orderBy': [], 'limit': None, 'intersect': None, 'union': None, 'except': None}}, {'utterance': 'show all the start station name', 'utterance_toks': ['show', 'all', 'the', 'start', 'station', 'name'], 'query': 'SELECT start_station_name FROM trip', 'query_toks_no_value': ['select', 'start_station_name', 'from', 'trip'], 'sql': {'from': {'table_units': [['table_unit', 2]], 'conds': []}, 'select': [False, [[0, [0, [0, 15, False], None]]]], 'where': [], 'groupBy': [], 'having': [], 'orderBy': [], 'limit': None, 'intersect': None, 'union': None, 'except': None}}, {'utterance': 'what is the start date of Howard at 2nd | Do you mean its start station is Howard at 2nd? | exactly', 'utterance_toks': ['what', 'is', 'the', 'start', 'date', 'of', 'Howard', 'at', '2nd', '|', 'Do', 'you', 'mean', 'its', 'start', 'station', 'is', 'Howard', 'at', '2nd', '?', '|', 'exactly'], 'query': 'SELECT start_date FROM trip where start_station_name  =  \"Howard at 2nd\"', 'query_toks_no_value': ['select', 'start_date', 'from', 'trip', 'where', 'start_station_name', '=', 'value'], 'sql': {'from': {'table_units': [['table_unit', 2]], 'conds': []}, 'select': [False, [[0, [0, [0, 14, False], None]]]], 'where': [[False, 2, [0, [0, 15, False], None], '\"Howard at 2nd\"', None]], 'groupBy': [], 'having': [], 'orderBy': [], 'limit': None, 'intersect': None, 'union': None, 'except': None}}]}]\n",
            "[{'final': {'utterance': 'What is the name of the visitor who visited both a museum opened before 2009 and a museum opened after 2011?', 'query': 'SELECT t1.name FROM visitor AS t1 JOIN visit AS t2 ON t1.id  =  t2.visitor_id JOIN museum AS t3 ON t3.Museum_ID  =  t2.Museum_ID WHERE t3.open_year  <  2009 INTERSECT SELECT t1.name FROM visitor AS t1 JOIN visit AS t2 ON t1.id  =  t2.visitor_id JOIN museum AS t3 ON t3.Museum_ID  =  t2.Museum_ID WHERE t3.open_year  >  2011'}, 'database_id': 'museum_visit', 'interaction': [{'utterance': 'What is the name of the visitor who visited both a museum opened before 2009 and a museum opened after 2011?', 'utterance_toks': ['What', 'is', 'the', 'name', 'of', 'the', 'visitor', 'who', 'visited', 'both', 'a', 'museum', 'opened', 'before', '2009', 'and', 'a', 'museum', 'opened', 'after', '2011', '?'], 'query': 'SELECT t1.name FROM visitor AS t1 JOIN visit AS t2 ON t1.id   =   t2.visitor_id JOIN museum AS t3 ON t3.Museum_ID   =   t2.Museum_ID WHERE t3.open_year  <  2009 INTERSECT SELECT t1.name FROM visitor AS t1 JOIN visit AS t2 ON t1.id   =   t2.visitor_id JOIN museum AS t3 ON t3.Museum_ID   =   t2.Museum_ID WHERE t3.open_year  >  2011', 'query_toks_no_value': ['select', 't1', '.', 'name', 'from', 'visitor', 'as', 't1', 'join', 'visit', 'as', 't2', 'on', 't1', '.', 'id', '=', 't2', '.', 'visitor_id', 'join', 'museum', 'as', 't3', 'on', 't3', '.', 'museum_id', '=', 't2', '.', 'museum_id', 'where', 't3', '.', 'open_year', '<', 'value', 'intersect', 'select', 't1', '.', 'name', 'from', 'visitor', 'as', 't1', 'join', 'visit', 'as', 't2', 'on', 't1', '.', 'id', '=', 't2', '.', 'visitor_id', 'join', 'museum', 'as', 't3', 'on', 't3', '.', 'museum_id', '=', 't2', '.', 'museum_id', 'where', 't3', '.', 'open_year', '>', 'value'], 'sql': {'from': {'table_units': [['table_unit', 1], ['table_unit', 2], ['table_unit', 0]], 'conds': [[False, 2, [0, [0, 5, False], None], [0, 10, False], None], 'and', [False, 2, [0, [0, 1, False], None], [0, 9, False], None]]}, 'select': [False, [[0, [0, [0, 6, False], None]]]], 'where': [[False, 4, [0, [0, 4, False], None], 2009.0, None]], 'groupBy': [], 'having': [], 'orderBy': [], 'limit': None, 'intersect': {'from': {'table_units': [['table_unit', 1], ['table_unit', 2], ['table_unit', 0]], 'conds': [[False, 2, [0, [0, 5, False], None], [0, 10, False], None], 'and', [False, 2, [0, [0, 1, False], None], [0, 9, False], None]]}, 'select': [False, [[0, [0, [0, 6, False], None]]]], 'where': [[False, 3, [0, [0, 4, False], None], 2011.0, None]], 'groupBy': [], 'having': [], 'orderBy': [], 'limit': None, 'intersect': None, 'union': None, 'except': None}, 'union': None, 'except': None}}, {'utterance': 'What museum did he visit before 2009?', 'utterance_toks': ['What', 'museum', 'did', 'he', 'visit', 'before', '2009', '?'], 'query': 'SELECT t3.name FROM visitor AS t1 JOIN visit AS t2 ON t1.id   =   t2.visitor_id JOIN museum AS t3 ON t3.Museum_ID   =   t2.Museum_ID WHERE t3.open_year  <  2009 AND t1.name  =   ( SELECT t1.name FROM visitor AS t1 JOIN visit AS t2 ON t1.id   =   t2.visitor_id JOIN museum AS t3 ON t3.Museum_ID   =   t2.Museum_ID WHERE t3.open_year  <  2009 INTERSECT SELECT t1.name FROM visitor AS t1 JOIN visit AS t2 ON t1.id   =   t2.visitor_id JOIN museum AS t3 ON t3.Museum_ID   =   t2.Museum_ID WHERE t3.open_year  >  2011 ) ', 'query_toks_no_value': ['select', 't3', '.', 'name', 'from', 'visitor', 'as', 't1', 'join', 'visit', 'as', 't2', 'on', 't1', '.', 'id', '=', 't2', '.', 'visitor_id', 'join', 'museum', 'as', 't3', 'on', 't3', '.', 'museum_id', '=', 't2', '.', 'museum_id', 'where', 't3', '.', 'open_year', '<', 'value', 'and', 't1', '.', 'name', '=', '(', 'select', 't1', '.', 'name', 'from', 'visitor', 'as', 't1', 'join', 'visit', 'as', 't2', 'on', 't1', '.', 'id', '=', 't2', '.', 'visitor_id', 'join', 'museum', 'as', 't3', 'on', 't3', '.', 'museum_id', '=', 't2', '.', 'museum_id', 'where', 't3', '.', 'open_year', '<', 'value', 'intersect', 'select', 't1', '.', 'name', 'from', 'visitor', 'as', 't1', 'join', 'visit', 'as', 't2', 'on', 't1', '.', 'id', '=', 't2', '.', 'visitor_id', 'join', 'museum', 'as', 't3', 'on', 't3', '.', 'museum_id', '=', 't2', '.', 'museum_id', 'where', 't3', '.', 'open_year', '>', 'value', ')'], 'sql': {'from': {'table_units': [['table_unit', 1], ['table_unit', 2], ['table_unit', 0]], 'conds': [[False, 2, [0, [0, 5, False], None], [0, 10, False], None], 'and', [False, 2, [0, [0, 1, False], None], [0, 9, False], None]]}, 'select': [False, [[0, [0, [0, 2, False], None]]]], 'where': [[False, 4, [0, [0, 4, False], None], 2009.0, None], 'and', [False, 2, [0, [0, 6, False], None], {'from': {'table_units': [['table_unit', 1], ['table_unit', 2], ['table_unit', 0]], 'conds': [[False, 2, [0, [0, 5, False], None], [0, 10, False], None], 'and', [False, 2, [0, [0, 1, False], None], [0, 9, False], None]]}, 'select': [False, [[0, [0, [0, 6, False], None]]]], 'where': [[False, 4, [0, [0, 4, False], None], 2009.0, None]], 'groupBy': [], 'having': [], 'orderBy': [], 'limit': None, 'intersect': {'from': {'table_units': [['table_unit', 1], ['table_unit', 2], ['table_unit', 0]], 'conds': [[False, 2, [0, [0, 5, False], None], [0, 10, False], None], 'and', [False, 2, [0, [0, 1, False], None], [0, 9, False], None]]}, 'select': [False, [[0, [0, [0, 6, False], None]]]], 'where': [[False, 3, [0, [0, 4, False], None], 2011.0, None]], 'groupBy': [], 'having': [], 'orderBy': [], 'limit': None, 'intersect': None, 'union': None, 'except': None}, 'union': None, 'except': None}, None]], 'groupBy': [], 'having': [], 'orderBy': [], 'limit': None, 'intersect': None, 'union': None, 'except': None}}, {'utterance': \"What is Fernando Gago's membership level?\", 'utterance_toks': ['What', 'is', 'Fernando', 'Gago', \"'s\", 'membership', 'level', '?'], 'query': 'SELECT level_of_membership FROM visitor WHERE name  =  \"Fernando Gago\"', 'query_toks_no_value': ['select', 'level_of_membership', 'from', 'visitor', 'where', 'name', '=', 'value'], 'sql': {'from': {'table_units': [['table_unit', 1]], 'conds': []}, 'select': [False, [[0, [0, [0, 7, False], None]]]], 'where': [[False, 2, [0, [0, 6, False], None], '\"Fernando Gago\"', None]], 'groupBy': [], 'having': [], 'orderBy': [], 'limit': None, 'intersect': None, 'union': None, 'except': None}}, {'utterance': 'How old is Fernando Gago?', 'utterance_toks': ['How', 'old', 'is', 'Fernando', 'Gago', '?'], 'query': 'SELECT age FROM visitor WHERE name  =  \"Fernando Gago\"', 'query_toks_no_value': ['select', 'age', 'from', 'visitor', 'where', 'name', '=', 'value'], 'sql': {'from': {'table_units': [['table_unit', 1]], 'conds': []}, 'select': [False, [[0, [0, [0, 8, False], None]]]], 'where': [[False, 2, [0, [0, 6, False], None], '\"Fernando Gago\"', None]], 'groupBy': [], 'having': [], 'orderBy': [], 'limit': None, 'intersect': None, 'union': None, 'except': None}}]}]\n"
          ]
        }
      ],
      "source": [
        "print(cosql_train_sample[0:1])\n",
        "print(cosql_validation_sample[0:1])"
      ]
    },
    {
      "cell_type": "markdown",
      "metadata": {
        "id": "_rmWCrCt4kf5"
      },
      "source": [
        "## SparC dataset"
      ]
    },
    {
      "cell_type": "code",
      "execution_count": null,
      "metadata": {
        "id": "wTi4U0rEf4Uz"
      },
      "outputs": [],
      "source": [
        "sparc_train = load_datasets(\"/content/drive/MyDrive/DPDM_PJ/SparC/SparC_train.json\")\n",
        "sparc_validation = load_datasets(\"/content/drive/MyDrive/DPDM_PJ/SparC/SparC_dev.json\")"
      ]
    },
    {
      "cell_type": "code",
      "execution_count": null,
      "metadata": {
        "colab": {
          "base_uri": "https://localhost:8080/"
        },
        "id": "pTgt-bvgkEo-",
        "outputId": "9474041a-5f2e-48cb-c7eb-4f6cdf134e33"
      },
      "outputs": [
        {
          "output_type": "stream",
          "name": "stdout",
          "text": [
            "3034 422\n"
          ]
        }
      ],
      "source": [
        "print(len(sparc_train),len(sparc_validation))"
      ]
    },
    {
      "cell_type": "code",
      "execution_count": null,
      "metadata": {
        "id": "vClaO15BkVrr"
      },
      "outputs": [],
      "source": [
        "# แบ่งข้อมูล train และ validation dataset ให้มีขนาด 10%\n",
        "sparc_train_sample = random.sample(sparc_train, int(len(sparc_train) * 0.1))\n",
        "sparc_validation_sample = random.sample(sparc_validation, int(len(sparc_validation) * 0.1))"
      ]
    },
    {
      "cell_type": "code",
      "execution_count": null,
      "metadata": {
        "colab": {
          "base_uri": "https://localhost:8080/"
        },
        "id": "OjOL0iAYkX-q",
        "outputId": "1f03f8c4-de32-4179-dfa8-dae3547a911a"
      },
      "outputs": [
        {
          "output_type": "stream",
          "name": "stdout",
          "text": [
            "303 42\n"
          ]
        }
      ],
      "source": [
        "print(len(sparc_train_sample),len(sparc_validation_sample))"
      ]
    },
    {
      "cell_type": "code",
      "execution_count": null,
      "metadata": {
        "colab": {
          "base_uri": "https://localhost:8080/"
        },
        "id": "HV4TLhugmvx7",
        "outputId": "ab184b97-e89e-402c-c650-d432f7d1a54f"
      },
      "outputs": [
        {
          "output_type": "stream",
          "name": "stdout",
          "text": [
            "[{'database_id': 'voter_2', 'interaction': [{'query': 'SELECT DISTINCT Major FROM STUDENT WHERE Sex = \"F\"', 'utterance_toks': ['List', 'the', 'majors', 'of', 'female', 'students', '.'], 'utterance': 'List the majors of female students.', 'sql': {'orderBy': [], 'from': {'table_units': [['table_unit', 0]], 'conds': []}, 'union': None, 'except': None, 'having': [], 'limit': None, 'intersect': None, 'where': [[False, 2, [0, [0, 5, False], None], '\"F\"', None]], 'groupBy': [], 'select': [True, [[0, [0, [0, 6, False], None]]]]}}, {'query': 'SELECT DISTINCT Major FROM STUDENT WHERE Sex = \"F\" GROUP BY major ORDER BY count(*) DESC', 'utterance_toks': ['Order', 'the', 'majors', 'by', 'decreasing', 'number', 'of', 'students', '.'], 'utterance': 'Order the majors by decreasing number of students.', 'sql': {'orderBy': ['desc', [[0, [3, 0, False], None]]], 'from': {'table_units': [['table_unit', 0]], 'conds': []}, 'union': None, 'except': None, 'having': [], 'limit': None, 'intersect': None, 'where': [[False, 2, [0, [0, 5, False], None], '\"F\"', None]], 'groupBy': [[0, 6, False]], 'select': [True, [[0, [0, [0, 6, False], None]]]]}}, {'query': 'SELECT Major FROM STUDENT WHERE Sex  =  \"F\" GROUP BY major ORDER BY count(*) DESC LIMIT 1', 'utterance_toks': ['What', 'is', 'the', 'most', 'common', 'major', '?'], 'utterance': 'What is the most common major?', 'sql': {'orderBy': ['desc', [[0, [3, 0, False], None]]], 'from': {'table_units': [['table_unit', 0]], 'conds': []}, 'union': None, 'except': None, 'having': [], 'limit': 1, 'intersect': None, 'where': [[False, 2, [0, [0, 5, False], None], '\"F\"', None]], 'groupBy': [[0, 6, False]], 'select': [False, [[0, [0, [0, 6, False], None]]]]}}], 'final': {'query': 'SELECT Major FROM STUDENT WHERE Sex  =  \"F\" GROUP BY major ORDER BY count(*) DESC LIMIT 1', 'utterance': 'What is the most common major among female (sex is F) students?'}, 'interaction_id': 15}]\n",
            "[{'database_id': 'dog_kennels', 'interaction': [{'query': 'SELECT count(*) FROM Professionals', 'utterance_toks': ['How', 'many', 'professionals', 'are', 'there', '?'], 'utterance': 'How many professionals are there?', 'sql': {'orderBy': [], 'from': {'table_units': [['table_unit', 6]], 'conds': []}, 'union': None, 'except': None, 'having': [], 'limit': None, 'intersect': None, 'where': [], 'groupBy': [], 'select': [False, [[3, [0, [0, 0, False], None]]]]}}, {'query': \"SELECT count(*) FROM Professionals WHERE city = 'West Heidi'\", 'utterance_toks': ['How', 'many', 'of', 'them', 'come', 'from', \"'West\", 'Heidi', '?', \"'\"], 'utterance': \"How many of them come from 'West Heidi?'\", 'sql': {'orderBy': [], 'from': {'table_units': [['table_unit', 6]], 'conds': []}, 'union': None, 'except': None, 'having': [], 'limit': None, 'intersect': None, 'where': [[False, 2, [0, [0, 37, False], None], '\"West Heidi\"', None]], 'groupBy': [], 'select': [False, [[3, [0, [0, 0, False], None]]]]}}, {'query': 'SELECT count(*) FROM Professionals WHERE professional_id NOT IN ( SELECT professional_id FROM Treatments )', 'utterance_toks': ['What', 'about', 'those', 'who', 'did', 'not', 'operate', 'any', 'treatment', 'on', 'dogs', '?'], 'utterance': 'What about those who did not operate any treatment on dogs?', 'sql': {'orderBy': [], 'from': {'table_units': [['table_unit', 6]], 'conds': []}, 'union': None, 'except': None, 'having': [], 'limit': None, 'intersect': None, 'where': [[True, 8, [0, [0, 33, False], None], {'orderBy': [], 'from': {'table_units': [['table_unit', 7]], 'conds': []}, 'union': None, 'except': None, 'having': [], 'limit': None, 'intersect': None, 'where': [], 'groupBy': [], 'select': [False, [[0, [0, [0, 46, False], None]]]]}, None]], 'groupBy': [], 'select': [False, [[3, [0, [0, 0, False], None]]]]}}], 'final': {'query': 'SELECT count(*) FROM Professionals WHERE professional_id NOT IN ( SELECT professional_id FROM Treatments )', 'utterance': 'How many professionals did not operate any treatment on dogs?'}, 'interaction_id': 24}]\n"
          ]
        }
      ],
      "source": [
        "print(sparc_train_sample[0:1])\n",
        "print(sparc_validation_sample[0:1])"
      ]
    },
    {
      "cell_type": "markdown",
      "metadata": {
        "id": "bk6Ns26hftmL"
      },
      "source": [
        "# Setting Input\n",
        "\n"
      ]
    },
    {
      "cell_type": "markdown",
      "metadata": {
        "id": "j1QZdIQMgIP4"
      },
      "source": [
        "![sss.png](data:image/png;base64,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)"
      ]
    },
    {
      "cell_type": "markdown",
      "metadata": {
        "id": "CmUQEvNQafhd"
      },
      "source": [
        "$$ D_1 = \\{ D_{\\text{SG}}, D_{\\text{RSP}}, D_{\\text{TWP}}, D_{\\text{FUP}} \\} = \\{ (Z_T, X, y)_i \\mid i \\in D1 \\} $$"
      ]
    },
    {
      "cell_type": "markdown",
      "metadata": {
        "id": "nlccaOGjgwXm"
      },
      "source": [
        "โดยที่\n",
        "\n",
        "$ T \\in \\{ \\text{SG}, \\text{RSP}, \\text{TWP}, \\text{FUP} \\} $ หมายถึง ประเภทของงานที่ตัวอย่างนั้นเป็นอยู่  \n",
        "$  Z_T  $ หมายถึง prompt ที่เป็นประโยคเพื่อแนะนำ task แต่ละประเภทตามที่แสดงในรูปที่ 2\n"
      ]
    },
    {
      "cell_type": "markdown",
      "metadata": {
        "id": "qUMYlNWgf3uk"
      },
      "source": [
        "$ X $ คือข้อมูลนำเข้าของโมเดล ซึ่งเป็นการรวมกันของข้อความคำถามจากผู้ใช้ในปัจจุบัน ข้อความคำถามก่อนหน้า และ SQL query รวมถึง schema จัดเรียงดังนี้:\n",
        "\n",
        "$$\n",
        "X = [u_1, s_1, u_2, s_2, \\dots, u_t, D]\n",
        "$$\n",
        "\n"
      ]
    },
    {
      "cell_type": "markdown",
      "metadata": {
        "id": "1GHPf6mIjjr4"
      },
      "source": [
        "โดยที่ schema $ D $ ถูกจัดรูปแบบดังนี้:\n",
        "\n",
        "$$\n",
        "D = [t_1, c_{11}, c_{12}, \\dots, t_2, c_{21}, c_{22}, \\dots, \\dots]\n",
        "$$\n",
        "\n",
        "\n"
      ]
    },
    {
      "cell_type": "markdown",
      "metadata": {
        "id": "Xc-kAsqjj4cs"
      },
      "source": [
        "และ $ y $ คือผลลัพธ์ที่โมเดลสร้างขึ้นสำหรับงาน $ T $ ซึ่งถูกย่อไว้ในรูปที่ 2"
      ]
    },
    {
      "cell_type": "markdown",
      "source": [
        "<!-- กำหนดให้ $u_t$ คือบทสนทนาของผู้ใช้ ณ ปัจจุบัน\n",
        "\n",
        "ดังนั้นประวัติการสนทนาคือ $h_t=[u_1,u_2,...,u_{t-1}]$\n",
        "\n",
        "schema ของฐานข้อมูลเป้าหมาย คือ $D = (T,C)$ โดยจะอยู่ในรูป $ D = [t_1, c_{11}, c_{12}, ..., t_2, c_{21}, c_{22}, ..., ...] $\n",
        "\n",
        "โดยเป้าหมายของเราคือการทำนาย SQL query ของการสนทนา ณ ปัจจุบัน $s_t$ -->"
      ],
      "metadata": {
        "id": "8e-29ww-v5WD"
      }
    },
    {
      "cell_type": "markdown",
      "source": [
        "<!-- ในขั้นตอนี้ นอกจาการเทรน SG แล้วยังมีการเทรนงานย่อยอีกสามงานได้แก่ RSP TWP FUP เพื่อเพิ่มประสิทธิภาพในการทำงาน โดยป้ายกำกับ ,บทสนา เป้าหมาย และเอาท์พุตของโมเดลจะถูกกำหนดดังนี้\n",
        "\n",
        "$$ S = {Z_T, X, y} $$\n",
        "\n",
        "เมื่อ $ T \\in \\{ \\text{SG}, \\text{RSP}, \\text{TWP}, \\text{FUP} \\} $\n",
        "\n",
        "$  Z_T  $ หมายถึง prompt ที่เป็นประโยคเพื่อแนะนำ task แต่ละประเภท -->"
      ],
      "metadata": {
        "id": "hagbm6cfz2Ws"
      }
    },
    {
      "cell_type": "markdown",
      "source": [
        "<!-- $L:$ ความยาวของลำดับคำตอบ (target sequence) หรือจำนวนคำในคำตอบ 𝑦\n",
        "\n",
        "$θ:$ พารามิเตอร์ของโมเดล (สิ่งที่เราต้องการอัปเดตเพื่อให้โมเดลเรียนรู้จากข้อมูลการเทรน)\n",
        "\n",
        "$y_l:$ คำตอบในตำแหน่งที่\n",
        "$l$ ของลำดับคำตอบ\n",
        "\n",
        "$y_{<l}:$ ลำดับของคำตอบก่อนถึงตำแหน่ง $l$ ซึ่งจะช่วยให้โมเดลทำนายคำถัดไปในลำดับได้อย่างแม่นยำมากขึ้น -->"
      ],
      "metadata": {
        "id": "D9ghY09f5rBd"
      }
    },
    {
      "cell_type": "markdown",
      "metadata": {
        "id": "Rj1Hj3nudsGa"
      },
      "source": [
        "## Prompt"
      ]
    },
    {
      "cell_type": "code",
      "execution_count": null,
      "metadata": {
        "id": "1RShldP7n63s"
      },
      "outputs": [],
      "source": [
        "# ตั้งค่า prompt อิงตามรูปที่ 2 ในเอกสาร\n",
        "prompt_map = {\n",
        "    \"SG\": \"translate dialogue to system query:\",\n",
        "    \"RSP\": \"translate dialogue to relevant column:\",\n",
        "    \"TWP\": \"translate dialogue to turn switch:\",\n",
        "    \"FUP\": \"translate dialogue to final utterance:\"}"
      ]
    },
    {
      "cell_type": "markdown",
      "metadata": {
        "id": "NBacwQPGduyJ"
      },
      "source": [
        "## Function"
      ]
    },
    {
      "cell_type": "markdown",
      "metadata": {
        "id": "9e930Qy7dx20"
      },
      "source": [
        "### Function for RSP"
      ]
    },
    {
      "cell_type": "code",
      "execution_count": null,
      "metadata": {
        "id": "1VHXyrpZIioM"
      },
      "outputs": [],
      "source": [
        "import re\n",
        "\n",
        "def extract_schema_from_query_with_alias(query):\n",
        "    # ทำให้ query เป็นตัวพิมพ์เล็กเพื่อให้ค้นหาข้อมูลได้ง่าย\n",
        "    query = query.lower()\n",
        "\n",
        "    # จับคู่ alias และตารางในรูปแบบ table AS alias\n",
        "    alias_mapping = dict(re.findall(r'(\\w+)\\s+as\\s+(\\w+)', query))\n",
        "\n",
        "    # ดึงชื่อตารางในกรณีไม่มี alias และรวมกับ alias ที่หาได้\n",
        "    tables = re.findall(r'(?:from|join)\\s+(\\w+)', query)\n",
        "    tables = list(set(tables) | set(alias_mapping.keys()))  # รวม alias กับชื่อจริงของตาราง\n",
        "\n",
        "    # ดึงคอลัมน์ทั้งหมดในส่วน SELECT รวมถึงกรณีที่ใช้ฟังก์ชัน เช่น COUNT(*)\n",
        "    select_pattern = re.search(r'select\\s+(.*?)\\s+from', query, re.IGNORECASE)\n",
        "    mapped_columns = []\n",
        "\n",
        "    if select_pattern:\n",
        "        # แยกคอลัมน์แต่ละรายการตามจุลภาค\n",
        "        col_names = [col.strip() for col in select_pattern.group(1).split(',')]\n",
        "\n",
        "        for col in col_names:\n",
        "            # ตรวจจับฟังก์ชัน เช่น COUNT(column), SUM(column)\n",
        "            func_pattern = re.match(r'(\\w+)\\((.*?)\\)', col)\n",
        "            if func_pattern:\n",
        "                _, col_inside_func = func_pattern.groups()\n",
        "                # กรณีมี table.column หรือ alias.column\n",
        "                if '.' in col_inside_func:\n",
        "                    table_alias, column = col_inside_func.split('.', 1)  # แยกเฉพาะจุดแรก\n",
        "                    table_name = alias_mapping.get(table_alias, table_alias)\n",
        "                    mapped_columns.append(f\"{table_name}.{column}\")\n",
        "                else:\n",
        "                    mapped_columns.append(col_inside_func)  # กรณีไม่มี table alias\n",
        "            else:\n",
        "                # กรณีทั่วไป เช่น table.column หรือ column\n",
        "                if '.' in col:\n",
        "                    table_alias, column = col.split('.', 1)  # แยกเฉพาะจุดแรก\n",
        "                    table_name = alias_mapping.get(table_alias, table_alias)\n",
        "                    mapped_columns.append(f\"{table_name}.{column}\")\n",
        "                else:\n",
        "                    mapped_columns.append(col)  # กรณีไม่มี table alias\n",
        "\n",
        "    return {\"tables\": tables, \"columns\": list(set(mapped_columns))}\n"
      ]
    },
    {
      "cell_type": "markdown",
      "metadata": {
        "id": "-CHuy_WPd5Uf"
      },
      "source": [
        "### Function for TWP"
      ]
    },
    {
      "cell_type": "code",
      "execution_count": null,
      "metadata": {
        "id": "_iNUDJyXWJpH"
      },
      "outputs": [],
      "source": [
        "def extract_query_difference_from_structured_sql(sql1, sql2):\n",
        "    # ถ้า sql1 หรือ sql2 เป็น None ให้กำหนดเป็น {}\n",
        "    sql1 = sql1 or {}\n",
        "    sql2 = sql2 or {}\n",
        "\n",
        "    differences = []\n",
        "\n",
        "    # ตรวจสอบการเปลี่ยนแปลงในแต่ละ clause โดยเพิ่มเฉพาะชื่อ clause ที่มีการเปลี่ยนแปลง\n",
        "    if sql1.get(\"select\") != sql2.get(\"select\"):\n",
        "        differences.append(\"SELECT\")\n",
        "\n",
        "    if sql1.get(\"from\") != sql2.get(\"from\"):\n",
        "        differences.append(\"FROM\")\n",
        "\n",
        "    if sql1.get(\"where\") != sql2.get(\"where\"):\n",
        "        differences.append(\"WHERE\")\n",
        "\n",
        "    if sql1.get(\"groupBy\") != sql2.get(\"groupBy\"):\n",
        "        differences.append(\"GROUP BY\")\n",
        "\n",
        "    if sql1.get(\"orderBy\") != sql2.get(\"orderBy\"):\n",
        "        differences.append(\"ORDER BY\")\n",
        "\n",
        "    if sql1.get(\"limit\") != sql2.get(\"limit\"):\n",
        "        differences.append(\"LIMIT\")\n",
        "\n",
        "    if sql1.get(\"union\") != sql2.get(\"union\"):\n",
        "        differences.append(\"UNION\")\n",
        "\n",
        "    if sql1.get(\"except\") != sql2.get(\"except\"):\n",
        "        differences.append(\"EXCEPT\")\n",
        "\n",
        "    if sql1.get(\"intersect\") != sql2.get(\"intersect\"):\n",
        "        differences.append(\"INTERSECT\")\n",
        "\n",
        "    # หากไม่มีการเปลี่ยนแปลงในทุก clause ให้แสดงว่าไม่มีการเปลี่ยนแปลง\n",
        "    if not differences:\n",
        "        return {\"changed_clause\": \"None\"}\n",
        "    else:\n",
        "        return {\"changed_clause\": differences}\n"
      ]
    },
    {
      "cell_type": "markdown",
      "metadata": {
        "id": "iCLGnXvPd8Qn"
      },
      "source": [
        "### Function for all"
      ]
    },
    {
      "cell_type": "code",
      "execution_count": null,
      "metadata": {
        "id": "qSkjldJzQm8D"
      },
      "outputs": [],
      "source": [
        "def prepare_data(data, dataset_name):\n",
        "    prepared_data = []\n",
        "\n",
        "    for item in data:\n",
        "        Z_T_combined = []  # ลิสต์เก็บเซต task แต่ละรอบ\n",
        "        X_combined = []    # ลิสต์เก็บคำถามและ query แต่ละรอบ\n",
        "        y_combined = []    # ลิสต์เก็บผลลัพธ์ y แต่ละรอบ\n",
        "\n",
        "        # สร้าง schema D ในรูปแบบ [t1, c11, c12, ..., t2, c21, c22, ...]\n",
        "        D = []\n",
        "\n",
        "        if dataset_name == \"spider\":\n",
        "            db_id = item.get(\"db_id\", \"\")\n",
        "            rsp_schema = extract_schema_from_query_with_alias(item.get(\"query\", \"\"))\n",
        "\n",
        "            # เพิ่ม db_id และคอลัมน์ที่เกี่ยวข้อง\n",
        "            D.append(db_id)\n",
        "            D.extend(sorted(set(rsp_schema[\"columns\"])))\n",
        "            user_utterance = item.get(\"question\", \"\")\n",
        "            X_base = [user_utterance] + D\n",
        "\n",
        "            # สร้าง Z_T, X และ y สำหรับแต่ละ task\n",
        "            Z_T_combined.append({\"SG\", \"RSP\"})\n",
        "            X_combined.extend([user_utterance, item.get(\"query\", \"\"), D])\n",
        "            y_combined.append({\n",
        "                \"SG\": item.get(\"query\", \"\"),\n",
        "                \"RSP\": rsp_schema\n",
        "            })\n",
        "\n",
        "        elif dataset_name in [\"cosql\", \"sparc\"]:\n",
        "            final_query = item.get(\"final\", {}).get(\"query\", \"\")\n",
        "            final_schema = extract_schema_from_query_with_alias(final_query)\n",
        "\n",
        "            # จัดรูปแบบ D ให้เป็น [t1, c11, c12, ..., t2, c21, c22, ...]\n",
        "            for table in final_schema[\"tables\"]:\n",
        "                D.append(table)\n",
        "                columns_for_table = [col for col in final_schema[\"columns\"] if col.startswith(f\"{table}.\")]\n",
        "                D.extend(sorted(set(columns_for_table)))\n",
        "\n",
        "            previous_sql = None\n",
        "            for turn, interaction in enumerate(item.get(\"interaction\", [])):\n",
        "                Z_T_round = {\"SG\", \"RSP\"}  # Task สำหรับรอบนี้\n",
        "                round_X = [interaction.get(\"utterance\", \"\")] + D\n",
        "                round_y = {\n",
        "                    \"SG\": interaction.get(\"query\", \"\"),\n",
        "                    \"RSP\": extract_schema_from_query_with_alias(interaction.get(\"query\", \"\"))\n",
        "                }\n",
        "\n",
        "                # เพิ่ม TWP สำหรับทุก turn ยกเว้น turn แรก\n",
        "                if turn > 0:\n",
        "                    current_sql = interaction.get(\"sql\", {})\n",
        "                    Z_T_round.add(\"TWP\")\n",
        "                    round_y[\"TWP\"] = extract_query_difference_from_structured_sql(previous_sql, current_sql)\n",
        "                    previous_sql = current_sql\n",
        "\n",
        "                # เพิ่ม FUP เฉพาะ turn สุดท้าย\n",
        "                if turn == len(item[\"interaction\"]) - 1:\n",
        "                    Z_T_round.add(\"FUP\")\n",
        "                    round_y[\"FUP\"] = item[\"final\"].get(\"query\", \"\")\n",
        "\n",
        "                # บันทึกข้อมูลของแต่ละรอบ\n",
        "                Z_T_combined.append(Z_T_round)\n",
        "                X_combined.extend([interaction.get(\"utterance\", \"\"), interaction.get(\"query\", \"\"), D])\n",
        "                y_combined.append(round_y)\n",
        "\n",
        "        # จัดเก็บข้อมูลในรูปแบบตามที่ต้องการ\n",
        "        prepared_data.append({\n",
        "            \"Z_T\": Z_T_combined,\n",
        "            \"X\": X_combined,\n",
        "            \"y\": y_combined\n",
        "        })\n",
        "\n",
        "    return prepared_data\n"
      ]
    },
    {
      "cell_type": "markdown",
      "metadata": {
        "id": "6Y2NJ3DgeBjL"
      },
      "source": [
        "## Prepare $D$ of dataset"
      ]
    },
    {
      "cell_type": "markdown",
      "metadata": {
        "id": "xUa0-snIfMZ9"
      },
      "source": [
        "### $D$ for Spider dataset"
      ]
    },
    {
      "cell_type": "code",
      "execution_count": null,
      "metadata": {
        "colab": {
          "base_uri": "https://localhost:8080/"
        },
        "id": "JdhZENM5_q2E",
        "outputId": "503f821e-fc08-4fa5-a816-797dc5266211"
      },
      "outputs": [
        {
          "output_type": "execute_result",
          "data": {
            "text/plain": [
              "{'Z_T': [{'RSP', 'SG'}],\n",
              " 'X': ['What are the names of all the documents, as well as the access counts of each, ordered alphabetically?',\n",
              "  'SELECT document_name ,  access_count FROM documents ORDER BY document_name',\n",
              "  ['document_management', 'access_count', 'document_name']],\n",
              " 'y': [{'SG': 'SELECT document_name ,  access_count FROM documents ORDER BY document_name',\n",
              "   'RSP': {'tables': ['documents'],\n",
              "    'columns': ['access_count', 'document_name']}}]}"
            ]
          },
          "metadata": {},
          "execution_count": 87
        }
      ],
      "source": [
        "D_spider = prepare_data(spider_train_sample,'spider')\n",
        "D_spider[0]"
      ]
    },
    {
      "cell_type": "code",
      "execution_count": null,
      "metadata": {
        "colab": {
          "base_uri": "https://localhost:8080/"
        },
        "id": "eO8ZiyZJekRl",
        "outputId": "22db8425-09c1-4dc0-f5ce-4b5547e13348"
      },
      "outputs": [
        {
          "output_type": "stream",
          "name": "stdout",
          "text": [
            "700 700\n"
          ]
        }
      ],
      "source": [
        "print(len(spider_train_sample),len(D_spider))"
      ]
    },
    {
      "cell_type": "markdown",
      "metadata": {
        "id": "yvJ4EJ-ofS_y"
      },
      "source": [
        "### $D$ for CoSQL dataset"
      ]
    },
    {
      "cell_type": "code",
      "execution_count": null,
      "metadata": {
        "colab": {
          "base_uri": "https://localhost:8080/"
        },
        "id": "1Qkf8Tl2SfgI",
        "outputId": "d7d575a4-0521-47e4-872e-3976591da4cd"
      },
      "outputs": [
        {
          "output_type": "execute_result",
          "data": {
            "text/plain": [
              "{'Z_T': [{'RSP', 'SG'}, {'RSP', 'SG', 'TWP'}, {'FUP', 'RSP', 'SG', 'TWP'}],\n",
              " 'X': ['how many trip are presented on the table',\n",
              "  'SELECT count ( * )  FROM trip',\n",
              "  ['trip'],\n",
              "  'show all the start station name',\n",
              "  'SELECT start_station_name FROM trip',\n",
              "  ['trip'],\n",
              "  'what is the start date of Howard at 2nd | Do you mean its start station is Howard at 2nd? | exactly',\n",
              "  'SELECT start_date FROM trip where start_station_name  =  \"Howard at 2nd\"',\n",
              "  ['trip']],\n",
              " 'y': [{'SG': 'SELECT count ( * )  FROM trip',\n",
              "   'RSP': {'tables': ['trip'], 'columns': ['count ( * )']}},\n",
              "  {'SG': 'SELECT start_station_name FROM trip',\n",
              "   'RSP': {'tables': ['trip'], 'columns': ['start_station_name']},\n",
              "   'TWP': {'changed_clause': ['SELECT',\n",
              "     'FROM',\n",
              "     'WHERE',\n",
              "     'GROUP BY',\n",
              "     'ORDER BY']}},\n",
              "  {'SG': 'SELECT start_date FROM trip where start_station_name  =  \"Howard at 2nd\"',\n",
              "   'RSP': {'tables': ['trip'], 'columns': ['start_date']},\n",
              "   'TWP': {'changed_clause': ['SELECT', 'WHERE']},\n",
              "   'FUP': 'SELECT start_station_name ,  end_station_name FROM trip ORDER BY id LIMIT 3'}]}"
            ]
          },
          "metadata": {},
          "execution_count": 89
        }
      ],
      "source": [
        "D_cosql = prepare_data(cosql_train_sample,'cosql')\n",
        "D_cosql[0]"
      ]
    },
    {
      "cell_type": "code",
      "execution_count": null,
      "metadata": {
        "colab": {
          "base_uri": "https://localhost:8080/"
        },
        "id": "IsBvalJmfW0u",
        "outputId": "b409ab76-0484-408c-a991-8ded7104bce8"
      },
      "outputs": [
        {
          "output_type": "stream",
          "name": "stdout",
          "text": [
            "215 215\n"
          ]
        }
      ],
      "source": [
        "print(len(cosql_train_sample),len(D_cosql))"
      ]
    },
    {
      "cell_type": "markdown",
      "metadata": {
        "id": "Izwxi-xEfeFB"
      },
      "source": [
        "### $D$ for SparC dataset"
      ]
    },
    {
      "cell_type": "code",
      "execution_count": null,
      "metadata": {
        "colab": {
          "base_uri": "https://localhost:8080/"
        },
        "id": "SCt_3ST7Nva9",
        "outputId": "81e22c94-2bd6-4d84-808c-30e3e60c74c3"
      },
      "outputs": [
        {
          "output_type": "execute_result",
          "data": {
            "text/plain": [
              "{'Z_T': [{'RSP', 'SG'}, {'RSP', 'SG', 'TWP'}, {'FUP', 'RSP', 'SG', 'TWP'}],\n",
              " 'X': ['List the majors of female students.',\n",
              "  'SELECT DISTINCT Major FROM STUDENT WHERE Sex = \"F\"',\n",
              "  ['student'],\n",
              "  'Order the majors by decreasing number of students.',\n",
              "  'SELECT DISTINCT Major FROM STUDENT WHERE Sex = \"F\" GROUP BY major ORDER BY count(*) DESC',\n",
              "  ['student'],\n",
              "  'What is the most common major?',\n",
              "  'SELECT Major FROM STUDENT WHERE Sex  =  \"F\" GROUP BY major ORDER BY count(*) DESC LIMIT 1',\n",
              "  ['student']],\n",
              " 'y': [{'SG': 'SELECT DISTINCT Major FROM STUDENT WHERE Sex = \"F\"',\n",
              "   'RSP': {'tables': ['student'], 'columns': ['distinct major']}},\n",
              "  {'SG': 'SELECT DISTINCT Major FROM STUDENT WHERE Sex = \"F\" GROUP BY major ORDER BY count(*) DESC',\n",
              "   'RSP': {'tables': ['student'], 'columns': ['distinct major']},\n",
              "   'TWP': {'changed_clause': ['SELECT',\n",
              "     'FROM',\n",
              "     'WHERE',\n",
              "     'GROUP BY',\n",
              "     'ORDER BY']}},\n",
              "  {'SG': 'SELECT Major FROM STUDENT WHERE Sex  =  \"F\" GROUP BY major ORDER BY count(*) DESC LIMIT 1',\n",
              "   'RSP': {'tables': ['student'], 'columns': ['major']},\n",
              "   'TWP': {'changed_clause': ['SELECT', 'LIMIT']},\n",
              "   'FUP': 'SELECT Major FROM STUDENT WHERE Sex  =  \"F\" GROUP BY major ORDER BY count(*) DESC LIMIT 1'}]}"
            ]
          },
          "metadata": {},
          "execution_count": 91
        }
      ],
      "source": [
        "D_sparc = prepare_data(sparc_train_sample, \"sparc\")\n",
        "D_sparc[0]"
      ]
    },
    {
      "cell_type": "code",
      "execution_count": null,
      "metadata": {
        "colab": {
          "base_uri": "https://localhost:8080/"
        },
        "id": "ADYCpHZ-fj1y",
        "outputId": "d7bf5884-2a10-48ec-c3cf-b4e4dcf45e70"
      },
      "outputs": [
        {
          "output_type": "stream",
          "name": "stdout",
          "text": [
            "303 303\n"
          ]
        }
      ],
      "source": [
        "print(len(sparc_train_sample),len(D_sparc))"
      ]
    },
    {
      "cell_type": "markdown",
      "metadata": {
        "id": "wzodrsR8GapN"
      },
      "source": [
        "# Model Training"
      ]
    },
    {
      "cell_type": "markdown",
      "metadata": {
        "id": "bv0SPioVPIY9"
      },
      "source": [
        "## Setup Model"
      ]
    },
    {
      "cell_type": "code",
      "execution_count": null,
      "metadata": {
        "colab": {
          "base_uri": "https://localhost:8080/"
        },
        "id": "FHGzoVWpP1GY",
        "outputId": "43a19dac-df9b-4adf-8b41-3ea24ccf4d24"
      },
      "outputs": [
        {
          "output_type": "execute_result",
          "data": {
            "text/plain": [
              "{'Z_T': [{'RSP', 'SG'}],\n",
              " 'X': ['What are the names of all the documents, as well as the access counts of each, ordered alphabetically?',\n",
              "  'SELECT document_name ,  access_count FROM documents ORDER BY document_name',\n",
              "  ['document_management', 'access_count', 'document_name']],\n",
              " 'y': [{'SG': 'SELECT document_name ,  access_count FROM documents ORDER BY document_name',\n",
              "   'RSP': {'tables': ['documents'],\n",
              "    'columns': ['access_count', 'document_name']}}]}"
            ]
          },
          "metadata": {},
          "execution_count": 93
        }
      ],
      "source": [
        "D1 = D_spider + D_cosql + D_sparc\n",
        "D1[0]"
      ]
    },
    {
      "cell_type": "code",
      "execution_count": null,
      "metadata": {
        "colab": {
          "base_uri": "https://localhost:8080/"
        },
        "id": "OAIFFaMuCH2U",
        "outputId": "d3510a37-76ab-4242-9ca2-ef158eae022f"
      },
      "outputs": [
        {
          "output_type": "stream",
          "name": "stdout",
          "text": [
            "Requirement already satisfied: transformers in /usr/local/lib/python3.10/dist-packages (4.44.2)\n",
            "Requirement already satisfied: torch in /usr/local/lib/python3.10/dist-packages (2.5.0+cu121)\n",
            "Requirement already satisfied: filelock in /usr/local/lib/python3.10/dist-packages (from transformers) (3.16.1)\n",
            "Requirement already satisfied: huggingface-hub<1.0,>=0.23.2 in /usr/local/lib/python3.10/dist-packages (from transformers) (0.24.7)\n",
            "Requirement already satisfied: numpy>=1.17 in /usr/local/lib/python3.10/dist-packages (from transformers) (1.26.4)\n",
            "Requirement already satisfied: packaging>=20.0 in /usr/local/lib/python3.10/dist-packages (from transformers) (24.1)\n",
            "Requirement already satisfied: pyyaml>=5.1 in /usr/local/lib/python3.10/dist-packages (from transformers) (6.0.2)\n",
            "Requirement already satisfied: regex!=2019.12.17 in /usr/local/lib/python3.10/dist-packages (from transformers) (2024.9.11)\n",
            "Requirement already satisfied: requests in /usr/local/lib/python3.10/dist-packages (from transformers) (2.32.3)\n",
            "Requirement already satisfied: safetensors>=0.4.1 in /usr/local/lib/python3.10/dist-packages (from transformers) (0.4.5)\n",
            "Requirement already satisfied: tokenizers<0.20,>=0.19 in /usr/local/lib/python3.10/dist-packages (from transformers) (0.19.1)\n",
            "Requirement already satisfied: tqdm>=4.27 in /usr/local/lib/python3.10/dist-packages (from transformers) (4.66.5)\n",
            "Requirement already satisfied: typing-extensions>=4.8.0 in /usr/local/lib/python3.10/dist-packages (from torch) (4.12.2)\n",
            "Requirement already satisfied: networkx in /usr/local/lib/python3.10/dist-packages (from torch) (3.4.2)\n",
            "Requirement already satisfied: jinja2 in /usr/local/lib/python3.10/dist-packages (from torch) (3.1.4)\n",
            "Requirement already satisfied: fsspec in /usr/local/lib/python3.10/dist-packages (from torch) (2024.6.1)\n",
            "Requirement already satisfied: sympy==1.13.1 in /usr/local/lib/python3.10/dist-packages (from torch) (1.13.1)\n",
            "Requirement already satisfied: mpmath<1.4,>=1.1.0 in /usr/local/lib/python3.10/dist-packages (from sympy==1.13.1->torch) (1.3.0)\n",
            "Requirement already satisfied: MarkupSafe>=2.0 in /usr/local/lib/python3.10/dist-packages (from jinja2->torch) (3.0.2)\n",
            "Requirement already satisfied: charset-normalizer<4,>=2 in /usr/local/lib/python3.10/dist-packages (from requests->transformers) (3.4.0)\n",
            "Requirement already satisfied: idna<4,>=2.5 in /usr/local/lib/python3.10/dist-packages (from requests->transformers) (3.10)\n",
            "Requirement already satisfied: urllib3<3,>=1.21.1 in /usr/local/lib/python3.10/dist-packages (from requests->transformers) (2.2.3)\n",
            "Requirement already satisfied: certifi>=2017.4.17 in /usr/local/lib/python3.10/dist-packages (from requests->transformers) (2024.8.30)\n"
          ]
        }
      ],
      "source": [
        "!pip install transformers torch"
      ]
    },
    {
      "cell_type": "code",
      "execution_count": null,
      "metadata": {
        "colab": {
          "base_uri": "https://localhost:8080/",
          "height": 249,
          "referenced_widgets": [
            "32aee311a7834bbf8c011301021e735d",
            "1c7b1c43d1914b428b74a48afe84dff0",
            "17be2fab62f3433385e3882fc8fb946d",
            "2a788598c95f40b0945bf8e3a940fb22",
            "dad60953dd7c478ba628898336d9b4e0",
            "249a4972fa8d4b12944099d552df3ead",
            "8ca0da7f6a044453b4acf8749ba6a6cf",
            "62d73b221f5842399d8d1f6607ae27ba",
            "fbbf8b3033fd49c38ab0d2788dccc52a",
            "4dea2f5b678247c2938b77333bcb31c1",
            "f2e63ff4c4d341ce86a00918ec540b74",
            "ba9226145ca743c89e81d84d5cdf3d4f",
            "94b79eec2d604969afa245c9ee5da4b9",
            "71a31e84c89544d48021159ff978a79d",
            "f8794585691d423fbe65244ecad5cd34",
            "3477c96a68004cdf843b8b46fe0d5cb5",
            "6bda4ae013ff4b8a8eb8c0a2ed8c6000",
            "f1f98b5559b545aa896fffcd344c12ef",
            "c856da8efc9243158081305801637990",
            "57c525c9c8a1493a8941093c5f05a150",
            "b4eaaaa6522a49c19156ad3692b40c38",
            "4b8aaaa260c34345b24b762af1d42977",
            "f46982a2940c48258dcc740a3f2aeed0",
            "1906eb35a7b947dd90a387fe4bf6e448",
            "fecdbdee412a46ed84a662e9be5cba72",
            "7c8814283d0946f9851dcb484299f6b9",
            "f4bad092fb0a4d39ad129f2eefa4cd76",
            "491c34a2230b4d1fbc96975311b6b044",
            "7a27e750789a455c8cc921eb2a67de90",
            "28944f9dae974d9c8c050480f96871d3",
            "2153635f8dd14afbb0c50052ddc54324",
            "7ee32cee66bf451b8695443d850db3ce",
            "149a578056cb4e1eb1e9d73849392eae",
            "d2d510cac2354037bf0e624f9e3c2696",
            "cf495749ed6f4dd5887b8709ba97da6e",
            "d6184aefb3bf42d9856adea602f61b34",
            "923ed1b605744a6bb2d42947ee494115",
            "1121851575884f6882e0d837a7a413c6",
            "ab15ae03574041f8bbc32fa9011e94c8",
            "eede901a3e3d4a4d980a013ceff6d066",
            "e4df803d1af14c8fb83917c3125a4259",
            "15b95f35ae7d4e448bed8a5ca1235570",
            "f70e97134ab0416cb0c31e2b814c1616",
            "76a09edc69ff4725afa5880548703666",
            "67ee2c53e2064efd90d55e8227726c39",
            "3dfd70263c794ec8a89f9d924e898196",
            "a5ff9e25dcae4dc2a4cc0e2b96c65baa",
            "ed91189d1e35499881e815a2f10e5acd",
            "16d771e9f7334ccdb5125c7ba6c197fb",
            "7e442bd5ca1140c5aca3adce8e1dba14",
            "0670b27bea1e4f65afe9494d3cd86d06",
            "7425307567d84d089a8ccda1aa064a65",
            "47b75a36c3d541fb81be6c28eb34073b",
            "2c89600a78884362b531f9063c9f3a31",
            "80387316db8840d48fd379908f361912"
          ]
        },
        "id": "AhB6qCSwGekw",
        "outputId": "c9d4c5eb-6900-4e67-b874-f9f565c29076"
      },
      "outputs": [
        {
          "output_type": "display_data",
          "data": {
            "text/plain": [
              "spiece.model:   0%|          | 0.00/792k [00:00<?, ?B/s]"
            ],
            "application/vnd.jupyter.widget-view+json": {
              "version_major": 2,
              "version_minor": 0,
              "model_id": "32aee311a7834bbf8c011301021e735d"
            }
          },
          "metadata": {}
        },
        {
          "output_type": "display_data",
          "data": {
            "text/plain": [
              "tokenizer.json:   0%|          | 0.00/1.39M [00:00<?, ?B/s]"
            ],
            "application/vnd.jupyter.widget-view+json": {
              "version_major": 2,
              "version_minor": 0,
              "model_id": "ba9226145ca743c89e81d84d5cdf3d4f"
            }
          },
          "metadata": {}
        },
        {
          "output_type": "display_data",
          "data": {
            "text/plain": [
              "config.json:   0%|          | 0.00/1.21k [00:00<?, ?B/s]"
            ],
            "application/vnd.jupyter.widget-view+json": {
              "version_major": 2,
              "version_minor": 0,
              "model_id": "f46982a2940c48258dcc740a3f2aeed0"
            }
          },
          "metadata": {}
        },
        {
          "output_type": "stream",
          "name": "stderr",
          "text": [
            "You are using the default legacy behaviour of the <class 'transformers.models.t5.tokenization_t5.T5Tokenizer'>. This is expected, and simply means that the `legacy` (previous) behavior will be used so nothing changes for you. If you want to use the new behaviour, set `legacy=False`. This should only be set if you understand what it means, and thoroughly read the reason why this was added as explained in https://github.com/huggingface/transformers/pull/24565\n",
            "/usr/local/lib/python3.10/dist-packages/transformers/tokenization_utils_base.py:1601: FutureWarning: `clean_up_tokenization_spaces` was not set. It will be set to `True` by default. This behavior will be depracted in transformers v4.45, and will be then set to `False` by default. For more details check this issue: https://github.com/huggingface/transformers/issues/31884\n",
            "  warnings.warn(\n"
          ]
        },
        {
          "output_type": "display_data",
          "data": {
            "text/plain": [
              "model.safetensors:   0%|          | 0.00/892M [00:00<?, ?B/s]"
            ],
            "application/vnd.jupyter.widget-view+json": {
              "version_major": 2,
              "version_minor": 0,
              "model_id": "d2d510cac2354037bf0e624f9e3c2696"
            }
          },
          "metadata": {}
        },
        {
          "output_type": "display_data",
          "data": {
            "text/plain": [
              "generation_config.json:   0%|          | 0.00/147 [00:00<?, ?B/s]"
            ],
            "application/vnd.jupyter.widget-view+json": {
              "version_major": 2,
              "version_minor": 0,
              "model_id": "67ee2c53e2064efd90d55e8227726c39"
            }
          },
          "metadata": {}
        }
      ],
      "source": [
        "from transformers import T5Tokenizer, T5ForConditionalGeneration\n",
        "import torch\n",
        "\n",
        "# โหลดโทเคไนเซอร์และโมเดล\n",
        "tokenizer = T5Tokenizer.from_pretrained('t5-base')\n",
        "model = T5ForConditionalGeneration.from_pretrained('t5-base')\n"
      ]
    },
    {
      "cell_type": "code",
      "execution_count": null,
      "metadata": {
        "id": "GVJtPeZSGfPM"
      },
      "outputs": [],
      "source": [
        "def tokenize_data_multi_task(data, tokenizer, max_length=128):\n",
        "    \"\"\"\n",
        "    Tokenizes data for multi-task pre-training with task-specific prompts.\n",
        "\n",
        "    Parameters:\n",
        "    - data: List of dictionaries where each dictionary has 'X' as the question and\n",
        "            'y' as the SQL answer with task-specific details.\n",
        "    - tokenizer: Tokenizer from  T5Tokenizer.\n",
        "    - max_length: Maximum sequence length for padding/truncation.\n",
        "\n",
        "    Returns:\n",
        "    - input_ids: Tokenized input IDs with task-specific prompts.\n",
        "    - labels: Tokenized output IDs.\n",
        "    \"\"\"\n",
        "    inputs = []\n",
        "    outputs = []\n",
        "\n",
        "    for item in data:\n",
        "        task = item.get(\"task\")\n",
        "        input_text = item.get('X', [\"\"])[0]  # ใช้ X[0] เป็นคำถาม\n",
        "\n",
        "        # ใส่ prompt สำหรับแต่ละ task\n",
        "        if task == \"SG\":\n",
        "            prompt = \"[utterance] \"\n",
        "        elif task == \"RSP\":\n",
        "            prompt = \"[schema] \"\n",
        "        elif task == \"TWP\":\n",
        "            prompt = \"[turn] \"\n",
        "        elif task == \"FUP\":\n",
        "            prompt = \"[final] \"\n",
        "        else:\n",
        "            prompt = \"\"\n",
        "\n",
        "        # ตรวจสอบและเข้าถึง output_text ตามโครงสร้างของ 'y'\n",
        "        if isinstance(item.get('y'), list) and len(item['y']) > 0:\n",
        "            output_text = item['y'][0].get(task, \"\")  # ดึงค่าใน list ตำแหน่งแรก\n",
        "        else:\n",
        "            output_text = item.get('y', {}).get(task, \"\")\n",
        "\n",
        "        # Tokenize input พร้อม prompt และ output\n",
        "        tokenized_input = tokenizer(\n",
        "            prompt + input_text,  # รวม prompt\n",
        "            padding='max_length',\n",
        "            truncation=True,\n",
        "            max_length=max_length,\n",
        "            return_tensors=\"pt\"\n",
        "        )\n",
        "\n",
        "        tokenized_output = tokenizer(\n",
        "            output_text,\n",
        "            padding='max_length',\n",
        "            truncation=True,\n",
        "            max_length=max_length,\n",
        "            return_tensors=\"pt\"\n",
        "        )\n",
        "\n",
        "        inputs.append(tokenized_input['input_ids'])\n",
        "        outputs.append(tokenized_output['input_ids'])\n",
        "\n",
        "    # Convert lists to tensors for input_ids and labels\n",
        "    input_ids = torch.cat(inputs, dim=0)\n",
        "    labels = torch.cat(outputs, dim=0)\n",
        "\n",
        "    return input_ids, labels\n"
      ]
    },
    {
      "cell_type": "code",
      "execution_count": null,
      "metadata": {
        "id": "X9KI_-s5R5oA"
      },
      "outputs": [],
      "source": [
        "# โทเคไนซ์ข้อมูลเทรน\n",
        "train_inputs, train_labels = tokenize_data_multi_task(D1, tokenizer)"
      ]
    },
    {
      "cell_type": "code",
      "source": [
        "from torch.utils.data import Dataset, DataLoader\n",
        "from transformers import Adafactor, AdamW, get_linear_schedule_with_warmup"
      ],
      "metadata": {
        "id": "Ev0IhoEGSFPB"
      },
      "execution_count": null,
      "outputs": []
    },
    {
      "cell_type": "code",
      "source": [
        "# สร้าง Custom Dataset และแปลงข้อมูลให้เป็น Tensor\n",
        "class CustomDataset(Dataset):\n",
        "    def __init__(self, inputs, labels):\n",
        "        self.inputs = inputs\n",
        "        self.labels = labels\n",
        "\n",
        "    def __len__(self):\n",
        "        return len(self.inputs)\n",
        "\n",
        "    def __getitem__(self, idx):\n",
        "        input_ids = torch.tensor(self.inputs[idx], dtype=torch.long)  # แปลงเป็น Tensor\n",
        "        labels = torch.tensor(self.labels[idx], dtype=torch.long)      # แปลงเป็น Tensor\n",
        "        return input_ids, labels"
      ],
      "metadata": {
        "id": "5fTeeARzRqjv"
      },
      "execution_count": null,
      "outputs": []
    },
    {
      "cell_type": "code",
      "source": [
        "# สร้าง dataset และ DataLoader\n",
        "train_dataset = CustomDataset(train_inputs, train_labels)\n",
        "train_loader = DataLoader(train_dataset, batch_size=4, shuffle=True)"
      ],
      "metadata": {
        "id": "xogo86pvRuPM"
      },
      "execution_count": null,
      "outputs": []
    },
    {
      "cell_type": "code",
      "source": [
        "# ตั้งค่า optimizer เป็น Adafactor ตามเอกสาร\n",
        "optimizer = Adafactor(\n",
        "    model.parameters(),\n",
        "    lr=1e-4,\n",
        "    scale_parameter=True,\n",
        "    relative_step=False\n",
        ")"
      ],
      "metadata": {
        "id": "PEZcaBdGWNtu"
      },
      "execution_count": null,
      "outputs": []
    },
    {
      "cell_type": "code",
      "source": [
        "# ตั้งค่าการเทรน\n",
        "device = torch.device(\"cuda\" if torch.cuda.is_available() else \"cpu\")\n",
        "model.to(device)"
      ],
      "metadata": {
        "colab": {
          "base_uri": "https://localhost:8080/"
        },
        "id": "VQXxGPppWOOL",
        "outputId": "35a441a7-41b8-4327-faae-6583f11a7042"
      },
      "execution_count": null,
      "outputs": [
        {
          "output_type": "execute_result",
          "data": {
            "text/plain": [
              "T5ForConditionalGeneration(\n",
              "  (shared): Embedding(32128, 768)\n",
              "  (encoder): T5Stack(\n",
              "    (embed_tokens): Embedding(32128, 768)\n",
              "    (block): ModuleList(\n",
              "      (0): T5Block(\n",
              "        (layer): ModuleList(\n",
              "          (0): T5LayerSelfAttention(\n",
              "            (SelfAttention): T5Attention(\n",
              "              (q): Linear(in_features=768, out_features=768, bias=False)\n",
              "              (k): Linear(in_features=768, out_features=768, bias=False)\n",
              "              (v): Linear(in_features=768, out_features=768, bias=False)\n",
              "              (o): Linear(in_features=768, out_features=768, bias=False)\n",
              "              (relative_attention_bias): Embedding(32, 12)\n",
              "            )\n",
              "            (layer_norm): T5LayerNorm()\n",
              "            (dropout): Dropout(p=0.1, inplace=False)\n",
              "          )\n",
              "          (1): T5LayerFF(\n",
              "            (DenseReluDense): T5DenseActDense(\n",
              "              (wi): Linear(in_features=768, out_features=3072, bias=False)\n",
              "              (wo): Linear(in_features=3072, out_features=768, bias=False)\n",
              "              (dropout): Dropout(p=0.1, inplace=False)\n",
              "              (act): ReLU()\n",
              "            )\n",
              "            (layer_norm): T5LayerNorm()\n",
              "            (dropout): Dropout(p=0.1, inplace=False)\n",
              "          )\n",
              "        )\n",
              "      )\n",
              "      (1-11): 11 x T5Block(\n",
              "        (layer): ModuleList(\n",
              "          (0): T5LayerSelfAttention(\n",
              "            (SelfAttention): T5Attention(\n",
              "              (q): Linear(in_features=768, out_features=768, bias=False)\n",
              "              (k): Linear(in_features=768, out_features=768, bias=False)\n",
              "              (v): Linear(in_features=768, out_features=768, bias=False)\n",
              "              (o): Linear(in_features=768, out_features=768, bias=False)\n",
              "            )\n",
              "            (layer_norm): T5LayerNorm()\n",
              "            (dropout): Dropout(p=0.1, inplace=False)\n",
              "          )\n",
              "          (1): T5LayerFF(\n",
              "            (DenseReluDense): T5DenseActDense(\n",
              "              (wi): Linear(in_features=768, out_features=3072, bias=False)\n",
              "              (wo): Linear(in_features=3072, out_features=768, bias=False)\n",
              "              (dropout): Dropout(p=0.1, inplace=False)\n",
              "              (act): ReLU()\n",
              "            )\n",
              "            (layer_norm): T5LayerNorm()\n",
              "            (dropout): Dropout(p=0.1, inplace=False)\n",
              "          )\n",
              "        )\n",
              "      )\n",
              "    )\n",
              "    (final_layer_norm): T5LayerNorm()\n",
              "    (dropout): Dropout(p=0.1, inplace=False)\n",
              "  )\n",
              "  (decoder): T5Stack(\n",
              "    (embed_tokens): Embedding(32128, 768)\n",
              "    (block): ModuleList(\n",
              "      (0): T5Block(\n",
              "        (layer): ModuleList(\n",
              "          (0): T5LayerSelfAttention(\n",
              "            (SelfAttention): T5Attention(\n",
              "              (q): Linear(in_features=768, out_features=768, bias=False)\n",
              "              (k): Linear(in_features=768, out_features=768, bias=False)\n",
              "              (v): Linear(in_features=768, out_features=768, bias=False)\n",
              "              (o): Linear(in_features=768, out_features=768, bias=False)\n",
              "              (relative_attention_bias): Embedding(32, 12)\n",
              "            )\n",
              "            (layer_norm): T5LayerNorm()\n",
              "            (dropout): Dropout(p=0.1, inplace=False)\n",
              "          )\n",
              "          (1): T5LayerCrossAttention(\n",
              "            (EncDecAttention): T5Attention(\n",
              "              (q): Linear(in_features=768, out_features=768, bias=False)\n",
              "              (k): Linear(in_features=768, out_features=768, bias=False)\n",
              "              (v): Linear(in_features=768, out_features=768, bias=False)\n",
              "              (o): Linear(in_features=768, out_features=768, bias=False)\n",
              "            )\n",
              "            (layer_norm): T5LayerNorm()\n",
              "            (dropout): Dropout(p=0.1, inplace=False)\n",
              "          )\n",
              "          (2): T5LayerFF(\n",
              "            (DenseReluDense): T5DenseActDense(\n",
              "              (wi): Linear(in_features=768, out_features=3072, bias=False)\n",
              "              (wo): Linear(in_features=3072, out_features=768, bias=False)\n",
              "              (dropout): Dropout(p=0.1, inplace=False)\n",
              "              (act): ReLU()\n",
              "            )\n",
              "            (layer_norm): T5LayerNorm()\n",
              "            (dropout): Dropout(p=0.1, inplace=False)\n",
              "          )\n",
              "        )\n",
              "      )\n",
              "      (1-11): 11 x T5Block(\n",
              "        (layer): ModuleList(\n",
              "          (0): T5LayerSelfAttention(\n",
              "            (SelfAttention): T5Attention(\n",
              "              (q): Linear(in_features=768, out_features=768, bias=False)\n",
              "              (k): Linear(in_features=768, out_features=768, bias=False)\n",
              "              (v): Linear(in_features=768, out_features=768, bias=False)\n",
              "              (o): Linear(in_features=768, out_features=768, bias=False)\n",
              "            )\n",
              "            (layer_norm): T5LayerNorm()\n",
              "            (dropout): Dropout(p=0.1, inplace=False)\n",
              "          )\n",
              "          (1): T5LayerCrossAttention(\n",
              "            (EncDecAttention): T5Attention(\n",
              "              (q): Linear(in_features=768, out_features=768, bias=False)\n",
              "              (k): Linear(in_features=768, out_features=768, bias=False)\n",
              "              (v): Linear(in_features=768, out_features=768, bias=False)\n",
              "              (o): Linear(in_features=768, out_features=768, bias=False)\n",
              "            )\n",
              "            (layer_norm): T5LayerNorm()\n",
              "            (dropout): Dropout(p=0.1, inplace=False)\n",
              "          )\n",
              "          (2): T5LayerFF(\n",
              "            (DenseReluDense): T5DenseActDense(\n",
              "              (wi): Linear(in_features=768, out_features=3072, bias=False)\n",
              "              (wo): Linear(in_features=3072, out_features=768, bias=False)\n",
              "              (dropout): Dropout(p=0.1, inplace=False)\n",
              "              (act): ReLU()\n",
              "            )\n",
              "            (layer_norm): T5LayerNorm()\n",
              "            (dropout): Dropout(p=0.1, inplace=False)\n",
              "          )\n",
              "        )\n",
              "      )\n",
              "    )\n",
              "    (final_layer_norm): T5LayerNorm()\n",
              "    (dropout): Dropout(p=0.1, inplace=False)\n",
              "  )\n",
              "  (lm_head): Linear(in_features=768, out_features=32128, bias=False)\n",
              ")"
            ]
          },
          "metadata": {},
          "execution_count": 44
        }
      ]
    },
    {
      "cell_type": "code",
      "execution_count": null,
      "metadata": {
        "colab": {
          "base_uri": "https://localhost:8080/"
        },
        "id": "ZNyXEAh9Ggz0",
        "outputId": "890b8fe7-590f-4434-a2d0-be2a5fef2a6a"
      },
      "outputs": [
        {
          "output_type": "stream",
          "name": "stderr",
          "text": [
            "<ipython-input-41-d1c608669f1b>:11: UserWarning: To copy construct from a tensor, it is recommended to use sourceTensor.clone().detach() or sourceTensor.clone().detach().requires_grad_(True), rather than torch.tensor(sourceTensor).\n",
            "  input_ids = torch.tensor(self.inputs[idx], dtype=torch.long)  # แปลงเป็น Tensor\n",
            "<ipython-input-41-d1c608669f1b>:12: UserWarning: To copy construct from a tensor, it is recommended to use sourceTensor.clone().detach() or sourceTensor.clone().detach().requires_grad_(True), rather than torch.tensor(sourceTensor).\n",
            "  labels = torch.tensor(self.labels[idx], dtype=torch.long)      # แปลงเป็น Tensor\n"
          ]
        },
        {
          "output_type": "stream",
          "name": "stdout",
          "text": [
            "Epoch 1 completed with average loss: 0.3188078032771344\n"
          ]
        }
      ],
      "source": [
        "# เริ่มการเทรนแบบ Custom Loop\n",
        "num_epochs = 1  # จำนวน epoch ที่ต้องการ\n",
        "for epoch in range(num_epochs):\n",
        "    model.train()\n",
        "    total_loss = 0\n",
        "\n",
        "    for batch in train_loader:\n",
        "        # รับ input และ labels จาก DataLoader\n",
        "        input_ids, labels = batch\n",
        "\n",
        "        # ส่งข้อมูลไปยังอุปกรณ์ (GPU หรือ CPU)\n",
        "        input_ids = input_ids.to(device)\n",
        "        labels = labels.to(device)\n",
        "\n",
        "        # Forward pass คำนวณค่า loss อัตโนมัติ\n",
        "        outputs = model(input_ids=input_ids, labels=labels)\n",
        "        loss = outputs.loss\n",
        "        total_loss += loss.item()\n",
        "\n",
        "        # Backward pass และอัปเดตค่าในโมเดล\n",
        "        optimizer.zero_grad()\n",
        "        loss.backward()\n",
        "        optimizer.step()\n",
        "\n",
        "    # แสดงค่าเฉลี่ยของ loss หลังจากจบแต่ละ epoch\n",
        "    avg_loss = total_loss / len(train_loader)\n",
        "    print(f\"Epoch {epoch + 1} completed with average loss: {avg_loss}\")"
      ]
    },
    {
      "cell_type": "code",
      "source": [
        "# เซฟโมเดลไปยัง Google Drive\n",
        "model.save_pretrained('/content/drive/MyDrive/saved_model')\n",
        "tokenizer.save_pretrained('/content/drive/MyDrive/saved_model')\n"
      ],
      "metadata": {
        "colab": {
          "base_uri": "https://localhost:8080/"
        },
        "id": "feTZpCJ4yZtn",
        "outputId": "b862dc18-9cf6-423d-f14c-1e31b9568359"
      },
      "execution_count": null,
      "outputs": [
        {
          "output_type": "execute_result",
          "data": {
            "text/plain": [
              "('/content/drive/MyDrive/saved_model/tokenizer_config.json',\n",
              " '/content/drive/MyDrive/saved_model/special_tokens_map.json',\n",
              " '/content/drive/MyDrive/saved_model/spiece.model',\n",
              " '/content/drive/MyDrive/saved_model/added_tokens.json')"
            ]
          },
          "metadata": {},
          "execution_count": 46
        }
      ]
    },
    {
      "cell_type": "code",
      "source": [
        "# โหลดโมเดลและโทเคไนเซอร์ที่เซฟไว้\n",
        "from transformers import T5ForConditionalGeneration, T5Tokenizer\n",
        "\n",
        "# แก้ไข path ให้เป็น path ของ folder ที่บรรจุไฟล์ model.safetensors\n",
        "model = T5ForConditionalGeneration.from_pretrained('/content/drive/MyDrive/saved_model')\n",
        "tokenizer = T5Tokenizer.from_pretrained('/content/drive/MyDrive/saved_model')"
      ],
      "metadata": {
        "id": "cCglosKZyhZY"
      },
      "execution_count": null,
      "outputs": []
    },
    {
      "cell_type": "markdown",
      "source": [
        "# Database"
      ],
      "metadata": {
        "id": "MswLK1YtpeQ8"
      }
    },
    {
      "cell_type": "code",
      "source": [
        "import os\n",
        "import sqlite3\n",
        "\n",
        "def load_schemas_from_database_folder(folder_path):\n",
        "    databases = {}\n",
        "\n",
        "    for db_folder in os.listdir(folder_path):\n",
        "        db_path = os.path.join(folder_path, db_folder, f\"{db_folder}.sqlite\")  # ตรวจสอบว่ามีไฟล์ .sqlite อยู่ในแต่ละโฟลเดอร์\n",
        "        if os.path.isfile(db_path):\n",
        "            conn = sqlite3.connect(db_path)\n",
        "            cursor = conn.cursor()\n",
        "\n",
        "            # ดึงข้อมูลตารางในฐานข้อมูล\n",
        "            cursor.execute(\"SELECT name FROM sqlite_master WHERE type='table';\")\n",
        "            tables = cursor.fetchall()\n",
        "\n",
        "            # สร้าง schema สำหรับฐานข้อมูลนี้\n",
        "            schema = {}\n",
        "            for table_name in tables:\n",
        "                table_name = table_name[0]\n",
        "                cursor.execute(f\"PRAGMA table_info({table_name})\")\n",
        "                columns = cursor.fetchall()\n",
        "                schema[table_name] = [col[1] for col in columns]  # เก็บชื่อคอลัมน์ในแต่ละตาราง\n",
        "\n",
        "            databases[db_folder] = schema\n",
        "            conn.close()\n",
        "\n",
        "    return databases"
      ],
      "metadata": {
        "id": "DdrEyQHFnh-Y"
      },
      "execution_count": null,
      "outputs": []
    },
    {
      "cell_type": "code",
      "source": [
        "sparc_databases = load_schemas_from_database_folder(\"/content/drive/MyDrive/DPDM_PJ/SparC/database\")\n",
        "cosql_databases = load_schemas_from_database_folder(\"/content/drive/MyDrive/DPDM_PJ/CoSQL/database\")"
      ],
      "metadata": {
        "id": "-GNp5eUDpw-X"
      },
      "execution_count": null,
      "outputs": []
    },
    {
      "cell_type": "code",
      "source": [
        "print(sparc_databases)\n",
        "print(cosql_databases)"
      ],
      "metadata": {
        "colab": {
          "base_uri": "https://localhost:8080/"
        },
        "id": "Hwr1DB1HF2i0",
        "outputId": "0de5eeef-129a-4a98-d069-bb84e41e96ec"
      },
      "execution_count": null,
      "outputs": [
        {
          "output_type": "stream",
          "name": "stdout",
          "text": [
            "{'aircraft': {'pilot': ['Pilot_Id', 'Name', 'Age'], 'aircraft': ['Aircraft_ID', 'Aircraft', 'Description', 'Max_Gross_Weight', 'Total_disk_area', 'Max_disk_Loading'], 'match': ['Round', 'Location', 'Country', 'Date', 'Fastest_Qualifying', 'Winning_Pilot', 'Winning_Aircraft'], 'airport': ['Airport_ID', 'Airport_Name', 'Total_Passengers', '%_Change_2007', 'International_Passengers', 'Domestic_Passengers', 'Transit_Passengers', 'Aircraft_Movements', 'Freight_Metric_Tonnes'], 'airport_aircraft': ['ID', 'Airport_ID', 'Aircraft_ID']}, 'allergy_1': {'Allergy_Type': ['Allergy', 'AllergyType'], 'Has_Allergy': ['StuID', 'Allergy'], 'Student': ['StuID', 'LName', 'Fname', 'Age', 'Sex', 'Major', 'Advisor', 'city_code']}, 'academic': {'author': ['aid', 'homepage', 'name', 'oid'], 'conference': ['cid', 'homepage', 'name'], 'domain': ['did', 'name'], 'domain_author': ['aid', 'did'], 'domain_conference': ['cid', 'did'], 'journal': ['homepage', 'jid', 'name'], 'domain_journal': ['did', 'jid'], 'keyword': ['keyword', 'kid'], 'domain_keyword': ['did', 'kid'], 'publication': ['abstract', 'cid', 'citation_num', 'jid', 'pid', 'reference_num', 'title', 'year'], 'domain_publication': ['did', 'pid'], 'organization': ['continent', 'homepage', 'name', 'oid'], 'publication_keyword': ['pid', 'kid'], 'writes': ['aid', 'pid'], 'cite': ['cited', 'citing']}, 'activity_1': {'Activity': ['actid', 'activity_name'], 'Participates_in': ['stuid', 'actid'], 'Faculty_Participates_in': ['FacID', 'actid'], 'Student': ['StuID', 'LName', 'Fname', 'Age', 'Sex', 'Major', 'Advisor', 'city_code'], 'Faculty': ['FacID', 'Lname', 'Fname', 'Rank', 'Sex', 'Phone', 'Room', 'Building']}, 'browser_web': {'Web_client_accelerator': ['id', 'name', 'Operating_system', 'Client', 'Connection'], 'browser': ['id', 'name', 'market_share'], 'accelerator_compatible_browser': ['accelerator_id', 'browser_id', 'compatible_since_year']}, 'body_builder': {'body_builder': ['Body_Builder_ID', 'People_ID', 'Snatch', 'Clean_Jerk', 'Total'], 'people': ['People_ID', 'Name', 'Height', 'Weight', 'Birth_Date', 'Birth_Place']}, 'assets_maintenance': {'Third_Party_Companies': ['company_id', 'company_type', 'company_name', 'company_address', 'other_company_details'], 'Maintenance_Contracts': ['maintenance_contract_id', 'maintenance_contract_company_id', 'contract_start_date', 'contract_end_date', 'other_contract_details'], 'Parts': ['part_id', 'part_name', 'chargeable_yn', 'chargeable_amount', 'other_part_details'], 'Skills': ['skill_id', 'skill_code', 'skill_description'], 'Staff': ['staff_id', 'staff_name', 'gender', 'other_staff_details'], 'Assets': ['asset_id', 'maintenance_contract_id', 'supplier_company_id', 'asset_details', 'asset_make', 'asset_model', 'asset_acquired_date', 'asset_disposed_date', 'other_asset_details'], 'Asset_Parts': ['asset_id', 'part_id'], 'Maintenance_Engineers': ['engineer_id', 'company_id', 'first_name', 'last_name', 'other_details'], 'Engineer_Skills': ['engineer_id', 'skill_id'], 'Fault_Log': ['fault_log_entry_id', 'asset_id', 'recorded_by_staff_id', 'fault_log_entry_datetime', 'fault_description', 'other_fault_details'], 'Engineer_Visits': ['engineer_visit_id', 'contact_staff_id', 'engineer_id', 'fault_log_entry_id', 'fault_status', 'visit_start_datetime', 'visit_end_datetime', 'other_visit_details'], 'Part_Faults': ['part_fault_id', 'part_id', 'fault_short_name', 'fault_description', 'other_fault_details'], 'Fault_Log_Parts': ['fault_log_entry_id', 'part_fault_id', 'fault_status'], 'Skills_Required_To_Fix': ['part_fault_id', 'skill_id']}, 'architecture': {'architect': ['id', 'name', 'nationality', 'gender'], 'bridge': ['architect_id', 'id', 'name', 'location', 'length_meters', 'length_feet'], 'mill': ['architect_id', 'id', 'location', 'name', 'type', 'built_year', 'notes']}, 'behavior_monitoring': {'Ref_Address_Types': ['address_type_code', 'address_type_description'], 'Ref_Detention_Type': ['detention_type_code', 'detention_type_description'], 'Ref_Incident_Type': ['incident_type_code', 'incident_type_description'], 'Addresses': ['address_id', 'line_1', 'line_2', 'line_3', 'city', 'zip_postcode', 'state_province_county', 'country', 'other_address_details'], 'Students': ['student_id', 'address_id', 'first_name', 'middle_name', 'last_name', 'cell_mobile_number', 'email_address', 'date_first_rental', 'date_left_university', 'other_student_details'], 'Teachers': ['teacher_id', 'address_id', 'first_name', 'middle_name', 'last_name', 'gender', 'cell_mobile_number', 'email_address', 'other_details'], 'Assessment_Notes': ['notes_id', 'student_id', 'teacher_id', 'date_of_notes', 'text_of_notes', 'other_details'], 'Behavior_Incident': ['incident_id', 'incident_type_code', 'student_id', 'date_incident_start', 'date_incident_end', 'incident_summary', 'recommendations', 'other_details'], 'Detention': ['detention_id', 'detention_type_code', 'teacher_id', 'datetime_detention_start', 'datetime_detention_end', 'detention_summary', 'other_details'], 'Student_Addresses': ['student_id', 'address_id', 'date_address_from', 'date_address_to', 'monthly_rental', 'other_details'], 'Students_in_Detention': ['student_id', 'detention_id', 'incident_id']}, 'bike_1': {'station': ['id', 'name', 'lat', 'long', 'dock_count', 'city', 'installation_date'], 'status': ['station_id', 'bikes_available', 'docks_available', 'time'], 'trip': ['id', 'duration', 'start_date', 'start_station_name', 'start_station_id', 'end_date', 'end_station_name', 'end_station_id', 'bike_id', 'subscription_type', 'zip_code'], 'weather': ['date', 'max_temperature_f', 'mean_temperature_f', 'min_temperature_f', 'max_dew_point_f', 'mean_dew_point_f', 'min_dew_point_f', 'max_humidity', 'mean_humidity', 'min_humidity', 'max_sea_level_pressure_inches', 'mean_sea_level_pressure_inches', 'min_sea_level_pressure_inches', 'max_visibility_miles', 'mean_visibility_miles', 'min_visibility_miles', 'max_wind_Speed_mph', 'mean_wind_speed_mph', 'max_gust_speed_mph', 'precipitation_inches', 'cloud_cover', 'events', 'wind_dir_degrees', 'zip_code']}, 'baseball_1': {'all_star': ['player_id', 'year', 'game_num', 'game_id', 'team_id', 'league_id', 'gp', 'starting_pos'], 'appearances': ['year', 'team_id', 'league_id', 'player_id', 'g_all', 'gs', 'g_batting', 'g_defense', 'g_p', 'g_c', 'g_1b', 'g_2b', 'g_3b', 'g_ss', 'g_lf', 'g_cf', 'g_rf', 'g_of', 'g_dh', 'g_ph', 'g_pr'], 'manager_award': ['player_id', 'award_id', 'year', 'league_id', 'tie', 'notes'], 'player_award': ['player_id', 'award_id', 'year', 'league_id', 'tie', 'notes'], 'manager_award_vote': ['award_id', 'year', 'league_id', 'player_id', 'points_won', 'points_max', 'votes_first'], 'player_award_vote': ['award_id', 'year', 'league_id', 'player_id', 'points_won', 'points_max', 'votes_first'], 'batting': ['player_id', 'year', 'stint', 'team_id', 'league_id', 'g', 'ab', 'r', 'h', 'double', 'triple', 'hr', 'rbi', 'sb', 'cs', 'bb', 'so', 'ibb', 'hbp', 'sh', 'sf', 'g_idp'], 'batting_postseason': ['year', 'round', 'player_id', 'team_id', 'league_id', 'g', 'ab', 'r', 'h', 'double', 'triple', 'hr', 'rbi', 'sb', 'cs', 'bb', 'so', 'ibb', 'hbp', 'sh', 'sf', 'g_idp'], 'player_college': ['player_id', 'college_id', 'year'], 'fielding': ['player_id', 'year', 'stint', 'team_id', 'league_id', 'pos', 'g', 'gs', 'inn_outs', 'po', 'a', 'e', 'dp', 'pb', 'wp', 'sb', 'cs', 'zr'], 'fielding_outfield': ['player_id', 'year', 'stint', 'glf', 'gcf', 'grf'], 'fielding_postseason': ['player_id', 'year', 'team_id', 'league_id', 'round', 'pos', 'g', 'gs', 'inn_outs', 'po', 'a', 'e', 'dp', 'tp', 'pb', 'sb', 'cs'], 'hall_of_fame': ['player_id', 'yearid', 'votedby', 'ballots', 'needed', 'votes', 'inducted', 'category', 'needed_note'], 'home_game': ['year', 'league_id', 'team_id', 'park_id', 'span_first', 'span_last', 'games', 'openings', 'attendance'], 'manager': ['player_id', 'year', 'team_id', 'league_id', 'inseason', 'g', 'w', 'l', 'rank', 'plyr_mgr'], 'manager_half': ['player_id', 'year', 'team_id', 'league_id', 'inseason', 'half', 'g', 'w', 'l', 'rank'], 'player': ['player_id', 'birth_year', 'birth_month', 'birth_day', 'birth_country', 'birth_state', 'birth_city', 'death_year', 'death_month', 'death_day', 'death_country', 'death_state', 'death_city', 'name_first', 'name_last', 'name_given', 'weight', 'height', 'bats', 'throws', 'debut', 'final_game', 'retro_id', 'bbref_id'], 'park': ['park_id', 'park_name', 'park_alias', 'city', 'state', 'country'], 'pitching': ['player_id', 'year', 'stint', 'team_id', 'league_id', 'w', 'l', 'g', 'gs', 'cg', 'sho', 'sv', 'ipouts', 'h', 'er', 'hr', 'bb', 'so', 'baopp', 'era', 'ibb', 'wp', 'hbp', 'bk', 'bfp', 'gf', 'r', 'sh', 'sf', 'g_idp'], 'pitching_postseason': ['player_id', 'year', 'round', 'team_id', 'league_id', 'w', 'l', 'g', 'gs', 'cg', 'sho', 'sv', 'ipouts', 'h', 'er', 'hr', 'bb', 'so', 'baopp', 'era', 'ibb', 'wp', 'hbp', 'bk', 'bfp', 'gf', 'r', 'sh', 'sf', 'g_idp'], 'salary': ['year', 'team_id', 'league_id', 'player_id', 'salary'], 'college': ['college_id', 'name_full', 'city', 'state', 'country'], 'postseason': ['year', 'round', 'team_id_winner', 'league_id_winner', 'team_id_loser', 'league_id_loser', 'wins', 'losses', 'ties'], 'team': ['year', 'league_id', 'team_id', 'franchise_id', 'div_id', 'rank', 'g', 'ghome', 'w', 'l', 'div_win', 'wc_win', 'lg_win', 'ws_win', 'r', 'ab', 'h', 'double', 'triple', 'hr', 'bb', 'so', 'sb', 'cs', 'hbp', 'sf', 'ra', 'er', 'era', 'cg', 'sho', 'sv', 'ipouts', 'ha', 'hra', 'bba', 'soa', 'e', 'dp', 'fp', 'name', 'park', 'attendance', 'bpf', 'ppf', 'team_id_br', 'team_id_lahman45', 'team_id_retro'], 'team_franchise': ['franchise_id', 'franchise_name', 'active', 'na_assoc'], 'team_half': ['year', 'league_id', 'team_id', 'half', 'div_id', 'div_win', 'rank', 'g', 'w', 'l']}, 'book_2': {'publication': ['Publication_ID', 'Book_ID', 'Publisher', 'Publication_Date', 'Price'], 'book': ['Book_ID', 'Title', 'Issues', 'Writer']}, 'battle_death': {'battle': ['id', 'name', 'date', 'bulgarian_commander', 'latin_commander', 'result'], 'ship': ['lost_in_battle', 'id', 'name', 'tonnage', 'ship_type', 'location', 'disposition_of_ship'], 'death': ['caused_by_ship_id', 'id', 'note', 'killed', 'injured']}, 'apartment_rentals': {'Apartment_Buildings': ['building_id', 'building_short_name', 'building_full_name', 'building_description', 'building_address', 'building_manager', 'building_phone'], 'Apartments': ['apt_id', 'building_id', 'apt_type_code', 'apt_number', 'bathroom_count', 'bedroom_count', 'room_count'], 'Apartment_Facilities': ['apt_id', 'facility_code'], 'Guests': ['guest_id', 'gender_code', 'guest_first_name', 'guest_last_name', 'date_of_birth'], 'Apartment_Bookings': ['apt_booking_id', 'apt_id', 'guest_id', 'booking_status_code', 'booking_start_date', 'booking_end_date'], 'View_Unit_Status': ['apt_id', 'apt_booking_id', 'status_date', 'available_yn']}, 'cinema': {'film': ['Film_ID', 'Rank_in_series', 'Number_in_season', 'Title', 'Directed_by', 'Original_air_date', 'Production_code'], 'cinema': ['Cinema_ID', 'Name', 'Openning_year', 'Capacity', 'Location'], 'schedule': ['Cinema_ID', 'Film_ID', 'Date', 'Show_times_per_day', 'Price']}, 'club_1': {'Student': ['StuID', 'LName', 'Fname', 'Age', 'Sex', 'Major', 'Advisor', 'city_code'], 'Club': ['ClubID', 'ClubName', 'ClubDesc', 'ClubLocation'], 'Member_of_club': ['StuID', 'ClubID', 'Position']}, 'college_2': {'classroom': ['building', 'room_number', 'capacity'], 'department': ['dept_name', 'building', 'budget'], 'course': ['course_id', 'title', 'dept_name', 'credits'], 'instructor': ['ID', 'name', 'dept_name', 'salary'], 'section': ['course_id', 'sec_id', 'semester', 'year', 'building', 'room_number', 'time_slot_id'], 'teaches': ['ID', 'course_id', 'sec_id', 'semester', 'year'], 'student': ['ID', 'name', 'dept_name', 'tot_cred'], 'takes': ['ID', 'course_id', 'sec_id', 'semester', 'year', 'grade'], 'advisor': ['s_ID', 'i_ID'], 'time_slot': ['time_slot_id', 'day', 'start_hr', 'start_min', 'end_hr', 'end_min'], 'prereq': ['course_id', 'prereq_id']}, 'chinook_1': {'Album': ['AlbumId', 'Title', 'ArtistId'], 'Artist': ['ArtistId', 'Name'], 'Customer': ['CustomerId', 'FirstName', 'LastName', 'Company', 'Address', 'City', 'State', 'Country', 'PostalCode', 'Phone', 'Fax', 'Email', 'SupportRepId'], 'Employee': ['EmployeeId', 'LastName', 'FirstName', 'Title', 'ReportsTo', 'BirthDate', 'HireDate', 'Address', 'City', 'State', 'Country', 'PostalCode', 'Phone', 'Fax', 'Email'], 'Genre': ['GenreId', 'Name'], 'Invoice': ['InvoiceId', 'CustomerId', 'InvoiceDate', 'BillingAddress', 'BillingCity', 'BillingState', 'BillingCountry', 'BillingPostalCode', 'Total'], 'InvoiceLine': ['InvoiceLineId', 'InvoiceId', 'TrackId', 'UnitPrice', 'Quantity'], 'MediaType': ['MediaTypeId', 'Name'], 'Playlist': ['PlaylistId', 'Name'], 'PlaylistTrack': ['PlaylistId', 'TrackId'], 'Track': ['TrackId', 'Name', 'AlbumId', 'MediaTypeId', 'GenreId', 'Composer', 'Milliseconds', 'Bytes', 'UnitPrice']}, 'candidate_poll': {'candidate': ['Candidate_ID', 'People_ID', 'Poll_Source', 'Date', 'Support_rate', 'Consider_rate', 'Oppose_rate', 'Unsure_rate'], 'people': ['People_ID', 'Sex', 'Name', 'Date_of_Birth', 'Height', 'Weight']}, 'car_1': {'continents': ['ContId', 'Continent'], 'countries': ['CountryId', 'CountryName', 'Continent'], 'car_makers': ['Id', 'Maker', 'FullName', 'Country'], 'model_list': ['ModelId', 'Maker', 'Model'], 'car_names': ['MakeId', 'Model', 'Make'], 'cars_data': ['Id', 'MPG', 'Cylinders', 'Edispl', 'Horsepower', 'Weight', 'Accelerate', 'Year']}, 'city_record': {'city': ['City_ID', 'City', 'Hanzi', 'Hanyu_Pinyin', 'Regional_Population', 'GDP'], 'match': ['Match_ID', 'Date', 'Venue', 'Score', 'Result', 'Competition'], 'temperature': ['City_ID', 'Jan', 'Feb', 'Mar', 'Apr', 'Jun', 'Jul', 'Aug', 'Sep', 'Oct', 'Nov', 'Dec'], 'hosting_city': ['Year', 'Match_ID', 'Host_City']}, 'college_1': {'CLASS': ['CLASS_CODE', 'CRS_CODE', 'CLASS_SECTION', 'CLASS_TIME', 'CLASS_ROOM', 'PROF_NUM'], 'COURSE': ['CRS_CODE', 'DEPT_CODE', 'CRS_DESCRIPTION', 'CRS_CREDIT'], 'DEPARTMENT': ['DEPT_CODE', 'DEPT_NAME', 'SCHOOL_CODE', 'EMP_NUM', 'DEPT_ADDRESS', 'DEPT_EXTENSION'], 'EMPLOYEE': ['EMP_NUM', 'EMP_LNAME', 'EMP_FNAME', 'EMP_INITIAL', 'EMP_JOBCODE', 'EMP_HIREDATE', 'EMP_DOB'], 'ENROLL': ['CLASS_CODE', 'STU_NUM', 'ENROLL_GRADE'], 'PROFESSOR': ['EMP_NUM', 'DEPT_CODE', 'PROF_OFFICE', 'PROF_EXTENSION', 'PROF_HIGH_DEGREE'], 'STUDENT': ['STU_NUM', 'STU_LNAME', 'STU_FNAME', 'STU_INIT', 'STU_DOB', 'STU_HRS', 'STU_CLASS', 'STU_GPA', 'STU_TRANSFER', 'DEPT_CODE', 'STU_PHONE', 'PROF_NUM']}, 'climbing': {'mountain': ['Mountain_ID', 'Name', 'Height', 'Prominence', 'Range', 'Country'], 'climber': ['Climber_ID', 'Name', 'Country', 'Time', 'Points', 'Mountain_ID']}, 'coffee_shop': {'shop': ['Shop_ID', 'Address', 'Num_of_staff', 'Score', 'Open_Year'], 'member': ['Member_ID', 'Name', 'Membership_card', 'Age', 'Time_of_purchase', 'Level_of_membership', 'Address'], 'happy_hour': ['HH_ID', 'Shop_ID', 'Month', 'Num_of_shaff_in_charge'], 'happy_hour_member': ['HH_ID', 'Member_ID', 'Total_amount']}, 'county_public_safety': {'county_public_safety': ['County_ID', 'Name', 'Population', 'Police_officers', 'Residents_per_officer', 'Case_burden', 'Crime_rate', 'Police_force', 'Location'], 'city': ['City_ID', 'County_ID', 'Name', 'White', 'Black', 'Amerindian', 'Asian', 'Multiracial', 'Hispanic']}, 'cre_Doc_Template_Mgt': {'Ref_Template_Types': ['Template_Type_Code', 'Template_Type_Description'], 'Templates': ['Template_ID', 'Version_Number', 'Template_Type_Code', 'Date_Effective_From', 'Date_Effective_To', 'Template_Details'], 'Documents': ['Document_ID', 'Template_ID', 'Document_Name', 'Document_Description', 'Other_Details'], 'Paragraphs': ['Paragraph_ID', 'Document_ID', 'Paragraph_Text', 'Other_Details']}, 'company_employee': {'people': ['People_ID', 'Age', 'Name', 'Nationality', 'Graduation_College'], 'company': ['Company_ID', 'Name', 'Headquarters', 'Industry', 'Sales_in_Billion', 'Profits_in_Billion', 'Assets_in_Billion', 'Market_Value_in_Billion'], 'employment': ['Company_ID', 'People_ID', 'Year_working']}, 'cre_Docs_and_Epenses': {'Ref_Document_Types': ['Document_Type_Code', 'Document_Type_Name', 'Document_Type_Description'], 'Ref_Budget_Codes': ['Budget_Type_Code', 'Budget_Type_Description'], 'Projects': ['Project_ID', 'Project_Details'], 'Documents': ['Document_ID', 'Document_Type_Code', 'Project_ID', 'Document_Date', 'Document_Name', 'Document_Description', 'Other_Details'], 'Statements': ['Statement_ID', 'Statement_Details'], 'Documents_with_Expenses': ['Document_ID', 'Budget_Type_Code', 'Document_Details'], 'Accounts': ['Account_ID', 'Statement_ID', 'Account_Details']}, 'cre_Doc_Control_Systems': {'Ref_Document_Types': ['document_type_code', 'document_type_description'], 'Roles': ['role_code', 'role_description'], 'Addresses': ['address_id', 'address_details'], 'Ref_Document_Status': ['document_status_code', 'document_status_description'], 'Ref_Shipping_Agents': ['shipping_agent_code', 'shipping_agent_name', 'shipping_agent_description'], 'Documents': ['document_id', 'document_status_code', 'document_type_code', 'shipping_agent_code', 'receipt_date', 'receipt_number', 'other_details'], 'Employees': ['employee_id', 'role_code', 'employee_name', 'other_details'], 'Document_Drafts': ['document_id', 'draft_number', 'draft_details'], 'Draft_Copies': ['document_id', 'draft_number', 'copy_number'], 'Circulation_History': ['document_id', 'draft_number', 'copy_number', 'employee_id'], 'Documents_Mailed': ['document_id', 'mailed_to_address_id', 'mailing_date']}, 'company_office': {'buildings': ['id', 'name', 'City', 'Height', 'Stories', 'Status'], 'Companies': ['id', 'name', 'Headquarters', 'Industry', 'Sales_billion', 'Profits_billion', 'Assets_billion', 'Market_Value_billion'], 'Office_locations': ['building_id', 'company_id', 'move_in_year']}, 'course_teach': {'course': ['Course_ID', 'Staring_Date', 'Course'], 'teacher': ['Teacher_ID', 'Name', 'Age', 'Hometown'], 'course_arrange': ['Course_ID', 'Teacher_ID', 'Grade']}, 'concert_singer': {'stadium': ['Stadium_ID', 'Location', 'Name', 'Capacity', 'Highest', 'Lowest', 'Average'], 'singer': ['Singer_ID', 'Name', 'Country', 'Song_Name', 'Song_release_year', 'Age', 'Is_male'], 'concert': ['concert_ID', 'concert_Name', 'Theme', 'Stadium_ID', 'Year'], 'singer_in_concert': ['concert_ID', 'Singer_ID']}, 'college_3': {'Student': ['StuID', 'LName', 'Fname', 'Age', 'Sex', 'Major', 'Advisor', 'city_code'], 'Faculty': ['FacID', 'Lname', 'Fname', 'Rank', 'Sex', 'Phone', 'Room', 'Building'], 'Department': ['DNO', 'Division', 'DName', 'Room', 'Building', 'DPhone'], 'Member_of': ['FacID', 'DNO', 'Appt_Type'], 'Course': ['CID', 'CName', 'Credits', 'Instructor', 'Days', 'Hours', 'DNO'], 'Minor_in': ['StuID', 'DNO'], 'Enrolled_in': ['StuID', 'CID', 'Grade'], 'Gradeconversion': ['lettergrade', 'gradepoint']}, 'company_1': {'works_on': ['Essn', 'Pno', 'Hours'], 'employee': ['Fname', 'Minit', 'Lname', 'Ssn', 'Bdate', 'Address', 'Sex', 'Salary', 'Super_ssn', 'Dno'], 'department': ['Dname', 'Dnumber', 'Mgr_ssn', 'Mgr_start_date'], 'project': ['Pname', 'Pnumber', 'Plocation', 'Dnum'], 'dependent': ['Essn', 'Dependent_name', 'Sex', 'Bdate', 'Relationship'], 'dept_locations': ['Dnumber', 'Dlocation']}, 'cre_Drama_Workshop_Groups': {'Ref_Payment_Methods': ['payment_method_code', 'payment_method_description'], 'Ref_Service_Types': ['Service_Type_Code', 'Parent_Service_Type_Code', 'Service_Type_Description'], 'Addresses': ['Address_ID', 'Line_1', 'Line_2', 'City_Town', 'State_County', 'Other_Details'], 'Products': ['Product_ID', 'Product_Name', 'Product_Price', 'Product_Description', 'Other_Product_Service_Details'], 'Marketing_Regions': ['Marketing_Region_Code', 'Marketing_Region_Name', 'Marketing_Region_Descriptrion', 'Other_Details'], 'Clients': ['Client_ID', 'Address_ID', 'Customer_Email_Address', 'Customer_Name', 'Customer_Phone', 'Other_Details'], 'Drama_Workshop_Groups': ['Workshop_Group_ID', 'Address_ID', 'Currency_Code', 'Marketing_Region_Code', 'Store_Name', 'Store_Phone', 'Store_Email_Address', 'Other_Details'], 'Performers': ['Performer_ID', 'Address_ID', 'Customer_Name', 'Customer_Phone', 'Customer_Email_Address', 'Other_Details'], 'Customers': ['Customer_ID', 'Address_ID', 'Customer_Name', 'Customer_Phone', 'Customer_Email_Address', 'Other_Details'], 'Stores': ['Store_ID', 'Address_ID', 'Marketing_Region_Code', 'Store_Name', 'Store_Phone', 'Store_Email_Address', 'Other_Details'], 'Bookings': ['Booking_ID', 'Customer_ID', 'Workshop_Group_ID', 'Status_Code', 'Store_ID', 'Order_Date', 'Planned_Delivery_Date', 'Actual_Delivery_Date', 'Other_Order_Details'], 'Performers_in_Bookings': ['Order_ID', 'Performer_ID'], 'Customer_Orders': ['Order_ID', 'Customer_ID', 'Store_ID', 'Order_Date', 'Planned_Delivery_Date', 'Actual_Delivery_Date', 'Other_Order_Details'], 'Order_Items': ['Order_Item_ID', 'Order_ID', 'Product_ID', 'Order_Quantity', 'Other_Item_Details'], 'Invoices': ['Invoice_ID', 'Order_ID', 'payment_method_code', 'Product_ID', 'Order_Quantity', 'Other_Item_Details', 'Order_Item_ID'], 'Services': ['Service_ID', 'Service_Type_Code', 'Workshop_Group_ID', 'Product_Description', 'Product_Name', 'Product_Price', 'Other_Product_Service_Details'], 'Bookings_Services': ['Order_ID', 'Product_ID'], 'Invoice_Items': ['Invoice_Item_ID', 'Invoice_ID', 'Order_ID', 'Order_Item_ID', 'Product_ID', 'Order_Quantity', 'Other_Item_Details']}, 'csu_1': {'Campuses': ['Id', 'Campus', 'Location', 'County', 'Year'], 'csu_fees': ['Campus', 'Year', 'CampusFee'], 'degrees': ['Year', 'Campus', 'Degrees'], 'discipline_enrollments': ['Campus', 'Discipline', 'Year', 'Undergraduate', 'Graduate'], 'enrollments': ['Campus', 'Year', 'TotalEnrollment_AY', 'FTE_AY'], 'faculty': ['Campus', 'Year', 'Faculty']}, 'customers_campaigns_ecommerce': {'Premises': ['premise_id', 'premises_type', 'premise_details'], 'Products': ['product_id', 'product_category', 'product_name'], 'Customers': ['customer_id', 'payment_method', 'customer_name', 'customer_phone', 'customer_email', 'customer_address', 'customer_login', 'customer_password'], 'Mailshot_Campaigns': ['mailshot_id', 'product_category', 'mailshot_name', 'mailshot_start_date', 'mailshot_end_date'], 'Customer_Addresses': ['customer_id', 'premise_id', 'date_address_from', 'address_type_code', 'date_address_to'], 'Customer_Orders': ['order_id', 'customer_id', 'order_status_code', 'shipping_method_code', 'order_placed_datetime', 'order_delivered_datetime', 'order_shipping_charges'], 'Mailshot_Customers': ['mailshot_id', 'customer_id', 'outcome_code', 'mailshot_customer_date'], 'Order_Items': ['item_id', 'order_item_status_code', 'order_id', 'product_id', 'item_status_code', 'item_delivered_datetime', 'item_order_quantity']}, 'customers_and_invoices': {'Customers': ['customer_id', 'customer_first_name', 'customer_middle_initial', 'customer_last_name', 'gender', 'email_address', 'login_name', 'login_password', 'phone_number', 'town_city', 'state_county_province', 'country'], 'Orders': ['order_id', 'customer_id', 'date_order_placed', 'order_details'], 'Invoices': ['invoice_number', 'order_id', 'invoice_date'], 'Accounts': ['account_id', 'customer_id', 'date_account_opened', 'account_name', 'other_account_details'], 'Product_Categories': ['production_type_code', 'product_type_description', 'vat_rating'], 'Products': ['product_id', 'parent_product_id', 'production_type_code', 'unit_price', 'product_name', 'product_color', 'product_size'], 'Financial_Transactions': ['transaction_id', 'account_id', 'invoice_number', 'transaction_type', 'transaction_date', 'transaction_amount', 'transaction_comment', 'other_transaction_details'], 'Order_Items': ['order_item_id', 'order_id', 'product_id', 'product_quantity', 'other_order_item_details'], 'Invoice_Line_Items': ['order_item_id', 'invoice_number', 'product_id', 'product_title', 'product_quantity', 'product_price', 'derived_product_cost', 'derived_vat_payable', 'derived_total_cost']}, 'cre_Theme_park': {'Ref_Hotel_Star_Ratings': ['star_rating_code', 'star_rating_description'], 'Locations': ['Location_ID', 'Location_Name', 'Address', 'Other_Details'], 'Ref_Attraction_Types': ['Attraction_Type_Code', 'Attraction_Type_Description'], 'Visitors': ['Tourist_ID', 'Tourist_Details'], 'Features': ['Feature_ID', 'Feature_Details'], 'Hotels': ['hotel_id', 'star_rating_code', 'pets_allowed_yn', 'price_range', 'other_hotel_details'], 'Tourist_Attractions': ['Tourist_Attraction_ID', 'Attraction_Type_Code', 'Location_ID', 'How_to_Get_There', 'Name', 'Description', 'Opening_Hours', 'Other_Details'], 'Street_Markets': ['Market_ID', 'Market_Details'], 'Shops': ['Shop_ID', 'Shop_Details'], 'Museums': ['Museum_ID', 'Museum_Details'], 'Royal_Family': ['Royal_Family_ID', 'Royal_Family_Details'], 'Theme_Parks': ['Theme_Park_ID', 'Theme_Park_Details'], 'Visits': ['Visit_ID', 'Tourist_Attraction_ID', 'Tourist_ID', 'Visit_Date', 'Visit_Details'], 'Photos': ['Photo_ID', 'Tourist_Attraction_ID', 'Name', 'Description', 'Filename', 'Other_Details'], 'Staff': ['Staff_ID', 'Tourist_Attraction_ID', 'Name', 'Other_Details'], 'Tourist_Attraction_Features': ['Tourist_Attraction_ID', 'Feature_ID']}, 'customers_and_products_contacts': {'Addresses': ['address_id', 'line_1_number_building', 'city', 'zip_postcode', 'state_province_county', 'country'], 'Products': ['product_id', 'product_type_code', 'product_name', 'product_price'], 'Customers': ['customer_id', 'payment_method_code', 'customer_number', 'customer_name', 'customer_address', 'customer_phone', 'customer_email'], 'Contacts': ['contact_id', 'customer_id', 'gender', 'first_name', 'last_name', 'contact_phone'], 'Customer_Address_History': ['customer_id', 'address_id', 'date_from', 'date_to'], 'Customer_Orders': ['order_id', 'customer_id', 'order_date', 'order_status_code'], 'Order_Items': ['order_item_id', 'order_id', 'product_id', 'order_quantity']}, 'culture_company': {'book_club': ['book_club_id', 'Year', 'Author_or_Editor', 'Book_Title', 'Publisher', 'Category', 'Result'], 'movie': ['movie_id', 'Title', 'Year', 'Director', 'Budget_million', 'Gross_worldwide'], 'culture_company': ['Company_name', 'Type', 'Incorporated_in', 'Group_Equity_Shareholding', 'book_club_id', 'movie_id']}, 'customers_card_transactions': {'Accounts': ['account_id', 'customer_id', 'account_name', 'other_account_details'], 'Customers': ['customer_id', 'customer_first_name', 'customer_last_name', 'customer_address', 'customer_phone', 'customer_email', 'other_customer_details'], 'Customers_Cards': ['card_id', 'customer_id', 'card_type_code', 'card_number', 'date_valid_from', 'date_valid_to', 'other_card_details'], 'Financial_Transactions': ['transaction_id', 'previous_transaction_id', 'account_id', 'card_id', 'transaction_type', 'transaction_date', 'transaction_amount', 'transaction_comment', 'other_transaction_details']}, 'customers_and_addresses': {'Addresses': ['address_id', 'address_content', 'city', 'zip_postcode', 'state_province_county', 'country', 'other_address_details'], 'Products': ['product_id', 'product_details'], 'Customers': ['customer_id', 'payment_method', 'customer_name', 'date_became_customer', 'other_customer_details'], 'Customer_Addresses': ['customer_id', 'address_id', 'date_address_from', 'address_type', 'date_address_to'], 'Customer_Contact_Channels': ['customer_id', 'channel_code', 'active_from_date', 'active_to_date', 'contact_number'], 'Customer_Orders': ['order_id', 'customer_id', 'order_status', 'order_date', 'order_details'], 'Order_Items': ['order_id', 'product_id', 'order_quantity']}, 'cre_Doc_Tracking_DB': {'Ref_Document_Types': ['Document_Type_Code', 'Document_Type_Name', 'Document_Type_Description'], 'Ref_Calendar': ['Calendar_Date', 'Day_Number'], 'Ref_Locations': ['Location_Code', 'Location_Name', 'Location_Description'], 'Roles': ['Role_Code', 'Role_Name', 'Role_Description'], 'All_Documents': ['Document_ID', 'Date_Stored', 'Document_Type_Code', 'Document_Name', 'Document_Description', 'Other_Details'], 'Employees': ['Employee_ID', 'Role_Code', 'Employee_Name', 'Gender_MFU', 'Date_of_Birth', 'Other_Details'], 'Document_Locations': ['Document_ID', 'Location_Code', 'Date_in_Location_From', 'Date_in_Locaton_To'], 'Documents_to_be_Destroyed': ['Document_ID', 'Destruction_Authorised_by_Employee_ID', 'Destroyed_by_Employee_ID', 'Planned_Destruction_Date', 'Actual_Destruction_Date', 'Other_Details']}, 'department_management': {'department': ['Department_ID', 'Name', 'Creation', 'Ranking', 'Budget_in_Billions', 'Num_Employees'], 'head': ['head_ID', 'name', 'born_state', 'age'], 'management': ['department_ID', 'head_ID', 'temporary_acting']}, 'dorm_1': {'Student': ['StuID', 'LName', 'Fname', 'Age', 'Sex', 'Major', 'Advisor', 'city_code'], 'Dorm': ['dormid', 'dorm_name', 'student_capacity', 'gender'], 'Dorm_amenity': ['amenid', 'amenity_name'], 'Has_amenity': ['dormid', 'amenid'], 'Lives_in': ['stuid', 'dormid', 'room_number']}, 'customer_complaints': {'Staff': ['staff_id', 'gender', 'first_name', 'last_name', 'email_address', 'phone_number'], 'Customers': ['customer_id', 'customer_type_code', 'address_line_1', 'address_line_2', 'town_city', 'state', 'email_address', 'phone_number'], 'Products': ['product_id', 'parent_product_id', 'product_category_code', 'date_product_first_available', 'date_product_discontinued', 'product_name', 'product_description', 'product_price'], 'Complaints': ['complaint_id', 'product_id', 'customer_id', 'complaint_outcome_code', 'complaint_status_code', 'complaint_type_code', 'date_complaint_raised', 'date_complaint_closed', 'staff_id']}, 'customer_deliveries': {'Products': ['product_id', 'product_name', 'product_price', 'product_description'], 'Addresses': ['address_id', 'address_details', 'city', 'zip_postcode', 'state_province_county', 'country'], 'Customers': ['customer_id', 'payment_method', 'customer_name', 'customer_phone', 'customer_email', 'date_became_customer'], 'Regular_Orders': ['regular_order_id', 'distributer_id'], 'Regular_Order_Products': ['regular_order_id', 'product_id'], 'Actual_Orders': ['actual_order_id', 'order_status_code', 'regular_order_id', 'actual_order_date'], 'Actual_Order_Products': ['actual_order_id', 'product_id'], 'Customer_Addresses': ['customer_id', 'address_id', 'date_from', 'address_type', 'date_to'], 'Delivery_Routes': ['route_id', 'route_name', 'other_route_details'], 'Delivery_Route_Locations': ['location_code', 'route_id', 'location_address_id', 'location_name'], 'Trucks': ['truck_id', 'truck_licence_number', 'truck_details'], 'Employees': ['employee_id', 'employee_address_id', 'employee_name', 'employee_phone'], 'Order_Deliveries': ['location_code', 'actual_order_id', 'delivery_status_code', 'driver_employee_id', 'truck_id', 'delivery_date']}, 'debate': {'people': ['People_ID', 'District', 'Name', 'Party', 'Age'], 'debate': ['Debate_ID', 'Date', 'Venue', 'Num_of_Audience'], 'debate_people': ['Debate_ID', 'Affirmative', 'Negative', 'If_Affirmative_Win']}, 'device': {'device': ['Device_ID', 'Device', 'Carrier', 'Package_Version', 'Applications', 'Software_Platform'], 'shop': ['Shop_ID', 'Shop_Name', 'Location', 'Open_Date', 'Open_Year'], 'stock': ['Shop_ID', 'Device_ID', 'Quantity']}, 'department_store': {'Addresses': ['address_id', 'address_details'], 'Staff': ['staff_id', 'staff_gender', 'staff_name'], 'Suppliers': ['supplier_id', 'supplier_name', 'supplier_phone'], 'Department_Store_Chain': ['dept_store_chain_id', 'dept_store_chain_name'], 'Customers': ['customer_id', 'payment_method_code', 'customer_code', 'customer_name', 'customer_address', 'customer_phone', 'customer_email'], 'Products': ['product_id', 'product_type_code', 'product_name', 'product_price'], 'Supplier_Addresses': ['supplier_id', 'address_id', 'date_from', 'date_to'], 'Customer_Addresses': ['customer_id', 'address_id', 'date_from', 'date_to'], 'Customer_Orders': ['order_id', 'customer_id', 'order_status_code', 'order_date'], 'Department_Stores': ['dept_store_id', 'dept_store_chain_id', 'store_name', 'store_address', 'store_phone', 'store_email'], 'Departments': ['department_id', 'dept_store_id', 'department_name'], 'Order_Items': ['order_item_id', 'order_id', 'product_id'], 'Product_Suppliers': ['product_id', 'supplier_id', 'date_supplied_from', 'date_supplied_to', 'total_amount_purchased', 'total_value_purchased'], 'Staff_Department_Assignments': ['staff_id', 'department_id', 'date_assigned_from', 'job_title_code', 'date_assigned_to']}, 'decoration_competition': {'college': ['College_ID', 'Name', 'Leader_Name', 'College_Location'], 'member': ['Member_ID', 'Name', 'Country', 'College_ID'], 'round': ['Round_ID', 'Member_ID', 'Decoration_Theme', 'Rank_in_Round']}, 'dog_kennels': {'Breeds': ['breed_code', 'breed_name'], 'Charges': ['charge_id', 'charge_type', 'charge_amount'], 'Sizes': ['size_code', 'size_description'], 'Treatment_Types': ['treatment_type_code', 'treatment_type_description'], 'Owners': ['owner_id', 'first_name', 'last_name', 'street', 'city', 'state', 'zip_code', 'email_address', 'home_phone', 'cell_number'], 'Dogs': ['dog_id', 'owner_id', 'abandoned_yn', 'breed_code', 'size_code', 'name', 'age', 'date_of_birth', 'gender', 'weight', 'date_arrived', 'date_adopted', 'date_departed'], 'Professionals': ['professional_id', 'role_code', 'first_name', 'street', 'city', 'state', 'zip_code', 'last_name', 'email_address', 'home_phone', 'cell_number'], 'Treatments': ['treatment_id', 'dog_id', 'professional_id', 'treatment_type_code', 'date_of_treatment', 'cost_of_treatment']}, 'document_management': {'Roles': ['role_code', 'role_description'], 'Users': ['user_id', 'role_code', 'user_name', 'user_login', 'password'], 'Document_Structures': ['document_structure_code', 'parent_document_structure_code', 'document_structure_description'], 'Functional_Areas': ['functional_area_code', 'parent_functional_area_code', 'functional_area_description'], 'Images': ['image_id', 'image_alt_text', 'image_name', 'image_url'], 'Documents': ['document_code', 'document_structure_code', 'document_type_code', 'access_count', 'document_name'], 'Document_Functional_Areas': ['document_code', 'functional_area_code'], 'Document_Sections': ['section_id', 'document_code', 'section_sequence', 'section_code', 'section_title'], 'Document_Sections_Images': ['section_id', 'image_id']}, 'entrepreneur': {'entrepreneur': ['Entrepreneur_ID', 'People_ID', 'Company', 'Money_Requested', 'Investor'], 'people': ['People_ID', 'Name', 'Height', 'Weight', 'Date_of_Birth']}, 'e_government': {'Addresses': ['address_id', 'line_1_number_building', 'town_city', 'zip_postcode', 'state_province_county', 'country'], 'Services': ['service_id', 'service_type_code', 'service_name', 'service_descriptio'], 'Forms': ['form_id', 'form_type_code', 'service_id', 'form_number', 'form_name', 'form_description'], 'Individuals': ['individual_id', 'individual_first_name', 'individual_middle_name', 'inidividual_phone', 'individual_email', 'individual_address', 'individual_last_name'], 'Organizations': ['organization_id', 'date_formed', 'organization_name', 'uk_vat_number'], 'Parties': ['party_id', 'payment_method_code', 'party_phone', 'party_email'], 'Organization_Contact_Individuals': ['individual_id', 'organization_id', 'date_contact_from', 'date_contact_to'], 'Party_Addresses': ['party_id', 'address_id', 'date_address_from', 'address_type_code', 'date_address_to'], 'Party_Forms': ['party_id', 'form_id', 'date_completion_started', 'form_status_code', 'date_fully_completed'], 'Party_Services': ['booking_id', 'customer_id', 'service_id', 'service_datetime', 'booking_made_date']}, 'employee_hire_evaluation': {'employee': ['Employee_ID', 'Name', 'Age', 'City'], 'shop': ['Shop_ID', 'Name', 'Location', 'District', 'Number_products', 'Manager_name'], 'hiring': ['Shop_ID', 'Employee_ID', 'Start_from', 'Is_full_time'], 'evaluation': ['Employee_ID', 'Year_awarded', 'Bonus']}, 'election_representative': {'election': ['Election_ID', 'Representative_ID', 'Date', 'Votes', 'Vote_Percent', 'Seats', 'Place'], 'representative': ['Representative_ID', 'Name', 'State', 'Party', 'Lifespan']}, 'epinions_1': {'item': ['i_id', 'title'], 'review': ['a_id', 'u_id', 'i_id', 'rating', 'rank'], 'useracct': ['u_id', 'name'], 'trust': ['source_u_id', 'target_u_id', 'trust']}, 'driving_school': {'Addresses': ['address_id', 'line_1_number_building', 'city', 'zip_postcode', 'state_province_county', 'country'], 'Staff': ['staff_id', 'staff_address_id', 'nickname', 'first_name', 'middle_name', 'last_name', 'date_of_birth', 'date_joined_staff', 'date_left_staff'], 'Vehicles': ['vehicle_id', 'vehicle_details'], 'Customers': ['customer_id', 'customer_address_id', 'customer_status_code', 'date_became_customer', 'date_of_birth', 'first_name', 'last_name', 'amount_outstanding', 'email_address', 'phone_number', 'cell_mobile_phone_number'], 'Customer_Payments': ['customer_id', 'datetime_payment', 'payment_method_code', 'amount_payment'], 'Lessons': ['lesson_id', 'customer_id', 'lesson_status_code', 'staff_id', 'vehicle_id', 'lesson_date', 'lesson_time', 'price']}, 'entertainment_awards': {'festival_detail': ['Festival_ID', 'Festival_Name', 'Chair_Name', 'Location', 'Year', 'Num_of_Audience'], 'artwork': ['Artwork_ID', 'Type', 'Name'], 'nomination': ['Artwork_ID', 'Festival_ID', 'Result']}, 'e_learning': {'Course_Authors_and_Tutors': ['author_id', 'author_tutor_ATB', 'login_name', 'password', 'personal_name', 'middle_name', 'family_name', 'gender_mf', 'address_line_1'], 'Students': ['student_id', 'date_of_registration', 'date_of_latest_logon', 'login_name', 'password', 'personal_name', 'middle_name', 'family_name'], 'Subjects': ['subject_id', 'subject_name'], 'Courses': ['course_id', 'author_id', 'subject_id', 'course_name', 'course_description'], 'Student_Course_Enrolment': ['registration_id', 'student_id', 'course_id', 'date_of_enrolment', 'date_of_completion'], 'Student_Tests_Taken': ['registration_id', 'date_test_taken', 'test_result']}, 'farm': {'city': ['City_ID', 'Official_Name', 'Status', 'Area_km_2', 'Population', 'Census_Ranking'], 'farm': ['Farm_ID', 'Year', 'Total_Horses', 'Working_Horses', 'Total_Cattle', 'Oxen', 'Bulls', 'Cows', 'Pigs', 'Sheep_and_Goats'], 'farm_competition': ['Competition_ID', 'Year', 'Theme', 'Host_city_ID', 'Hosts'], 'competition_record': ['Competition_ID', 'Farm_ID', 'Rank']}, 'election': {'county': ['County_Id', 'County_name', 'Population', 'Zip_code'], 'party': ['Party_ID', 'Year', 'Party', 'Governor', 'Lieutenant_Governor', 'Comptroller', 'Attorney_General', 'US_Senate'], 'election': ['Election_ID', 'Counties_Represented', 'District', 'Delegate', 'Party', 'First_Elected', 'Committee']}, 'gas_company': {'company': ['Company_ID', 'Rank', 'Company', 'Headquarters', 'Main_Industry', 'Sales_billion', 'Profits_billion', 'Assets_billion', 'Market_Value'], 'gas_station': ['Station_ID', 'Open_Year', 'Location', 'Manager_Name', 'Vice_Manager_Name', 'Representative_Name'], 'station_company': ['Station_ID', 'Company_ID', 'Rank_of_the_Year']}, 'geo': {'state': ['state_name', 'population', 'area', 'country_name', 'capital', 'density'], 'city': ['city_name', 'population', 'country_name', 'state_name'], 'border_info': ['state_name', 'border'], 'highlow': ['state_name', 'highest_elevation', 'lowest_point', 'highest_point', 'lowest_elevation'], 'lake': ['lake_name', 'area', 'country_name', 'state_name'], 'mountain': ['mountain_name', 'mountain_altitude', 'country_name', 'state_name'], 'river': ['river_name', 'length', 'country_name', 'traverse']}, 'game_injury': {'stadium': ['id', 'name', 'Home_Games', 'Average_Attendance', 'Total_Attendance', 'Capacity_Percentage'], 'game': ['stadium_id', 'id', 'Season', 'Date', 'Home_team', 'Away_team', 'Score', 'Competition'], 'injury_accident': ['game_id', 'id', 'Player', 'Injury', 'Number_of_matches', 'Source']}, 'film_rank': {'film': ['Film_ID', 'Title', 'Studio', 'Director', 'Gross_in_dollar'], 'market': ['Market_ID', 'Country', 'Number_cities'], 'film_market_estimation': ['Estimation_ID', 'Low_Estimate', 'High_Estimate', 'Film_ID', 'Type', 'Market_ID', 'Year']}, 'flight_company': {'airport': ['id', 'City', 'Country', 'IATA', 'ICAO', 'name'], 'operate_company': ['id', 'name', 'Type', 'Principal_activities', 'Incorporated_in', 'Group_Equity_Shareholding'], 'flight': ['id', 'Vehicle_Flight_number', 'Date', 'Pilot', 'Velocity', 'Altitude', 'airport_id', 'company_id']}, 'flight_2': {'airlines': ['uid', 'Airline', 'Abbreviation', 'Country'], 'airports': ['City', 'AirportCode', 'AirportName', 'Country', 'CountryAbbrev'], 'flights': ['Airline', 'FlightNo', 'SourceAirport', 'DestAirport']}, 'flight_1': {'flight': ['flno', 'origin', 'destination', 'distance', 'departure_date', 'arrival_date', 'price', 'aid'], 'aircraft': ['aid', 'name', 'distance'], 'employee': ['eid', 'name', 'salary'], 'certificate': ['eid', 'aid']}, 'flight_4': {'routes': ['rid', 'dst_apid', 'dst_ap', 'src_apid', 'src_ap', 'alid', 'airline', 'codeshare'], 'airports': ['apid', 'name', 'city', 'country', 'x', 'y', 'elevation', 'iata', 'icao'], 'airlines': ['alid', 'name', 'iata', 'icao', 'callsign', 'country', 'active']}, 'formula_1': {'circuits': ['circuitId', 'circuitRef', 'name', 'location', 'country', 'lat', 'lng', 'alt', 'url'], 'races': ['raceId', 'year', 'round', 'circuitId', 'name', 'date', 'time', 'url'], 'drivers': ['driverId', 'driverRef', 'number', 'code', 'forename', 'surname', 'dob', 'nationality', 'url'], 'status': ['statusId', 'status'], 'seasons': ['year', 'url'], 'constructors': ['constructorId', 'constructorRef', 'name', 'nationality', 'url'], 'constructorStandings': ['constructorStandingsId', 'raceId', 'constructorId', 'points', 'position', 'positionText', 'wins'], 'results': ['resultId', 'raceId', 'driverId', 'constructorId', 'number', 'grid', 'position', 'positionText', 'positionOrder', 'points', 'laps', 'time', 'milliseconds', 'fastestLap', 'rank', 'fastestLapTime', 'fastestLapSpeed', 'statusId'], 'driverStandings': ['driverStandingsId', 'raceId', 'driverId', 'points', 'position', 'positionText', 'wins'], 'constructorResults': ['constructorResultsId', 'raceId', 'constructorId', 'points', 'status'], 'qualifying': ['qualifyId', 'raceId', 'driverId', 'constructorId', 'number', 'position', 'q1', 'q2', 'q3'], 'pitStops': ['raceId', 'driverId', 'stop', 'lap', 'time', 'duration', 'milliseconds'], 'lapTimes': ['raceId', 'driverId', 'lap', 'position', 'time', 'milliseconds']}, 'game_1': {'Student': ['StuID', 'LName', 'Fname', 'Age', 'Sex', 'Major', 'Advisor', 'city_code'], 'Video_Games': ['GameID', 'GName', 'GType'], 'Plays_Games': ['StuID', 'GameID', 'Hours_Played'], 'SportsInfo': ['StuID', 'SportName', 'HoursPerWeek', 'GamesPlayed', 'OnScholarship']}, 'journal_committee': {'journal': ['Journal_ID', 'Date', 'Theme', 'Sales'], 'editor': ['Editor_ID', 'Name', 'Age'], 'journal_committee': ['Editor_ID', 'Journal_ID', 'Work_Type']}, 'inn_1': {'Rooms': ['RoomId', 'roomName', 'beds', 'bedType', 'maxOccupancy', 'basePrice', 'decor'], 'Reservations': ['Code', 'Room', 'CheckIn', 'CheckOut', 'Rate', 'LastName', 'FirstName', 'Adults', 'Kids']}, 'icfp_1': {'Inst': ['instID', 'name', 'country'], 'Authors': ['authID', 'lname', 'fname'], 'Papers': ['paperID', 'title'], 'Authorship': ['authID', 'instID', 'paperID', 'authOrder']}, 'insurance_policies': {'Customers': ['Customer_ID', 'Customer_Details'], 'Customer_Policies': ['Policy_ID', 'Customer_ID', 'Policy_Type_Code', 'Start_Date', 'End_Date'], 'Claims': ['Claim_ID', 'Policy_ID', 'Date_Claim_Made', 'Date_Claim_Settled', 'Amount_Claimed', 'Amount_Settled'], 'Settlements': ['Settlement_ID', 'Claim_ID', 'Date_Claim_Made', 'Date_Claim_Settled', 'Amount_Claimed', 'Amount_Settled', 'Customer_Policy_ID'], 'Payments': ['Payment_ID', 'Settlement_ID', 'Payment_Method_Code', 'Date_Payment_Made', 'Amount_Payment']}, 'insurance_and_eClaims': {'Customers': ['Customer_ID', 'Customer_Details'], 'Staff': ['Staff_ID', 'Staff_Details'], 'Policies': ['Policy_ID', 'Customer_ID', 'Policy_Type_Code', 'Start_Date', 'End_Date'], 'Claim_Headers': ['Claim_Header_ID', 'Claim_Status_Code', 'Claim_Type_Code', 'Policy_ID', 'Date_of_Claim', 'Date_of_Settlement', 'Amount_Claimed', 'Amount_Piad'], 'Claims_Documents': ['Claim_ID', 'Document_Type_Code', 'Created_by_Staff_ID', 'Created_Date'], 'Claims_Processing_Stages': ['Claim_Stage_ID', 'Next_Claim_Stage_ID', 'Claim_Status_Name', 'Claim_Status_Description'], 'Claims_Processing': ['Claim_Processing_ID', 'Claim_ID', 'Claim_Outcome_Code', 'Claim_Stage_ID', 'Staff_ID']}, 'hr_1': {'regions': ['REGION_ID', 'REGION_NAME'], 'countries': ['COUNTRY_ID', 'COUNTRY_NAME', 'REGION_ID'], 'departments': ['DEPARTMENT_ID', 'DEPARTMENT_NAME', 'MANAGER_ID', 'LOCATION_ID'], 'jobs': ['JOB_ID', 'JOB_TITLE', 'MIN_SALARY', 'MAX_SALARY'], 'employees': ['EMPLOYEE_ID', 'FIRST_NAME', 'LAST_NAME', 'EMAIL', 'PHONE_NUMBER', 'HIRE_DATE', 'JOB_ID', 'SALARY', 'COMMISSION_PCT', 'MANAGER_ID', 'DEPARTMENT_ID'], 'job_history': ['EMPLOYEE_ID', 'START_DATE', 'END_DATE', 'JOB_ID', 'DEPARTMENT_ID'], 'locations': ['LOCATION_ID', 'STREET_ADDRESS', 'POSTAL_CODE', 'CITY', 'STATE_PROVINCE', 'COUNTRY_ID']}, 'insurance_fnol': {'Customers': ['Customer_ID', 'Customer_name'], 'Services': ['Service_ID', 'Service_name'], 'Available_Policies': ['Policy_ID', 'policy_type_code', 'Customer_Phone'], 'Customers_Policies': ['Customer_ID', 'Policy_ID', 'Date_Opened', 'Date_Closed'], 'First_Notification_of_Loss': ['FNOL_ID', 'Customer_ID', 'Policy_ID', 'Service_ID'], 'Claims': ['Claim_ID', 'FNOL_ID', 'Effective_Date'], 'Settlements': ['Settlement_ID', 'Claim_ID', 'Effective_Date', 'Settlement_Amount']}, 'imdb': {'actor': ['aid', 'gender', 'name', 'nationality', 'birth_city', 'birth_year'], 'copyright': ['id', 'msid', 'cid'], 'cast': ['id', 'msid', 'aid', 'role'], 'genre': ['gid', 'genre'], 'classification': ['id', 'msid', 'gid'], 'company': ['id', 'name', 'country_code'], 'director': ['did', 'gender', 'name', 'nationality', 'birth_city', 'birth_year'], 'producer': ['pid', 'gender', 'name', 'nationality', 'birth_city', 'birth_year'], 'directed_by': ['id', 'msid', 'did'], 'keyword': ['id', 'keyword'], 'made_by': ['id', 'msid', 'pid'], 'movie': ['mid', 'title', 'release_year', 'title_aka', 'budget'], 'tags': ['id', 'msid', 'kid'], 'tv_series': ['sid', 'title', 'release_year', 'num_of_seasons', 'num_of_episodes', 'title_aka', 'budget'], 'writer': ['wid', 'gender', 'name', 'nationality', 'num_of_episodes', 'birth_city', 'birth_year'], 'written_by': ['id', 'msid', 'wid']}, 'hospital_1': {'Physician': ['EmployeeID', 'Name', 'Position', 'SSN'], 'Department': ['DepartmentID', 'Name', 'Head'], 'Affiliated_With': ['Physician', 'Department', 'PrimaryAffiliation'], 'Procedures': ['Code', 'Name', 'Cost'], 'Trained_In': ['Physician', 'Treatment', 'CertificationDate', 'CertificationExpires'], 'Patient': ['SSN', 'Name', 'Address', 'Phone', 'InsuranceID', 'PCP'], 'Nurse': ['EmployeeID', 'Name', 'Position', 'Registered', 'SSN'], 'Appointment': ['AppointmentID', 'Patient', 'PrepNurse', 'Physician', 'Start', 'End', 'ExaminationRoom'], 'Medication': ['Code', 'Name', 'Brand', 'Description'], 'Prescribes': ['Physician', 'Patient', 'Medication', 'Date', 'Appointment', 'Dose'], 'Block': ['BlockFloor', 'BlockCode'], 'Room': ['RoomNumber', 'RoomType', 'BlockFloor', 'BlockCode', 'Unavailable'], 'On_Call': ['Nurse', 'BlockFloor', 'BlockCode', 'OnCallStart', 'OnCallEnd'], 'Stay': ['StayID', 'Patient', 'Room', 'StayStart', 'StayEnd'], 'Undergoes': ['Patient', 'Procedures', 'Stay', 'DateUndergoes', 'Physician', 'AssistingNurse']}, 'gymnast': {'gymnast': ['Gymnast_ID', 'Floor_Exercise_Points', 'Pommel_Horse_Points', 'Rings_Points', 'Vault_Points', 'Parallel_Bars_Points', 'Horizontal_Bar_Points', 'Total_Points'], 'people': ['People_ID', 'Name', 'Age', 'Height', 'Hometown']}, 'local_govt_mdm': {'Customer_Master_Index': ['master_customer_id', 'cmi_details'], 'CMI_Cross_References': ['cmi_cross_ref_id', 'master_customer_id', 'source_system_code'], 'Council_Tax': ['council_tax_id', 'cmi_cross_ref_id'], 'Business_Rates': ['business_rates_id', 'cmi_cross_ref_id'], 'Benefits_Overpayments': ['council_tax_id', 'cmi_cross_ref_id'], 'Parking_Fines': ['council_tax_id', 'cmi_cross_ref_id'], 'Rent_Arrears': ['council_tax_id', 'cmi_cross_ref_id'], 'Electoral_Register': ['electoral_register_id', 'cmi_cross_ref_id']}, 'local_govt_and_lot': {'Customers': ['customer_id', 'customer_details'], 'Properties': ['property_id', 'property_type_code', 'property_address', 'other_details'], 'Residents': ['resident_id', 'property_id', 'date_moved_in', 'date_moved_out', 'other_details'], 'Organizations': ['organization_id', 'parent_organization_id', 'organization_details'], 'Services': ['service_id', 'organization_id', 'service_type_code', 'service_details'], 'Residents_Services': ['resident_id', 'service_id', 'date_moved_in', 'property_id', 'date_requested', 'date_provided', 'other_details'], 'Things': ['thing_id', 'organization_id', 'Type_of_Thing_Code', 'service_type_code', 'service_details'], 'Customer_Events': ['Customer_Event_ID', 'customer_id', 'date_moved_in', 'property_id', 'resident_id', 'thing_id'], 'Customer_Event_Notes': ['Customer_Event_Note_ID', 'Customer_Event_ID', 'service_type_code', 'resident_id', 'property_id', 'date_moved_in'], 'Timed_Status_of_Things': ['thing_id', 'Date_and_Date', 'Status_of_Thing_Code'], 'Timed_Locations_of_Things': ['thing_id', 'Date_and_Time', 'Location_Code']}, 'machine_repair': {'repair': ['repair_ID', 'name', 'Launch_Date', 'Notes'], 'machine': ['Machine_ID', 'Making_Year', 'Class', 'Team', 'Machine_series', 'value_points', 'quality_rank'], 'technician': ['technician_id', 'Name', 'Team', 'Starting_Year', 'Age'], 'repair_assignment': ['technician_id', 'repair_ID', 'Machine_ID']}, 'loan_1': {'bank': ['branch_ID', 'bname', 'no_of_customers', 'city', 'state'], 'customer': ['cust_ID', 'cust_name', 'acc_type', 'acc_bal', 'no_of_loans', 'credit_score', 'branch_ID', 'state'], 'loan': ['loan_ID', 'loan_type', 'cust_ID', 'branch_ID', 'amount']}, 'medicine_enzyme_interaction': {'medicine': ['id', 'name', 'Trade_Name', 'FDA_approved'], 'enzyme': ['id', 'name', 'Location', 'Product', 'Chromosome', 'OMIM', 'Porphyria'], 'medicine_enzyme_interaction': ['enzyme_id', 'medicine_id', 'interaction_type']}, 'local_govt_in_alabama': {'Services': ['Service_ID', 'Service_Type_Code'], 'Participants': ['Participant_ID', 'Participant_Type_Code', 'Participant_Details'], 'Events': ['Event_ID', 'Service_ID', 'Event_Details'], 'Participants_in_Events': ['Event_ID', 'Participant_ID']}, 'manufactory_1': {'Manufacturers': ['Code', 'Name', 'Headquarter', 'Founder', 'Revenue'], 'Products': ['Code', 'Name', 'Price', 'Manufacturer']}, 'manufacturer': {'manufacturer': ['Manufacturer_ID', 'Open_Year', 'Name', 'Num_of_Factories', 'Num_of_Shops'], 'furniture': ['Furniture_ID', 'Name', 'Num_of_Component', 'Market_Rate'], 'furniture_manufacte': ['Manufacturer_ID', 'Furniture_ID', 'Price_in_Dollar']}, 'mountain_photos': {'mountain': ['id', 'name', 'Height', 'Prominence', 'Range', 'Country'], 'camera_lens': ['id', 'brand', 'name', 'focal_length_mm', 'max_aperture'], 'photos': ['id', 'camera_lens_id', 'mountain_id', 'color', 'name']}, 'match_season': {'country': ['Country_id', 'Country_name', 'Capital', 'Official_native_language'], 'team': ['Team_id', 'Name'], 'match_season': ['Season', 'Player', 'Position', 'Country', 'Team', 'Draft_Pick_Number', 'Draft_Class', 'College'], 'player': ['Player_ID', 'Player', 'Years_Played', 'Total_WL', 'Singles_WL', 'Doubles_WL', 'Team']}, 'museum_visit': {'museum': ['Museum_ID', 'Name', 'Num_of_Staff', 'Open_Year'], 'visitor': ['ID', 'Name', 'Level_of_membership', 'Age'], 'visit': ['Museum_ID', 'visitor_ID', 'Num_of_Ticket', 'Total_spent']}, 'network_2': {'Person': ['name', 'age', 'city', 'gender', 'job'], 'PersonFriend': ['name', 'friend', 'year']}, 'news_report': {'event': ['Event_ID', 'Date', 'Venue', 'Name', 'Event_Attendance'], 'journalist': ['journalist_ID', 'Name', 'Nationality', 'Age', 'Years_working'], 'news_report': ['journalist_ID', 'Event_ID', 'Work_Type']}, 'musical': {'musical': ['Musical_ID', 'Name', 'Year', 'Award', 'Category', 'Nominee', 'Result'], 'actor': ['Actor_ID', 'Name', 'Musical_ID', 'Character', 'Duration', 'age']}, 'music_2': {'Songs': ['SongId', 'Title'], 'Albums': ['AId', 'Title', 'Year', 'Label', 'Type'], 'Band': ['Id', 'Firstname', 'Lastname'], 'Instruments': ['SongId', 'BandmateId', 'Instrument'], 'Performance': ['SongId', 'Bandmate', 'StagePosition'], 'Tracklists': ['AlbumId', 'Position', 'SongId'], 'Vocals': ['SongId', 'Bandmate', 'Type']}, 'movie_1': {'Movie': ['mID', 'title', 'year', 'director'], 'Reviewer': ['rID', 'name'], 'Rating': ['rID', 'mID', 'stars', 'ratingDate']}, 'music_4': {'artist': ['Artist_ID', 'Artist', 'Age', 'Famous_Title', 'Famous_Release_date'], 'volume': ['Volume_ID', 'Volume_Issue', 'Issue_Date', 'Weeks_on_Top', 'Song', 'Artist_ID'], 'music_festival': ['ID', 'Music_Festival', 'Date_of_ceremony', 'Category', 'Volume', 'Result']}, 'orchestra': {'conductor': ['Conductor_ID', 'Name', 'Age', 'Nationality', 'Year_of_Work'], 'orchestra': ['Orchestra_ID', 'Orchestra', 'Conductor_ID', 'Record_Company', 'Year_of_Founded', 'Major_Record_Format'], 'performance': ['Performance_ID', 'Orchestra_ID', 'Type', 'Date', 'Official_ratings_(millions)', 'Weekly_rank', 'Share'], 'show': ['Show_ID', 'Performance_ID', 'If_first_show', 'Result', 'Attendance']}, 'music_1': {'genre': ['g_name', 'rating', 'most_popular_in'], 'artist': ['artist_name', 'country', 'gender', 'preferred_genre'], 'files': ['f_id', 'artist_name', 'file_size', 'duration', 'formats'], 'song': ['song_name', 'artist_name', 'country', 'f_id', 'genre_is', 'rating', 'languages', 'releasedate', 'resolution']}, 'network_1': {'Highschooler': ['ID', 'name', 'grade'], 'Friend': ['student_id', 'friend_id'], 'Likes': ['student_id', 'liked_id']}, 'party_people': {'region': ['Region_ID', 'Region_name', 'Date', 'Label', 'Format', 'Catalogue'], 'party': ['Party_ID', 'Minister', 'Took_office', 'Left_office', 'Region_ID', 'Party_name'], 'member': ['Member_ID', 'Member_Name', 'Party_ID', 'In_office'], 'party_events': ['Event_ID', 'Event_Name', 'Party_ID', 'Member_in_charge_ID']}, 'poker_player': {'poker_player': ['Poker_Player_ID', 'People_ID', 'Final_Table_Made', 'Best_Finish', 'Money_Rank', 'Earnings'], 'people': ['People_ID', 'Nationality', 'Name', 'Birth_Date', 'Height']}, 'phone_1': {'chip_model': ['Model_name', 'Launch_year', 'RAM_MiB', 'ROM_MiB', 'Slots', 'WiFi', 'Bluetooth'], 'screen_mode': ['Graphics_mode', 'Char_cells', 'Pixels', 'Hardware_colours', 'used_kb', 'map', 'Type'], 'phone': ['Company_name', 'Hardware_Model_name', 'Accreditation_type', 'Accreditation_level', 'Date', 'chip_model', 'screen_mode']}, 'perpetrator': {'perpetrator': ['Perpetrator_ID', 'People_ID', 'Date', 'Year', 'Location', 'Country', 'Killed', 'Injured'], 'people': ['People_ID', 'Name', 'Height', 'Weight', 'Home Town']}, 'pets_1': {'Student': ['StuID', 'LName', 'Fname', 'Age', 'Sex', 'Major', 'Advisor', 'city_code'], 'Has_Pet': ['StuID', 'PetID'], 'Pets': ['PetID', 'PetType', 'pet_age', 'weight']}, 'party_host': {'party': ['Party_ID', 'Party_Theme', 'Location', 'First_year', 'Last_year', 'Number_of_hosts'], 'host': ['Host_ID', 'Name', 'Nationality', 'Age'], 'party_host': ['Party_ID', 'Host_ID', 'Is_Main_in_Charge']}, 'phone_market': {'phone': ['Name', 'Phone_ID', 'Memory_in_G', 'Carrier', 'Price'], 'market': ['Market_ID', 'District', 'Num_of_employees', 'Num_of_shops', 'Ranking'], 'phone_market': ['Market_ID', 'Phone_ID', 'Num_of_stock']}, 'products_for_hire': {'Discount_Coupons': ['coupon_id', 'date_issued', 'coupon_amount'], 'Customers': ['customer_id', 'coupon_id', 'good_or_bad_customer', 'first_name', 'last_name', 'gender_mf', 'date_became_customer', 'date_last_hire'], 'Bookings': ['booking_id', 'customer_id', 'booking_status_code', 'returned_damaged_yn', 'booking_start_date', 'booking_end_date', 'count_hired', 'amount_payable', 'amount_of_discount', 'amount_outstanding', 'amount_of_refund'], 'Products_for_Hire': ['product_id', 'product_type_code', 'daily_hire_cost', 'product_name', 'product_description'], 'Payments': ['payment_id', 'booking_id', 'customer_id', 'payment_type_code', 'amount_paid_in_full_yn', 'payment_date', 'amount_due', 'amount_paid'], 'Products_Booked': ['booking_id', 'product_id', 'returned_yn', 'returned_late_yn', 'booked_count', 'booked_amount'], 'View_Product_Availability': ['product_id', 'booking_id', 'status_date', 'available_yn']}, 'pilot_record': {'aircraft': ['Aircraft_ID', 'Order_Year', 'Manufacturer', 'Model', 'Fleet_Series', 'Powertrain', 'Fuel_Propulsion'], 'pilot': ['Pilot_ID', 'Pilot_name', 'Rank', 'Age', 'Nationality', 'Position', 'Join_Year', 'Team'], 'pilot_record': ['Record_ID', 'Pilot_ID', 'Aircraft_ID', 'Date']}, 'performance_attendance': {'member': ['Member_ID', 'Name', 'Nationality', 'Role'], 'performance': ['Performance_ID', 'Date', 'Host', 'Location', 'Attendance'], 'member_attendance': ['Member_ID', 'Performance_ID', 'Num_of_Pieces']}, 'real_estate_properties': {'Ref_Feature_Types': ['feature_type_code', 'feature_type_name'], 'Ref_Property_Types': ['property_type_code', 'property_type_description'], 'Other_Available_Features': ['feature_id', 'feature_type_code', 'feature_name', 'feature_description'], 'Properties': ['property_id', 'property_type_code', 'date_on_market', 'date_sold', 'property_name', 'property_address', 'room_count', 'vendor_requested_price', 'buyer_offered_price', 'agreed_selling_price', 'apt_feature_1', 'apt_feature_2', 'apt_feature_3', 'fld_feature_1', 'fld_feature_2', 'fld_feature_3', 'hse_feature_1', 'hse_feature_2', 'hse_feature_3', 'oth_feature_1', 'oth_feature_2', 'oth_feature_3', 'shp_feature_1', 'shp_feature_2', 'shp_feature_3', 'other_property_details'], 'Other_Property_Features': ['property_id', 'feature_id', 'property_feature_description']}, 'riding_club': {'player': ['Player_ID', 'Sponsor_name', 'Player_name', 'Gender', 'Residence', 'Occupation', 'Votes', 'Rank'], 'club': ['Club_ID', 'Club_name', 'Region', 'Start_year'], 'coach': ['Coach_ID', 'Coach_name', 'Gender', 'Club_ID', 'Rank'], 'player_coach': ['Player_ID', 'Coach_ID', 'Starting_year'], 'match_result': ['Rank', 'Club_ID', 'Gold', 'Big_Silver', 'Small_Silver', 'Bronze', 'Points']}, 'products_gen_characteristics': {'Ref_Characteristic_Types': ['characteristic_type_code', 'characteristic_type_description'], 'Ref_Colors': ['color_code', 'color_description'], 'Ref_Product_Categories': ['product_category_code', 'product_category_description', 'unit_of_measure'], 'Characteristics': ['characteristic_id', 'characteristic_type_code', 'characteristic_data_type', 'characteristic_name', 'other_characteristic_details'], 'Products': ['product_id', 'color_code', 'product_category_code', 'product_name', 'typical_buying_price', 'typical_selling_price', 'product_description', 'other_product_details'], 'Product_Characteristics': ['product_id', 'characteristic_id', 'product_characteristic_value']}, 'race_track': {'race': ['Race_ID', 'Name', 'Class', 'Date', 'Track_ID'], 'track': ['Track_ID', 'Name', 'Location', 'Seating', 'Year_Opened']}, 'program_share': {'program': ['Program_ID', 'Name', 'Origin', 'Launch', 'Owner'], 'channel': ['Channel_ID', 'Name', 'Owner', 'Share_in_percent', 'Rating_in_percent'], 'broadcast': ['Channel_ID', 'Program_ID', 'Time_of_day'], 'broadcast_share': ['Channel_ID', 'Program_ID', 'Date', 'Share_in_percent']}, 'railway': {'railway': ['Railway_ID', 'Railway', 'Builder', 'Built', 'Wheels', 'Location', 'ObjectNumber'], 'train': ['Train_ID', 'Train_Num', 'Name', 'From', 'Arrival', 'Railway_ID'], 'manager': ['Manager_ID', 'Name', 'Country', 'Working_year_starts', 'Age', 'Level'], 'railway_manage': ['Railway_ID', 'Manager_ID', 'From_Year']}, 'protein_institute': {'building': ['building_id', 'Name', 'Street_address', 'Years_as_tallest', 'Height_feet', 'Floors'], 'Institution': ['Institution_id', 'Institution', 'Location', 'Founded', 'Type', 'Enrollment', 'Team', 'Primary_Conference', 'building_id'], 'protein': ['common_name', 'protein_name', 'divergence_from_human_lineage', 'accession_number', 'sequence_length', 'sequence_identity_to_human_protein', 'Institution_id']}, 'restaurants': {'GEOGRAPHIC': ['CITY_NAME', 'COUNTY', 'REGION'], 'RESTAURANT': ['ID', 'NAME', 'FOOD_TYPE', 'CITY_NAME', 'RATING'], 'LOCATION': ['RESTAURANT_ID', 'HOUSE_NUMBER', 'STREET_NAME', 'CITY_NAME']}, 'product_catalog': {'Attribute_Definitions': ['attribute_id', 'attribute_name', 'attribute_data_type'], 'Catalogs': ['catalog_id', 'catalog_name', 'catalog_publisher', 'date_of_publication', 'date_of_latest_revision'], 'Catalog_Structure': ['catalog_level_number', 'catalog_id', 'catalog_level_name'], 'Catalog_Contents': ['catalog_entry_id', 'catalog_level_number', 'parent_entry_id', 'previous_entry_id', 'next_entry_id', 'catalog_entry_name', 'product_stock_number', 'price_in_dollars', 'price_in_euros', 'price_in_pounds', 'capacity', 'length', 'height', 'width'], 'Catalog_Contents_Additional_Attributes': ['catalog_entry_id', 'catalog_level_number', 'attribute_id', 'attribute_value']}, 'restaurant_1': {'Student': ['StuID', 'LName', 'Fname', 'Age', 'Sex', 'Major', 'Advisor', 'city_code'], 'Restaurant': ['ResID', 'ResName', 'Address', 'Rating'], 'Type_Of_Restaurant': ['ResID', 'ResTypeID'], 'Restaurant_Type': ['ResTypeID', 'ResTypeName', 'ResTypeDescription'], 'Visits_Restaurant': ['StuID', 'ResID', 'Time', 'Spent']}, 'sakila_1': {'actor': ['actor_id', 'first_name', 'last_name', 'last_update'], 'address': ['address_id', 'address', 'address2', 'district', 'city_id', 'postal_code', 'phone', 'last_update'], 'category': ['category_id', 'name', 'last_update'], 'city': ['city_id', 'city', 'country_id', 'last_update'], 'country': ['country_id', 'country', 'last_update'], 'customer': ['customer_id', 'store_id', 'first_name', 'last_name', 'email', 'address_id', 'active', 'create_date', 'last_update'], 'film': ['film_id', 'title', 'description', 'release_year', 'language_id', 'original_language_id', 'rental_duration', 'rental_rate', 'length', 'replacement_cost', 'rating', 'special_features', 'last_update'], 'film_actor': ['actor_id', 'film_id', 'last_update'], 'film_category': ['film_id', 'category_id', 'last_update'], 'film_text': ['film_id', 'title', 'description'], 'inventory': ['inventory_id', 'film_id', 'store_id', 'last_update'], 'language': ['language_id', 'name', 'last_update'], 'payment': ['payment_id', 'customer_id', 'staff_id', 'rental_id', 'amount', 'payment_date', 'last_update'], 'rental': ['rental_id', 'rental_date', 'inventory_id', 'customer_id', 'return_date', 'staff_id', 'last_update'], 'staff': ['staff_id', 'first_name', 'last_name', 'address_id', 'picture', 'email', 'store_id', 'active', 'username', 'password', 'last_update'], 'store': ['store_id', 'manager_staff_id', 'address_id', 'last_update']}, 'shop_membership': {'member': ['Member_ID', 'Card_Number', 'Name', 'Hometown', 'Level'], 'branch': ['Branch_ID', 'Name', 'Open_year', 'Address_road', 'City', 'membership_amount'], 'membership_register_branch': ['Member_ID', 'Branch_ID', 'Register_Year'], 'purchase': ['Member_ID', 'Branch_ID', 'Year', 'Total_pounds']}, 'school_player': {'school': ['School_ID', 'School', 'Location', 'Enrollment', 'Founded', 'Denomination', 'Boys_or_Girls', 'Day_or_Boarding', 'Year_Entered_Competition', 'School_Colors'], 'school_details': ['School_ID', 'Nickname', 'Colors', 'League', 'Class', 'Division'], 'school_performance': ['School_Id', 'School_Year', 'Class_A', 'Class_AA'], 'player': ['Player_ID', 'Player', 'Team', 'Age', 'Position', 'School_ID']}, 'scholar': {'venue': ['venueId', 'venueName'], 'author': ['authorId', 'authorName'], 'dataset': ['datasetId', 'datasetName'], 'journal': ['journalId', 'journalName'], 'keyphrase': ['keyphraseId', 'keyphraseName'], 'paper': ['paperId', 'title', 'venueId', 'year', 'numCiting', 'numCitedBy', 'journalId'], 'cite': ['citingPaperId', 'citedPaperId'], 'paperDataset': ['paperId', 'datasetId'], 'paperKeyphrase': ['paperId', 'keyphraseId'], 'writes': ['paperId', 'authorId']}, 'roller_coaster': {'roller_coaster': ['Roller_Coaster_ID', 'Name', 'Park', 'Country_ID', 'Length', 'Height', 'Speed', 'Opened', 'Status'], 'country': ['Country_ID', 'Name', 'Population', 'Area', 'Languages']}, 'ship_mission': {'mission': ['Mission_ID', 'Ship_ID', 'Code', 'Launched_Year', 'Location', 'Speed_knots', 'Fate'], 'ship': ['Ship_ID', 'Name', 'Type', 'Nationality', 'Tonnage']}, 'ship_1': {'captain': ['Captain_ID', 'Name', 'Ship_ID', 'age', 'Class', 'Rank'], 'Ship': ['Ship_ID', 'Name', 'Type', 'Built_Year', 'Class', 'Flag']}, 'scientist_1': {'Scientists': ['SSN', 'Name'], 'Projects': ['Code', 'Name', 'Hours'], 'AssignedTo': ['Scientist', 'Project']}, 'school_finance': {'School': ['School_id', 'School_name', 'Location', 'Mascot', 'Enrollment', 'IHSAA_Class', 'IHSAA_Football_Class', 'County'], 'budget': ['School_id', 'Year', 'Budgeted', 'total_budget_percent_budgeted', 'Invested', 'total_budget_percent_invested', 'Budget_invested_percent'], 'endowment': ['endowment_id', 'School_id', 'donator_name', 'amount']}, 'school_bus': {'driver': ['Driver_ID', 'Name', 'Party', 'Home_city', 'Age'], 'school': ['School_ID', 'Grade', 'School', 'Location', 'Type'], 'school_bus': ['School_ID', 'Driver_ID', 'Years_Working', 'If_full_time']}, 'singer': {'singer': ['Singer_ID', 'Name', 'Birth_Year', 'Net_Worth_Millions', 'Citizenship'], 'song': ['Song_ID', 'Title', 'Singer_ID', 'Sales', 'Highest_Position']}, 'solvency_ii': {'Addresses': ['Address_ID', 'address_details'], 'Locations': ['Location_ID', 'Other_Details'], 'Products': ['Product_ID', 'Product_Type_Code', 'Product_Name', 'Product_Price'], 'Parties': ['Party_ID', 'Party_Details'], 'Assets': ['Asset_ID', 'Other_Details'], 'Channels': ['Channel_ID', 'Other_Details'], 'Finances': ['Finance_ID', 'Other_Details'], 'Events': ['Event_ID', 'Address_ID', 'Channel_ID', 'Event_Type_Code', 'Finance_ID', 'Location_ID'], 'Products_in_Events': ['Product_in_Event_ID', 'Event_ID', 'Product_ID'], 'Parties_in_Events': ['Party_ID', 'Event_ID', 'Role_Code'], 'Agreements': ['Document_ID', 'Event_ID'], 'Assets_in_Events': ['Asset_ID', 'Event_ID']}, 'station_weather': {'train': ['id', 'train_number', 'name', 'origin', 'destination', 'time', 'interval'], 'station': ['id', 'network_name', 'services', 'local_authority'], 'route': ['train_id', 'station_id'], 'weekly_weather': ['station_id', 'day_of_week', 'high_temperature', 'low_temperature', 'precipitation', 'wind_speed_mph']}, 'store_product': {'product': ['product_id', 'product', 'dimensions', 'dpi', 'pages_per_minute_color', 'max_page_size', 'interface'], 'store': ['Store_ID', 'Store_Name', 'Type', 'Area_size', 'Number_of_product_category', 'Ranking'], 'district': ['District_ID', 'District_name', 'Headquartered_City', 'City_Population', 'City_Area'], 'store_product': ['Store_ID', 'Product_ID'], 'store_district': ['Store_ID', 'District_ID']}, 'store_1': {'artists': ['id', 'name'], 'sqlite_sequence': ['name', 'seq'], 'albums': ['id', 'title', 'artist_id'], 'employees': ['id', 'last_name', 'first_name', 'title', 'reports_to', 'birth_date', 'hire_date', 'address', 'city', 'state', 'country', 'postal_code', 'phone', 'fax', 'email'], 'customers': ['id', 'first_name', 'last_name', 'company', 'address', 'city', 'state', 'country', 'postal_code', 'phone', 'fax', 'email', 'support_rep_id'], 'genres': ['id', 'name'], 'invoices': ['id', 'customer_id', 'invoice_date', 'billing_address', 'billing_city', 'billing_state', 'billing_country', 'billing_postal_code', 'total'], 'media_types': ['id', 'name'], 'tracks': ['id', 'name', 'album_id', 'media_type_id', 'genre_id', 'composer', 'milliseconds', 'bytes', 'unit_price'], 'invoice_lines': ['id', 'invoice_id', 'track_id', 'unit_price', 'quantity'], 'playlists': ['id', 'name'], 'playlist_tracks': ['playlist_id', 'track_id']}, 'sports_competition': {'club': ['Club_ID', 'name', 'Region', 'Start_year'], 'club_rank': ['Rank', 'Club_ID', 'Gold', 'Silver', 'Bronze', 'Total'], 'player': ['Player_ID', 'name', 'Position', 'Club_ID', 'Apps', 'Tries', 'Goals', 'Points'], 'competition': ['Competition_ID', 'Year', 'Competition_type', 'Country'], 'competition_result': ['Competition_ID', 'Club_ID_1', 'Club_ID_2', 'Score']}, 'small_bank_1': {'ACCOUNTS': ['custid', 'name'], 'SAVINGS': ['custid', 'balance'], 'CHECKING': ['custid', 'balance']}, 'soccer_2': {'College': ['cName', 'state', 'enr'], 'Player': ['pID', 'pName', 'yCard', 'HS'], 'Tryout': ['pID', 'cName', 'pPos', 'decision']}, 'soccer_1': {'Player_Attributes': ['id', 'player_fifa_api_id', 'player_api_id', 'date', 'overall_rating', 'potential', 'preferred_foot', 'attacking_work_rate', 'defensive_work_rate', 'crossing', 'finishing', 'heading_accuracy', 'short_passing', 'volleys', 'dribbling', 'curve', 'free_kick_accuracy', 'long_passing', 'ball_control', 'acceleration', 'sprint_speed', 'agility', 'reactions', 'balance', 'shot_power', 'jumping', 'stamina', 'strength', 'long_shots', 'aggression', 'interceptions', 'positioning', 'vision', 'penalties', 'marking', 'standing_tackle', 'sliding_tackle', 'gk_diving', 'gk_handling', 'gk_kicking', 'gk_positioning', 'gk_reflexes'], 'sqlite_sequence': ['name', 'seq'], 'Player': ['id', 'player_api_id', 'player_name', 'player_fifa_api_id', 'birthday', 'height', 'weight'], 'League': ['id', 'country_id', 'name'], 'Country': ['id', 'name'], 'Team': ['id', 'team_api_id', 'team_fifa_api_id', 'team_long_name', 'team_short_name'], 'Team_Attributes': ['id', 'team_fifa_api_id', 'team_api_id', 'date', 'buildUpPlaySpeed', 'buildUpPlaySpeedClass', 'buildUpPlayDribbling', 'buildUpPlayDribblingClass', 'buildUpPlayPassing', 'buildUpPlayPassingClass', 'buildUpPlayPositioningClass', 'chanceCreationPassing', 'chanceCreationPassingClass', 'chanceCreationCrossing', 'chanceCreationCrossingClass', 'chanceCreationShooting', 'chanceCreationShootingClass', 'chanceCreationPositioningClass', 'defencePressure', 'defencePressureClass', 'defenceAggression', 'defenceAggressionClass', 'defenceTeamWidth', 'defenceTeamWidthClass', 'defenceDefenderLineClass']}, 'storm_record': {'storm': ['Storm_ID', 'Name', 'Dates_active', 'Max_speed', 'Damage_millions_USD', 'Number_Deaths'], 'region': ['Region_id', 'Region_code', 'Region_name'], 'affected_region': ['Region_id', 'Storm_ID', 'Number_city_affected']}, 'train_station': {'station': ['Station_ID', 'Name', 'Annual_entry_exit', 'Annual_interchanges', 'Total_Passengers', 'Location', 'Main_Services', 'Number_of_Platforms'], 'train': ['Train_ID', 'Name', 'Time', 'Service'], 'train_station': ['Train_ID', 'Station_ID']}, 'student_assessment': {'Addresses': ['address_id', 'line_1', 'line_2', 'city', 'zip_postcode', 'state_province_county', 'country'], 'People': ['person_id', 'first_name', 'middle_name', 'last_name', 'cell_mobile_number', 'email_address', 'login_name', 'password'], 'Students': ['student_id', 'student_details'], 'Courses': ['course_id', 'course_name', 'course_description', 'other_details'], 'People_Addresses': ['person_address_id', 'person_id', 'address_id', 'date_from', 'date_to'], 'Student_Course_Registrations': ['student_id', 'course_id', 'registration_date'], 'Student_Course_Attendance': ['student_id', 'course_id', 'date_of_attendance'], 'Candidates': ['candidate_id', 'candidate_details'], 'Candidate_Assessments': ['candidate_id', 'qualification', 'assessment_date', 'asessment_outcome_code']}, 'student_transcripts_tracking': {'Addresses': ['address_id', 'line_1', 'line_2', 'line_3', 'city', 'zip_postcode', 'state_province_county', 'country', 'other_address_details'], 'Courses': ['course_id', 'course_name', 'course_description', 'other_details'], 'Departments': ['department_id', 'department_name', 'department_description', 'other_details'], 'Degree_Programs': ['degree_program_id', 'department_id', 'degree_summary_name', 'degree_summary_description', 'other_details'], 'Sections': ['section_id', 'course_id', 'section_name', 'section_description', 'other_details'], 'Semesters': ['semester_id', 'semester_name', 'semester_description', 'other_details'], 'Students': ['student_id', 'current_address_id', 'permanent_address_id', 'first_name', 'middle_name', 'last_name', 'cell_mobile_number', 'email_address', 'ssn', 'date_first_registered', 'date_left', 'other_student_details'], 'Student_Enrolment': ['student_enrolment_id', 'degree_program_id', 'semester_id', 'student_id', 'other_details'], 'Student_Enrolment_Courses': ['student_course_id', 'course_id', 'student_enrolment_id'], 'Transcripts': ['transcript_id', 'transcript_date', 'other_details'], 'Transcript_Contents': ['student_course_id', 'transcript_id']}, 'student_1': {'list': ['LastName', 'FirstName', 'Grade', 'Classroom'], 'teachers': ['LastName', 'FirstName', 'Classroom']}, 'tracking_software_problems': {'Problem_Category_Codes': ['problem_category_code', 'problem_category_description'], 'Problem_Log': ['problem_log_id', 'assigned_to_staff_id', 'problem_id', 'problem_category_code', 'problem_status_code', 'log_entry_date', 'log_entry_description', 'log_entry_fix', 'other_log_details'], 'Problem_Status_Codes': ['problem_status_code', 'problem_status_description'], 'Product': ['product_id', 'product_name', 'product_details'], 'Staff': ['staff_id', 'staff_first_name', 'staff_last_name', 'other_staff_details'], 'Problems': ['problem_id', 'product_id', 'closure_authorised_by_staff_id', 'reported_by_staff_id', 'date_problem_reported', 'date_problem_closed', 'problem_description', 'other_problem_details']}, 'tracking_share_transactions': {'Investors': ['investor_id', 'Investor_details'], 'Lots': ['lot_id', 'investor_id', 'lot_details'], 'Ref_Transaction_Types': ['transaction_type_code', 'transaction_type_description'], 'Transactions': ['transaction_id', 'investor_id', 'transaction_type_code', 'date_of_transaction', 'amount_of_transaction', 'share_count', 'other_details'], 'Sales': ['sales_transaction_id', 'sales_details'], 'Purchases': ['purchase_transaction_id', 'purchase_details'], 'Transactions_Lots': ['transaction_id', 'lot_id']}, 'swimming': {'swimmer': ['ID', 'name', 'Nationality', 'meter_100', 'meter_200', 'meter_300', 'meter_400', 'meter_500', 'meter_600', 'meter_700', 'Time'], 'stadium': ['ID', 'name', 'Capacity', 'City', 'Country', 'Opening_year'], 'event': ['ID', 'Name', 'Stadium_ID', 'Year'], 'record': ['ID', 'Result', 'Swimmer_ID', 'Event_ID']}, 'tracking_grants_for_research': {'Document_Types': ['document_type_code', 'document_description'], 'Documents': ['document_id', 'document_type_code', 'grant_id', 'sent_date', 'response_received_date', 'other_details'], 'Grants': ['grant_id', 'organisation_id', 'grant_amount', 'grant_start_date', 'grant_end_date', 'other_details'], 'Organisation_Types': ['organisation_type', 'organisation_type_description'], 'Organisations': ['organisation_id', 'organisation_type', 'organisation_details'], 'Project_Outcomes': ['project_id', 'outcome_code', 'outcome_details'], 'Project_Staff': ['staff_id', 'project_id', 'role_code', 'date_from', 'date_to', 'other_details'], 'Projects': ['project_id', 'organisation_id', 'project_details'], 'Research_Outcomes': ['outcome_code', 'outcome_description'], 'Research_Staff': ['staff_id', 'employer_organisation_id', 'staff_details'], 'Staff_Roles': ['role_code', 'role_description'], 'Tasks': ['task_id', 'project_id', 'task_details', 'eg Agree Objectives']}, 'tracking_orders': {'Customers': ['customer_id', 'customer_name', 'customer_details'], 'Invoices': ['invoice_number', 'invoice_date', 'invoice_details'], 'Orders': ['order_id', 'customer_id', 'order_status', 'date_order_placed', 'order_details'], 'Products': ['product_id', 'product_name', 'product_details'], 'Order_Items': ['order_item_id', 'product_id', 'order_id', 'order_item_status', 'order_item_details'], 'Shipments': ['shipment_id', 'order_id', 'invoice_number', 'shipment_tracking_number', 'shipment_date', 'other_shipment_details'], 'Shipment_Items': ['shipment_id', 'order_item_id']}, 'theme_gallery': {'artist': ['Artist_ID', 'Name', 'Country', 'Year_Join', 'Age'], 'exhibition': ['Exhibition_ID', 'Year', 'Theme', 'Artist_ID', 'Ticket_Price'], 'exhibition_record': ['Exhibition_ID', 'Date', 'Attendance']}, 'world_1': {'city': ['ID', 'Name', 'CountryCode', 'District', 'Population'], 'sqlite_sequence': ['name', 'seq'], 'country': ['Code', 'Name', 'Continent', 'Region', 'SurfaceArea', 'IndepYear', 'Population', 'LifeExpectancy', 'GNP', 'GNPOld', 'LocalName', 'GovernmentForm', 'HeadOfState', 'Capital', 'Code2'], 'countrylanguage': ['CountryCode', 'Language', 'IsOfficial', 'Percentage']}, 'wrestler': {'wrestler': ['Wrestler_ID', 'Name', 'Reign', 'Days_held', 'Location', 'Event'], 'Elimination': ['Elimination_ID', 'Wrestler_ID', 'Team', 'Eliminated_By', 'Elimination_Move', 'Time']}, 'tvshow': {'TV_Channel': ['id', 'series_name', 'Country', 'Language', 'Content', 'Pixel_aspect_ratio_PAR', 'Hight_definition_TV', 'Pay_per_view_PPV', 'Package_Option'], 'TV_series': ['id', 'Episode', 'Air_Date', 'Rating', 'Share', '18_49_Rating_Share', 'Viewers_m', 'Weekly_Rank', 'Channel'], 'Cartoon': ['id', 'Title', 'Directed_by', 'Written_by', 'Original_air_date', 'Production_code', 'Channel']}, 'wedding': {'people': ['People_ID', 'Name', 'Country', 'Is_Male', 'Age'], 'church': ['Church_ID', 'Name', 'Organized_by', 'Open_Date', 'Continuation_of'], 'wedding': ['Church_ID', 'Male_ID', 'Female_ID', 'Year']}, 'university_basketball': {'basketball_match': ['Team_ID', 'School_ID', 'Team_Name', 'ACC_Regular_Season', 'ACC_Percent', 'ACC_Home', 'ACC_Road', 'All_Games', 'All_Games_Percent', 'All_Home', 'All_Road', 'All_Neutral'], 'university': ['School_ID', 'School', 'Location', 'Founded', 'Affiliation', 'Enrollment', 'Nickname', 'Primary_conference']}, 'voter_2': {'Student': ['StuID', 'LName', 'Fname', 'Age', 'Sex', 'Major', 'Advisor', 'city_code'], 'Voting_record': ['StuID', 'Registration_Date', 'Election_Cycle', 'President_Vote', 'Vice_President_Vote', 'Secretary_Vote', 'Treasurer_Vote', 'Class_President_Vote', 'Class_Senator_Vote']}, 'twitter_1': {'follows': ['f1', 'f2'], 'tweets': ['id', 'uid', 'text', 'createdate'], 'user_profiles': ['uid', 'name', 'email', 'partitionid', 'followers']}, 'workshop_paper': {'workshop': ['Workshop_ID', 'Date', 'Venue', 'Name'], 'submission': ['Submission_ID', 'Scores', 'Author', 'College'], 'Acceptance': ['Submission_ID', 'Workshop_ID', 'Result']}, 'wine_1': {'grapes': ['ID', 'Grape', 'Color'], 'appellations': ['No', 'Appelation', 'County', 'State', 'Area', 'isAVA'], 'wine': ['No', 'Grape', 'Winery', 'Appelation', 'State', 'Name', 'Year', 'Price', 'Score', 'Cases', 'Drink']}, 'voter_1': {'AREA_CODE_STATE': ['area_code', 'state'], 'CONTESTANTS': ['contestant_number', 'contestant_name'], 'VOTES': ['vote_id', 'phone_number', 'state', 'contestant_number', 'created']}, 'wta_1': {'players': ['player_id', 'first_name', 'last_name', 'hand', 'birth_date', 'country_code'], 'matches': ['best_of', 'draw_size', 'loser_age', 'loser_entry', 'loser_hand', 'loser_ht', 'loser_id', 'loser_ioc', 'loser_name', 'loser_rank', 'loser_rank_points', 'loser_seed', 'match_num', 'minutes', 'round', 'score', 'surface', 'tourney_date', 'tourney_id', 'tourney_level', 'tourney_name', 'winner_age', 'winner_entry', 'winner_hand', 'winner_ht', 'winner_id', 'winner_ioc', 'winner_name', 'winner_rank', 'winner_rank_points', 'winner_seed', 'year'], 'rankings': ['ranking_date', 'ranking', 'player_id', 'ranking_points', 'tours']}, 'yelp': {'business': ['bid', 'business_id', 'name', 'full_address', 'city', 'latitude', 'longitude', 'review_count', 'is_open', 'rating', 'state'], 'category': ['id', 'business_id', 'category_name'], 'user': ['uid', 'user_id', 'name'], 'checkin': ['cid', 'business_id', 'count', 'day'], 'neighbourhood': ['id', 'business_id', 'neighbourhood_name'], 'review': ['rid', 'business_id', 'user_id', 'rating', 'text', 'year', 'month'], 'tip': ['tip_id', 'business_id', 'text', 'user_id', 'likes', 'year', 'month']}}\n",
            "{'behavior_monitoring': {'Ref_Address_Types': ['address_type_code', 'address_type_description'], 'Ref_Detention_Type': ['detention_type_code', 'detention_type_description'], 'Ref_Incident_Type': ['incident_type_code', 'incident_type_description'], 'Addresses': ['address_id', 'line_1', 'line_2', 'line_3', 'city', 'zip_postcode', 'state_province_county', 'country', 'other_address_details'], 'Students': ['student_id', 'address_id', 'first_name', 'middle_name', 'last_name', 'cell_mobile_number', 'email_address', 'date_first_rental', 'date_left_university', 'other_student_details'], 'Teachers': ['teacher_id', 'address_id', 'first_name', 'middle_name', 'last_name', 'gender', 'cell_mobile_number', 'email_address', 'other_details'], 'Assessment_Notes': ['notes_id', 'student_id', 'teacher_id', 'date_of_notes', 'text_of_notes', 'other_details'], 'Behavior_Incident': ['incident_id', 'incident_type_code', 'student_id', 'date_incident_start', 'date_incident_end', 'incident_summary', 'recommendations', 'other_details'], 'Detention': ['detention_id', 'detention_type_code', 'teacher_id', 'datetime_detention_start', 'datetime_detention_end', 'detention_summary', 'other_details'], 'Student_Addresses': ['student_id', 'address_id', 'date_address_from', 'date_address_to', 'monthly_rental', 'other_details'], 'Students_in_Detention': ['student_id', 'detention_id', 'incident_id']}, 'assets_maintenance': {'Third_Party_Companies': ['company_id', 'company_type', 'company_name', 'company_address', 'other_company_details'], 'Maintenance_Contracts': ['maintenance_contract_id', 'maintenance_contract_company_id', 'contract_start_date', 'contract_end_date', 'other_contract_details'], 'Parts': ['part_id', 'part_name', 'chargeable_yn', 'chargeable_amount', 'other_part_details'], 'Skills': ['skill_id', 'skill_code', 'skill_description'], 'Staff': ['staff_id', 'staff_name', 'gender', 'other_staff_details'], 'Assets': ['asset_id', 'maintenance_contract_id', 'supplier_company_id', 'asset_details', 'asset_make', 'asset_model', 'asset_acquired_date', 'asset_disposed_date', 'other_asset_details'], 'Asset_Parts': ['asset_id', 'part_id'], 'Maintenance_Engineers': ['engineer_id', 'company_id', 'first_name', 'last_name', 'other_details'], 'Engineer_Skills': ['engineer_id', 'skill_id'], 'Fault_Log': ['fault_log_entry_id', 'asset_id', 'recorded_by_staff_id', 'fault_log_entry_datetime', 'fault_description', 'other_fault_details'], 'Engineer_Visits': ['engineer_visit_id', 'contact_staff_id', 'engineer_id', 'fault_log_entry_id', 'fault_status', 'visit_start_datetime', 'visit_end_datetime', 'other_visit_details'], 'Part_Faults': ['part_fault_id', 'part_id', 'fault_short_name', 'fault_description', 'other_fault_details'], 'Fault_Log_Parts': ['fault_log_entry_id', 'part_fault_id', 'fault_status'], 'Skills_Required_To_Fix': ['part_fault_id', 'skill_id']}, 'academic': {'author': ['aid', 'homepage', 'name', 'oid'], 'conference': ['cid', 'homepage', 'name'], 'domain': ['did', 'name'], 'domain_author': ['aid', 'did'], 'domain_conference': ['cid', 'did'], 'journal': ['homepage', 'jid', 'name'], 'domain_journal': ['did', 'jid'], 'keyword': ['keyword', 'kid'], 'domain_keyword': ['did', 'kid'], 'publication': ['abstract', 'cid', 'citation_num', 'jid', 'pid', 'reference_num', 'title', 'year'], 'domain_publication': ['did', 'pid'], 'organization': ['continent', 'homepage', 'name', 'oid'], 'publication_keyword': ['pid', 'kid'], 'writes': ['aid', 'pid'], 'cite': ['cited', 'citing']}, 'aircraft': {'pilot': ['Pilot_Id', 'Name', 'Age'], 'aircraft': ['Aircraft_ID', 'Aircraft', 'Description', 'Max_Gross_Weight', 'Total_disk_area', 'Max_disk_Loading'], 'match': ['Round', 'Location', 'Country', 'Date', 'Fastest_Qualifying', 'Winning_Pilot', 'Winning_Aircraft'], 'airport': ['Airport_ID', 'Airport_Name', 'Total_Passengers', '%_Change_2007', 'International_Passengers', 'Domestic_Passengers', 'Transit_Passengers', 'Aircraft_Movements', 'Freight_Metric_Tonnes'], 'airport_aircraft': ['ID', 'Airport_ID', 'Aircraft_ID']}, 'allergy_1': {'Allergy_Type': ['Allergy', 'AllergyType'], 'Has_Allergy': ['StuID', 'Allergy'], 'Student': ['StuID', 'LName', 'Fname', 'Age', 'Sex', 'Major', 'Advisor', 'city_code']}, 'battle_death': {'battle': ['id', 'name', 'date', 'bulgarian_commander', 'latin_commander', 'result'], 'ship': ['lost_in_battle', 'id', 'name', 'tonnage', 'ship_type', 'location', 'disposition_of_ship'], 'death': ['caused_by_ship_id', 'id', 'note', 'killed', 'injured']}, 'baseball_1': {'all_star': ['player_id', 'year', 'game_num', 'game_id', 'team_id', 'league_id', 'gp', 'starting_pos'], 'appearances': ['year', 'team_id', 'league_id', 'player_id', 'g_all', 'gs', 'g_batting', 'g_defense', 'g_p', 'g_c', 'g_1b', 'g_2b', 'g_3b', 'g_ss', 'g_lf', 'g_cf', 'g_rf', 'g_of', 'g_dh', 'g_ph', 'g_pr'], 'manager_award': ['player_id', 'award_id', 'year', 'league_id', 'tie', 'notes'], 'player_award': ['player_id', 'award_id', 'year', 'league_id', 'tie', 'notes'], 'manager_award_vote': ['award_id', 'year', 'league_id', 'player_id', 'points_won', 'points_max', 'votes_first'], 'player_award_vote': ['award_id', 'year', 'league_id', 'player_id', 'points_won', 'points_max', 'votes_first'], 'batting': ['player_id', 'year', 'stint', 'team_id', 'league_id', 'g', 'ab', 'r', 'h', 'double', 'triple', 'hr', 'rbi', 'sb', 'cs', 'bb', 'so', 'ibb', 'hbp', 'sh', 'sf', 'g_idp'], 'batting_postseason': ['year', 'round', 'player_id', 'team_id', 'league_id', 'g', 'ab', 'r', 'h', 'double', 'triple', 'hr', 'rbi', 'sb', 'cs', 'bb', 'so', 'ibb', 'hbp', 'sh', 'sf', 'g_idp'], 'player_college': ['player_id', 'college_id', 'year'], 'fielding': ['player_id', 'year', 'stint', 'team_id', 'league_id', 'pos', 'g', 'gs', 'inn_outs', 'po', 'a', 'e', 'dp', 'pb', 'wp', 'sb', 'cs', 'zr'], 'fielding_outfield': ['player_id', 'year', 'stint', 'glf', 'gcf', 'grf'], 'fielding_postseason': ['player_id', 'year', 'team_id', 'league_id', 'round', 'pos', 'g', 'gs', 'inn_outs', 'po', 'a', 'e', 'dp', 'tp', 'pb', 'sb', 'cs'], 'hall_of_fame': ['player_id', 'yearid', 'votedby', 'ballots', 'needed', 'votes', 'inducted', 'category', 'needed_note'], 'home_game': ['year', 'league_id', 'team_id', 'park_id', 'span_first', 'span_last', 'games', 'openings', 'attendance'], 'manager': ['player_id', 'year', 'team_id', 'league_id', 'inseason', 'g', 'w', 'l', 'rank', 'plyr_mgr'], 'manager_half': ['player_id', 'year', 'team_id', 'league_id', 'inseason', 'half', 'g', 'w', 'l', 'rank'], 'player': ['player_id', 'birth_year', 'birth_month', 'birth_day', 'birth_country', 'birth_state', 'birth_city', 'death_year', 'death_month', 'death_day', 'death_country', 'death_state', 'death_city', 'name_first', 'name_last', 'name_given', 'weight', 'height', 'bats', 'throws', 'debut', 'final_game', 'retro_id', 'bbref_id'], 'park': ['park_id', 'park_name', 'park_alias', 'city', 'state', 'country'], 'pitching': ['player_id', 'year', 'stint', 'team_id', 'league_id', 'w', 'l', 'g', 'gs', 'cg', 'sho', 'sv', 'ipouts', 'h', 'er', 'hr', 'bb', 'so', 'baopp', 'era', 'ibb', 'wp', 'hbp', 'bk', 'bfp', 'gf', 'r', 'sh', 'sf', 'g_idp'], 'pitching_postseason': ['player_id', 'year', 'round', 'team_id', 'league_id', 'w', 'l', 'g', 'gs', 'cg', 'sho', 'sv', 'ipouts', 'h', 'er', 'hr', 'bb', 'so', 'baopp', 'era', 'ibb', 'wp', 'hbp', 'bk', 'bfp', 'gf', 'r', 'sh', 'sf', 'g_idp'], 'salary': ['year', 'team_id', 'league_id', 'player_id', 'salary'], 'college': ['college_id', 'name_full', 'city', 'state', 'country'], 'postseason': ['year', 'round', 'team_id_winner', 'league_id_winner', 'team_id_loser', 'league_id_loser', 'wins', 'losses', 'ties'], 'team': ['year', 'league_id', 'team_id', 'franchise_id', 'div_id', 'rank', 'g', 'ghome', 'w', 'l', 'div_win', 'wc_win', 'lg_win', 'ws_win', 'r', 'ab', 'h', 'double', 'triple', 'hr', 'bb', 'so', 'sb', 'cs', 'hbp', 'sf', 'ra', 'er', 'era', 'cg', 'sho', 'sv', 'ipouts', 'ha', 'hra', 'bba', 'soa', 'e', 'dp', 'fp', 'name', 'park', 'attendance', 'bpf', 'ppf', 'team_id_br', 'team_id_lahman45', 'team_id_retro'], 'team_franchise': ['franchise_id', 'franchise_name', 'active', 'na_assoc'], 'team_half': ['year', 'league_id', 'team_id', 'half', 'div_id', 'div_win', 'rank', 'g', 'w', 'l']}, 'activity_1': {'Activity': ['actid', 'activity_name'], 'Participates_in': ['stuid', 'actid'], 'Faculty_Participates_in': ['FacID', 'actid'], 'Student': ['StuID', 'LName', 'Fname', 'Age', 'Sex', 'Major', 'Advisor', 'city_code'], 'Faculty': ['FacID', 'Lname', 'Fname', 'Rank', 'Sex', 'Phone', 'Room', 'Building']}, 'apartment_rentals': {'Apartment_Buildings': ['building_id', 'building_short_name', 'building_full_name', 'building_description', 'building_address', 'building_manager', 'building_phone'], 'Apartments': ['apt_id', 'building_id', 'apt_type_code', 'apt_number', 'bathroom_count', 'bedroom_count', 'room_count'], 'Apartment_Facilities': ['apt_id', 'facility_code'], 'Guests': ['guest_id', 'gender_code', 'guest_first_name', 'guest_last_name', 'date_of_birth'], 'Apartment_Bookings': ['apt_booking_id', 'apt_id', 'guest_id', 'booking_status_code', 'booking_start_date', 'booking_end_date'], 'View_Unit_Status': ['apt_id', 'apt_booking_id', 'status_date', 'available_yn']}, 'architecture': {'architect': ['id', 'name', 'nationality', 'gender'], 'bridge': ['architect_id', 'id', 'name', 'location', 'length_meters', 'length_feet'], 'mill': ['architect_id', 'id', 'location', 'name', 'type', 'built_year', 'notes']}, 'cinema': {'film': ['Film_ID', 'Rank_in_series', 'Number_in_season', 'Title', 'Directed_by', 'Original_air_date', 'Production_code'], 'cinema': ['Cinema_ID', 'Name', 'Openning_year', 'Capacity', 'Location'], 'schedule': ['Cinema_ID', 'Film_ID', 'Date', 'Show_times_per_day', 'Price']}, 'car_1': {'continents': ['ContId', 'Continent'], 'countries': ['CountryId', 'CountryName', 'Continent'], 'car_makers': ['Id', 'Maker', 'FullName', 'Country'], 'model_list': ['ModelId', 'Maker', 'Model'], 'car_names': ['MakeId', 'Model', 'Make'], 'cars_data': ['Id', 'MPG', 'Cylinders', 'Edispl', 'Horsepower', 'Weight', 'Accelerate', 'Year']}, 'browser_web': {'Web_client_accelerator': ['id', 'name', 'Operating_system', 'Client', 'Connection'], 'browser': ['id', 'name', 'market_share'], 'accelerator_compatible_browser': ['accelerator_id', 'browser_id', 'compatible_since_year']}, 'book_2': {'publication': ['Publication_ID', 'Book_ID', 'Publisher', 'Publication_Date', 'Price'], 'book': ['Book_ID', 'Title', 'Issues', 'Writer']}, 'bike_1': {'station': ['id', 'name', 'lat', 'long', 'dock_count', 'city', 'installation_date'], 'status': ['station_id', 'bikes_available', 'docks_available', 'time'], 'trip': ['id', 'duration', 'start_date', 'start_station_name', 'start_station_id', 'end_date', 'end_station_name', 'end_station_id', 'bike_id', 'subscription_type', 'zip_code'], 'weather': ['date', 'max_temperature_f', 'mean_temperature_f', 'min_temperature_f', 'max_dew_point_f', 'mean_dew_point_f', 'min_dew_point_f', 'max_humidity', 'mean_humidity', 'min_humidity', 'max_sea_level_pressure_inches', 'mean_sea_level_pressure_inches', 'min_sea_level_pressure_inches', 'max_visibility_miles', 'mean_visibility_miles', 'min_visibility_miles', 'max_wind_Speed_mph', 'mean_wind_speed_mph', 'max_gust_speed_mph', 'precipitation_inches', 'cloud_cover', 'events', 'wind_dir_degrees', 'zip_code']}, 'city_record': {'city': ['City_ID', 'City', 'Hanzi', 'Hanyu_Pinyin', 'Regional_Population', 'GDP'], 'match': ['Match_ID', 'Date', 'Venue', 'Score', 'Result', 'Competition'], 'temperature': ['City_ID', 'Jan', 'Feb', 'Mar', 'Apr', 'Jun', 'Jul', 'Aug', 'Sep', 'Oct', 'Nov', 'Dec'], 'hosting_city': ['Year', 'Match_ID', 'Host_City']}, 'candidate_poll': {'candidate': ['Candidate_ID', 'People_ID', 'Poll_Source', 'Date', 'Support_rate', 'Consider_rate', 'Oppose_rate', 'Unsure_rate'], 'people': ['People_ID', 'Sex', 'Name', 'Date_of_Birth', 'Height', 'Weight']}, 'chinook_1': {'Album': ['AlbumId', 'Title', 'ArtistId'], 'Artist': ['ArtistId', 'Name'], 'Customer': ['CustomerId', 'FirstName', 'LastName', 'Company', 'Address', 'City', 'State', 'Country', 'PostalCode', 'Phone', 'Fax', 'Email', 'SupportRepId'], 'Employee': ['EmployeeId', 'LastName', 'FirstName', 'Title', 'ReportsTo', 'BirthDate', 'HireDate', 'Address', 'City', 'State', 'Country', 'PostalCode', 'Phone', 'Fax', 'Email'], 'Genre': ['GenreId', 'Name'], 'Invoice': ['InvoiceId', 'CustomerId', 'InvoiceDate', 'BillingAddress', 'BillingCity', 'BillingState', 'BillingCountry', 'BillingPostalCode', 'Total'], 'InvoiceLine': ['InvoiceLineId', 'InvoiceId', 'TrackId', 'UnitPrice', 'Quantity'], 'MediaType': ['MediaTypeId', 'Name'], 'Playlist': ['PlaylistId', 'Name'], 'PlaylistTrack': ['PlaylistId', 'TrackId'], 'Track': ['TrackId', 'Name', 'AlbumId', 'MediaTypeId', 'GenreId', 'Composer', 'Milliseconds', 'Bytes', 'UnitPrice']}, 'body_builder': {'body_builder': ['Body_Builder_ID', 'People_ID', 'Snatch', 'Clean_Jerk', 'Total'], 'people': ['People_ID', 'Name', 'Height', 'Weight', 'Birth_Date', 'Birth_Place']}, 'climbing': {'mountain': ['Mountain_ID', 'Name', 'Height', 'Prominence', 'Range', 'Country'], 'climber': ['Climber_ID', 'Name', 'Country', 'Time', 'Points', 'Mountain_ID']}, 'college_1': {'CLASS': ['CLASS_CODE', 'CRS_CODE', 'CLASS_SECTION', 'CLASS_TIME', 'CLASS_ROOM', 'PROF_NUM'], 'COURSE': ['CRS_CODE', 'DEPT_CODE', 'CRS_DESCRIPTION', 'CRS_CREDIT'], 'DEPARTMENT': ['DEPT_CODE', 'DEPT_NAME', 'SCHOOL_CODE', 'EMP_NUM', 'DEPT_ADDRESS', 'DEPT_EXTENSION'], 'EMPLOYEE': ['EMP_NUM', 'EMP_LNAME', 'EMP_FNAME', 'EMP_INITIAL', 'EMP_JOBCODE', 'EMP_HIREDATE', 'EMP_DOB'], 'ENROLL': ['CLASS_CODE', 'STU_NUM', 'ENROLL_GRADE'], 'PROFESSOR': ['EMP_NUM', 'DEPT_CODE', 'PROF_OFFICE', 'PROF_EXTENSION', 'PROF_HIGH_DEGREE'], 'STUDENT': ['STU_NUM', 'STU_LNAME', 'STU_FNAME', 'STU_INIT', 'STU_DOB', 'STU_HRS', 'STU_CLASS', 'STU_GPA', 'STU_TRANSFER', 'DEPT_CODE', 'STU_PHONE', 'PROF_NUM']}, 'company_employee': {'people': ['People_ID', 'Age', 'Name', 'Nationality', 'Graduation_College'], 'company': ['Company_ID', 'Name', 'Headquarters', 'Industry', 'Sales_in_Billion', 'Profits_in_Billion', 'Assets_in_Billion', 'Market_Value_in_Billion'], 'employment': ['Company_ID', 'People_ID', 'Year_working']}, 'coffee_shop': {'shop': ['Shop_ID', 'Address', 'Num_of_staff', 'Score', 'Open_Year'], 'member': ['Member_ID', 'Name', 'Membership_card', 'Age', 'Time_of_purchase', 'Level_of_membership', 'Address'], 'happy_hour': ['HH_ID', 'Shop_ID', 'Month', 'Num_of_shaff_in_charge'], 'happy_hour_member': ['HH_ID', 'Member_ID', 'Total_amount']}, 'college_3': {'Student': ['StuID', 'LName', 'Fname', 'Age', 'Sex', 'Major', 'Advisor', 'city_code'], 'Faculty': ['FacID', 'Lname', 'Fname', 'Rank', 'Sex', 'Phone', 'Room', 'Building'], 'Department': ['DNO', 'Division', 'DName', 'Room', 'Building', 'DPhone'], 'Member_of': ['FacID', 'DNO', 'Appt_Type'], 'Course': ['CID', 'CName', 'Credits', 'Instructor', 'Days', 'Hours', 'DNO'], 'Minor_in': ['StuID', 'DNO'], 'Enrolled_in': ['StuID', 'CID', 'Grade'], 'Gradeconversion': ['lettergrade', 'gradepoint']}, 'club_1': {'Student': ['StuID', 'LName', 'Fname', 'Age', 'Sex', 'Major', 'Advisor', 'city_code'], 'Club': ['ClubID', 'ClubName', 'ClubDesc', 'ClubLocation'], 'Member_of_club': ['StuID', 'ClubID', 'Position']}, 'county_public_safety': {'county_public_safety': ['County_ID', 'Name', 'Population', 'Police_officers', 'Residents_per_officer', 'Case_burden', 'Crime_rate', 'Police_force', 'Location'], 'city': ['City_ID', 'County_ID', 'Name', 'White', 'Black', 'Amerindian', 'Asian', 'Multiracial', 'Hispanic']}, 'company_1': {'works_on': ['Essn', 'Pno', 'Hours'], 'employee': ['Fname', 'Minit', 'Lname', 'Ssn', 'Bdate', 'Address', 'Sex', 'Salary', 'Super_ssn', 'Dno'], 'department': ['Dname', 'Dnumber', 'Mgr_ssn', 'Mgr_start_date'], 'project': ['Pname', 'Pnumber', 'Plocation', 'Dnum'], 'dependent': ['Essn', 'Dependent_name', 'Sex', 'Bdate', 'Relationship'], 'dept_locations': ['Dnumber', 'Dlocation']}, 'concert_singer': {'stadium': ['Stadium_ID', 'Location', 'Name', 'Capacity', 'Highest', 'Lowest', 'Average'], 'singer': ['Singer_ID', 'Name', 'Country', 'Song_Name', 'Song_release_year', 'Age', 'Is_male'], 'concert': ['concert_ID', 'concert_Name', 'Theme', 'Stadium_ID', 'Year'], 'singer_in_concert': ['concert_ID', 'Singer_ID']}, 'college_2': {'classroom': ['building', 'room_number', 'capacity'], 'department': ['dept_name', 'building', 'budget'], 'course': ['course_id', 'title', 'dept_name', 'credits'], 'instructor': ['ID', 'name', 'dept_name', 'salary'], 'section': ['course_id', 'sec_id', 'semester', 'year', 'building', 'room_number', 'time_slot_id'], 'teaches': ['ID', 'course_id', 'sec_id', 'semester', 'year'], 'student': ['ID', 'name', 'dept_name', 'tot_cred'], 'takes': ['ID', 'course_id', 'sec_id', 'semester', 'year', 'grade'], 'advisor': ['s_ID', 'i_ID'], 'time_slot': ['time_slot_id', 'day', 'start_hr', 'start_min', 'end_hr', 'end_min'], 'prereq': ['course_id', 'prereq_id']}, 'company_office': {'buildings': ['id', 'name', 'City', 'Height', 'Stories', 'Status'], 'Companies': ['id', 'name', 'Headquarters', 'Industry', 'Sales_billion', 'Profits_billion', 'Assets_billion', 'Market_Value_billion'], 'Office_locations': ['building_id', 'company_id', 'move_in_year']}, 'customers_and_addresses': {'Addresses': ['address_id', 'address_content', 'city', 'zip_postcode', 'state_province_county', 'country', 'other_address_details'], 'Products': ['product_id', 'product_details'], 'Customers': ['customer_id', 'payment_method', 'customer_name', 'date_became_customer', 'other_customer_details'], 'Customer_Addresses': ['customer_id', 'address_id', 'date_address_from', 'address_type', 'date_address_to'], 'Customer_Contact_Channels': ['customer_id', 'channel_code', 'active_from_date', 'active_to_date', 'contact_number'], 'Customer_Orders': ['order_id', 'customer_id', 'order_status', 'order_date', 'order_details'], 'Order_Items': ['order_id', 'product_id', 'order_quantity']}, 'cre_Theme_park': {'Ref_Hotel_Star_Ratings': ['star_rating_code', 'star_rating_description'], 'Locations': ['Location_ID', 'Location_Name', 'Address', 'Other_Details'], 'Ref_Attraction_Types': ['Attraction_Type_Code', 'Attraction_Type_Description'], 'Visitors': ['Tourist_ID', 'Tourist_Details'], 'Features': ['Feature_ID', 'Feature_Details'], 'Hotels': ['hotel_id', 'star_rating_code', 'pets_allowed_yn', 'price_range', 'other_hotel_details'], 'Tourist_Attractions': ['Tourist_Attraction_ID', 'Attraction_Type_Code', 'Location_ID', 'How_to_Get_There', 'Name', 'Description', 'Opening_Hours', 'Other_Details'], 'Street_Markets': ['Market_ID', 'Market_Details'], 'Shops': ['Shop_ID', 'Shop_Details'], 'Museums': ['Museum_ID', 'Museum_Details'], 'Royal_Family': ['Royal_Family_ID', 'Royal_Family_Details'], 'Theme_Parks': ['Theme_Park_ID', 'Theme_Park_Details'], 'Visits': ['Visit_ID', 'Tourist_Attraction_ID', 'Tourist_ID', 'Visit_Date', 'Visit_Details'], 'Photos': ['Photo_ID', 'Tourist_Attraction_ID', 'Name', 'Description', 'Filename', 'Other_Details'], 'Staff': ['Staff_ID', 'Tourist_Attraction_ID', 'Name', 'Other_Details'], 'Tourist_Attraction_Features': ['Tourist_Attraction_ID', 'Feature_ID']}, 'cre_Docs_and_Epenses': {'Ref_Document_Types': ['Document_Type_Code', 'Document_Type_Name', 'Document_Type_Description'], 'Ref_Budget_Codes': ['Budget_Type_Code', 'Budget_Type_Description'], 'Projects': ['Project_ID', 'Project_Details'], 'Documents': ['Document_ID', 'Document_Type_Code', 'Project_ID', 'Document_Date', 'Document_Name', 'Document_Description', 'Other_Details'], 'Statements': ['Statement_ID', 'Statement_Details'], 'Documents_with_Expenses': ['Document_ID', 'Budget_Type_Code', 'Document_Details'], 'Accounts': ['Account_ID', 'Statement_ID', 'Account_Details']}, 'cre_Doc_Template_Mgt': {'Ref_Template_Types': ['Template_Type_Code', 'Template_Type_Description'], 'Templates': ['Template_ID', 'Version_Number', 'Template_Type_Code', 'Date_Effective_From', 'Date_Effective_To', 'Template_Details'], 'Documents': ['Document_ID', 'Template_ID', 'Document_Name', 'Document_Description', 'Other_Details'], 'Paragraphs': ['Paragraph_ID', 'Document_ID', 'Paragraph_Text', 'Other_Details']}, 'cre_Drama_Workshop_Groups': {'Ref_Payment_Methods': ['payment_method_code', 'payment_method_description'], 'Ref_Service_Types': ['Service_Type_Code', 'Parent_Service_Type_Code', 'Service_Type_Description'], 'Addresses': ['Address_ID', 'Line_1', 'Line_2', 'City_Town', 'State_County', 'Other_Details'], 'Products': ['Product_ID', 'Product_Name', 'Product_Price', 'Product_Description', 'Other_Product_Service_Details'], 'Marketing_Regions': ['Marketing_Region_Code', 'Marketing_Region_Name', 'Marketing_Region_Descriptrion', 'Other_Details'], 'Clients': ['Client_ID', 'Address_ID', 'Customer_Email_Address', 'Customer_Name', 'Customer_Phone', 'Other_Details'], 'Drama_Workshop_Groups': ['Workshop_Group_ID', 'Address_ID', 'Currency_Code', 'Marketing_Region_Code', 'Store_Name', 'Store_Phone', 'Store_Email_Address', 'Other_Details'], 'Performers': ['Performer_ID', 'Address_ID', 'Customer_Name', 'Customer_Phone', 'Customer_Email_Address', 'Other_Details'], 'Customers': ['Customer_ID', 'Address_ID', 'Customer_Name', 'Customer_Phone', 'Customer_Email_Address', 'Other_Details'], 'Stores': ['Store_ID', 'Address_ID', 'Marketing_Region_Code', 'Store_Name', 'Store_Phone', 'Store_Email_Address', 'Other_Details'], 'Bookings': ['Booking_ID', 'Customer_ID', 'Workshop_Group_ID', 'Status_Code', 'Store_ID', 'Order_Date', 'Planned_Delivery_Date', 'Actual_Delivery_Date', 'Other_Order_Details'], 'Performers_in_Bookings': ['Order_ID', 'Performer_ID'], 'Customer_Orders': ['Order_ID', 'Customer_ID', 'Store_ID', 'Order_Date', 'Planned_Delivery_Date', 'Actual_Delivery_Date', 'Other_Order_Details'], 'Order_Items': ['Order_Item_ID', 'Order_ID', 'Product_ID', 'Order_Quantity', 'Other_Item_Details'], 'Invoices': ['Invoice_ID', 'Order_ID', 'payment_method_code', 'Product_ID', 'Order_Quantity', 'Other_Item_Details', 'Order_Item_ID'], 'Services': ['Service_ID', 'Service_Type_Code', 'Workshop_Group_ID', 'Product_Description', 'Product_Name', 'Product_Price', 'Other_Product_Service_Details'], 'Bookings_Services': ['Order_ID', 'Product_ID'], 'Invoice_Items': ['Invoice_Item_ID', 'Invoice_ID', 'Order_ID', 'Order_Item_ID', 'Product_ID', 'Order_Quantity', 'Other_Item_Details']}, 'cre_Doc_Control_Systems': {'Ref_Document_Types': ['document_type_code', 'document_type_description'], 'Roles': ['role_code', 'role_description'], 'Addresses': ['address_id', 'address_details'], 'Ref_Document_Status': ['document_status_code', 'document_status_description'], 'Ref_Shipping_Agents': ['shipping_agent_code', 'shipping_agent_name', 'shipping_agent_description'], 'Documents': ['document_id', 'document_status_code', 'document_type_code', 'shipping_agent_code', 'receipt_date', 'receipt_number', 'other_details'], 'Employees': ['employee_id', 'role_code', 'employee_name', 'other_details'], 'Document_Drafts': ['document_id', 'draft_number', 'draft_details'], 'Draft_Copies': ['document_id', 'draft_number', 'copy_number'], 'Circulation_History': ['document_id', 'draft_number', 'copy_number', 'employee_id'], 'Documents_Mailed': ['document_id', 'mailed_to_address_id', 'mailing_date']}, 'csu_1': {'Campuses': ['Id', 'Campus', 'Location', 'County', 'Year'], 'csu_fees': ['Campus', 'Year', 'CampusFee'], 'degrees': ['Year', 'Campus', 'Degrees'], 'discipline_enrollments': ['Campus', 'Discipline', 'Year', 'Undergraduate', 'Graduate'], 'enrollments': ['Campus', 'Year', 'TotalEnrollment_AY', 'FTE_AY'], 'faculty': ['Campus', 'Year', 'Faculty']}, 'culture_company': {'book_club': ['book_club_id', 'Year', 'Author_or_Editor', 'Book_Title', 'Publisher', 'Category', 'Result'], 'movie': ['movie_id', 'Title', 'Year', 'Director', 'Budget_million', 'Gross_worldwide'], 'culture_company': ['Company_name', 'Type', 'Incorporated_in', 'Group_Equity_Shareholding', 'book_club_id', 'movie_id']}, 'cre_Doc_Tracking_DB': {'Ref_Document_Types': ['Document_Type_Code', 'Document_Type_Name', 'Document_Type_Description'], 'Ref_Calendar': ['Calendar_Date', 'Day_Number'], 'Ref_Locations': ['Location_Code', 'Location_Name', 'Location_Description'], 'Roles': ['Role_Code', 'Role_Name', 'Role_Description'], 'All_Documents': ['Document_ID', 'Date_Stored', 'Document_Type_Code', 'Document_Name', 'Document_Description', 'Other_Details'], 'Employees': ['Employee_ID', 'Role_Code', 'Employee_Name', 'Gender_MFU', 'Date_of_Birth', 'Other_Details'], 'Document_Locations': ['Document_ID', 'Location_Code', 'Date_in_Location_From', 'Date_in_Locaton_To'], 'Documents_to_be_Destroyed': ['Document_ID', 'Destruction_Authorised_by_Employee_ID', 'Destroyed_by_Employee_ID', 'Planned_Destruction_Date', 'Actual_Destruction_Date', 'Other_Details']}, 'course_teach': {'course': ['Course_ID', 'Staring_Date', 'Course'], 'teacher': ['Teacher_ID', 'Name', 'Age', 'Hometown'], 'course_arrange': ['Course_ID', 'Teacher_ID', 'Grade']}, 'customers_and_products_contacts': {'Addresses': ['address_id', 'line_1_number_building', 'city', 'zip_postcode', 'state_province_county', 'country'], 'Products': ['product_id', 'product_type_code', 'product_name', 'product_price'], 'Customers': ['customer_id', 'payment_method_code', 'customer_number', 'customer_name', 'customer_address', 'customer_phone', 'customer_email'], 'Contacts': ['contact_id', 'customer_id', 'gender', 'first_name', 'last_name', 'contact_phone'], 'Customer_Address_History': ['customer_id', 'address_id', 'date_from', 'date_to'], 'Customer_Orders': ['order_id', 'customer_id', 'order_date', 'order_status_code'], 'Order_Items': ['order_item_id', 'order_id', 'product_id', 'order_quantity']}, 'department_store': {'Addresses': ['address_id', 'address_details'], 'Staff': ['staff_id', 'staff_gender', 'staff_name'], 'Suppliers': ['supplier_id', 'supplier_name', 'supplier_phone'], 'Department_Store_Chain': ['dept_store_chain_id', 'dept_store_chain_name'], 'Customers': ['customer_id', 'payment_method_code', 'customer_code', 'customer_name', 'customer_address', 'customer_phone', 'customer_email'], 'Products': ['product_id', 'product_type_code', 'product_name', 'product_price'], 'Supplier_Addresses': ['supplier_id', 'address_id', 'date_from', 'date_to'], 'Customer_Addresses': ['customer_id', 'address_id', 'date_from', 'date_to'], 'Customer_Orders': ['order_id', 'customer_id', 'order_status_code', 'order_date'], 'Department_Stores': ['dept_store_id', 'dept_store_chain_id', 'store_name', 'store_address', 'store_phone', 'store_email'], 'Departments': ['department_id', 'dept_store_id', 'department_name'], 'Order_Items': ['order_item_id', 'order_id', 'product_id'], 'Product_Suppliers': ['product_id', 'supplier_id', 'date_supplied_from', 'date_supplied_to', 'total_amount_purchased', 'total_value_purchased'], 'Staff_Department_Assignments': ['staff_id', 'department_id', 'date_assigned_from', 'job_title_code', 'date_assigned_to']}, 'customer_complaints': {'Staff': ['staff_id', 'gender', 'first_name', 'last_name', 'email_address', 'phone_number'], 'Customers': ['customer_id', 'customer_type_code', 'address_line_1', 'address_line_2', 'town_city', 'state', 'email_address', 'phone_number'], 'Products': ['product_id', 'parent_product_id', 'product_category_code', 'date_product_first_available', 'date_product_discontinued', 'product_name', 'product_description', 'product_price'], 'Complaints': ['complaint_id', 'product_id', 'customer_id', 'complaint_outcome_code', 'complaint_status_code', 'complaint_type_code', 'date_complaint_raised', 'date_complaint_closed', 'staff_id']}, 'department_management': {'department': ['Department_ID', 'Name', 'Creation', 'Ranking', 'Budget_in_Billions', 'Num_Employees'], 'head': ['head_ID', 'name', 'born_state', 'age'], 'management': ['department_ID', 'head_ID', 'temporary_acting']}, 'customer_deliveries': {'Products': ['product_id', 'product_name', 'product_price', 'product_description'], 'Addresses': ['address_id', 'address_details', 'city', 'zip_postcode', 'state_province_county', 'country'], 'Customers': ['customer_id', 'payment_method', 'customer_name', 'customer_phone', 'customer_email', 'date_became_customer'], 'Regular_Orders': ['regular_order_id', 'distributer_id'], 'Regular_Order_Products': ['regular_order_id', 'product_id'], 'Actual_Orders': ['actual_order_id', 'order_status_code', 'regular_order_id', 'actual_order_date'], 'Actual_Order_Products': ['actual_order_id', 'product_id'], 'Customer_Addresses': ['customer_id', 'address_id', 'date_from', 'address_type', 'date_to'], 'Delivery_Routes': ['route_id', 'route_name', 'other_route_details'], 'Delivery_Route_Locations': ['location_code', 'route_id', 'location_address_id', 'location_name'], 'Trucks': ['truck_id', 'truck_licence_number', 'truck_details'], 'Employees': ['employee_id', 'employee_address_id', 'employee_name', 'employee_phone'], 'Order_Deliveries': ['location_code', 'actual_order_id', 'delivery_status_code', 'driver_employee_id', 'truck_id', 'delivery_date']}, 'customers_campaigns_ecommerce': {'Premises': ['premise_id', 'premises_type', 'premise_details'], 'Products': ['product_id', 'product_category', 'product_name'], 'Customers': ['customer_id', 'payment_method', 'customer_name', 'customer_phone', 'customer_email', 'customer_address', 'customer_login', 'customer_password'], 'Mailshot_Campaigns': ['mailshot_id', 'product_category', 'mailshot_name', 'mailshot_start_date', 'mailshot_end_date'], 'Customer_Addresses': ['customer_id', 'premise_id', 'date_address_from', 'address_type_code', 'date_address_to'], 'Customer_Orders': ['order_id', 'customer_id', 'order_status_code', 'shipping_method_code', 'order_placed_datetime', 'order_delivered_datetime', 'order_shipping_charges'], 'Mailshot_Customers': ['mailshot_id', 'customer_id', 'outcome_code', 'mailshot_customer_date'], 'Order_Items': ['item_id', 'order_item_status_code', 'order_id', 'product_id', 'item_status_code', 'item_delivered_datetime', 'item_order_quantity']}, 'customers_card_transactions': {'Accounts': ['account_id', 'customer_id', 'account_name', 'other_account_details'], 'Customers': ['customer_id', 'customer_first_name', 'customer_last_name', 'customer_address', 'customer_phone', 'customer_email', 'other_customer_details'], 'Customers_Cards': ['card_id', 'customer_id', 'card_type_code', 'card_number', 'date_valid_from', 'date_valid_to', 'other_card_details'], 'Financial_Transactions': ['transaction_id', 'previous_transaction_id', 'account_id', 'card_id', 'transaction_type', 'transaction_date', 'transaction_amount', 'transaction_comment', 'other_transaction_details']}, 'decoration_competition': {'college': ['College_ID', 'Name', 'Leader_Name', 'College_Location'], 'member': ['Member_ID', 'Name', 'Country', 'College_ID'], 'round': ['Round_ID', 'Member_ID', 'Decoration_Theme', 'Rank_in_Round']}, 'customers_and_invoices': {'Customers': ['customer_id', 'customer_first_name', 'customer_middle_initial', 'customer_last_name', 'gender', 'email_address', 'login_name', 'login_password', 'phone_number', 'town_city', 'state_county_province', 'country'], 'Orders': ['order_id', 'customer_id', 'date_order_placed', 'order_details'], 'Invoices': ['invoice_number', 'order_id', 'invoice_date'], 'Accounts': ['account_id', 'customer_id', 'date_account_opened', 'account_name', 'other_account_details'], 'Product_Categories': ['production_type_code', 'product_type_description', 'vat_rating'], 'Products': ['product_id', 'parent_product_id', 'production_type_code', 'unit_price', 'product_name', 'product_color', 'product_size'], 'Financial_Transactions': ['transaction_id', 'account_id', 'invoice_number', 'transaction_type', 'transaction_date', 'transaction_amount', 'transaction_comment', 'other_transaction_details'], 'Order_Items': ['order_item_id', 'order_id', 'product_id', 'product_quantity', 'other_order_item_details'], 'Invoice_Line_Items': ['order_item_id', 'invoice_number', 'product_id', 'product_title', 'product_quantity', 'product_price', 'derived_product_cost', 'derived_vat_payable', 'derived_total_cost']}, 'debate': {'people': ['People_ID', 'District', 'Name', 'Party', 'Age'], 'debate': ['Debate_ID', 'Date', 'Venue', 'Num_of_Audience'], 'debate_people': ['Debate_ID', 'Affirmative', 'Negative', 'If_Affirmative_Win']}, 'dog_kennels': {'Breeds': ['breed_code', 'breed_name'], 'Charges': ['charge_id', 'charge_type', 'charge_amount'], 'Sizes': ['size_code', 'size_description'], 'Treatment_Types': ['treatment_type_code', 'treatment_type_description'], 'Owners': ['owner_id', 'first_name', 'last_name', 'street', 'city', 'state', 'zip_code', 'email_address', 'home_phone', 'cell_number'], 'Dogs': ['dog_id', 'owner_id', 'abandoned_yn', 'breed_code', 'size_code', 'name', 'age', 'date_of_birth', 'gender', 'weight', 'date_arrived', 'date_adopted', 'date_departed'], 'Professionals': ['professional_id', 'role_code', 'first_name', 'street', 'city', 'state', 'zip_code', 'last_name', 'email_address', 'home_phone', 'cell_number'], 'Treatments': ['treatment_id', 'dog_id', 'professional_id', 'treatment_type_code', 'date_of_treatment', 'cost_of_treatment']}, 'employee_hire_evaluation': {'employee': ['Employee_ID', 'Name', 'Age', 'City'], 'shop': ['Shop_ID', 'Name', 'Location', 'District', 'Number_products', 'Manager_name'], 'hiring': ['Shop_ID', 'Employee_ID', 'Start_from', 'Is_full_time'], 'evaluation': ['Employee_ID', 'Year_awarded', 'Bonus']}, 'device': {'device': ['Device_ID', 'Device', 'Carrier', 'Package_Version', 'Applications', 'Software_Platform'], 'shop': ['Shop_ID', 'Shop_Name', 'Location', 'Open_Date', 'Open_Year'], 'stock': ['Shop_ID', 'Device_ID', 'Quantity']}, 'dorm_1': {'Student': ['StuID', 'LName', 'Fname', 'Age', 'Sex', 'Major', 'Advisor', 'city_code'], 'Dorm': ['dormid', 'dorm_name', 'student_capacity', 'gender'], 'Dorm_amenity': ['amenid', 'amenity_name'], 'Has_amenity': ['dormid', 'amenid'], 'Lives_in': ['stuid', 'dormid', 'room_number']}, 'document_management': {'Roles': ['role_code', 'role_description'], 'Users': ['user_id', 'role_code', 'user_name', 'user_login', 'password'], 'Document_Structures': ['document_structure_code', 'parent_document_structure_code', 'document_structure_description'], 'Functional_Areas': ['functional_area_code', 'parent_functional_area_code', 'functional_area_description'], 'Images': ['image_id', 'image_alt_text', 'image_name', 'image_url'], 'Documents': ['document_code', 'document_structure_code', 'document_type_code', 'access_count', 'document_name'], 'Document_Functional_Areas': ['document_code', 'functional_area_code'], 'Document_Sections': ['section_id', 'document_code', 'section_sequence', 'section_code', 'section_title'], 'Document_Sections_Images': ['section_id', 'image_id']}, 'entrepreneur': {'entrepreneur': ['Entrepreneur_ID', 'People_ID', 'Company', 'Money_Requested', 'Investor'], 'people': ['People_ID', 'Name', 'Height', 'Weight', 'Date_of_Birth']}, 'entertainment_awards': {'festival_detail': ['Festival_ID', 'Festival_Name', 'Chair_Name', 'Location', 'Year', 'Num_of_Audience'], 'artwork': ['Artwork_ID', 'Type', 'Name'], 'nomination': ['Artwork_ID', 'Festival_ID', 'Result']}, 'election': {'county': ['County_Id', 'County_name', 'Population', 'Zip_code'], 'party': ['Party_ID', 'Year', 'Party', 'Governor', 'Lieutenant_Governor', 'Comptroller', 'Attorney_General', 'US_Senate'], 'election': ['Election_ID', 'Counties_Represented', 'District', 'Delegate', 'Party', 'First_Elected', 'Committee']}, 'driving_school': {'Addresses': ['address_id', 'line_1_number_building', 'city', 'zip_postcode', 'state_province_county', 'country'], 'Staff': ['staff_id', 'staff_address_id', 'nickname', 'first_name', 'middle_name', 'last_name', 'date_of_birth', 'date_joined_staff', 'date_left_staff'], 'Vehicles': ['vehicle_id', 'vehicle_details'], 'Customers': ['customer_id', 'customer_address_id', 'customer_status_code', 'date_became_customer', 'date_of_birth', 'first_name', 'last_name', 'amount_outstanding', 'email_address', 'phone_number', 'cell_mobile_phone_number'], 'Customer_Payments': ['customer_id', 'datetime_payment', 'payment_method_code', 'amount_payment'], 'Lessons': ['lesson_id', 'customer_id', 'lesson_status_code', 'staff_id', 'vehicle_id', 'lesson_date', 'lesson_time', 'price']}, 'election_representative': {'election': ['Election_ID', 'Representative_ID', 'Date', 'Votes', 'Vote_Percent', 'Seats', 'Place'], 'representative': ['Representative_ID', 'Name', 'State', 'Party', 'Lifespan']}, 'flight_company': {'airport': ['id', 'City', 'Country', 'IATA', 'ICAO', 'name'], 'operate_company': ['id', 'name', 'Type', 'Principal_activities', 'Incorporated_in', 'Group_Equity_Shareholding'], 'flight': ['id', 'Vehicle_Flight_number', 'Date', 'Pilot', 'Velocity', 'Altitude', 'airport_id', 'company_id']}, 'epinions_1': {'item': ['i_id', 'title'], 'review': ['a_id', 'u_id', 'i_id', 'rating', 'rank'], 'useracct': ['u_id', 'name'], 'trust': ['source_u_id', 'target_u_id', 'trust']}, 'film_rank': {'film': ['Film_ID', 'Title', 'Studio', 'Director', 'Gross_in_dollar'], 'market': ['Market_ID', 'Country', 'Number_cities'], 'film_market_estimation': ['Estimation_ID', 'Low_Estimate', 'High_Estimate', 'Film_ID', 'Type', 'Market_ID', 'Year']}, 'flight_1': {'flight': ['flno', 'origin', 'destination', 'distance', 'departure_date', 'arrival_date', 'price', 'aid'], 'aircraft': ['aid', 'name', 'distance'], 'employee': ['eid', 'name', 'salary'], 'certificate': ['eid', 'aid']}, 'flight_2': {'airlines': ['uid', 'Airline', 'Abbreviation', 'Country'], 'airports': ['City', 'AirportCode', 'AirportName', 'Country', 'CountryAbbrev'], 'flights': ['Airline', 'FlightNo', 'SourceAirport', 'DestAirport']}, 'e_learning': {'Course_Authors_and_Tutors': ['author_id', 'author_tutor_ATB', 'login_name', 'password', 'personal_name', 'middle_name', 'family_name', 'gender_mf', 'address_line_1'], 'Students': ['student_id', 'date_of_registration', 'date_of_latest_logon', 'login_name', 'password', 'personal_name', 'middle_name', 'family_name'], 'Subjects': ['subject_id', 'subject_name'], 'Courses': ['course_id', 'author_id', 'subject_id', 'course_name', 'course_description'], 'Student_Course_Enrolment': ['registration_id', 'student_id', 'course_id', 'date_of_enrolment', 'date_of_completion'], 'Student_Tests_Taken': ['registration_id', 'date_test_taken', 'test_result']}, 'formula_1': {'circuits': ['circuitId', 'circuitRef', 'name', 'location', 'country', 'lat', 'lng', 'alt', 'url'], 'races': ['raceId', 'year', 'round', 'circuitId', 'name', 'date', 'time', 'url'], 'drivers': ['driverId', 'driverRef', 'number', 'code', 'forename', 'surname', 'dob', 'nationality', 'url'], 'status': ['statusId', 'status'], 'seasons': ['year', 'url'], 'constructors': ['constructorId', 'constructorRef', 'name', 'nationality', 'url'], 'constructorStandings': ['constructorStandingsId', 'raceId', 'constructorId', 'points', 'position', 'positionText', 'wins'], 'results': ['resultId', 'raceId', 'driverId', 'constructorId', 'number', 'grid', 'position', 'positionText', 'positionOrder', 'points', 'laps', 'time', 'milliseconds', 'fastestLap', 'rank', 'fastestLapTime', 'fastestLapSpeed', 'statusId'], 'driverStandings': ['driverStandingsId', 'raceId', 'driverId', 'points', 'position', 'positionText', 'wins'], 'constructorResults': ['constructorResultsId', 'raceId', 'constructorId', 'points', 'status'], 'qualifying': ['qualifyId', 'raceId', 'driverId', 'constructorId', 'number', 'position', 'q1', 'q2', 'q3'], 'pitStops': ['raceId', 'driverId', 'stop', 'lap', 'time', 'duration', 'milliseconds'], 'lapTimes': ['raceId', 'driverId', 'lap', 'position', 'time', 'milliseconds']}, 'e_government': {'Addresses': ['address_id', 'line_1_number_building', 'town_city', 'zip_postcode', 'state_province_county', 'country'], 'Services': ['service_id', 'service_type_code', 'service_name', 'service_descriptio'], 'Forms': ['form_id', 'form_type_code', 'service_id', 'form_number', 'form_name', 'form_description'], 'Individuals': ['individual_id', 'individual_first_name', 'individual_middle_name', 'inidividual_phone', 'individual_email', 'individual_address', 'individual_last_name'], 'Organizations': ['organization_id', 'date_formed', 'organization_name', 'uk_vat_number'], 'Parties': ['party_id', 'payment_method_code', 'party_phone', 'party_email'], 'Organization_Contact_Individuals': ['individual_id', 'organization_id', 'date_contact_from', 'date_contact_to'], 'Party_Addresses': ['party_id', 'address_id', 'date_address_from', 'address_type_code', 'date_address_to'], 'Party_Forms': ['party_id', 'form_id', 'date_completion_started', 'form_status_code', 'date_fully_completed'], 'Party_Services': ['booking_id', 'customer_id', 'service_id', 'service_datetime', 'booking_made_date']}, 'farm': {'city': ['City_ID', 'Official_Name', 'Status', 'Area_km_2', 'Population', 'Census_Ranking'], 'farm': ['Farm_ID', 'Year', 'Total_Horses', 'Working_Horses', 'Total_Cattle', 'Oxen', 'Bulls', 'Cows', 'Pigs', 'Sheep_and_Goats'], 'farm_competition': ['Competition_ID', 'Year', 'Theme', 'Host_city_ID', 'Hosts'], 'competition_record': ['Competition_ID', 'Farm_ID', 'Rank']}, 'flight_4': {'routes': ['rid', 'dst_apid', 'dst_ap', 'src_apid', 'src_ap', 'alid', 'airline', 'codeshare'], 'airports': ['apid', 'name', 'city', 'country', 'x', 'y', 'elevation', 'iata', 'icao'], 'airlines': ['alid', 'name', 'iata', 'icao', 'callsign', 'country', 'active']}, 'hr_1': {'regions': ['REGION_ID', 'REGION_NAME'], 'countries': ['COUNTRY_ID', 'COUNTRY_NAME', 'REGION_ID'], 'departments': ['DEPARTMENT_ID', 'DEPARTMENT_NAME', 'MANAGER_ID', 'LOCATION_ID'], 'jobs': ['JOB_ID', 'JOB_TITLE', 'MIN_SALARY', 'MAX_SALARY'], 'employees': ['EMPLOYEE_ID', 'FIRST_NAME', 'LAST_NAME', 'EMAIL', 'PHONE_NUMBER', 'HIRE_DATE', 'JOB_ID', 'SALARY', 'COMMISSION_PCT', 'MANAGER_ID', 'DEPARTMENT_ID'], 'job_history': ['EMPLOYEE_ID', 'START_DATE', 'END_DATE', 'JOB_ID', 'DEPARTMENT_ID'], 'locations': ['LOCATION_ID', 'STREET_ADDRESS', 'POSTAL_CODE', 'CITY', 'STATE_PROVINCE', 'COUNTRY_ID']}, 'imdb': {'actor': ['aid', 'gender', 'name', 'nationality', 'birth_city', 'birth_year'], 'copyright': ['id', 'msid', 'cid'], 'cast': ['id', 'msid', 'aid', 'role'], 'genre': ['gid', 'genre'], 'classification': ['id', 'msid', 'gid'], 'company': ['id', 'name', 'country_code'], 'director': ['did', 'gender', 'name', 'nationality', 'birth_city', 'birth_year'], 'producer': ['pid', 'gender', 'name', 'nationality', 'birth_city', 'birth_year'], 'directed_by': ['id', 'msid', 'did'], 'keyword': ['id', 'keyword'], 'made_by': ['id', 'msid', 'pid'], 'movie': ['mid', 'title', 'release_year', 'title_aka', 'budget'], 'tags': ['id', 'msid', 'kid'], 'tv_series': ['sid', 'title', 'release_year', 'num_of_seasons', 'num_of_episodes', 'title_aka', 'budget'], 'writer': ['wid', 'gender', 'name', 'nationality', 'num_of_episodes', 'birth_city', 'birth_year'], 'written_by': ['id', 'msid', 'wid']}, 'icfp_1': {'Inst': ['instID', 'name', 'country'], 'Authors': ['authID', 'lname', 'fname'], 'Papers': ['paperID', 'title'], 'Authorship': ['authID', 'instID', 'paperID', 'authOrder']}, 'geo': {'state': ['state_name', 'population', 'area', 'country_name', 'capital', 'density'], 'city': ['city_name', 'population', 'country_name', 'state_name'], 'border_info': ['state_name', 'border'], 'highlow': ['state_name', 'highest_elevation', 'lowest_point', 'highest_point', 'lowest_elevation'], 'lake': ['lake_name', 'area', 'country_name', 'state_name'], 'mountain': ['mountain_name', 'mountain_altitude', 'country_name', 'state_name'], 'river': ['river_name', 'length', 'country_name', 'traverse']}, 'gymnast': {'gymnast': ['Gymnast_ID', 'Floor_Exercise_Points', 'Pommel_Horse_Points', 'Rings_Points', 'Vault_Points', 'Parallel_Bars_Points', 'Horizontal_Bar_Points', 'Total_Points'], 'people': ['People_ID', 'Name', 'Age', 'Height', 'Hometown']}, 'game_injury': {'stadium': ['id', 'name', 'Home_Games', 'Average_Attendance', 'Total_Attendance', 'Capacity_Percentage'], 'game': ['stadium_id', 'id', 'Season', 'Date', 'Home_team', 'Away_team', 'Score', 'Competition'], 'injury_accident': ['game_id', 'id', 'Player', 'Injury', 'Number_of_matches', 'Source']}, 'game_1': {'Student': ['StuID', 'LName', 'Fname', 'Age', 'Sex', 'Major', 'Advisor', 'city_code'], 'Video_Games': ['GameID', 'GName', 'GType'], 'Plays_Games': ['StuID', 'GameID', 'Hours_Played'], 'SportsInfo': ['StuID', 'SportName', 'HoursPerWeek', 'GamesPlayed', 'OnScholarship']}, 'inn_1': {'Rooms': ['RoomId', 'roomName', 'beds', 'bedType', 'maxOccupancy', 'basePrice', 'decor'], 'Reservations': ['Code', 'Room', 'CheckIn', 'CheckOut', 'Rate', 'LastName', 'FirstName', 'Adults', 'Kids']}, 'gas_company': {'company': ['Company_ID', 'Rank', 'Company', 'Headquarters', 'Main_Industry', 'Sales_billion', 'Profits_billion', 'Assets_billion', 'Market_Value'], 'gas_station': ['Station_ID', 'Open_Year', 'Location', 'Manager_Name', 'Vice_Manager_Name', 'Representative_Name'], 'station_company': ['Station_ID', 'Company_ID', 'Rank_of_the_Year']}, 'hospital_1': {'Physician': ['EmployeeID', 'Name', 'Position', 'SSN'], 'Department': ['DepartmentID', 'Name', 'Head'], 'Affiliated_With': ['Physician', 'Department', 'PrimaryAffiliation'], 'Procedures': ['Code', 'Name', 'Cost'], 'Trained_In': ['Physician', 'Treatment', 'CertificationDate', 'CertificationExpires'], 'Patient': ['SSN', 'Name', 'Address', 'Phone', 'InsuranceID', 'PCP'], 'Nurse': ['EmployeeID', 'Name', 'Position', 'Registered', 'SSN'], 'Appointment': ['AppointmentID', 'Patient', 'PrepNurse', 'Physician', 'Start', 'End', 'ExaminationRoom'], 'Medication': ['Code', 'Name', 'Brand', 'Description'], 'Prescribes': ['Physician', 'Patient', 'Medication', 'Date', 'Appointment', 'Dose'], 'Block': ['BlockFloor', 'BlockCode'], 'Room': ['RoomNumber', 'RoomType', 'BlockFloor', 'BlockCode', 'Unavailable'], 'On_Call': ['Nurse', 'BlockFloor', 'BlockCode', 'OnCallStart', 'OnCallEnd'], 'Stay': ['StayID', 'Patient', 'Room', 'StayStart', 'StayEnd'], 'Undergoes': ['Patient', 'Procedures', 'Stay', 'DateUndergoes', 'Physician', 'AssistingNurse']}, 'insurance_policies': {'Customers': ['Customer_ID', 'Customer_Details'], 'Customer_Policies': ['Policy_ID', 'Customer_ID', 'Policy_Type_Code', 'Start_Date', 'End_Date'], 'Claims': ['Claim_ID', 'Policy_ID', 'Date_Claim_Made', 'Date_Claim_Settled', 'Amount_Claimed', 'Amount_Settled'], 'Settlements': ['Settlement_ID', 'Claim_ID', 'Date_Claim_Made', 'Date_Claim_Settled', 'Amount_Claimed', 'Amount_Settled', 'Customer_Policy_ID'], 'Payments': ['Payment_ID', 'Settlement_ID', 'Payment_Method_Code', 'Date_Payment_Made', 'Amount_Payment']}, 'insurance_and_eClaims': {'Customers': ['Customer_ID', 'Customer_Details'], 'Staff': ['Staff_ID', 'Staff_Details'], 'Policies': ['Policy_ID', 'Customer_ID', 'Policy_Type_Code', 'Start_Date', 'End_Date'], 'Claim_Headers': ['Claim_Header_ID', 'Claim_Status_Code', 'Claim_Type_Code', 'Policy_ID', 'Date_of_Claim', 'Date_of_Settlement', 'Amount_Claimed', 'Amount_Piad'], 'Claims_Documents': ['Claim_ID', 'Document_Type_Code', 'Created_by_Staff_ID', 'Created_Date'], 'Claims_Processing_Stages': ['Claim_Stage_ID', 'Next_Claim_Stage_ID', 'Claim_Status_Name', 'Claim_Status_Description'], 'Claims_Processing': ['Claim_Processing_ID', 'Claim_ID', 'Claim_Outcome_Code', 'Claim_Stage_ID', 'Staff_ID']}, 'local_govt_and_lot': {'Customers': ['customer_id', 'customer_details'], 'Properties': ['property_id', 'property_type_code', 'property_address', 'other_details'], 'Residents': ['resident_id', 'property_id', 'date_moved_in', 'date_moved_out', 'other_details'], 'Organizations': ['organization_id', 'parent_organization_id', 'organization_details'], 'Services': ['service_id', 'organization_id', 'service_type_code', 'service_details'], 'Residents_Services': ['resident_id', 'service_id', 'date_moved_in', 'property_id', 'date_requested', 'date_provided', 'other_details'], 'Things': ['thing_id', 'organization_id', 'Type_of_Thing_Code', 'service_type_code', 'service_details'], 'Customer_Events': ['Customer_Event_ID', 'customer_id', 'date_moved_in', 'property_id', 'resident_id', 'thing_id'], 'Customer_Event_Notes': ['Customer_Event_Note_ID', 'Customer_Event_ID', 'service_type_code', 'resident_id', 'property_id', 'date_moved_in'], 'Timed_Status_of_Things': ['thing_id', 'Date_and_Date', 'Status_of_Thing_Code'], 'Timed_Locations_of_Things': ['thing_id', 'Date_and_Time', 'Location_Code']}, 'manufactory_1': {'Manufacturers': ['Code', 'Name', 'Headquarter', 'Founder', 'Revenue'], 'Products': ['Code', 'Name', 'Price', 'Manufacturer']}, 'insurance_fnol': {'Customers': ['Customer_ID', 'Customer_name'], 'Services': ['Service_ID', 'Service_name'], 'Available_Policies': ['Policy_ID', 'policy_type_code', 'Customer_Phone'], 'Customers_Policies': ['Customer_ID', 'Policy_ID', 'Date_Opened', 'Date_Closed'], 'First_Notification_of_Loss': ['FNOL_ID', 'Customer_ID', 'Policy_ID', 'Service_ID'], 'Claims': ['Claim_ID', 'FNOL_ID', 'Effective_Date'], 'Settlements': ['Settlement_ID', 'Claim_ID', 'Effective_Date', 'Settlement_Amount']}, 'local_govt_in_alabama': {'Services': ['Service_ID', 'Service_Type_Code'], 'Participants': ['Participant_ID', 'Participant_Type_Code', 'Participant_Details'], 'Events': ['Event_ID', 'Service_ID', 'Event_Details'], 'Participants_in_Events': ['Event_ID', 'Participant_ID']}, 'loan_1': {'bank': ['branch_ID', 'bname', 'no_of_customers', 'city', 'state'], 'customer': ['cust_ID', 'cust_name', 'acc_type', 'acc_bal', 'no_of_loans', 'credit_score', 'branch_ID', 'state'], 'loan': ['loan_ID', 'loan_type', 'cust_ID', 'branch_ID', 'amount']}, 'local_govt_mdm': {'Customer_Master_Index': ['master_customer_id', 'cmi_details'], 'CMI_Cross_References': ['cmi_cross_ref_id', 'master_customer_id', 'source_system_code'], 'Council_Tax': ['council_tax_id', 'cmi_cross_ref_id'], 'Business_Rates': ['business_rates_id', 'cmi_cross_ref_id'], 'Benefits_Overpayments': ['council_tax_id', 'cmi_cross_ref_id'], 'Parking_Fines': ['council_tax_id', 'cmi_cross_ref_id'], 'Rent_Arrears': ['council_tax_id', 'cmi_cross_ref_id'], 'Electoral_Register': ['electoral_register_id', 'cmi_cross_ref_id']}, 'journal_committee': {'journal': ['Journal_ID', 'Date', 'Theme', 'Sales'], 'editor': ['Editor_ID', 'Name', 'Age'], 'journal_committee': ['Editor_ID', 'Journal_ID', 'Work_Type']}, 'machine_repair': {'repair': ['repair_ID', 'name', 'Launch_Date', 'Notes'], 'machine': ['Machine_ID', 'Making_Year', 'Class', 'Team', 'Machine_series', 'value_points', 'quality_rank'], 'technician': ['technician_id', 'Name', 'Team', 'Starting_Year', 'Age'], 'repair_assignment': ['technician_id', 'repair_ID', 'Machine_ID']}, 'music_2': {'Songs': ['SongId', 'Title'], 'Albums': ['AId', 'Title', 'Year', 'Label', 'Type'], 'Band': ['Id', 'Firstname', 'Lastname'], 'Instruments': ['SongId', 'BandmateId', 'Instrument'], 'Performance': ['SongId', 'Bandmate', 'StagePosition'], 'Tracklists': ['AlbumId', 'Position', 'SongId'], 'Vocals': ['SongId', 'Bandmate', 'Type']}, 'musical': {'musical': ['Musical_ID', 'Name', 'Year', 'Award', 'Category', 'Nominee', 'Result'], 'actor': ['Actor_ID', 'Name', 'Musical_ID', 'Character', 'Duration', 'age']}, 'music_1': {'genre': ['g_name', 'rating', 'most_popular_in'], 'artist': ['artist_name', 'country', 'gender', 'preferred_genre'], 'files': ['f_id', 'artist_name', 'file_size', 'duration', 'formats'], 'song': ['song_name', 'artist_name', 'country', 'f_id', 'genre_is', 'rating', 'languages', 'releasedate', 'resolution']}, 'museum_visit': {'museum': ['Museum_ID', 'Name', 'Num_of_Staff', 'Open_Year'], 'visitor': ['ID', 'Name', 'Level_of_membership', 'Age'], 'visit': ['Museum_ID', 'visitor_ID', 'Num_of_Ticket', 'Total_spent']}, 'mountain_photos': {'mountain': ['id', 'name', 'Height', 'Prominence', 'Range', 'Country'], 'camera_lens': ['id', 'brand', 'name', 'focal_length_mm', 'max_aperture'], 'photos': ['id', 'camera_lens_id', 'mountain_id', 'color', 'name']}, 'music_4': {'artist': ['Artist_ID', 'Artist', 'Age', 'Famous_Title', 'Famous_Release_date'], 'volume': ['Volume_ID', 'Volume_Issue', 'Issue_Date', 'Weeks_on_Top', 'Song', 'Artist_ID'], 'music_festival': ['ID', 'Music_Festival', 'Date_of_ceremony', 'Category', 'Volume', 'Result']}, 'match_season': {'country': ['Country_id', 'Country_name', 'Capital', 'Official_native_language'], 'team': ['Team_id', 'Name'], 'match_season': ['Season', 'Player', 'Position', 'Country', 'Team', 'Draft_Pick_Number', 'Draft_Class', 'College'], 'player': ['Player_ID', 'Player', 'Years_Played', 'Total_WL', 'Singles_WL', 'Doubles_WL', 'Team']}, 'manufacturer': {'manufacturer': ['Manufacturer_ID', 'Open_Year', 'Name', 'Num_of_Factories', 'Num_of_Shops'], 'furniture': ['Furniture_ID', 'Name', 'Num_of_Component', 'Market_Rate'], 'furniture_manufacte': ['Manufacturer_ID', 'Furniture_ID', 'Price_in_Dollar']}, 'movie_1': {'Movie': ['mID', 'title', 'year', 'director'], 'Reviewer': ['rID', 'name'], 'Rating': ['rID', 'mID', 'stars', 'ratingDate']}, 'medicine_enzyme_interaction': {'medicine': ['id', 'name', 'Trade_Name', 'FDA_approved'], 'enzyme': ['id', 'name', 'Location', 'Product', 'Chromosome', 'OMIM', 'Porphyria'], 'medicine_enzyme_interaction': ['enzyme_id', 'medicine_id', 'interaction_type']}, 'network_1': {'Highschooler': ['ID', 'name', 'grade'], 'Friend': ['student_id', 'friend_id'], 'Likes': ['student_id', 'liked_id']}, 'news_report': {'event': ['Event_ID', 'Date', 'Venue', 'Name', 'Event_Attendance'], 'journalist': ['journalist_ID', 'Name', 'Nationality', 'Age', 'Years_working'], 'news_report': ['journalist_ID', 'Event_ID', 'Work_Type']}, 'party_people': {'region': ['Region_ID', 'Region_name', 'Date', 'Label', 'Format', 'Catalogue'], 'party': ['Party_ID', 'Minister', 'Took_office', 'Left_office', 'Region_ID', 'Party_name'], 'member': ['Member_ID', 'Member_Name', 'Party_ID', 'In_office'], 'party_events': ['Event_ID', 'Event_Name', 'Party_ID', 'Member_in_charge_ID']}, 'performance_attendance': {'member': ['Member_ID', 'Name', 'Nationality', 'Role'], 'performance': ['Performance_ID', 'Date', 'Host', 'Location', 'Attendance'], 'member_attendance': ['Member_ID', 'Performance_ID', 'Num_of_Pieces']}, 'network_2': {'Person': ['name', 'age', 'city', 'gender', 'job'], 'PersonFriend': ['name', 'friend', 'year']}, 'orchestra': {'conductor': ['Conductor_ID', 'Name', 'Age', 'Nationality', 'Year_of_Work'], 'orchestra': ['Orchestra_ID', 'Orchestra', 'Conductor_ID', 'Record_Company', 'Year_of_Founded', 'Major_Record_Format'], 'performance': ['Performance_ID', 'Orchestra_ID', 'Type', 'Date', 'Official_ratings_(millions)', 'Weekly_rank', 'Share'], 'show': ['Show_ID', 'Performance_ID', 'If_first_show', 'Result', 'Attendance']}, 'party_host': {'party': ['Party_ID', 'Party_Theme', 'Location', 'First_year', 'Last_year', 'Number_of_hosts'], 'host': ['Host_ID', 'Name', 'Nationality', 'Age'], 'party_host': ['Party_ID', 'Host_ID', 'Is_Main_in_Charge']}, 'pets_1': {'Student': ['StuID', 'LName', 'Fname', 'Age', 'Sex', 'Major', 'Advisor', 'city_code'], 'Has_Pet': ['StuID', 'PetID'], 'Pets': ['PetID', 'PetType', 'pet_age', 'weight']}, 'phone_1': {'chip_model': ['Model_name', 'Launch_year', 'RAM_MiB', 'ROM_MiB', 'Slots', 'WiFi', 'Bluetooth'], 'screen_mode': ['Graphics_mode', 'Char_cells', 'Pixels', 'Hardware_colours', 'used_kb', 'map', 'Type'], 'phone': ['Company_name', 'Hardware_Model_name', 'Accreditation_type', 'Accreditation_level', 'Date', 'chip_model', 'screen_mode']}, 'perpetrator': {'perpetrator': ['Perpetrator_ID', 'People_ID', 'Date', 'Year', 'Location', 'Country', 'Killed', 'Injured'], 'people': ['People_ID', 'Name', 'Height', 'Weight', 'Home Town']}, 'products_for_hire': {'Discount_Coupons': ['coupon_id', 'date_issued', 'coupon_amount'], 'Customers': ['customer_id', 'coupon_id', 'good_or_bad_customer', 'first_name', 'last_name', 'gender_mf', 'date_became_customer', 'date_last_hire'], 'Bookings': ['booking_id', 'customer_id', 'booking_status_code', 'returned_damaged_yn', 'booking_start_date', 'booking_end_date', 'count_hired', 'amount_payable', 'amount_of_discount', 'amount_outstanding', 'amount_of_refund'], 'Products_for_Hire': ['product_id', 'product_type_code', 'daily_hire_cost', 'product_name', 'product_description'], 'Payments': ['payment_id', 'booking_id', 'customer_id', 'payment_type_code', 'amount_paid_in_full_yn', 'payment_date', 'amount_due', 'amount_paid'], 'Products_Booked': ['booking_id', 'product_id', 'returned_yn', 'returned_late_yn', 'booked_count', 'booked_amount'], 'View_Product_Availability': ['product_id', 'booking_id', 'status_date', 'available_yn']}, 'pilot_record': {'aircraft': ['Aircraft_ID', 'Order_Year', 'Manufacturer', 'Model', 'Fleet_Series', 'Powertrain', 'Fuel_Propulsion'], 'pilot': ['Pilot_ID', 'Pilot_name', 'Rank', 'Age', 'Nationality', 'Position', 'Join_Year', 'Team'], 'pilot_record': ['Record_ID', 'Pilot_ID', 'Aircraft_ID', 'Date']}, 'race_track': {'race': ['Race_ID', 'Name', 'Class', 'Date', 'Track_ID'], 'track': ['Track_ID', 'Name', 'Location', 'Seating', 'Year_Opened']}, 'protein_institute': {'building': ['building_id', 'Name', 'Street_address', 'Years_as_tallest', 'Height_feet', 'Floors'], 'Institution': ['Institution_id', 'Institution', 'Location', 'Founded', 'Type', 'Enrollment', 'Team', 'Primary_Conference', 'building_id'], 'protein': ['common_name', 'protein_name', 'divergence_from_human_lineage', 'accession_number', 'sequence_length', 'sequence_identity_to_human_protein', 'Institution_id']}, 'railway': {'railway': ['Railway_ID', 'Railway', 'Builder', 'Built', 'Wheels', 'Location', 'ObjectNumber'], 'train': ['Train_ID', 'Train_Num', 'Name', 'From', 'Arrival', 'Railway_ID'], 'manager': ['Manager_ID', 'Name', 'Country', 'Working_year_starts', 'Age', 'Level'], 'railway_manage': ['Railway_ID', 'Manager_ID', 'From_Year']}, 'product_catalog': {'Attribute_Definitions': ['attribute_id', 'attribute_name', 'attribute_data_type'], 'Catalogs': ['catalog_id', 'catalog_name', 'catalog_publisher', 'date_of_publication', 'date_of_latest_revision'], 'Catalog_Structure': ['catalog_level_number', 'catalog_id', 'catalog_level_name'], 'Catalog_Contents': ['catalog_entry_id', 'catalog_level_number', 'parent_entry_id', 'previous_entry_id', 'next_entry_id', 'catalog_entry_name', 'product_stock_number', 'price_in_dollars', 'price_in_euros', 'price_in_pounds', 'capacity', 'length', 'height', 'width'], 'Catalog_Contents_Additional_Attributes': ['catalog_entry_id', 'catalog_level_number', 'attribute_id', 'attribute_value']}, 'poker_player': {'poker_player': ['Poker_Player_ID', 'People_ID', 'Final_Table_Made', 'Best_Finish', 'Money_Rank', 'Earnings'], 'people': ['People_ID', 'Nationality', 'Name', 'Birth_Date', 'Height']}, 'program_share': {'program': ['Program_ID', 'Name', 'Origin', 'Launch', 'Owner'], 'channel': ['Channel_ID', 'Name', 'Owner', 'Share_in_percent', 'Rating_in_percent'], 'broadcast': ['Channel_ID', 'Program_ID', 'Time_of_day'], 'broadcast_share': ['Channel_ID', 'Program_ID', 'Date', 'Share_in_percent']}, 'products_gen_characteristics': {'Ref_Characteristic_Types': ['characteristic_type_code', 'characteristic_type_description'], 'Ref_Colors': ['color_code', 'color_description'], 'Ref_Product_Categories': ['product_category_code', 'product_category_description', 'unit_of_measure'], 'Characteristics': ['characteristic_id', 'characteristic_type_code', 'characteristic_data_type', 'characteristic_name', 'other_characteristic_details'], 'Products': ['product_id', 'color_code', 'product_category_code', 'product_name', 'typical_buying_price', 'typical_selling_price', 'product_description', 'other_product_details'], 'Product_Characteristics': ['product_id', 'characteristic_id', 'product_characteristic_value']}, 'phone_market': {'phone': ['Name', 'Phone_ID', 'Memory_in_G', 'Carrier', 'Price'], 'market': ['Market_ID', 'District', 'Num_of_employees', 'Num_of_shops', 'Ranking'], 'phone_market': ['Market_ID', 'Phone_ID', 'Num_of_stock']}, 'restaurant_1': {'Student': ['StuID', 'LName', 'Fname', 'Age', 'Sex', 'Major', 'Advisor', 'city_code'], 'Restaurant': ['ResID', 'ResName', 'Address', 'Rating'], 'Type_Of_Restaurant': ['ResID', 'ResTypeID'], 'Restaurant_Type': ['ResTypeID', 'ResTypeName', 'ResTypeDescription'], 'Visits_Restaurant': ['StuID', 'ResID', 'Time', 'Spent']}, 'roller_coaster': {'roller_coaster': ['Roller_Coaster_ID', 'Name', 'Park', 'Country_ID', 'Length', 'Height', 'Speed', 'Opened', 'Status'], 'country': ['Country_ID', 'Name', 'Population', 'Area', 'Languages']}, 'restaurants': {'GEOGRAPHIC': ['CITY_NAME', 'COUNTY', 'REGION'], 'RESTAURANT': ['ID', 'NAME', 'FOOD_TYPE', 'CITY_NAME', 'RATING'], 'LOCATION': ['RESTAURANT_ID', 'HOUSE_NUMBER', 'STREET_NAME', 'CITY_NAME']}, 'sakila_1': {'actor': ['actor_id', 'first_name', 'last_name', 'last_update'], 'address': ['address_id', 'address', 'address2', 'district', 'city_id', 'postal_code', 'phone', 'last_update'], 'category': ['category_id', 'name', 'last_update'], 'city': ['city_id', 'city', 'country_id', 'last_update'], 'country': ['country_id', 'country', 'last_update'], 'customer': ['customer_id', 'store_id', 'first_name', 'last_name', 'email', 'address_id', 'active', 'create_date', 'last_update'], 'film': ['film_id', 'title', 'description', 'release_year', 'language_id', 'original_language_id', 'rental_duration', 'rental_rate', 'length', 'replacement_cost', 'rating', 'special_features', 'last_update'], 'film_actor': ['actor_id', 'film_id', 'last_update'], 'film_category': ['film_id', 'category_id', 'last_update'], 'film_text': ['film_id', 'title', 'description'], 'inventory': ['inventory_id', 'film_id', 'store_id', 'last_update'], 'language': ['language_id', 'name', 'last_update'], 'payment': ['payment_id', 'customer_id', 'staff_id', 'rental_id', 'amount', 'payment_date', 'last_update'], 'rental': ['rental_id', 'rental_date', 'inventory_id', 'customer_id', 'return_date', 'staff_id', 'last_update'], 'staff': ['staff_id', 'first_name', 'last_name', 'address_id', 'picture', 'email', 'store_id', 'active', 'username', 'password', 'last_update'], 'store': ['store_id', 'manager_staff_id', 'address_id', 'last_update']}, 'scholar': {'venue': ['venueId', 'venueName'], 'author': ['authorId', 'authorName'], 'dataset': ['datasetId', 'datasetName'], 'journal': ['journalId', 'journalName'], 'keyphrase': ['keyphraseId', 'keyphraseName'], 'paper': ['paperId', 'title', 'venueId', 'year', 'numCiting', 'numCitedBy', 'journalId'], 'cite': ['citingPaperId', 'citedPaperId'], 'paperDataset': ['paperId', 'datasetId'], 'paperKeyphrase': ['paperId', 'keyphraseId'], 'writes': ['paperId', 'authorId']}, 'school_bus': {'driver': ['Driver_ID', 'Name', 'Party', 'Home_city', 'Age'], 'school': ['School_ID', 'Grade', 'School', 'Location', 'Type'], 'school_bus': ['School_ID', 'Driver_ID', 'Years_Working', 'If_full_time']}, 'school_player': {'school': ['School_ID', 'School', 'Location', 'Enrollment', 'Founded', 'Denomination', 'Boys_or_Girls', 'Day_or_Boarding', 'Year_Entered_Competition', 'School_Colors'], 'school_details': ['School_ID', 'Nickname', 'Colors', 'League', 'Class', 'Division'], 'school_performance': ['School_Id', 'School_Year', 'Class_A', 'Class_AA'], 'player': ['Player_ID', 'Player', 'Team', 'Age', 'Position', 'School_ID']}, 'riding_club': {'player': ['Player_ID', 'Sponsor_name', 'Player_name', 'Gender', 'Residence', 'Occupation', 'Votes', 'Rank'], 'club': ['Club_ID', 'Club_name', 'Region', 'Start_year'], 'coach': ['Coach_ID', 'Coach_name', 'Gender', 'Club_ID', 'Rank'], 'player_coach': ['Player_ID', 'Coach_ID', 'Starting_year'], 'match_result': ['Rank', 'Club_ID', 'Gold', 'Big_Silver', 'Small_Silver', 'Bronze', 'Points']}, 'school_finance': {'School': ['School_id', 'School_name', 'Location', 'Mascot', 'Enrollment', 'IHSAA_Class', 'IHSAA_Football_Class', 'County'], 'budget': ['School_id', 'Year', 'Budgeted', 'total_budget_percent_budgeted', 'Invested', 'total_budget_percent_invested', 'Budget_invested_percent'], 'endowment': ['endowment_id', 'School_id', 'donator_name', 'amount']}, 'real_estate_properties': {'Ref_Feature_Types': ['feature_type_code', 'feature_type_name'], 'Ref_Property_Types': ['property_type_code', 'property_type_description'], 'Other_Available_Features': ['feature_id', 'feature_type_code', 'feature_name', 'feature_description'], 'Properties': ['property_id', 'property_type_code', 'date_on_market', 'date_sold', 'property_name', 'property_address', 'room_count', 'vendor_requested_price', 'buyer_offered_price', 'agreed_selling_price', 'apt_feature_1', 'apt_feature_2', 'apt_feature_3', 'fld_feature_1', 'fld_feature_2', 'fld_feature_3', 'hse_feature_1', 'hse_feature_2', 'hse_feature_3', 'oth_feature_1', 'oth_feature_2', 'oth_feature_3', 'shp_feature_1', 'shp_feature_2', 'shp_feature_3', 'other_property_details'], 'Other_Property_Features': ['property_id', 'feature_id', 'property_feature_description']}, 'soccer_2': {'College': ['cName', 'state', 'enr'], 'Player': ['pID', 'pName', 'yCard', 'HS'], 'Tryout': ['pID', 'cName', 'pPos', 'decision']}, 'soccer_1': {'Player_Attributes': ['id', 'player_fifa_api_id', 'player_api_id', 'date', 'overall_rating', 'potential', 'preferred_foot', 'attacking_work_rate', 'defensive_work_rate', 'crossing', 'finishing', 'heading_accuracy', 'short_passing', 'volleys', 'dribbling', 'curve', 'free_kick_accuracy', 'long_passing', 'ball_control', 'acceleration', 'sprint_speed', 'agility', 'reactions', 'balance', 'shot_power', 'jumping', 'stamina', 'strength', 'long_shots', 'aggression', 'interceptions', 'positioning', 'vision', 'penalties', 'marking', 'standing_tackle', 'sliding_tackle', 'gk_diving', 'gk_handling', 'gk_kicking', 'gk_positioning', 'gk_reflexes'], 'sqlite_sequence': ['name', 'seq'], 'Player': ['id', 'player_api_id', 'player_name', 'player_fifa_api_id', 'birthday', 'height', 'weight'], 'League': ['id', 'country_id', 'name'], 'Country': ['id', 'name'], 'Team': ['id', 'team_api_id', 'team_fifa_api_id', 'team_long_name', 'team_short_name'], 'Team_Attributes': ['id', 'team_fifa_api_id', 'team_api_id', 'date', 'buildUpPlaySpeed', 'buildUpPlaySpeedClass', 'buildUpPlayDribbling', 'buildUpPlayDribblingClass', 'buildUpPlayPassing', 'buildUpPlayPassingClass', 'buildUpPlayPositioningClass', 'chanceCreationPassing', 'chanceCreationPassingClass', 'chanceCreationCrossing', 'chanceCreationCrossingClass', 'chanceCreationShooting', 'chanceCreationShootingClass', 'chanceCreationPositioningClass', 'defencePressure', 'defencePressureClass', 'defenceAggression', 'defenceAggressionClass', 'defenceTeamWidth', 'defenceTeamWidthClass', 'defenceDefenderLineClass']}, 'singer': {'singer': ['Singer_ID', 'Name', 'Birth_Year', 'Net_Worth_Millions', 'Citizenship'], 'song': ['Song_ID', 'Title', 'Singer_ID', 'Sales', 'Highest_Position']}, 'shop_membership': {'member': ['Member_ID', 'Card_Number', 'Name', 'Hometown', 'Level'], 'branch': ['Branch_ID', 'Name', 'Open_year', 'Address_road', 'City', 'membership_amount'], 'membership_register_branch': ['Member_ID', 'Branch_ID', 'Register_Year'], 'purchase': ['Member_ID', 'Branch_ID', 'Year', 'Total_pounds']}, 'solvency_ii': {'Addresses': ['Address_ID', 'address_details'], 'Locations': ['Location_ID', 'Other_Details'], 'Products': ['Product_ID', 'Product_Type_Code', 'Product_Name', 'Product_Price'], 'Parties': ['Party_ID', 'Party_Details'], 'Assets': ['Asset_ID', 'Other_Details'], 'Channels': ['Channel_ID', 'Other_Details'], 'Finances': ['Finance_ID', 'Other_Details'], 'Events': ['Event_ID', 'Address_ID', 'Channel_ID', 'Event_Type_Code', 'Finance_ID', 'Location_ID'], 'Products_in_Events': ['Product_in_Event_ID', 'Event_ID', 'Product_ID'], 'Parties_in_Events': ['Party_ID', 'Event_ID', 'Role_Code'], 'Agreements': ['Document_ID', 'Event_ID'], 'Assets_in_Events': ['Asset_ID', 'Event_ID']}, 'ship_1': {'captain': ['Captain_ID', 'Name', 'Ship_ID', 'age', 'Class', 'Rank'], 'Ship': ['Ship_ID', 'Name', 'Type', 'Built_Year', 'Class', 'Flag']}, 'scientist_1': {'Scientists': ['SSN', 'Name'], 'Projects': ['Code', 'Name', 'Hours'], 'AssignedTo': ['Scientist', 'Project']}, 'sports_competition': {'club': ['Club_ID', 'name', 'Region', 'Start_year'], 'club_rank': ['Rank', 'Club_ID', 'Gold', 'Silver', 'Bronze', 'Total'], 'player': ['Player_ID', 'name', 'Position', 'Club_ID', 'Apps', 'Tries', 'Goals', 'Points'], 'competition': ['Competition_ID', 'Year', 'Competition_type', 'Country'], 'competition_result': ['Competition_ID', 'Club_ID_1', 'Club_ID_2', 'Score']}, 'ship_mission': {'mission': ['Mission_ID', 'Ship_ID', 'Code', 'Launched_Year', 'Location', 'Speed_knots', 'Fate'], 'ship': ['Ship_ID', 'Name', 'Type', 'Nationality', 'Tonnage']}, 'small_bank_1': {'ACCOUNTS': ['custid', 'name'], 'SAVINGS': ['custid', 'balance'], 'CHECKING': ['custid', 'balance']}, 'store_1': {'artists': ['id', 'name'], 'sqlite_sequence': ['name', 'seq'], 'albums': ['id', 'title', 'artist_id'], 'employees': ['id', 'last_name', 'first_name', 'title', 'reports_to', 'birth_date', 'hire_date', 'address', 'city', 'state', 'country', 'postal_code', 'phone', 'fax', 'email'], 'customers': ['id', 'first_name', 'last_name', 'company', 'address', 'city', 'state', 'country', 'postal_code', 'phone', 'fax', 'email', 'support_rep_id'], 'genres': ['id', 'name'], 'invoices': ['id', 'customer_id', 'invoice_date', 'billing_address', 'billing_city', 'billing_state', 'billing_country', 'billing_postal_code', 'total'], 'media_types': ['id', 'name'], 'tracks': ['id', 'name', 'album_id', 'media_type_id', 'genre_id', 'composer', 'milliseconds', 'bytes', 'unit_price'], 'invoice_lines': ['id', 'invoice_id', 'track_id', 'unit_price', 'quantity'], 'playlists': ['id', 'name'], 'playlist_tracks': ['playlist_id', 'track_id']}, 'student_transcripts_tracking': {'Addresses': ['address_id', 'line_1', 'line_2', 'line_3', 'city', 'zip_postcode', 'state_province_county', 'country', 'other_address_details'], 'Courses': ['course_id', 'course_name', 'course_description', 'other_details'], 'Departments': ['department_id', 'department_name', 'department_description', 'other_details'], 'Degree_Programs': ['degree_program_id', 'department_id', 'degree_summary_name', 'degree_summary_description', 'other_details'], 'Sections': ['section_id', 'course_id', 'section_name', 'section_description', 'other_details'], 'Semesters': ['semester_id', 'semester_name', 'semester_description', 'other_details'], 'Students': ['student_id', 'current_address_id', 'permanent_address_id', 'first_name', 'middle_name', 'last_name', 'cell_mobile_number', 'email_address', 'ssn', 'date_first_registered', 'date_left', 'other_student_details'], 'Student_Enrolment': ['student_enrolment_id', 'degree_program_id', 'semester_id', 'student_id', 'other_details'], 'Student_Enrolment_Courses': ['student_course_id', 'course_id', 'student_enrolment_id'], 'Transcripts': ['transcript_id', 'transcript_date', 'other_details'], 'Transcript_Contents': ['student_course_id', 'transcript_id']}, 'storm_record': {'storm': ['Storm_ID', 'Name', 'Dates_active', 'Max_speed', 'Damage_millions_USD', 'Number_Deaths'], 'region': ['Region_id', 'Region_code', 'Region_name'], 'affected_region': ['Region_id', 'Storm_ID', 'Number_city_affected']}, 'theme_gallery': {'artist': ['Artist_ID', 'Name', 'Country', 'Year_Join', 'Age'], 'exhibition': ['Exhibition_ID', 'Year', 'Theme', 'Artist_ID', 'Ticket_Price'], 'exhibition_record': ['Exhibition_ID', 'Date', 'Attendance']}, 'swimming': {'swimmer': ['ID', 'name', 'Nationality', 'meter_100', 'meter_200', 'meter_300', 'meter_400', 'meter_500', 'meter_600', 'meter_700', 'Time'], 'stadium': ['ID', 'name', 'Capacity', 'City', 'Country', 'Opening_year'], 'event': ['ID', 'Name', 'Stadium_ID', 'Year'], 'record': ['ID', 'Result', 'Swimmer_ID', 'Event_ID']}, 'station_weather': {'train': ['id', 'train_number', 'name', 'origin', 'destination', 'time', 'interval'], 'station': ['id', 'network_name', 'services', 'local_authority'], 'route': ['train_id', 'station_id'], 'weekly_weather': ['station_id', 'day_of_week', 'high_temperature', 'low_temperature', 'precipitation', 'wind_speed_mph']}, 'student_1': {'list': ['LastName', 'FirstName', 'Grade', 'Classroom'], 'teachers': ['LastName', 'FirstName', 'Classroom']}, 'store_product': {'product': ['product_id', 'product', 'dimensions', 'dpi', 'pages_per_minute_color', 'max_page_size', 'interface'], 'store': ['Store_ID', 'Store_Name', 'Type', 'Area_size', 'Number_of_product_category', 'Ranking'], 'district': ['District_ID', 'District_name', 'Headquartered_City', 'City_Population', 'City_Area'], 'store_product': ['Store_ID', 'Product_ID'], 'store_district': ['Store_ID', 'District_ID']}, 'tracking_grants_for_research': {'Document_Types': ['document_type_code', 'document_description'], 'Documents': ['document_id', 'document_type_code', 'grant_id', 'sent_date', 'response_received_date', 'other_details'], 'Grants': ['grant_id', 'organisation_id', 'grant_amount', 'grant_start_date', 'grant_end_date', 'other_details'], 'Organisation_Types': ['organisation_type', 'organisation_type_description'], 'Organisations': ['organisation_id', 'organisation_type', 'organisation_details'], 'Project_Outcomes': ['project_id', 'outcome_code', 'outcome_details'], 'Project_Staff': ['staff_id', 'project_id', 'role_code', 'date_from', 'date_to', 'other_details'], 'Projects': ['project_id', 'organisation_id', 'project_details'], 'Research_Outcomes': ['outcome_code', 'outcome_description'], 'Research_Staff': ['staff_id', 'employer_organisation_id', 'staff_details'], 'Staff_Roles': ['role_code', 'role_description'], 'Tasks': ['task_id', 'project_id', 'task_details', 'eg Agree Objectives']}, 'student_assessment': {'Addresses': ['address_id', 'line_1', 'line_2', 'city', 'zip_postcode', 'state_province_county', 'country'], 'People': ['person_id', 'first_name', 'middle_name', 'last_name', 'cell_mobile_number', 'email_address', 'login_name', 'password'], 'Students': ['student_id', 'student_details'], 'Courses': ['course_id', 'course_name', 'course_description', 'other_details'], 'People_Addresses': ['person_address_id', 'person_id', 'address_id', 'date_from', 'date_to'], 'Student_Course_Registrations': ['student_id', 'course_id', 'registration_date'], 'Student_Course_Attendance': ['student_id', 'course_id', 'date_of_attendance'], 'Candidates': ['candidate_id', 'candidate_details'], 'Candidate_Assessments': ['candidate_id', 'qualification', 'assessment_date', 'asessment_outcome_code']}, 'tvshow': {'TV_Channel': ['id', 'series_name', 'Country', 'Language', 'Content', 'Pixel_aspect_ratio_PAR', 'Hight_definition_TV', 'Pay_per_view_PPV', 'Package_Option'], 'TV_series': ['id', 'Episode', 'Air_Date', 'Rating', 'Share', '18_49_Rating_Share', 'Viewers_m', 'Weekly_Rank', 'Channel'], 'Cartoon': ['id', 'Title', 'Directed_by', 'Written_by', 'Original_air_date', 'Production_code', 'Channel']}, 'tracking_share_transactions': {'Investors': ['investor_id', 'Investor_details'], 'Lots': ['lot_id', 'investor_id', 'lot_details'], 'Ref_Transaction_Types': ['transaction_type_code', 'transaction_type_description'], 'Transactions': ['transaction_id', 'investor_id', 'transaction_type_code', 'date_of_transaction', 'amount_of_transaction', 'share_count', 'other_details'], 'Sales': ['sales_transaction_id', 'sales_details'], 'Purchases': ['purchase_transaction_id', 'purchase_details'], 'Transactions_Lots': ['transaction_id', 'lot_id']}, 'university_basketball': {'basketball_match': ['Team_ID', 'School_ID', 'Team_Name', 'ACC_Regular_Season', 'ACC_Percent', 'ACC_Home', 'ACC_Road', 'All_Games', 'All_Games_Percent', 'All_Home', 'All_Road', 'All_Neutral'], 'university': ['School_ID', 'School', 'Location', 'Founded', 'Affiliation', 'Enrollment', 'Nickname', 'Primary_conference']}, 'tracking_orders': {'Customers': ['customer_id', 'customer_name', 'customer_details'], 'Invoices': ['invoice_number', 'invoice_date', 'invoice_details'], 'Orders': ['order_id', 'customer_id', 'order_status', 'date_order_placed', 'order_details'], 'Products': ['product_id', 'product_name', 'product_details'], 'Order_Items': ['order_item_id', 'product_id', 'order_id', 'order_item_status', 'order_item_details'], 'Shipments': ['shipment_id', 'order_id', 'invoice_number', 'shipment_tracking_number', 'shipment_date', 'other_shipment_details'], 'Shipment_Items': ['shipment_id', 'order_item_id']}, 'voter_1': {'AREA_CODE_STATE': ['area_code', 'state'], 'CONTESTANTS': ['contestant_number', 'contestant_name'], 'VOTES': ['vote_id', 'phone_number', 'state', 'contestant_number', 'created']}, 'voter_2': {'Student': ['StuID', 'LName', 'Fname', 'Age', 'Sex', 'Major', 'Advisor', 'city_code'], 'Voting_record': ['StuID', 'Registration_Date', 'Election_Cycle', 'President_Vote', 'Vice_President_Vote', 'Secretary_Vote', 'Treasurer_Vote', 'Class_President_Vote', 'Class_Senator_Vote']}, 'tracking_software_problems': {'Problem_Category_Codes': ['problem_category_code', 'problem_category_description'], 'Problem_Log': ['problem_log_id', 'assigned_to_staff_id', 'problem_id', 'problem_category_code', 'problem_status_code', 'log_entry_date', 'log_entry_description', 'log_entry_fix', 'other_log_details'], 'Problem_Status_Codes': ['problem_status_code', 'problem_status_description'], 'Product': ['product_id', 'product_name', 'product_details'], 'Staff': ['staff_id', 'staff_first_name', 'staff_last_name', 'other_staff_details'], 'Problems': ['problem_id', 'product_id', 'closure_authorised_by_staff_id', 'reported_by_staff_id', 'date_problem_reported', 'date_problem_closed', 'problem_description', 'other_problem_details']}, 'train_station': {'station': ['Station_ID', 'Name', 'Annual_entry_exit', 'Annual_interchanges', 'Total_Passengers', 'Location', 'Main_Services', 'Number_of_Platforms'], 'train': ['Train_ID', 'Name', 'Time', 'Service'], 'train_station': ['Train_ID', 'Station_ID']}, 'twitter_1': {'follows': ['f1', 'f2'], 'tweets': ['id', 'uid', 'text', 'createdate'], 'user_profiles': ['uid', 'name', 'email', 'partitionid', 'followers']}, 'wedding': {'people': ['People_ID', 'Name', 'Country', 'Is_Male', 'Age'], 'church': ['Church_ID', 'Name', 'Organized_by', 'Open_Date', 'Continuation_of'], 'wedding': ['Church_ID', 'Male_ID', 'Female_ID', 'Year']}, 'wta_1': {'players': ['player_id', 'first_name', 'last_name', 'hand', 'birth_date', 'country_code'], 'matches': ['best_of', 'draw_size', 'loser_age', 'loser_entry', 'loser_hand', 'loser_ht', 'loser_id', 'loser_ioc', 'loser_name', 'loser_rank', 'loser_rank_points', 'loser_seed', 'match_num', 'minutes', 'round', 'score', 'surface', 'tourney_date', 'tourney_id', 'tourney_level', 'tourney_name', 'winner_age', 'winner_entry', 'winner_hand', 'winner_ht', 'winner_id', 'winner_ioc', 'winner_name', 'winner_rank', 'winner_rank_points', 'winner_seed', 'year'], 'rankings': ['ranking_date', 'ranking', 'player_id', 'ranking_points', 'tours']}, 'wrestler': {'wrestler': ['Wrestler_ID', 'Name', 'Reign', 'Days_held', 'Location', 'Event'], 'Elimination': ['Elimination_ID', 'Wrestler_ID', 'Team', 'Eliminated_By', 'Elimination_Move', 'Time']}, 'wine_1': {'grapes': ['ID', 'Grape', 'Color'], 'appellations': ['No', 'Appelation', 'County', 'State', 'Area', 'isAVA'], 'wine': ['No', 'Grape', 'Winery', 'Appelation', 'State', 'Name', 'Year', 'Price', 'Score', 'Cases', 'Drink']}, 'world_1': {'city': ['ID', 'Name', 'CountryCode', 'District', 'Population'], 'sqlite_sequence': ['name', 'seq'], 'country': ['Code', 'Name', 'Continent', 'Region', 'SurfaceArea', 'IndepYear', 'Population', 'LifeExpectancy', 'GNP', 'GNPOld', 'LocalName', 'GovernmentForm', 'HeadOfState', 'Capital', 'Code2'], 'countrylanguage': ['CountryCode', 'Language', 'IsOfficial', 'Percentage']}, 'workshop_paper': {'workshop': ['Workshop_ID', 'Date', 'Venue', 'Name'], 'submission': ['Submission_ID', 'Scores', 'Author', 'College'], 'Acceptance': ['Submission_ID', 'Workshop_ID', 'Result']}, 'yelp': {'business': ['bid', 'business_id', 'name', 'full_address', 'city', 'latitude', 'longitude', 'review_count', 'is_open', 'rating', 'state'], 'category': ['id', 'business_id', 'category_name'], 'user': ['uid', 'user_id', 'name'], 'checkin': ['cid', 'business_id', 'count', 'day'], 'neighbourhood': ['id', 'business_id', 'neighbourhood_name'], 'review': ['rid', 'business_id', 'user_id', 'rating', 'text', 'year', 'month'], 'tip': ['tip_id', 'business_id', 'text', 'user_id', 'likes', 'year', 'month']}}\n"
          ]
        }
      ]
    },
    {
      "cell_type": "markdown",
      "source": [
        "# Test model"
      ],
      "metadata": {
        "id": "p4FzikqwGPoh"
      }
    },
    {
      "cell_type": "code",
      "source": [
        "def generate_sql_query(model, tokenizer, input_text):\n",
        "    \"\"\"สร้าง SQL query โดยใช้โมเดล T5\"\"\"\n",
        "    inputs = tokenizer.encode(input_text, return_tensors=\"pt\")\n",
        "    outputs = model.generate(inputs, max_length=50)\n",
        "    generated_query = tokenizer.decode(outputs[0], skip_special_tokens=True)\n",
        "    return generated_query"
      ],
      "metadata": {
        "id": "R4iZBpR7JAMn"
      },
      "execution_count": null,
      "outputs": []
    },
    {
      "cell_type": "markdown",
      "source": [
        "# something"
      ],
      "metadata": {
        "id": "bBRi9LoeDpU1"
      }
    },
    {
      "cell_type": "code",
      "source": [
        "class InteractionManager:\n",
        "    def __init__(self):\n",
        "        self.context = []\n",
        "\n",
        "    def add_interaction(self, user_utterance, system_response=None):\n",
        "        \"\"\"เพิ่มบทสนทนาใหม่ใน context\"\"\"\n",
        "        interaction = {'user': user_utterance}\n",
        "        if system_response:\n",
        "            interaction['system'] = system_response\n",
        "        self.context.append(interaction)\n",
        "\n",
        "    def get_context(self):\n",
        "        \"\"\"ดึง context ล่าสุดทั้งหมด\"\"\"\n",
        "        return self.context\n",
        "\n",
        "    def reset_context(self):\n",
        "        \"\"\"รีเซ็ต context\"\"\"\n",
        "        self.context = []"
      ],
      "metadata": {
        "id": "WJAMeHccF21H"
      },
      "execution_count": null,
      "outputs": []
    },
    {
      "cell_type": "code",
      "source": [
        "class QueryManager:\n",
        "    def __init__(self, databases):\n",
        "        \"\"\"ตั้งค่า Query Manager และเชื่อมโยงกับฐานข้อมูลที่เตรียมไว้\"\"\"\n",
        "        self.databases = databases\n",
        "\n",
        "    def validate_query(self, query, db_id):\n",
        "        \"\"\"ตรวจสอบว่า query ตรงกับโครงสร้างของฐานข้อมูล\"\"\"\n",
        "        schema = self.databases.get(db_id)\n",
        "\n",
        "        # ตรวจสอบว่าตารางที่อยู่ใน query ตรงกับ schema ของ db_id หรือไม่\n",
        "        for table_name in schema.keys():\n",
        "            if table_name in query:\n",
        "                return True\n",
        "        return False"
      ],
      "metadata": {
        "id": "zNU5kwAiF5si"
      },
      "execution_count": null,
      "outputs": []
    },
    {
      "cell_type": "code",
      "source": [
        "def generate_sql_query(model, tokenizer, user_utterance):\n",
        "    \"\"\"สร้าง SQL query โดยใช้โมเดล T5 และกำหนด prompt ที่ชัดเจน\"\"\"\n",
        "    prompt = \"Convert the following question into a SQL query: \" + user_utterance\n",
        "    inputs = tokenizer.encode(prompt, return_tensors=\"pt\")\n",
        "    outputs = model.generate(inputs, max_length=50)\n",
        "    generated_query = tokenizer.decode(outputs[0], skip_special_tokens=True)\n",
        "    return generated_query\n"
      ],
      "metadata": {
        "id": "QS9q1wtwF8VZ"
      },
      "execution_count": null,
      "outputs": []
    },
    {
      "cell_type": "code",
      "source": [
        "def test_query_manager(qm, db_id, generated_query):\n",
        "    \"\"\"ทดสอบความถูกต้องของ SQL query กับ schema ในฐานข้อมูล\"\"\"\n",
        "    is_valid = qm.validate_query(generated_query, db_id)\n",
        "    print(\"Database:\", db_id)\n",
        "    print(\"Generated Query:\", generated_query)\n",
        "    print(\"Is query valid?\", is_valid)\n",
        "    return is_valid"
      ],
      "metadata": {
        "id": "ONxyHhs5F-Pd"
      },
      "execution_count": null,
      "outputs": []
    },
    {
      "cell_type": "code",
      "source": [
        "def test_interaction_manager(im, user_utterance, system_response=None):\n",
        "    \"\"\"เพิ่มบทสนทนาใหม่ใน InteractionManager และแสดง context ทั้งหมด\"\"\"\n",
        "    im.add_interaction(user_utterance, system_response)\n",
        "    context = im.get_context()\n",
        "    print(\"Current Context:\", context)\n",
        "    return context"
      ],
      "metadata": {
        "id": "yGVhIQPNGAJn"
      },
      "execution_count": null,
      "outputs": []
    },
    {
      "cell_type": "code",
      "source": [
        "# สร้าง Instance ของ QueryManager และ InteractionManager\n",
        "qm_sparc = QueryManager(sparc_databases)\n",
        "qm_cosql = QueryManager(cosql_databases)\n",
        "im = InteractionManager()"
      ],
      "metadata": {
        "id": "mu9EUtJoGtJv"
      },
      "execution_count": null,
      "outputs": []
    },
    {
      "cell_type": "code",
      "source": [
        "for sample in cosql_validation_sample:\n",
        "    db_id = sample[\"database_id\"]\n",
        "\n",
        "    for interaction in sample[\"interaction\"]:\n",
        "        user_utterance = interaction[\"utterance\"]\n",
        "\n",
        "        # ใช้ InteractionManager เพื่อเก็บ context\n",
        "        im.add_interaction(user_utterance)\n",
        "\n",
        "        # สร้าง SQL query ด้วยโมเดล T5 โดยใช้ prompt ที่ชัดเจน\n",
        "        generated_query = generate_sql_query(model, tokenizer, user_utterance)\n",
        "\n",
        "        # ตรวจสอบ query ที่สร้างขึ้น\n",
        "        is_valid = qm_cosql.validate_query(generated_query, db_id)\n",
        "\n",
        "        # แสดงผลลัพธ์\n",
        "        print(\"Database:\", db_id)\n",
        "        print(\"User Utterance:\", user_utterance)\n",
        "        print(\"Generated Query:\", generated_query)\n",
        "        print(\"Is query valid?\", is_valid)\n",
        "        print(\"Context:\", im.get_context())\n",
        "        print(\"---\")\n",
        "\n",
        "    # ล้าง context หลังจากจบชุดบทสนทนานี้\n",
        "    im.reset_context()\n"
      ],
      "metadata": {
        "colab": {
          "base_uri": "https://localhost:8080/",
          "height": 1000
        },
        "id": "rj6t5OW4GDyp",
        "outputId": "f3cc1f4f-43d8-4068-ae8c-eeac13572004"
      },
      "execution_count": null,
      "outputs": [
        {
          "output_type": "stream",
          "name": "stdout",
          "text": [
            "Database: museum_visit\n",
            "User Utterance: What is the name of the visitor who visited both a museum opened before 2009 and a museum opened after 2011?\n",
            "Generated Query: SQL query\n",
            "Is query valid? False\n",
            "Context: [{'user': 'how many shop are presented on the table'}, {'user': 'list out the shop names'}, {'user': 'what is the location of FC Haka'}, {'user': 'What is the name of the visitor who visited both a museum opened before 2009 and a museum opened after 2011?'}]\n",
            "---\n",
            "Database: museum_visit\n",
            "User Utterance: What museum did he visit before 2009?\n",
            "Generated Query: Convert the following question into a SQL query: What museum did he visit before 2009?\n",
            "Is query valid? True\n",
            "Context: [{'user': 'how many shop are presented on the table'}, {'user': 'list out the shop names'}, {'user': 'what is the location of FC Haka'}, {'user': 'What is the name of the visitor who visited both a museum opened before 2009 and a museum opened after 2011?'}, {'user': 'What museum did he visit before 2009?'}]\n",
            "---\n",
            "Database: museum_visit\n",
            "User Utterance: What is Fernando Gago's membership level?\n",
            "Generated Query: Fernando Gago's membership level?\n",
            "Is query valid? False\n",
            "Context: [{'user': 'how many shop are presented on the table'}, {'user': 'list out the shop names'}, {'user': 'what is the location of FC Haka'}, {'user': 'What is the name of the visitor who visited both a museum opened before 2009 and a museum opened after 2011?'}, {'user': 'What museum did he visit before 2009?'}, {'user': \"What is Fernando Gago's membership level?\"}]\n",
            "---\n",
            "Database: museum_visit\n",
            "User Utterance: How old is Fernando Gago?\n",
            "Generated Query: Fernando Gago\n",
            "Is query valid? False\n",
            "Context: [{'user': 'how many shop are presented on the table'}, {'user': 'list out the shop names'}, {'user': 'what is the location of FC Haka'}, {'user': 'What is the name of the visitor who visited both a museum opened before 2009 and a museum opened after 2011?'}, {'user': 'What museum did he visit before 2009?'}, {'user': \"What is Fernando Gago's membership level?\"}, {'user': 'How old is Fernando Gago?'}]\n",
            "---\n",
            "Database: real_estate_properties\n",
            "User Utterance: What is the feature type name of the feature AirCon?\n",
            "Generated Query: AirCon?\n",
            "Is query valid? False\n",
            "Context: [{'user': 'What is the feature type name of the feature AirCon?'}]\n",
            "---\n",
            "Database: real_estate_properties\n",
            "User Utterance: What is the full feature description of the feature name AirCon?\n",
            "Generated Query: AirCon\n",
            "Is query valid? False\n",
            "Context: [{'user': 'What is the feature type name of the feature AirCon?'}, {'user': 'What is the full feature description of the feature name AirCon?'}]\n",
            "---\n",
            "Database: real_estate_properties\n",
            "User Utterance: How many different feature IDs are there?\n",
            "Generated Query: SQL query: How many different feature IDs are there?\n",
            "Is query valid? False\n",
            "Context: [{'user': 'What is the feature type name of the feature AirCon?'}, {'user': 'What is the full feature description of the feature name AirCon?'}, {'user': 'How many different feature IDs are there?'}]\n",
            "---\n",
            "Database: real_estate_properties\n",
            "User Utterance: What sort of feature type code is associated with AirCon?\n",
            "Generated Query: SQL query: What kind of feature type code is associated with AirCon?\n",
            "Is query valid? False\n",
            "Context: [{'user': 'What is the feature type name of the feature AirCon?'}, {'user': 'What is the full feature description of the feature name AirCon?'}, {'user': 'How many different feature IDs are there?'}, {'user': 'What sort of feature type code is associated with AirCon?'}]\n",
            "---\n",
            "Database: employee_hire_evaluation\n",
            "User Utterance: how many shop are presented on the table\n",
            "Generated Query: SQL query: how many shop are presented on the table?\n",
            "Is query valid? True\n",
            "Context: [{'user': 'how many shop are presented on the table'}]\n",
            "---\n",
            "Database: employee_hire_evaluation\n",
            "User Utterance: list out the shop names\n",
            "Generated Query: SQL query. Convert the following question into a SQL query: list out the shop names.\n",
            "Is query valid? True\n",
            "Context: [{'user': 'how many shop are presented on the table'}, {'user': 'list out the shop names'}]\n",
            "---\n",
            "Database: employee_hire_evaluation\n",
            "User Utterance: what is the location of FC Haka\n",
            "Generated Query: SQL query: what is the location of FC Haka?\n",
            "Is query valid? False\n",
            "Context: [{'user': 'how many shop are presented on the table'}, {'user': 'list out the shop names'}, {'user': 'what is the location of FC Haka'}]\n",
            "---\n",
            "Database: employee_hire_evaluation\n",
            "User Utterance: what is the number of products in HJK\n",
            "Generated Query: SQL query: what is the number of products in HJK?\n",
            "Is query valid? False\n",
            "Context: [{'user': 'how many shop are presented on the table'}, {'user': 'list out the shop names'}, {'user': 'what is the location of FC Haka'}, {'user': 'what is the number of products in HJK'}]\n",
            "---\n",
            "Database: pets_1\n",
            "User Utterance: That are available\n",
            "Generated Query: SQL queries: That are available for SQL queries: that are available for SQL queries: that are available for SQL queries: that are available for SQL queries: that are available for SQL queries: that are available for SQL queries: that are available for\n",
            "Is query valid? False\n",
            "Context: [{'user': 'That are available'}]\n",
            "---\n",
            "Database: pets_1\n",
            "User Utterance: What are the city codes for all available students\n",
            "Generated Query: SQL query\n",
            "Is query valid? False\n",
            "Context: [{'user': 'That are available'}, {'user': 'What are the city codes for all available students'}]\n",
            "---\n",
            "Database: pets_1\n",
            "User Utterance: Can i have the weight of the pets that were raised by female student\n",
            "Generated Query: SQL query\n",
            "Is query valid? False\n",
            "Context: [{'user': 'That are available'}, {'user': 'What are the city codes for all available students'}, {'user': 'Can i have the weight of the pets that were raised by female student'}]\n",
            "---\n",
            "Database: car_1\n",
            "User Utterance: Which models are manufactured by the maker with the name \"General Motors\"?\n",
            "Generated Query: General Motors\n",
            "Is query valid? False\n",
            "Context: [{'user': 'Which models are manufactured by the maker with the name \"General Motors\"?'}]\n",
            "---\n",
            "Database: car_1\n",
            "User Utterance: How about models that weight more than 3500?\n",
            "Generated Query: Convert the following question into a SQL query: How about models that weigh more than 3500?\n",
            "Is query valid? False\n",
            "Context: [{'user': 'Which models are manufactured by the maker with the name \"General Motors\"?'}, {'user': 'How about models that weight more than 3500?'}]\n",
            "---\n",
            "Database: car_1\n",
            "User Utterance: What is the make and model of the car with the largest horsepower?\n",
            "Generated Query: SQL query\n",
            "Is query valid? False\n",
            "Context: [{'user': 'Which models are manufactured by the maker with the name \"General Motors\"?'}, {'user': 'How about models that weight more than 3500?'}, {'user': 'What is the make and model of the car with the largest horsepower?'}]\n",
            "---\n"
          ]
        },
        {
          "output_type": "error",
          "ename": "KeyboardInterrupt",
          "evalue": "",
          "traceback": [
            "\u001b[0;31m---------------------------------------------------------------------------\u001b[0m",
            "\u001b[0;31mKeyboardInterrupt\u001b[0m                         Traceback (most recent call last)",
            "\u001b[0;32m<ipython-input-81-d54ab92eee87>\u001b[0m in \u001b[0;36m<cell line: 1>\u001b[0;34m()\u001b[0m\n\u001b[1;32m      9\u001b[0m \u001b[0;34m\u001b[0m\u001b[0m\n\u001b[1;32m     10\u001b[0m         \u001b[0;31m# สร้าง SQL query ด้วยโมเดล T5 โดยใช้ prompt ที่ชัดเจน\u001b[0m\u001b[0;34m\u001b[0m\u001b[0;34m\u001b[0m\u001b[0m\n\u001b[0;32m---> 11\u001b[0;31m         \u001b[0mgenerated_query\u001b[0m \u001b[0;34m=\u001b[0m \u001b[0mgenerate_sql_query\u001b[0m\u001b[0;34m(\u001b[0m\u001b[0mmodel\u001b[0m\u001b[0;34m,\u001b[0m \u001b[0mtokenizer\u001b[0m\u001b[0;34m,\u001b[0m \u001b[0muser_utterance\u001b[0m\u001b[0;34m)\u001b[0m\u001b[0;34m\u001b[0m\u001b[0;34m\u001b[0m\u001b[0m\n\u001b[0m\u001b[1;32m     12\u001b[0m \u001b[0;34m\u001b[0m\u001b[0m\n\u001b[1;32m     13\u001b[0m         \u001b[0;31m# ตรวจสอบ query ที่สร้างขึ้น\u001b[0m\u001b[0;34m\u001b[0m\u001b[0;34m\u001b[0m\u001b[0m\n",
            "\u001b[0;32m<ipython-input-79-1110f4f66440>\u001b[0m in \u001b[0;36mgenerate_sql_query\u001b[0;34m(model, tokenizer, user_utterance)\u001b[0m\n\u001b[1;32m      3\u001b[0m     \u001b[0mprompt\u001b[0m \u001b[0;34m=\u001b[0m \u001b[0;34m\"Convert the following question into a SQL query: \"\u001b[0m \u001b[0;34m+\u001b[0m \u001b[0muser_utterance\u001b[0m\u001b[0;34m\u001b[0m\u001b[0;34m\u001b[0m\u001b[0m\n\u001b[1;32m      4\u001b[0m     \u001b[0minputs\u001b[0m \u001b[0;34m=\u001b[0m \u001b[0mtokenizer\u001b[0m\u001b[0;34m.\u001b[0m\u001b[0mencode\u001b[0m\u001b[0;34m(\u001b[0m\u001b[0mprompt\u001b[0m\u001b[0;34m,\u001b[0m \u001b[0mreturn_tensors\u001b[0m\u001b[0;34m=\u001b[0m\u001b[0;34m\"pt\"\u001b[0m\u001b[0;34m)\u001b[0m\u001b[0;34m\u001b[0m\u001b[0;34m\u001b[0m\u001b[0m\n\u001b[0;32m----> 5\u001b[0;31m     \u001b[0moutputs\u001b[0m \u001b[0;34m=\u001b[0m \u001b[0mmodel\u001b[0m\u001b[0;34m.\u001b[0m\u001b[0mgenerate\u001b[0m\u001b[0;34m(\u001b[0m\u001b[0minputs\u001b[0m\u001b[0;34m,\u001b[0m \u001b[0mmax_length\u001b[0m\u001b[0;34m=\u001b[0m\u001b[0;36m50\u001b[0m\u001b[0;34m)\u001b[0m\u001b[0;34m\u001b[0m\u001b[0;34m\u001b[0m\u001b[0m\n\u001b[0m\u001b[1;32m      6\u001b[0m     \u001b[0mgenerated_query\u001b[0m \u001b[0;34m=\u001b[0m \u001b[0mtokenizer\u001b[0m\u001b[0;34m.\u001b[0m\u001b[0mdecode\u001b[0m\u001b[0;34m(\u001b[0m\u001b[0moutputs\u001b[0m\u001b[0;34m[\u001b[0m\u001b[0;36m0\u001b[0m\u001b[0;34m]\u001b[0m\u001b[0;34m,\u001b[0m \u001b[0mskip_special_tokens\u001b[0m\u001b[0;34m=\u001b[0m\u001b[0;32mTrue\u001b[0m\u001b[0;34m)\u001b[0m\u001b[0;34m\u001b[0m\u001b[0;34m\u001b[0m\u001b[0m\n\u001b[1;32m      7\u001b[0m     \u001b[0;32mreturn\u001b[0m \u001b[0mgenerated_query\u001b[0m\u001b[0;34m\u001b[0m\u001b[0;34m\u001b[0m\u001b[0m\n",
            "\u001b[0;32m/usr/local/lib/python3.10/dist-packages/torch/utils/_contextlib.py\u001b[0m in \u001b[0;36mdecorate_context\u001b[0;34m(*args, **kwargs)\u001b[0m\n\u001b[1;32m    114\u001b[0m     \u001b[0;32mdef\u001b[0m \u001b[0mdecorate_context\u001b[0m\u001b[0;34m(\u001b[0m\u001b[0;34m*\u001b[0m\u001b[0margs\u001b[0m\u001b[0;34m,\u001b[0m \u001b[0;34m**\u001b[0m\u001b[0mkwargs\u001b[0m\u001b[0;34m)\u001b[0m\u001b[0;34m:\u001b[0m\u001b[0;34m\u001b[0m\u001b[0;34m\u001b[0m\u001b[0m\n\u001b[1;32m    115\u001b[0m         \u001b[0;32mwith\u001b[0m \u001b[0mctx_factory\u001b[0m\u001b[0;34m(\u001b[0m\u001b[0;34m)\u001b[0m\u001b[0;34m:\u001b[0m\u001b[0;34m\u001b[0m\u001b[0;34m\u001b[0m\u001b[0m\n\u001b[0;32m--> 116\u001b[0;31m             \u001b[0;32mreturn\u001b[0m \u001b[0mfunc\u001b[0m\u001b[0;34m(\u001b[0m\u001b[0;34m*\u001b[0m\u001b[0margs\u001b[0m\u001b[0;34m,\u001b[0m \u001b[0;34m**\u001b[0m\u001b[0mkwargs\u001b[0m\u001b[0;34m)\u001b[0m\u001b[0;34m\u001b[0m\u001b[0;34m\u001b[0m\u001b[0m\n\u001b[0m\u001b[1;32m    117\u001b[0m \u001b[0;34m\u001b[0m\u001b[0m\n\u001b[1;32m    118\u001b[0m     \u001b[0;32mreturn\u001b[0m \u001b[0mdecorate_context\u001b[0m\u001b[0;34m\u001b[0m\u001b[0;34m\u001b[0m\u001b[0m\n",
            "\u001b[0;32m/usr/local/lib/python3.10/dist-packages/transformers/generation/utils.py\u001b[0m in \u001b[0;36mgenerate\u001b[0;34m(self, inputs, generation_config, logits_processor, stopping_criteria, prefix_allowed_tokens_fn, synced_gpus, assistant_model, streamer, negative_prompt_ids, negative_prompt_attention_mask, **kwargs)\u001b[0m\n\u001b[1;32m   2022\u001b[0m \u001b[0;34m\u001b[0m\u001b[0m\n\u001b[1;32m   2023\u001b[0m             \u001b[0;31m# 13. run sample (it degenerates to greedy search when `generation_config.do_sample=False`)\u001b[0m\u001b[0;34m\u001b[0m\u001b[0;34m\u001b[0m\u001b[0m\n\u001b[0;32m-> 2024\u001b[0;31m             result = self._sample(\n\u001b[0m\u001b[1;32m   2025\u001b[0m                 \u001b[0minput_ids\u001b[0m\u001b[0;34m,\u001b[0m\u001b[0;34m\u001b[0m\u001b[0;34m\u001b[0m\u001b[0m\n\u001b[1;32m   2026\u001b[0m                 \u001b[0mlogits_processor\u001b[0m\u001b[0;34m=\u001b[0m\u001b[0mprepared_logits_processor\u001b[0m\u001b[0;34m,\u001b[0m\u001b[0;34m\u001b[0m\u001b[0;34m\u001b[0m\u001b[0m\n",
            "\u001b[0;32m/usr/local/lib/python3.10/dist-packages/transformers/generation/utils.py\u001b[0m in \u001b[0;36m_sample\u001b[0;34m(self, input_ids, logits_processor, stopping_criteria, generation_config, synced_gpus, streamer, logits_warper, **model_kwargs)\u001b[0m\n\u001b[1;32m   2980\u001b[0m \u001b[0;34m\u001b[0m\u001b[0m\n\u001b[1;32m   2981\u001b[0m             \u001b[0;31m# forward pass to get next token\u001b[0m\u001b[0;34m\u001b[0m\u001b[0;34m\u001b[0m\u001b[0m\n\u001b[0;32m-> 2982\u001b[0;31m             \u001b[0moutputs\u001b[0m \u001b[0;34m=\u001b[0m \u001b[0mself\u001b[0m\u001b[0;34m(\u001b[0m\u001b[0;34m**\u001b[0m\u001b[0mmodel_inputs\u001b[0m\u001b[0;34m,\u001b[0m \u001b[0mreturn_dict\u001b[0m\u001b[0;34m=\u001b[0m\u001b[0;32mTrue\u001b[0m\u001b[0;34m)\u001b[0m\u001b[0;34m\u001b[0m\u001b[0;34m\u001b[0m\u001b[0m\n\u001b[0m\u001b[1;32m   2983\u001b[0m \u001b[0;34m\u001b[0m\u001b[0m\n\u001b[1;32m   2984\u001b[0m             \u001b[0;32mif\u001b[0m \u001b[0msynced_gpus\u001b[0m \u001b[0;32mand\u001b[0m \u001b[0mthis_peer_finished\u001b[0m\u001b[0;34m:\u001b[0m\u001b[0;34m\u001b[0m\u001b[0;34m\u001b[0m\u001b[0m\n",
            "\u001b[0;32m/usr/local/lib/python3.10/dist-packages/torch/nn/modules/module.py\u001b[0m in \u001b[0;36m_wrapped_call_impl\u001b[0;34m(self, *args, **kwargs)\u001b[0m\n\u001b[1;32m   1734\u001b[0m             \u001b[0;32mreturn\u001b[0m \u001b[0mself\u001b[0m\u001b[0;34m.\u001b[0m\u001b[0m_compiled_call_impl\u001b[0m\u001b[0;34m(\u001b[0m\u001b[0;34m*\u001b[0m\u001b[0margs\u001b[0m\u001b[0;34m,\u001b[0m \u001b[0;34m**\u001b[0m\u001b[0mkwargs\u001b[0m\u001b[0;34m)\u001b[0m  \u001b[0;31m# type: ignore[misc]\u001b[0m\u001b[0;34m\u001b[0m\u001b[0;34m\u001b[0m\u001b[0m\n\u001b[1;32m   1735\u001b[0m         \u001b[0;32melse\u001b[0m\u001b[0;34m:\u001b[0m\u001b[0;34m\u001b[0m\u001b[0;34m\u001b[0m\u001b[0m\n\u001b[0;32m-> 1736\u001b[0;31m             \u001b[0;32mreturn\u001b[0m \u001b[0mself\u001b[0m\u001b[0;34m.\u001b[0m\u001b[0m_call_impl\u001b[0m\u001b[0;34m(\u001b[0m\u001b[0;34m*\u001b[0m\u001b[0margs\u001b[0m\u001b[0;34m,\u001b[0m \u001b[0;34m**\u001b[0m\u001b[0mkwargs\u001b[0m\u001b[0;34m)\u001b[0m\u001b[0;34m\u001b[0m\u001b[0;34m\u001b[0m\u001b[0m\n\u001b[0m\u001b[1;32m   1737\u001b[0m \u001b[0;34m\u001b[0m\u001b[0m\n\u001b[1;32m   1738\u001b[0m     \u001b[0;31m# torchrec tests the code consistency with the following code\u001b[0m\u001b[0;34m\u001b[0m\u001b[0;34m\u001b[0m\u001b[0m\n",
            "\u001b[0;32m/usr/local/lib/python3.10/dist-packages/torch/nn/modules/module.py\u001b[0m in \u001b[0;36m_call_impl\u001b[0;34m(self, *args, **kwargs)\u001b[0m\n\u001b[1;32m   1745\u001b[0m                 \u001b[0;32mor\u001b[0m \u001b[0m_global_backward_pre_hooks\u001b[0m \u001b[0;32mor\u001b[0m \u001b[0m_global_backward_hooks\u001b[0m\u001b[0;34m\u001b[0m\u001b[0;34m\u001b[0m\u001b[0m\n\u001b[1;32m   1746\u001b[0m                 or _global_forward_hooks or _global_forward_pre_hooks):\n\u001b[0;32m-> 1747\u001b[0;31m             \u001b[0;32mreturn\u001b[0m \u001b[0mforward_call\u001b[0m\u001b[0;34m(\u001b[0m\u001b[0;34m*\u001b[0m\u001b[0margs\u001b[0m\u001b[0;34m,\u001b[0m \u001b[0;34m**\u001b[0m\u001b[0mkwargs\u001b[0m\u001b[0;34m)\u001b[0m\u001b[0;34m\u001b[0m\u001b[0;34m\u001b[0m\u001b[0m\n\u001b[0m\u001b[1;32m   1748\u001b[0m \u001b[0;34m\u001b[0m\u001b[0m\n\u001b[1;32m   1749\u001b[0m         \u001b[0mresult\u001b[0m \u001b[0;34m=\u001b[0m \u001b[0;32mNone\u001b[0m\u001b[0;34m\u001b[0m\u001b[0;34m\u001b[0m\u001b[0m\n",
            "\u001b[0;32m/usr/local/lib/python3.10/dist-packages/transformers/models/t5/modeling_t5.py\u001b[0m in \u001b[0;36mforward\u001b[0;34m(self, input_ids, attention_mask, decoder_input_ids, decoder_attention_mask, head_mask, decoder_head_mask, cross_attn_head_mask, encoder_outputs, past_key_values, inputs_embeds, decoder_inputs_embeds, labels, use_cache, output_attentions, output_hidden_states, return_dict)\u001b[0m\n\u001b[1;32m   1737\u001b[0m \u001b[0;34m\u001b[0m\u001b[0m\n\u001b[1;32m   1738\u001b[0m         \u001b[0;31m# Decode\u001b[0m\u001b[0;34m\u001b[0m\u001b[0;34m\u001b[0m\u001b[0m\n\u001b[0;32m-> 1739\u001b[0;31m         decoder_outputs = self.decoder(\n\u001b[0m\u001b[1;32m   1740\u001b[0m             \u001b[0minput_ids\u001b[0m\u001b[0;34m=\u001b[0m\u001b[0mdecoder_input_ids\u001b[0m\u001b[0;34m,\u001b[0m\u001b[0;34m\u001b[0m\u001b[0;34m\u001b[0m\u001b[0m\n\u001b[1;32m   1741\u001b[0m             \u001b[0mattention_mask\u001b[0m\u001b[0;34m=\u001b[0m\u001b[0mdecoder_attention_mask\u001b[0m\u001b[0;34m,\u001b[0m\u001b[0;34m\u001b[0m\u001b[0;34m\u001b[0m\u001b[0m\n",
            "\u001b[0;32m/usr/local/lib/python3.10/dist-packages/torch/nn/modules/module.py\u001b[0m in \u001b[0;36m_wrapped_call_impl\u001b[0;34m(self, *args, **kwargs)\u001b[0m\n\u001b[1;32m   1734\u001b[0m             \u001b[0;32mreturn\u001b[0m \u001b[0mself\u001b[0m\u001b[0;34m.\u001b[0m\u001b[0m_compiled_call_impl\u001b[0m\u001b[0;34m(\u001b[0m\u001b[0;34m*\u001b[0m\u001b[0margs\u001b[0m\u001b[0;34m,\u001b[0m \u001b[0;34m**\u001b[0m\u001b[0mkwargs\u001b[0m\u001b[0;34m)\u001b[0m  \u001b[0;31m# type: ignore[misc]\u001b[0m\u001b[0;34m\u001b[0m\u001b[0;34m\u001b[0m\u001b[0m\n\u001b[1;32m   1735\u001b[0m         \u001b[0;32melse\u001b[0m\u001b[0;34m:\u001b[0m\u001b[0;34m\u001b[0m\u001b[0;34m\u001b[0m\u001b[0m\n\u001b[0;32m-> 1736\u001b[0;31m             \u001b[0;32mreturn\u001b[0m \u001b[0mself\u001b[0m\u001b[0;34m.\u001b[0m\u001b[0m_call_impl\u001b[0m\u001b[0;34m(\u001b[0m\u001b[0;34m*\u001b[0m\u001b[0margs\u001b[0m\u001b[0;34m,\u001b[0m \u001b[0;34m**\u001b[0m\u001b[0mkwargs\u001b[0m\u001b[0;34m)\u001b[0m\u001b[0;34m\u001b[0m\u001b[0;34m\u001b[0m\u001b[0m\n\u001b[0m\u001b[1;32m   1737\u001b[0m \u001b[0;34m\u001b[0m\u001b[0m\n\u001b[1;32m   1738\u001b[0m     \u001b[0;31m# torchrec tests the code consistency with the following code\u001b[0m\u001b[0;34m\u001b[0m\u001b[0;34m\u001b[0m\u001b[0m\n",
            "\u001b[0;32m/usr/local/lib/python3.10/dist-packages/torch/nn/modules/module.py\u001b[0m in \u001b[0;36m_call_impl\u001b[0;34m(self, *args, **kwargs)\u001b[0m\n\u001b[1;32m   1745\u001b[0m                 \u001b[0;32mor\u001b[0m \u001b[0m_global_backward_pre_hooks\u001b[0m \u001b[0;32mor\u001b[0m \u001b[0m_global_backward_hooks\u001b[0m\u001b[0;34m\u001b[0m\u001b[0;34m\u001b[0m\u001b[0m\n\u001b[1;32m   1746\u001b[0m                 or _global_forward_hooks or _global_forward_pre_hooks):\n\u001b[0;32m-> 1747\u001b[0;31m             \u001b[0;32mreturn\u001b[0m \u001b[0mforward_call\u001b[0m\u001b[0;34m(\u001b[0m\u001b[0;34m*\u001b[0m\u001b[0margs\u001b[0m\u001b[0;34m,\u001b[0m \u001b[0;34m**\u001b[0m\u001b[0mkwargs\u001b[0m\u001b[0;34m)\u001b[0m\u001b[0;34m\u001b[0m\u001b[0;34m\u001b[0m\u001b[0m\n\u001b[0m\u001b[1;32m   1748\u001b[0m \u001b[0;34m\u001b[0m\u001b[0m\n\u001b[1;32m   1749\u001b[0m         \u001b[0mresult\u001b[0m \u001b[0;34m=\u001b[0m \u001b[0;32mNone\u001b[0m\u001b[0;34m\u001b[0m\u001b[0;34m\u001b[0m\u001b[0m\n",
            "\u001b[0;32m/usr/local/lib/python3.10/dist-packages/transformers/models/t5/modeling_t5.py\u001b[0m in \u001b[0;36mforward\u001b[0;34m(self, input_ids, attention_mask, encoder_hidden_states, encoder_attention_mask, inputs_embeds, head_mask, cross_attn_head_mask, past_key_values, use_cache, output_attentions, output_hidden_states, return_dict)\u001b[0m\n\u001b[1;32m   1104\u001b[0m                 )\n\u001b[1;32m   1105\u001b[0m             \u001b[0;32melse\u001b[0m\u001b[0;34m:\u001b[0m\u001b[0;34m\u001b[0m\u001b[0;34m\u001b[0m\u001b[0m\n\u001b[0;32m-> 1106\u001b[0;31m                 layer_outputs = layer_module(\n\u001b[0m\u001b[1;32m   1107\u001b[0m                     \u001b[0mhidden_states\u001b[0m\u001b[0;34m,\u001b[0m\u001b[0;34m\u001b[0m\u001b[0;34m\u001b[0m\u001b[0m\n\u001b[1;32m   1108\u001b[0m                     \u001b[0mattention_mask\u001b[0m\u001b[0;34m=\u001b[0m\u001b[0mextended_attention_mask\u001b[0m\u001b[0;34m,\u001b[0m\u001b[0;34m\u001b[0m\u001b[0;34m\u001b[0m\u001b[0m\n",
            "\u001b[0;32m/usr/local/lib/python3.10/dist-packages/torch/nn/modules/module.py\u001b[0m in \u001b[0;36m_wrapped_call_impl\u001b[0;34m(self, *args, **kwargs)\u001b[0m\n\u001b[1;32m   1734\u001b[0m             \u001b[0;32mreturn\u001b[0m \u001b[0mself\u001b[0m\u001b[0;34m.\u001b[0m\u001b[0m_compiled_call_impl\u001b[0m\u001b[0;34m(\u001b[0m\u001b[0;34m*\u001b[0m\u001b[0margs\u001b[0m\u001b[0;34m,\u001b[0m \u001b[0;34m**\u001b[0m\u001b[0mkwargs\u001b[0m\u001b[0;34m)\u001b[0m  \u001b[0;31m# type: ignore[misc]\u001b[0m\u001b[0;34m\u001b[0m\u001b[0;34m\u001b[0m\u001b[0m\n\u001b[1;32m   1735\u001b[0m         \u001b[0;32melse\u001b[0m\u001b[0;34m:\u001b[0m\u001b[0;34m\u001b[0m\u001b[0;34m\u001b[0m\u001b[0m\n\u001b[0;32m-> 1736\u001b[0;31m             \u001b[0;32mreturn\u001b[0m \u001b[0mself\u001b[0m\u001b[0;34m.\u001b[0m\u001b[0m_call_impl\u001b[0m\u001b[0;34m(\u001b[0m\u001b[0;34m*\u001b[0m\u001b[0margs\u001b[0m\u001b[0;34m,\u001b[0m \u001b[0;34m**\u001b[0m\u001b[0mkwargs\u001b[0m\u001b[0;34m)\u001b[0m\u001b[0;34m\u001b[0m\u001b[0;34m\u001b[0m\u001b[0m\n\u001b[0m\u001b[1;32m   1737\u001b[0m \u001b[0;34m\u001b[0m\u001b[0m\n\u001b[1;32m   1738\u001b[0m     \u001b[0;31m# torchrec tests the code consistency with the following code\u001b[0m\u001b[0;34m\u001b[0m\u001b[0;34m\u001b[0m\u001b[0m\n",
            "\u001b[0;32m/usr/local/lib/python3.10/dist-packages/torch/nn/modules/module.py\u001b[0m in \u001b[0;36m_call_impl\u001b[0;34m(self, *args, **kwargs)\u001b[0m\n\u001b[1;32m   1745\u001b[0m                 \u001b[0;32mor\u001b[0m \u001b[0m_global_backward_pre_hooks\u001b[0m \u001b[0;32mor\u001b[0m \u001b[0m_global_backward_hooks\u001b[0m\u001b[0;34m\u001b[0m\u001b[0;34m\u001b[0m\u001b[0m\n\u001b[1;32m   1746\u001b[0m                 or _global_forward_hooks or _global_forward_pre_hooks):\n\u001b[0;32m-> 1747\u001b[0;31m             \u001b[0;32mreturn\u001b[0m \u001b[0mforward_call\u001b[0m\u001b[0;34m(\u001b[0m\u001b[0;34m*\u001b[0m\u001b[0margs\u001b[0m\u001b[0;34m,\u001b[0m \u001b[0;34m**\u001b[0m\u001b[0mkwargs\u001b[0m\u001b[0;34m)\u001b[0m\u001b[0;34m\u001b[0m\u001b[0;34m\u001b[0m\u001b[0m\n\u001b[0m\u001b[1;32m   1748\u001b[0m \u001b[0;34m\u001b[0m\u001b[0m\n\u001b[1;32m   1749\u001b[0m         \u001b[0mresult\u001b[0m \u001b[0;34m=\u001b[0m \u001b[0;32mNone\u001b[0m\u001b[0;34m\u001b[0m\u001b[0;34m\u001b[0m\u001b[0m\n",
            "\u001b[0;32m/usr/local/lib/python3.10/dist-packages/transformers/models/t5/modeling_t5.py\u001b[0m in \u001b[0;36mforward\u001b[0;34m(self, hidden_states, attention_mask, position_bias, encoder_hidden_states, encoder_attention_mask, encoder_decoder_position_bias, layer_head_mask, cross_attn_layer_head_mask, past_key_value, use_cache, output_attentions, return_dict)\u001b[0m\n\u001b[1;32m    744\u001b[0m \u001b[0;34m\u001b[0m\u001b[0m\n\u001b[1;32m    745\u001b[0m         \u001b[0;31m# Apply Feed Forward layer\u001b[0m\u001b[0;34m\u001b[0m\u001b[0;34m\u001b[0m\u001b[0m\n\u001b[0;32m--> 746\u001b[0;31m         \u001b[0mhidden_states\u001b[0m \u001b[0;34m=\u001b[0m \u001b[0mself\u001b[0m\u001b[0;34m.\u001b[0m\u001b[0mlayer\u001b[0m\u001b[0;34m[\u001b[0m\u001b[0;34m-\u001b[0m\u001b[0;36m1\u001b[0m\u001b[0;34m]\u001b[0m\u001b[0;34m(\u001b[0m\u001b[0mhidden_states\u001b[0m\u001b[0;34m)\u001b[0m\u001b[0;34m\u001b[0m\u001b[0;34m\u001b[0m\u001b[0m\n\u001b[0m\u001b[1;32m    747\u001b[0m \u001b[0;34m\u001b[0m\u001b[0m\n\u001b[1;32m    748\u001b[0m         \u001b[0;31m# clamp inf values to enable fp16 training\u001b[0m\u001b[0;34m\u001b[0m\u001b[0;34m\u001b[0m\u001b[0m\n",
            "\u001b[0;32m/usr/local/lib/python3.10/dist-packages/torch/nn/modules/module.py\u001b[0m in \u001b[0;36m_wrapped_call_impl\u001b[0;34m(self, *args, **kwargs)\u001b[0m\n\u001b[1;32m   1734\u001b[0m             \u001b[0;32mreturn\u001b[0m \u001b[0mself\u001b[0m\u001b[0;34m.\u001b[0m\u001b[0m_compiled_call_impl\u001b[0m\u001b[0;34m(\u001b[0m\u001b[0;34m*\u001b[0m\u001b[0margs\u001b[0m\u001b[0;34m,\u001b[0m \u001b[0;34m**\u001b[0m\u001b[0mkwargs\u001b[0m\u001b[0;34m)\u001b[0m  \u001b[0;31m# type: ignore[misc]\u001b[0m\u001b[0;34m\u001b[0m\u001b[0;34m\u001b[0m\u001b[0m\n\u001b[1;32m   1735\u001b[0m         \u001b[0;32melse\u001b[0m\u001b[0;34m:\u001b[0m\u001b[0;34m\u001b[0m\u001b[0;34m\u001b[0m\u001b[0m\n\u001b[0;32m-> 1736\u001b[0;31m             \u001b[0;32mreturn\u001b[0m \u001b[0mself\u001b[0m\u001b[0;34m.\u001b[0m\u001b[0m_call_impl\u001b[0m\u001b[0;34m(\u001b[0m\u001b[0;34m*\u001b[0m\u001b[0margs\u001b[0m\u001b[0;34m,\u001b[0m \u001b[0;34m**\u001b[0m\u001b[0mkwargs\u001b[0m\u001b[0;34m)\u001b[0m\u001b[0;34m\u001b[0m\u001b[0;34m\u001b[0m\u001b[0m\n\u001b[0m\u001b[1;32m   1737\u001b[0m \u001b[0;34m\u001b[0m\u001b[0m\n\u001b[1;32m   1738\u001b[0m     \u001b[0;31m# torchrec tests the code consistency with the following code\u001b[0m\u001b[0;34m\u001b[0m\u001b[0;34m\u001b[0m\u001b[0m\n",
            "\u001b[0;32m/usr/local/lib/python3.10/dist-packages/torch/nn/modules/module.py\u001b[0m in \u001b[0;36m_call_impl\u001b[0;34m(self, *args, **kwargs)\u001b[0m\n\u001b[1;32m   1745\u001b[0m                 \u001b[0;32mor\u001b[0m \u001b[0m_global_backward_pre_hooks\u001b[0m \u001b[0;32mor\u001b[0m \u001b[0m_global_backward_hooks\u001b[0m\u001b[0;34m\u001b[0m\u001b[0;34m\u001b[0m\u001b[0m\n\u001b[1;32m   1746\u001b[0m                 or _global_forward_hooks or _global_forward_pre_hooks):\n\u001b[0;32m-> 1747\u001b[0;31m             \u001b[0;32mreturn\u001b[0m \u001b[0mforward_call\u001b[0m\u001b[0;34m(\u001b[0m\u001b[0;34m*\u001b[0m\u001b[0margs\u001b[0m\u001b[0;34m,\u001b[0m \u001b[0;34m**\u001b[0m\u001b[0mkwargs\u001b[0m\u001b[0;34m)\u001b[0m\u001b[0;34m\u001b[0m\u001b[0;34m\u001b[0m\u001b[0m\n\u001b[0m\u001b[1;32m   1748\u001b[0m \u001b[0;34m\u001b[0m\u001b[0m\n\u001b[1;32m   1749\u001b[0m         \u001b[0mresult\u001b[0m \u001b[0;34m=\u001b[0m \u001b[0;32mNone\u001b[0m\u001b[0;34m\u001b[0m\u001b[0;34m\u001b[0m\u001b[0m\n",
            "\u001b[0;32m/usr/local/lib/python3.10/dist-packages/transformers/models/t5/modeling_t5.py\u001b[0m in \u001b[0;36mforward\u001b[0;34m(self, hidden_states)\u001b[0m\n\u001b[1;32m    333\u001b[0m     \u001b[0;32mdef\u001b[0m \u001b[0mforward\u001b[0m\u001b[0;34m(\u001b[0m\u001b[0mself\u001b[0m\u001b[0;34m,\u001b[0m \u001b[0mhidden_states\u001b[0m\u001b[0;34m)\u001b[0m\u001b[0;34m:\u001b[0m\u001b[0;34m\u001b[0m\u001b[0;34m\u001b[0m\u001b[0m\n\u001b[1;32m    334\u001b[0m         \u001b[0mforwarded_states\u001b[0m \u001b[0;34m=\u001b[0m \u001b[0mself\u001b[0m\u001b[0;34m.\u001b[0m\u001b[0mlayer_norm\u001b[0m\u001b[0;34m(\u001b[0m\u001b[0mhidden_states\u001b[0m\u001b[0;34m)\u001b[0m\u001b[0;34m\u001b[0m\u001b[0;34m\u001b[0m\u001b[0m\n\u001b[0;32m--> 335\u001b[0;31m         \u001b[0mforwarded_states\u001b[0m \u001b[0;34m=\u001b[0m \u001b[0mself\u001b[0m\u001b[0;34m.\u001b[0m\u001b[0mDenseReluDense\u001b[0m\u001b[0;34m(\u001b[0m\u001b[0mforwarded_states\u001b[0m\u001b[0;34m)\u001b[0m\u001b[0;34m\u001b[0m\u001b[0;34m\u001b[0m\u001b[0m\n\u001b[0m\u001b[1;32m    336\u001b[0m         \u001b[0mhidden_states\u001b[0m \u001b[0;34m=\u001b[0m \u001b[0mhidden_states\u001b[0m \u001b[0;34m+\u001b[0m \u001b[0mself\u001b[0m\u001b[0;34m.\u001b[0m\u001b[0mdropout\u001b[0m\u001b[0;34m(\u001b[0m\u001b[0mforwarded_states\u001b[0m\u001b[0;34m)\u001b[0m\u001b[0;34m\u001b[0m\u001b[0;34m\u001b[0m\u001b[0m\n\u001b[1;32m    337\u001b[0m         \u001b[0;32mreturn\u001b[0m \u001b[0mhidden_states\u001b[0m\u001b[0;34m\u001b[0m\u001b[0;34m\u001b[0m\u001b[0m\n",
            "\u001b[0;32m/usr/local/lib/python3.10/dist-packages/torch/nn/modules/module.py\u001b[0m in \u001b[0;36m_wrapped_call_impl\u001b[0;34m(self, *args, **kwargs)\u001b[0m\n\u001b[1;32m   1734\u001b[0m             \u001b[0;32mreturn\u001b[0m \u001b[0mself\u001b[0m\u001b[0;34m.\u001b[0m\u001b[0m_compiled_call_impl\u001b[0m\u001b[0;34m(\u001b[0m\u001b[0;34m*\u001b[0m\u001b[0margs\u001b[0m\u001b[0;34m,\u001b[0m \u001b[0;34m**\u001b[0m\u001b[0mkwargs\u001b[0m\u001b[0;34m)\u001b[0m  \u001b[0;31m# type: ignore[misc]\u001b[0m\u001b[0;34m\u001b[0m\u001b[0;34m\u001b[0m\u001b[0m\n\u001b[1;32m   1735\u001b[0m         \u001b[0;32melse\u001b[0m\u001b[0;34m:\u001b[0m\u001b[0;34m\u001b[0m\u001b[0;34m\u001b[0m\u001b[0m\n\u001b[0;32m-> 1736\u001b[0;31m             \u001b[0;32mreturn\u001b[0m \u001b[0mself\u001b[0m\u001b[0;34m.\u001b[0m\u001b[0m_call_impl\u001b[0m\u001b[0;34m(\u001b[0m\u001b[0;34m*\u001b[0m\u001b[0margs\u001b[0m\u001b[0;34m,\u001b[0m \u001b[0;34m**\u001b[0m\u001b[0mkwargs\u001b[0m\u001b[0;34m)\u001b[0m\u001b[0;34m\u001b[0m\u001b[0;34m\u001b[0m\u001b[0m\n\u001b[0m\u001b[1;32m   1737\u001b[0m \u001b[0;34m\u001b[0m\u001b[0m\n\u001b[1;32m   1738\u001b[0m     \u001b[0;31m# torchrec tests the code consistency with the following code\u001b[0m\u001b[0;34m\u001b[0m\u001b[0;34m\u001b[0m\u001b[0m\n",
            "\u001b[0;32m/usr/local/lib/python3.10/dist-packages/torch/nn/modules/module.py\u001b[0m in \u001b[0;36m_call_impl\u001b[0;34m(self, *args, **kwargs)\u001b[0m\n\u001b[1;32m   1745\u001b[0m                 \u001b[0;32mor\u001b[0m \u001b[0m_global_backward_pre_hooks\u001b[0m \u001b[0;32mor\u001b[0m \u001b[0m_global_backward_hooks\u001b[0m\u001b[0;34m\u001b[0m\u001b[0;34m\u001b[0m\u001b[0m\n\u001b[1;32m   1746\u001b[0m                 or _global_forward_hooks or _global_forward_pre_hooks):\n\u001b[0;32m-> 1747\u001b[0;31m             \u001b[0;32mreturn\u001b[0m \u001b[0mforward_call\u001b[0m\u001b[0;34m(\u001b[0m\u001b[0;34m*\u001b[0m\u001b[0margs\u001b[0m\u001b[0;34m,\u001b[0m \u001b[0;34m**\u001b[0m\u001b[0mkwargs\u001b[0m\u001b[0;34m)\u001b[0m\u001b[0;34m\u001b[0m\u001b[0;34m\u001b[0m\u001b[0m\n\u001b[0m\u001b[1;32m   1748\u001b[0m \u001b[0;34m\u001b[0m\u001b[0m\n\u001b[1;32m   1749\u001b[0m         \u001b[0mresult\u001b[0m \u001b[0;34m=\u001b[0m \u001b[0;32mNone\u001b[0m\u001b[0;34m\u001b[0m\u001b[0;34m\u001b[0m\u001b[0m\n",
            "\u001b[0;32m/usr/local/lib/python3.10/dist-packages/transformers/models/t5/modeling_t5.py\u001b[0m in \u001b[0;36mforward\u001b[0;34m(self, hidden_states)\u001b[0m\n\u001b[1;32m    287\u001b[0m         ):\n\u001b[1;32m    288\u001b[0m             \u001b[0mhidden_states\u001b[0m \u001b[0;34m=\u001b[0m \u001b[0mhidden_states\u001b[0m\u001b[0;34m.\u001b[0m\u001b[0mto\u001b[0m\u001b[0;34m(\u001b[0m\u001b[0mself\u001b[0m\u001b[0;34m.\u001b[0m\u001b[0mwo\u001b[0m\u001b[0;34m.\u001b[0m\u001b[0mweight\u001b[0m\u001b[0;34m.\u001b[0m\u001b[0mdtype\u001b[0m\u001b[0;34m)\u001b[0m\u001b[0;34m\u001b[0m\u001b[0;34m\u001b[0m\u001b[0m\n\u001b[0;32m--> 289\u001b[0;31m         \u001b[0mhidden_states\u001b[0m \u001b[0;34m=\u001b[0m \u001b[0mself\u001b[0m\u001b[0;34m.\u001b[0m\u001b[0mwo\u001b[0m\u001b[0;34m(\u001b[0m\u001b[0mhidden_states\u001b[0m\u001b[0;34m)\u001b[0m\u001b[0;34m\u001b[0m\u001b[0;34m\u001b[0m\u001b[0m\n\u001b[0m\u001b[1;32m    290\u001b[0m         \u001b[0;32mreturn\u001b[0m \u001b[0mhidden_states\u001b[0m\u001b[0;34m\u001b[0m\u001b[0;34m\u001b[0m\u001b[0m\n\u001b[1;32m    291\u001b[0m \u001b[0;34m\u001b[0m\u001b[0m\n",
            "\u001b[0;32m/usr/local/lib/python3.10/dist-packages/torch/nn/modules/module.py\u001b[0m in \u001b[0;36m_wrapped_call_impl\u001b[0;34m(self, *args, **kwargs)\u001b[0m\n\u001b[1;32m   1734\u001b[0m             \u001b[0;32mreturn\u001b[0m \u001b[0mself\u001b[0m\u001b[0;34m.\u001b[0m\u001b[0m_compiled_call_impl\u001b[0m\u001b[0;34m(\u001b[0m\u001b[0;34m*\u001b[0m\u001b[0margs\u001b[0m\u001b[0;34m,\u001b[0m \u001b[0;34m**\u001b[0m\u001b[0mkwargs\u001b[0m\u001b[0;34m)\u001b[0m  \u001b[0;31m# type: ignore[misc]\u001b[0m\u001b[0;34m\u001b[0m\u001b[0;34m\u001b[0m\u001b[0m\n\u001b[1;32m   1735\u001b[0m         \u001b[0;32melse\u001b[0m\u001b[0;34m:\u001b[0m\u001b[0;34m\u001b[0m\u001b[0;34m\u001b[0m\u001b[0m\n\u001b[0;32m-> 1736\u001b[0;31m             \u001b[0;32mreturn\u001b[0m \u001b[0mself\u001b[0m\u001b[0;34m.\u001b[0m\u001b[0m_call_impl\u001b[0m\u001b[0;34m(\u001b[0m\u001b[0;34m*\u001b[0m\u001b[0margs\u001b[0m\u001b[0;34m,\u001b[0m \u001b[0;34m**\u001b[0m\u001b[0mkwargs\u001b[0m\u001b[0;34m)\u001b[0m\u001b[0;34m\u001b[0m\u001b[0;34m\u001b[0m\u001b[0m\n\u001b[0m\u001b[1;32m   1737\u001b[0m \u001b[0;34m\u001b[0m\u001b[0m\n\u001b[1;32m   1738\u001b[0m     \u001b[0;31m# torchrec tests the code consistency with the following code\u001b[0m\u001b[0;34m\u001b[0m\u001b[0;34m\u001b[0m\u001b[0m\n",
            "\u001b[0;32m/usr/local/lib/python3.10/dist-packages/torch/nn/modules/module.py\u001b[0m in \u001b[0;36m_call_impl\u001b[0;34m(self, *args, **kwargs)\u001b[0m\n\u001b[1;32m   1745\u001b[0m                 \u001b[0;32mor\u001b[0m \u001b[0m_global_backward_pre_hooks\u001b[0m \u001b[0;32mor\u001b[0m \u001b[0m_global_backward_hooks\u001b[0m\u001b[0;34m\u001b[0m\u001b[0;34m\u001b[0m\u001b[0m\n\u001b[1;32m   1746\u001b[0m                 or _global_forward_hooks or _global_forward_pre_hooks):\n\u001b[0;32m-> 1747\u001b[0;31m             \u001b[0;32mreturn\u001b[0m \u001b[0mforward_call\u001b[0m\u001b[0;34m(\u001b[0m\u001b[0;34m*\u001b[0m\u001b[0margs\u001b[0m\u001b[0;34m,\u001b[0m \u001b[0;34m**\u001b[0m\u001b[0mkwargs\u001b[0m\u001b[0;34m)\u001b[0m\u001b[0;34m\u001b[0m\u001b[0;34m\u001b[0m\u001b[0m\n\u001b[0m\u001b[1;32m   1748\u001b[0m \u001b[0;34m\u001b[0m\u001b[0m\n\u001b[1;32m   1749\u001b[0m         \u001b[0mresult\u001b[0m \u001b[0;34m=\u001b[0m \u001b[0;32mNone\u001b[0m\u001b[0;34m\u001b[0m\u001b[0;34m\u001b[0m\u001b[0m\n",
            "\u001b[0;32m/usr/local/lib/python3.10/dist-packages/torch/nn/modules/linear.py\u001b[0m in \u001b[0;36mforward\u001b[0;34m(self, input)\u001b[0m\n\u001b[1;32m    123\u001b[0m \u001b[0;34m\u001b[0m\u001b[0m\n\u001b[1;32m    124\u001b[0m     \u001b[0;32mdef\u001b[0m \u001b[0mforward\u001b[0m\u001b[0;34m(\u001b[0m\u001b[0mself\u001b[0m\u001b[0;34m,\u001b[0m \u001b[0minput\u001b[0m\u001b[0;34m:\u001b[0m \u001b[0mTensor\u001b[0m\u001b[0;34m)\u001b[0m \u001b[0;34m->\u001b[0m \u001b[0mTensor\u001b[0m\u001b[0;34m:\u001b[0m\u001b[0;34m\u001b[0m\u001b[0;34m\u001b[0m\u001b[0m\n\u001b[0;32m--> 125\u001b[0;31m         \u001b[0;32mreturn\u001b[0m \u001b[0mF\u001b[0m\u001b[0;34m.\u001b[0m\u001b[0mlinear\u001b[0m\u001b[0;34m(\u001b[0m\u001b[0minput\u001b[0m\u001b[0;34m,\u001b[0m \u001b[0mself\u001b[0m\u001b[0;34m.\u001b[0m\u001b[0mweight\u001b[0m\u001b[0;34m,\u001b[0m \u001b[0mself\u001b[0m\u001b[0;34m.\u001b[0m\u001b[0mbias\u001b[0m\u001b[0;34m)\u001b[0m\u001b[0;34m\u001b[0m\u001b[0;34m\u001b[0m\u001b[0m\n\u001b[0m\u001b[1;32m    126\u001b[0m \u001b[0;34m\u001b[0m\u001b[0m\n\u001b[1;32m    127\u001b[0m     \u001b[0;32mdef\u001b[0m \u001b[0mextra_repr\u001b[0m\u001b[0;34m(\u001b[0m\u001b[0mself\u001b[0m\u001b[0;34m)\u001b[0m \u001b[0;34m->\u001b[0m \u001b[0mstr\u001b[0m\u001b[0;34m:\u001b[0m\u001b[0;34m\u001b[0m\u001b[0;34m\u001b[0m\u001b[0m\n",
            "\u001b[0;31mKeyboardInterrupt\u001b[0m: "
          ]
        }
      ]
    }
  ],
  "metadata": {
    "accelerator": "GPU",
    "colab": {
      "collapsed_sections": [
        "ytxLSe7-zBA2",
        "MWY_lM2B4Zw6",
        "kFCV5aIk4dYL",
        "_rmWCrCt4kf5",
        "Rj1Hj3nudsGa",
        "9e930Qy7dx20",
        "-CHuy_WPd5Uf"
      ],
      "gpuType": "T4",
      "toc_visible": true,
      "provenance": [],
      "authorship_tag": "ABX9TyPx4Mo4viR1qsYRbcCdrSaK",
      "include_colab_link": true
    },
    "kernelspec": {
      "display_name": "Python 3",
      "name": "python3"
    },
    "language_info": {
      "name": "python"
    },
    "widgets": {
      "application/vnd.jupyter.widget-state+json": {
        "ec5989835e3b4091a09aa5d5c21c3e38": {
          "model_module": "@jupyter-widgets/controls",
          "model_name": "HBoxModel",
          "model_module_version": "1.5.0",
          "state": {
            "_dom_classes": [],
            "_model_module": "@jupyter-widgets/controls",
            "_model_module_version": "1.5.0",
            "_model_name": "HBoxModel",
            "_view_count": null,
            "_view_module": "@jupyter-widgets/controls",
            "_view_module_version": "1.5.0",
            "_view_name": "HBoxView",
            "box_style": "",
            "children": [
              "IPY_MODEL_1292e8f561f44fa5b3a1042f3ebff8a1",
              "IPY_MODEL_5270354181bc44e0bd0ad1d1052924be",
              "IPY_MODEL_d537f5e01d504673be1f6fc95489c3b2"
            ],
            "layout": "IPY_MODEL_94ef05beef8944d9be0d5550008c812e"
          }
        },
        "1292e8f561f44fa5b3a1042f3ebff8a1": {
          "model_module": "@jupyter-widgets/controls",
          "model_name": "HTMLModel",
          "model_module_version": "1.5.0",
          "state": {
            "_dom_classes": [],
            "_model_module": "@jupyter-widgets/controls",
            "_model_module_version": "1.5.0",
            "_model_name": "HTMLModel",
            "_view_count": null,
            "_view_module": "@jupyter-widgets/controls",
            "_view_module_version": "1.5.0",
            "_view_name": "HTMLView",
            "description": "",
            "description_tooltip": null,
            "layout": "IPY_MODEL_8c6ccf28885849fd8f0b86e4c10ec111",
            "placeholder": "​",
            "style": "IPY_MODEL_979714879bd7469483039c40f4c1f11a",
            "value": "README.md: 100%"
          }
        },
        "5270354181bc44e0bd0ad1d1052924be": {
          "model_module": "@jupyter-widgets/controls",
          "model_name": "FloatProgressModel",
          "model_module_version": "1.5.0",
          "state": {
            "_dom_classes": [],
            "_model_module": "@jupyter-widgets/controls",
            "_model_module_version": "1.5.0",
            "_model_name": "FloatProgressModel",
            "_view_count": null,
            "_view_module": "@jupyter-widgets/controls",
            "_view_module_version": "1.5.0",
            "_view_name": "ProgressView",
            "bar_style": "success",
            "description": "",
            "description_tooltip": null,
            "layout": "IPY_MODEL_17a32da7f117446fba6ff09937e24156",
            "max": 5510,
            "min": 0,
            "orientation": "horizontal",
            "style": "IPY_MODEL_a30e4f99b5f74ecaaa0e117c03741b2a",
            "value": 5510
          }
        },
        "d537f5e01d504673be1f6fc95489c3b2": {
          "model_module": "@jupyter-widgets/controls",
          "model_name": "HTMLModel",
          "model_module_version": "1.5.0",
          "state": {
            "_dom_classes": [],
            "_model_module": "@jupyter-widgets/controls",
            "_model_module_version": "1.5.0",
            "_model_name": "HTMLModel",
            "_view_count": null,
            "_view_module": "@jupyter-widgets/controls",
            "_view_module_version": "1.5.0",
            "_view_name": "HTMLView",
            "description": "",
            "description_tooltip": null,
            "layout": "IPY_MODEL_31f2f89654654e03ac9cf35c9b36bdf7",
            "placeholder": "​",
            "style": "IPY_MODEL_bc481e4ab38c4c40aa44a8b254d459ca",
            "value": " 5.51k/5.51k [00:00&lt;00:00, 227kB/s]"
          }
        },
        "94ef05beef8944d9be0d5550008c812e": {
          "model_module": "@jupyter-widgets/base",
          "model_name": "LayoutModel",
          "model_module_version": "1.2.0",
          "state": {
            "_model_module": "@jupyter-widgets/base",
            "_model_module_version": "1.2.0",
            "_model_name": "LayoutModel",
            "_view_count": null,
            "_view_module": "@jupyter-widgets/base",
            "_view_module_version": "1.2.0",
            "_view_name": "LayoutView",
            "align_content": null,
            "align_items": null,
            "align_self": null,
            "border": null,
            "bottom": null,
            "display": null,
            "flex": null,
            "flex_flow": null,
            "grid_area": null,
            "grid_auto_columns": null,
            "grid_auto_flow": null,
            "grid_auto_rows": null,
            "grid_column": null,
            "grid_gap": null,
            "grid_row": null,
            "grid_template_areas": null,
            "grid_template_columns": null,
            "grid_template_rows": null,
            "height": null,
            "justify_content": null,
            "justify_items": null,
            "left": null,
            "margin": null,
            "max_height": null,
            "max_width": null,
            "min_height": null,
            "min_width": null,
            "object_fit": null,
            "object_position": null,
            "order": null,
            "overflow": null,
            "overflow_x": null,
            "overflow_y": null,
            "padding": null,
            "right": null,
            "top": null,
            "visibility": null,
            "width": null
          }
        },
        "8c6ccf28885849fd8f0b86e4c10ec111": {
          "model_module": "@jupyter-widgets/base",
          "model_name": "LayoutModel",
          "model_module_version": "1.2.0",
          "state": {
            "_model_module": "@jupyter-widgets/base",
            "_model_module_version": "1.2.0",
            "_model_name": "LayoutModel",
            "_view_count": null,
            "_view_module": "@jupyter-widgets/base",
            "_view_module_version": "1.2.0",
            "_view_name": "LayoutView",
            "align_content": null,
            "align_items": null,
            "align_self": null,
            "border": null,
            "bottom": null,
            "display": null,
            "flex": null,
            "flex_flow": null,
            "grid_area": null,
            "grid_auto_columns": null,
            "grid_auto_flow": null,
            "grid_auto_rows": null,
            "grid_column": null,
            "grid_gap": null,
            "grid_row": null,
            "grid_template_areas": null,
            "grid_template_columns": null,
            "grid_template_rows": null,
            "height": null,
            "justify_content": null,
            "justify_items": null,
            "left": null,
            "margin": null,
            "max_height": null,
            "max_width": null,
            "min_height": null,
            "min_width": null,
            "object_fit": null,
            "object_position": null,
            "order": null,
            "overflow": null,
            "overflow_x": null,
            "overflow_y": null,
            "padding": null,
            "right": null,
            "top": null,
            "visibility": null,
            "width": null
          }
        },
        "979714879bd7469483039c40f4c1f11a": {
          "model_module": "@jupyter-widgets/controls",
          "model_name": "DescriptionStyleModel",
          "model_module_version": "1.5.0",
          "state": {
            "_model_module": "@jupyter-widgets/controls",
            "_model_module_version": "1.5.0",
            "_model_name": "DescriptionStyleModel",
            "_view_count": null,
            "_view_module": "@jupyter-widgets/base",
            "_view_module_version": "1.2.0",
            "_view_name": "StyleView",
            "description_width": ""
          }
        },
        "17a32da7f117446fba6ff09937e24156": {
          "model_module": "@jupyter-widgets/base",
          "model_name": "LayoutModel",
          "model_module_version": "1.2.0",
          "state": {
            "_model_module": "@jupyter-widgets/base",
            "_model_module_version": "1.2.0",
            "_model_name": "LayoutModel",
            "_view_count": null,
            "_view_module": "@jupyter-widgets/base",
            "_view_module_version": "1.2.0",
            "_view_name": "LayoutView",
            "align_content": null,
            "align_items": null,
            "align_self": null,
            "border": null,
            "bottom": null,
            "display": null,
            "flex": null,
            "flex_flow": null,
            "grid_area": null,
            "grid_auto_columns": null,
            "grid_auto_flow": null,
            "grid_auto_rows": null,
            "grid_column": null,
            "grid_gap": null,
            "grid_row": null,
            "grid_template_areas": null,
            "grid_template_columns": null,
            "grid_template_rows": null,
            "height": null,
            "justify_content": null,
            "justify_items": null,
            "left": null,
            "margin": null,
            "max_height": null,
            "max_width": null,
            "min_height": null,
            "min_width": null,
            "object_fit": null,
            "object_position": null,
            "order": null,
            "overflow": null,
            "overflow_x": null,
            "overflow_y": null,
            "padding": null,
            "right": null,
            "top": null,
            "visibility": null,
            "width": null
          }
        },
        "a30e4f99b5f74ecaaa0e117c03741b2a": {
          "model_module": "@jupyter-widgets/controls",
          "model_name": "ProgressStyleModel",
          "model_module_version": "1.5.0",
          "state": {
            "_model_module": "@jupyter-widgets/controls",
            "_model_module_version": "1.5.0",
            "_model_name": "ProgressStyleModel",
            "_view_count": null,
            "_view_module": "@jupyter-widgets/base",
            "_view_module_version": "1.2.0",
            "_view_name": "StyleView",
            "bar_color": null,
            "description_width": ""
          }
        },
        "31f2f89654654e03ac9cf35c9b36bdf7": {
          "model_module": "@jupyter-widgets/base",
          "model_name": "LayoutModel",
          "model_module_version": "1.2.0",
          "state": {
            "_model_module": "@jupyter-widgets/base",
            "_model_module_version": "1.2.0",
            "_model_name": "LayoutModel",
            "_view_count": null,
            "_view_module": "@jupyter-widgets/base",
            "_view_module_version": "1.2.0",
            "_view_name": "LayoutView",
            "align_content": null,
            "align_items": null,
            "align_self": null,
            "border": null,
            "bottom": null,
            "display": null,
            "flex": null,
            "flex_flow": null,
            "grid_area": null,
            "grid_auto_columns": null,
            "grid_auto_flow": null,
            "grid_auto_rows": null,
            "grid_column": null,
            "grid_gap": null,
            "grid_row": null,
            "grid_template_areas": null,
            "grid_template_columns": null,
            "grid_template_rows": null,
            "height": null,
            "justify_content": null,
            "justify_items": null,
            "left": null,
            "margin": null,
            "max_height": null,
            "max_width": null,
            "min_height": null,
            "min_width": null,
            "object_fit": null,
            "object_position": null,
            "order": null,
            "overflow": null,
            "overflow_x": null,
            "overflow_y": null,
            "padding": null,
            "right": null,
            "top": null,
            "visibility": null,
            "width": null
          }
        },
        "bc481e4ab38c4c40aa44a8b254d459ca": {
          "model_module": "@jupyter-widgets/controls",
          "model_name": "DescriptionStyleModel",
          "model_module_version": "1.5.0",
          "state": {
            "_model_module": "@jupyter-widgets/controls",
            "_model_module_version": "1.5.0",
            "_model_name": "DescriptionStyleModel",
            "_view_count": null,
            "_view_module": "@jupyter-widgets/base",
            "_view_module_version": "1.2.0",
            "_view_name": "StyleView",
            "description_width": ""
          }
        },
        "f962c53f843d4d2590ebc51bf98e1260": {
          "model_module": "@jupyter-widgets/controls",
          "model_name": "HBoxModel",
          "model_module_version": "1.5.0",
          "state": {
            "_dom_classes": [],
            "_model_module": "@jupyter-widgets/controls",
            "_model_module_version": "1.5.0",
            "_model_name": "HBoxModel",
            "_view_count": null,
            "_view_module": "@jupyter-widgets/controls",
            "_view_module_version": "1.5.0",
            "_view_name": "HBoxView",
            "box_style": "",
            "children": [
              "IPY_MODEL_c63e9a8cfab44c1eb762956af34b5269",
              "IPY_MODEL_7b254014956544b48895fd2b14c80201",
              "IPY_MODEL_2d080804fcca46d79cb3aa8a87894c87"
            ],
            "layout": "IPY_MODEL_2e02b8d7f2ab46db814ff30b474723db"
          }
        },
        "c63e9a8cfab44c1eb762956af34b5269": {
          "model_module": "@jupyter-widgets/controls",
          "model_name": "HTMLModel",
          "model_module_version": "1.5.0",
          "state": {
            "_dom_classes": [],
            "_model_module": "@jupyter-widgets/controls",
            "_model_module_version": "1.5.0",
            "_model_name": "HTMLModel",
            "_view_count": null,
            "_view_module": "@jupyter-widgets/controls",
            "_view_module_version": "1.5.0",
            "_view_name": "HTMLView",
            "description": "",
            "description_tooltip": null,
            "layout": "IPY_MODEL_86825677036446edb7200af75d97822f",
            "placeholder": "​",
            "style": "IPY_MODEL_93773f02385d4083ae009337d65bbc08",
            "value": "train-00000-of-00001.parquet: 100%"
          }
        },
        "7b254014956544b48895fd2b14c80201": {
          "model_module": "@jupyter-widgets/controls",
          "model_name": "FloatProgressModel",
          "model_module_version": "1.5.0",
          "state": {
            "_dom_classes": [],
            "_model_module": "@jupyter-widgets/controls",
            "_model_module_version": "1.5.0",
            "_model_name": "FloatProgressModel",
            "_view_count": null,
            "_view_module": "@jupyter-widgets/controls",
            "_view_module_version": "1.5.0",
            "_view_name": "ProgressView",
            "bar_style": "success",
            "description": "",
            "description_tooltip": null,
            "layout": "IPY_MODEL_8f312c3b60614a56a69712f0bf5e1e28",
            "max": 831359,
            "min": 0,
            "orientation": "horizontal",
            "style": "IPY_MODEL_e5022ea406284b6ba52f00feaa92c76a",
            "value": 831359
          }
        },
        "2d080804fcca46d79cb3aa8a87894c87": {
          "model_module": "@jupyter-widgets/controls",
          "model_name": "HTMLModel",
          "model_module_version": "1.5.0",
          "state": {
            "_dom_classes": [],
            "_model_module": "@jupyter-widgets/controls",
            "_model_module_version": "1.5.0",
            "_model_name": "HTMLModel",
            "_view_count": null,
            "_view_module": "@jupyter-widgets/controls",
            "_view_module_version": "1.5.0",
            "_view_name": "HTMLView",
            "description": "",
            "description_tooltip": null,
            "layout": "IPY_MODEL_580206ae2833491681d7c7b3ccbeaad7",
            "placeholder": "​",
            "style": "IPY_MODEL_3d2b934cd5db42ccadad7c56ad7fb135",
            "value": " 831k/831k [00:00&lt;00:00, 11.3MB/s]"
          }
        },
        "2e02b8d7f2ab46db814ff30b474723db": {
          "model_module": "@jupyter-widgets/base",
          "model_name": "LayoutModel",
          "model_module_version": "1.2.0",
          "state": {
            "_model_module": "@jupyter-widgets/base",
            "_model_module_version": "1.2.0",
            "_model_name": "LayoutModel",
            "_view_count": null,
            "_view_module": "@jupyter-widgets/base",
            "_view_module_version": "1.2.0",
            "_view_name": "LayoutView",
            "align_content": null,
            "align_items": null,
            "align_self": null,
            "border": null,
            "bottom": null,
            "display": null,
            "flex": null,
            "flex_flow": null,
            "grid_area": null,
            "grid_auto_columns": null,
            "grid_auto_flow": null,
            "grid_auto_rows": null,
            "grid_column": null,
            "grid_gap": null,
            "grid_row": null,
            "grid_template_areas": null,
            "grid_template_columns": null,
            "grid_template_rows": null,
            "height": null,
            "justify_content": null,
            "justify_items": null,
            "left": null,
            "margin": null,
            "max_height": null,
            "max_width": null,
            "min_height": null,
            "min_width": null,
            "object_fit": null,
            "object_position": null,
            "order": null,
            "overflow": null,
            "overflow_x": null,
            "overflow_y": null,
            "padding": null,
            "right": null,
            "top": null,
            "visibility": null,
            "width": null
          }
        },
        "86825677036446edb7200af75d97822f": {
          "model_module": "@jupyter-widgets/base",
          "model_name": "LayoutModel",
          "model_module_version": "1.2.0",
          "state": {
            "_model_module": "@jupyter-widgets/base",
            "_model_module_version": "1.2.0",
            "_model_name": "LayoutModel",
            "_view_count": null,
            "_view_module": "@jupyter-widgets/base",
            "_view_module_version": "1.2.0",
            "_view_name": "LayoutView",
            "align_content": null,
            "align_items": null,
            "align_self": null,
            "border": null,
            "bottom": null,
            "display": null,
            "flex": null,
            "flex_flow": null,
            "grid_area": null,
            "grid_auto_columns": null,
            "grid_auto_flow": null,
            "grid_auto_rows": null,
            "grid_column": null,
            "grid_gap": null,
            "grid_row": null,
            "grid_template_areas": null,
            "grid_template_columns": null,
            "grid_template_rows": null,
            "height": null,
            "justify_content": null,
            "justify_items": null,
            "left": null,
            "margin": null,
            "max_height": null,
            "max_width": null,
            "min_height": null,
            "min_width": null,
            "object_fit": null,
            "object_position": null,
            "order": null,
            "overflow": null,
            "overflow_x": null,
            "overflow_y": null,
            "padding": null,
            "right": null,
            "top": null,
            "visibility": null,
            "width": null
          }
        },
        "93773f02385d4083ae009337d65bbc08": {
          "model_module": "@jupyter-widgets/controls",
          "model_name": "DescriptionStyleModel",
          "model_module_version": "1.5.0",
          "state": {
            "_model_module": "@jupyter-widgets/controls",
            "_model_module_version": "1.5.0",
            "_model_name": "DescriptionStyleModel",
            "_view_count": null,
            "_view_module": "@jupyter-widgets/base",
            "_view_module_version": "1.2.0",
            "_view_name": "StyleView",
            "description_width": ""
          }
        },
        "8f312c3b60614a56a69712f0bf5e1e28": {
          "model_module": "@jupyter-widgets/base",
          "model_name": "LayoutModel",
          "model_module_version": "1.2.0",
          "state": {
            "_model_module": "@jupyter-widgets/base",
            "_model_module_version": "1.2.0",
            "_model_name": "LayoutModel",
            "_view_count": null,
            "_view_module": "@jupyter-widgets/base",
            "_view_module_version": "1.2.0",
            "_view_name": "LayoutView",
            "align_content": null,
            "align_items": null,
            "align_self": null,
            "border": null,
            "bottom": null,
            "display": null,
            "flex": null,
            "flex_flow": null,
            "grid_area": null,
            "grid_auto_columns": null,
            "grid_auto_flow": null,
            "grid_auto_rows": null,
            "grid_column": null,
            "grid_gap": null,
            "grid_row": null,
            "grid_template_areas": null,
            "grid_template_columns": null,
            "grid_template_rows": null,
            "height": null,
            "justify_content": null,
            "justify_items": null,
            "left": null,
            "margin": null,
            "max_height": null,
            "max_width": null,
            "min_height": null,
            "min_width": null,
            "object_fit": null,
            "object_position": null,
            "order": null,
            "overflow": null,
            "overflow_x": null,
            "overflow_y": null,
            "padding": null,
            "right": null,
            "top": null,
            "visibility": null,
            "width": null
          }
        },
        "e5022ea406284b6ba52f00feaa92c76a": {
          "model_module": "@jupyter-widgets/controls",
          "model_name": "ProgressStyleModel",
          "model_module_version": "1.5.0",
          "state": {
            "_model_module": "@jupyter-widgets/controls",
            "_model_module_version": "1.5.0",
            "_model_name": "ProgressStyleModel",
            "_view_count": null,
            "_view_module": "@jupyter-widgets/base",
            "_view_module_version": "1.2.0",
            "_view_name": "StyleView",
            "bar_color": null,
            "description_width": ""
          }
        },
        "580206ae2833491681d7c7b3ccbeaad7": {
          "model_module": "@jupyter-widgets/base",
          "model_name": "LayoutModel",
          "model_module_version": "1.2.0",
          "state": {
            "_model_module": "@jupyter-widgets/base",
            "_model_module_version": "1.2.0",
            "_model_name": "LayoutModel",
            "_view_count": null,
            "_view_module": "@jupyter-widgets/base",
            "_view_module_version": "1.2.0",
            "_view_name": "LayoutView",
            "align_content": null,
            "align_items": null,
            "align_self": null,
            "border": null,
            "bottom": null,
            "display": null,
            "flex": null,
            "flex_flow": null,
            "grid_area": null,
            "grid_auto_columns": null,
            "grid_auto_flow": null,
            "grid_auto_rows": null,
            "grid_column": null,
            "grid_gap": null,
            "grid_row": null,
            "grid_template_areas": null,
            "grid_template_columns": null,
            "grid_template_rows": null,
            "height": null,
            "justify_content": null,
            "justify_items": null,
            "left": null,
            "margin": null,
            "max_height": null,
            "max_width": null,
            "min_height": null,
            "min_width": null,
            "object_fit": null,
            "object_position": null,
            "order": null,
            "overflow": null,
            "overflow_x": null,
            "overflow_y": null,
            "padding": null,
            "right": null,
            "top": null,
            "visibility": null,
            "width": null
          }
        },
        "3d2b934cd5db42ccadad7c56ad7fb135": {
          "model_module": "@jupyter-widgets/controls",
          "model_name": "DescriptionStyleModel",
          "model_module_version": "1.5.0",
          "state": {
            "_model_module": "@jupyter-widgets/controls",
            "_model_module_version": "1.5.0",
            "_model_name": "DescriptionStyleModel",
            "_view_count": null,
            "_view_module": "@jupyter-widgets/base",
            "_view_module_version": "1.2.0",
            "_view_name": "StyleView",
            "description_width": ""
          }
        },
        "61d04714e056475fa7c0f2941670395a": {
          "model_module": "@jupyter-widgets/controls",
          "model_name": "HBoxModel",
          "model_module_version": "1.5.0",
          "state": {
            "_dom_classes": [],
            "_model_module": "@jupyter-widgets/controls",
            "_model_module_version": "1.5.0",
            "_model_name": "HBoxModel",
            "_view_count": null,
            "_view_module": "@jupyter-widgets/controls",
            "_view_module_version": "1.5.0",
            "_view_name": "HBoxView",
            "box_style": "",
            "children": [
              "IPY_MODEL_35f67be5d24049f1a14a18032854fe05",
              "IPY_MODEL_240142f6bba14678a140f0b18e6dbacf",
              "IPY_MODEL_827e6a5b6c6946379e521cd4091ba015"
            ],
            "layout": "IPY_MODEL_deb4346a2a6c4d08876dc40f7a289291"
          }
        },
        "35f67be5d24049f1a14a18032854fe05": {
          "model_module": "@jupyter-widgets/controls",
          "model_name": "HTMLModel",
          "model_module_version": "1.5.0",
          "state": {
            "_dom_classes": [],
            "_model_module": "@jupyter-widgets/controls",
            "_model_module_version": "1.5.0",
            "_model_name": "HTMLModel",
            "_view_count": null,
            "_view_module": "@jupyter-widgets/controls",
            "_view_module_version": "1.5.0",
            "_view_name": "HTMLView",
            "description": "",
            "description_tooltip": null,
            "layout": "IPY_MODEL_116ebefce1344a5398b3a6f59f1eb825",
            "placeholder": "​",
            "style": "IPY_MODEL_96483f42c8a540a5a1eb24b710c2c9b6",
            "value": "validation-00000-of-00001.parquet: 100%"
          }
        },
        "240142f6bba14678a140f0b18e6dbacf": {
          "model_module": "@jupyter-widgets/controls",
          "model_name": "FloatProgressModel",
          "model_module_version": "1.5.0",
          "state": {
            "_dom_classes": [],
            "_model_module": "@jupyter-widgets/controls",
            "_model_module_version": "1.5.0",
            "_model_name": "FloatProgressModel",
            "_view_count": null,
            "_view_module": "@jupyter-widgets/controls",
            "_view_module_version": "1.5.0",
            "_view_name": "ProgressView",
            "bar_style": "success",
            "description": "",
            "description_tooltip": null,
            "layout": "IPY_MODEL_d8d7bbda7f5a4837b31e55806c5ad778",
            "max": 125887,
            "min": 0,
            "orientation": "horizontal",
            "style": "IPY_MODEL_80869860a59446c2badbb0bbb8484515",
            "value": 125887
          }
        },
        "827e6a5b6c6946379e521cd4091ba015": {
          "model_module": "@jupyter-widgets/controls",
          "model_name": "HTMLModel",
          "model_module_version": "1.5.0",
          "state": {
            "_dom_classes": [],
            "_model_module": "@jupyter-widgets/controls",
            "_model_module_version": "1.5.0",
            "_model_name": "HTMLModel",
            "_view_count": null,
            "_view_module": "@jupyter-widgets/controls",
            "_view_module_version": "1.5.0",
            "_view_name": "HTMLView",
            "description": "",
            "description_tooltip": null,
            "layout": "IPY_MODEL_108f89504ead4d1b8acb63983d7dd69b",
            "placeholder": "​",
            "style": "IPY_MODEL_66af514101d54206977af41af2c2bab9",
            "value": " 126k/126k [00:00&lt;00:00, 5.90MB/s]"
          }
        },
        "deb4346a2a6c4d08876dc40f7a289291": {
          "model_module": "@jupyter-widgets/base",
          "model_name": "LayoutModel",
          "model_module_version": "1.2.0",
          "state": {
            "_model_module": "@jupyter-widgets/base",
            "_model_module_version": "1.2.0",
            "_model_name": "LayoutModel",
            "_view_count": null,
            "_view_module": "@jupyter-widgets/base",
            "_view_module_version": "1.2.0",
            "_view_name": "LayoutView",
            "align_content": null,
            "align_items": null,
            "align_self": null,
            "border": null,
            "bottom": null,
            "display": null,
            "flex": null,
            "flex_flow": null,
            "grid_area": null,
            "grid_auto_columns": null,
            "grid_auto_flow": null,
            "grid_auto_rows": null,
            "grid_column": null,
            "grid_gap": null,
            "grid_row": null,
            "grid_template_areas": null,
            "grid_template_columns": null,
            "grid_template_rows": null,
            "height": null,
            "justify_content": null,
            "justify_items": null,
            "left": null,
            "margin": null,
            "max_height": null,
            "max_width": null,
            "min_height": null,
            "min_width": null,
            "object_fit": null,
            "object_position": null,
            "order": null,
            "overflow": null,
            "overflow_x": null,
            "overflow_y": null,
            "padding": null,
            "right": null,
            "top": null,
            "visibility": null,
            "width": null
          }
        },
        "116ebefce1344a5398b3a6f59f1eb825": {
          "model_module": "@jupyter-widgets/base",
          "model_name": "LayoutModel",
          "model_module_version": "1.2.0",
          "state": {
            "_model_module": "@jupyter-widgets/base",
            "_model_module_version": "1.2.0",
            "_model_name": "LayoutModel",
            "_view_count": null,
            "_view_module": "@jupyter-widgets/base",
            "_view_module_version": "1.2.0",
            "_view_name": "LayoutView",
            "align_content": null,
            "align_items": null,
            "align_self": null,
            "border": null,
            "bottom": null,
            "display": null,
            "flex": null,
            "flex_flow": null,
            "grid_area": null,
            "grid_auto_columns": null,
            "grid_auto_flow": null,
            "grid_auto_rows": null,
            "grid_column": null,
            "grid_gap": null,
            "grid_row": null,
            "grid_template_areas": null,
            "grid_template_columns": null,
            "grid_template_rows": null,
            "height": null,
            "justify_content": null,
            "justify_items": null,
            "left": null,
            "margin": null,
            "max_height": null,
            "max_width": null,
            "min_height": null,
            "min_width": null,
            "object_fit": null,
            "object_position": null,
            "order": null,
            "overflow": null,
            "overflow_x": null,
            "overflow_y": null,
            "padding": null,
            "right": null,
            "top": null,
            "visibility": null,
            "width": null
          }
        },
        "96483f42c8a540a5a1eb24b710c2c9b6": {
          "model_module": "@jupyter-widgets/controls",
          "model_name": "DescriptionStyleModel",
          "model_module_version": "1.5.0",
          "state": {
            "_model_module": "@jupyter-widgets/controls",
            "_model_module_version": "1.5.0",
            "_model_name": "DescriptionStyleModel",
            "_view_count": null,
            "_view_module": "@jupyter-widgets/base",
            "_view_module_version": "1.2.0",
            "_view_name": "StyleView",
            "description_width": ""
          }
        },
        "d8d7bbda7f5a4837b31e55806c5ad778": {
          "model_module": "@jupyter-widgets/base",
          "model_name": "LayoutModel",
          "model_module_version": "1.2.0",
          "state": {
            "_model_module": "@jupyter-widgets/base",
            "_model_module_version": "1.2.0",
            "_model_name": "LayoutModel",
            "_view_count": null,
            "_view_module": "@jupyter-widgets/base",
            "_view_module_version": "1.2.0",
            "_view_name": "LayoutView",
            "align_content": null,
            "align_items": null,
            "align_self": null,
            "border": null,
            "bottom": null,
            "display": null,
            "flex": null,
            "flex_flow": null,
            "grid_area": null,
            "grid_auto_columns": null,
            "grid_auto_flow": null,
            "grid_auto_rows": null,
            "grid_column": null,
            "grid_gap": null,
            "grid_row": null,
            "grid_template_areas": null,
            "grid_template_columns": null,
            "grid_template_rows": null,
            "height": null,
            "justify_content": null,
            "justify_items": null,
            "left": null,
            "margin": null,
            "max_height": null,
            "max_width": null,
            "min_height": null,
            "min_width": null,
            "object_fit": null,
            "object_position": null,
            "order": null,
            "overflow": null,
            "overflow_x": null,
            "overflow_y": null,
            "padding": null,
            "right": null,
            "top": null,
            "visibility": null,
            "width": null
          }
        },
        "80869860a59446c2badbb0bbb8484515": {
          "model_module": "@jupyter-widgets/controls",
          "model_name": "ProgressStyleModel",
          "model_module_version": "1.5.0",
          "state": {
            "_model_module": "@jupyter-widgets/controls",
            "_model_module_version": "1.5.0",
            "_model_name": "ProgressStyleModel",
            "_view_count": null,
            "_view_module": "@jupyter-widgets/base",
            "_view_module_version": "1.2.0",
            "_view_name": "StyleView",
            "bar_color": null,
            "description_width": ""
          }
        },
        "108f89504ead4d1b8acb63983d7dd69b": {
          "model_module": "@jupyter-widgets/base",
          "model_name": "LayoutModel",
          "model_module_version": "1.2.0",
          "state": {
            "_model_module": "@jupyter-widgets/base",
            "_model_module_version": "1.2.0",
            "_model_name": "LayoutModel",
            "_view_count": null,
            "_view_module": "@jupyter-widgets/base",
            "_view_module_version": "1.2.0",
            "_view_name": "LayoutView",
            "align_content": null,
            "align_items": null,
            "align_self": null,
            "border": null,
            "bottom": null,
            "display": null,
            "flex": null,
            "flex_flow": null,
            "grid_area": null,
            "grid_auto_columns": null,
            "grid_auto_flow": null,
            "grid_auto_rows": null,
            "grid_column": null,
            "grid_gap": null,
            "grid_row": null,
            "grid_template_areas": null,
            "grid_template_columns": null,
            "grid_template_rows": null,
            "height": null,
            "justify_content": null,
            "justify_items": null,
            "left": null,
            "margin": null,
            "max_height": null,
            "max_width": null,
            "min_height": null,
            "min_width": null,
            "object_fit": null,
            "object_position": null,
            "order": null,
            "overflow": null,
            "overflow_x": null,
            "overflow_y": null,
            "padding": null,
            "right": null,
            "top": null,
            "visibility": null,
            "width": null
          }
        },
        "66af514101d54206977af41af2c2bab9": {
          "model_module": "@jupyter-widgets/controls",
          "model_name": "DescriptionStyleModel",
          "model_module_version": "1.5.0",
          "state": {
            "_model_module": "@jupyter-widgets/controls",
            "_model_module_version": "1.5.0",
            "_model_name": "DescriptionStyleModel",
            "_view_count": null,
            "_view_module": "@jupyter-widgets/base",
            "_view_module_version": "1.2.0",
            "_view_name": "StyleView",
            "description_width": ""
          }
        },
        "3c63493809ed416b8c3b74405e5462fa": {
          "model_module": "@jupyter-widgets/controls",
          "model_name": "HBoxModel",
          "model_module_version": "1.5.0",
          "state": {
            "_dom_classes": [],
            "_model_module": "@jupyter-widgets/controls",
            "_model_module_version": "1.5.0",
            "_model_name": "HBoxModel",
            "_view_count": null,
            "_view_module": "@jupyter-widgets/controls",
            "_view_module_version": "1.5.0",
            "_view_name": "HBoxView",
            "box_style": "",
            "children": [
              "IPY_MODEL_c4dd169fe81a49338b0438831d4cb8ca",
              "IPY_MODEL_df13e75ba7e6460aaaef19d6cb98c719",
              "IPY_MODEL_6ec182a837474b3c9fcdac7845aa6ba3"
            ],
            "layout": "IPY_MODEL_50c11442fc2c4af8b8e6f5858dbc2711"
          }
        },
        "c4dd169fe81a49338b0438831d4cb8ca": {
          "model_module": "@jupyter-widgets/controls",
          "model_name": "HTMLModel",
          "model_module_version": "1.5.0",
          "state": {
            "_dom_classes": [],
            "_model_module": "@jupyter-widgets/controls",
            "_model_module_version": "1.5.0",
            "_model_name": "HTMLModel",
            "_view_count": null,
            "_view_module": "@jupyter-widgets/controls",
            "_view_module_version": "1.5.0",
            "_view_name": "HTMLView",
            "description": "",
            "description_tooltip": null,
            "layout": "IPY_MODEL_ba5bc4c9a47e43d3acb0a2d7c5fd9589",
            "placeholder": "​",
            "style": "IPY_MODEL_44f5c433c1f64cb7a8407081ad04ed9c",
            "value": "Generating train split: 100%"
          }
        },
        "df13e75ba7e6460aaaef19d6cb98c719": {
          "model_module": "@jupyter-widgets/controls",
          "model_name": "FloatProgressModel",
          "model_module_version": "1.5.0",
          "state": {
            "_dom_classes": [],
            "_model_module": "@jupyter-widgets/controls",
            "_model_module_version": "1.5.0",
            "_model_name": "FloatProgressModel",
            "_view_count": null,
            "_view_module": "@jupyter-widgets/controls",
            "_view_module_version": "1.5.0",
            "_view_name": "ProgressView",
            "bar_style": "success",
            "description": "",
            "description_tooltip": null,
            "layout": "IPY_MODEL_525499d1ed764717ae01e1f3e357ffb9",
            "max": 7000,
            "min": 0,
            "orientation": "horizontal",
            "style": "IPY_MODEL_7371f243be5a4ebd88c3de05027f171c",
            "value": 7000
          }
        },
        "6ec182a837474b3c9fcdac7845aa6ba3": {
          "model_module": "@jupyter-widgets/controls",
          "model_name": "HTMLModel",
          "model_module_version": "1.5.0",
          "state": {
            "_dom_classes": [],
            "_model_module": "@jupyter-widgets/controls",
            "_model_module_version": "1.5.0",
            "_model_name": "HTMLModel",
            "_view_count": null,
            "_view_module": "@jupyter-widgets/controls",
            "_view_module_version": "1.5.0",
            "_view_name": "HTMLView",
            "description": "",
            "description_tooltip": null,
            "layout": "IPY_MODEL_cc6cfd4c91e64de29b58aef33cd8417c",
            "placeholder": "​",
            "style": "IPY_MODEL_eb0cc6a27e6a433c83649e133fe481a7",
            "value": " 7000/7000 [00:00&lt;00:00, 49895.11 examples/s]"
          }
        },
        "50c11442fc2c4af8b8e6f5858dbc2711": {
          "model_module": "@jupyter-widgets/base",
          "model_name": "LayoutModel",
          "model_module_version": "1.2.0",
          "state": {
            "_model_module": "@jupyter-widgets/base",
            "_model_module_version": "1.2.0",
            "_model_name": "LayoutModel",
            "_view_count": null,
            "_view_module": "@jupyter-widgets/base",
            "_view_module_version": "1.2.0",
            "_view_name": "LayoutView",
            "align_content": null,
            "align_items": null,
            "align_self": null,
            "border": null,
            "bottom": null,
            "display": null,
            "flex": null,
            "flex_flow": null,
            "grid_area": null,
            "grid_auto_columns": null,
            "grid_auto_flow": null,
            "grid_auto_rows": null,
            "grid_column": null,
            "grid_gap": null,
            "grid_row": null,
            "grid_template_areas": null,
            "grid_template_columns": null,
            "grid_template_rows": null,
            "height": null,
            "justify_content": null,
            "justify_items": null,
            "left": null,
            "margin": null,
            "max_height": null,
            "max_width": null,
            "min_height": null,
            "min_width": null,
            "object_fit": null,
            "object_position": null,
            "order": null,
            "overflow": null,
            "overflow_x": null,
            "overflow_y": null,
            "padding": null,
            "right": null,
            "top": null,
            "visibility": null,
            "width": null
          }
        },
        "ba5bc4c9a47e43d3acb0a2d7c5fd9589": {
          "model_module": "@jupyter-widgets/base",
          "model_name": "LayoutModel",
          "model_module_version": "1.2.0",
          "state": {
            "_model_module": "@jupyter-widgets/base",
            "_model_module_version": "1.2.0",
            "_model_name": "LayoutModel",
            "_view_count": null,
            "_view_module": "@jupyter-widgets/base",
            "_view_module_version": "1.2.0",
            "_view_name": "LayoutView",
            "align_content": null,
            "align_items": null,
            "align_self": null,
            "border": null,
            "bottom": null,
            "display": null,
            "flex": null,
            "flex_flow": null,
            "grid_area": null,
            "grid_auto_columns": null,
            "grid_auto_flow": null,
            "grid_auto_rows": null,
            "grid_column": null,
            "grid_gap": null,
            "grid_row": null,
            "grid_template_areas": null,
            "grid_template_columns": null,
            "grid_template_rows": null,
            "height": null,
            "justify_content": null,
            "justify_items": null,
            "left": null,
            "margin": null,
            "max_height": null,
            "max_width": null,
            "min_height": null,
            "min_width": null,
            "object_fit": null,
            "object_position": null,
            "order": null,
            "overflow": null,
            "overflow_x": null,
            "overflow_y": null,
            "padding": null,
            "right": null,
            "top": null,
            "visibility": null,
            "width": null
          }
        },
        "44f5c433c1f64cb7a8407081ad04ed9c": {
          "model_module": "@jupyter-widgets/controls",
          "model_name": "DescriptionStyleModel",
          "model_module_version": "1.5.0",
          "state": {
            "_model_module": "@jupyter-widgets/controls",
            "_model_module_version": "1.5.0",
            "_model_name": "DescriptionStyleModel",
            "_view_count": null,
            "_view_module": "@jupyter-widgets/base",
            "_view_module_version": "1.2.0",
            "_view_name": "StyleView",
            "description_width": ""
          }
        },
        "525499d1ed764717ae01e1f3e357ffb9": {
          "model_module": "@jupyter-widgets/base",
          "model_name": "LayoutModel",
          "model_module_version": "1.2.0",
          "state": {
            "_model_module": "@jupyter-widgets/base",
            "_model_module_version": "1.2.0",
            "_model_name": "LayoutModel",
            "_view_count": null,
            "_view_module": "@jupyter-widgets/base",
            "_view_module_version": "1.2.0",
            "_view_name": "LayoutView",
            "align_content": null,
            "align_items": null,
            "align_self": null,
            "border": null,
            "bottom": null,
            "display": null,
            "flex": null,
            "flex_flow": null,
            "grid_area": null,
            "grid_auto_columns": null,
            "grid_auto_flow": null,
            "grid_auto_rows": null,
            "grid_column": null,
            "grid_gap": null,
            "grid_row": null,
            "grid_template_areas": null,
            "grid_template_columns": null,
            "grid_template_rows": null,
            "height": null,
            "justify_content": null,
            "justify_items": null,
            "left": null,
            "margin": null,
            "max_height": null,
            "max_width": null,
            "min_height": null,
            "min_width": null,
            "object_fit": null,
            "object_position": null,
            "order": null,
            "overflow": null,
            "overflow_x": null,
            "overflow_y": null,
            "padding": null,
            "right": null,
            "top": null,
            "visibility": null,
            "width": null
          }
        },
        "7371f243be5a4ebd88c3de05027f171c": {
          "model_module": "@jupyter-widgets/controls",
          "model_name": "ProgressStyleModel",
          "model_module_version": "1.5.0",
          "state": {
            "_model_module": "@jupyter-widgets/controls",
            "_model_module_version": "1.5.0",
            "_model_name": "ProgressStyleModel",
            "_view_count": null,
            "_view_module": "@jupyter-widgets/base",
            "_view_module_version": "1.2.0",
            "_view_name": "StyleView",
            "bar_color": null,
            "description_width": ""
          }
        },
        "cc6cfd4c91e64de29b58aef33cd8417c": {
          "model_module": "@jupyter-widgets/base",
          "model_name": "LayoutModel",
          "model_module_version": "1.2.0",
          "state": {
            "_model_module": "@jupyter-widgets/base",
            "_model_module_version": "1.2.0",
            "_model_name": "LayoutModel",
            "_view_count": null,
            "_view_module": "@jupyter-widgets/base",
            "_view_module_version": "1.2.0",
            "_view_name": "LayoutView",
            "align_content": null,
            "align_items": null,
            "align_self": null,
            "border": null,
            "bottom": null,
            "display": null,
            "flex": null,
            "flex_flow": null,
            "grid_area": null,
            "grid_auto_columns": null,
            "grid_auto_flow": null,
            "grid_auto_rows": null,
            "grid_column": null,
            "grid_gap": null,
            "grid_row": null,
            "grid_template_areas": null,
            "grid_template_columns": null,
            "grid_template_rows": null,
            "height": null,
            "justify_content": null,
            "justify_items": null,
            "left": null,
            "margin": null,
            "max_height": null,
            "max_width": null,
            "min_height": null,
            "min_width": null,
            "object_fit": null,
            "object_position": null,
            "order": null,
            "overflow": null,
            "overflow_x": null,
            "overflow_y": null,
            "padding": null,
            "right": null,
            "top": null,
            "visibility": null,
            "width": null
          }
        },
        "eb0cc6a27e6a433c83649e133fe481a7": {
          "model_module": "@jupyter-widgets/controls",
          "model_name": "DescriptionStyleModel",
          "model_module_version": "1.5.0",
          "state": {
            "_model_module": "@jupyter-widgets/controls",
            "_model_module_version": "1.5.0",
            "_model_name": "DescriptionStyleModel",
            "_view_count": null,
            "_view_module": "@jupyter-widgets/base",
            "_view_module_version": "1.2.0",
            "_view_name": "StyleView",
            "description_width": ""
          }
        },
        "516016da29c44974b7cdb0cc8928a47d": {
          "model_module": "@jupyter-widgets/controls",
          "model_name": "HBoxModel",
          "model_module_version": "1.5.0",
          "state": {
            "_dom_classes": [],
            "_model_module": "@jupyter-widgets/controls",
            "_model_module_version": "1.5.0",
            "_model_name": "HBoxModel",
            "_view_count": null,
            "_view_module": "@jupyter-widgets/controls",
            "_view_module_version": "1.5.0",
            "_view_name": "HBoxView",
            "box_style": "",
            "children": [
              "IPY_MODEL_eb8884ea75e54a13a3e7861f53429479",
              "IPY_MODEL_1db3d9aa781d4bba8acb42b48979ba60",
              "IPY_MODEL_362d75bb9e774799a5d227d84fb508f8"
            ],
            "layout": "IPY_MODEL_c1a70105d11b4f1aaf988d2e776d49f4"
          }
        },
        "eb8884ea75e54a13a3e7861f53429479": {
          "model_module": "@jupyter-widgets/controls",
          "model_name": "HTMLModel",
          "model_module_version": "1.5.0",
          "state": {
            "_dom_classes": [],
            "_model_module": "@jupyter-widgets/controls",
            "_model_module_version": "1.5.0",
            "_model_name": "HTMLModel",
            "_view_count": null,
            "_view_module": "@jupyter-widgets/controls",
            "_view_module_version": "1.5.0",
            "_view_name": "HTMLView",
            "description": "",
            "description_tooltip": null,
            "layout": "IPY_MODEL_ee7d7901b5da4fdd837110ec7555e070",
            "placeholder": "​",
            "style": "IPY_MODEL_0b4114177ba242b68155beecce1ec4a9",
            "value": "Generating validation split: 100%"
          }
        },
        "1db3d9aa781d4bba8acb42b48979ba60": {
          "model_module": "@jupyter-widgets/controls",
          "model_name": "FloatProgressModel",
          "model_module_version": "1.5.0",
          "state": {
            "_dom_classes": [],
            "_model_module": "@jupyter-widgets/controls",
            "_model_module_version": "1.5.0",
            "_model_name": "FloatProgressModel",
            "_view_count": null,
            "_view_module": "@jupyter-widgets/controls",
            "_view_module_version": "1.5.0",
            "_view_name": "ProgressView",
            "bar_style": "success",
            "description": "",
            "description_tooltip": null,
            "layout": "IPY_MODEL_3f480630e52e496cb595af456797ef0e",
            "max": 1034,
            "min": 0,
            "orientation": "horizontal",
            "style": "IPY_MODEL_fc0d2c90816b4da2a1e064eefb08126c",
            "value": 1034
          }
        },
        "362d75bb9e774799a5d227d84fb508f8": {
          "model_module": "@jupyter-widgets/controls",
          "model_name": "HTMLModel",
          "model_module_version": "1.5.0",
          "state": {
            "_dom_classes": [],
            "_model_module": "@jupyter-widgets/controls",
            "_model_module_version": "1.5.0",
            "_model_name": "HTMLModel",
            "_view_count": null,
            "_view_module": "@jupyter-widgets/controls",
            "_view_module_version": "1.5.0",
            "_view_name": "HTMLView",
            "description": "",
            "description_tooltip": null,
            "layout": "IPY_MODEL_6adbe8f45d1946a8b83116dbdff6ea2b",
            "placeholder": "​",
            "style": "IPY_MODEL_76e150b64c924d0f998f587d3f83f501",
            "value": " 1034/1034 [00:00&lt;00:00, 16670.61 examples/s]"
          }
        },
        "c1a70105d11b4f1aaf988d2e776d49f4": {
          "model_module": "@jupyter-widgets/base",
          "model_name": "LayoutModel",
          "model_module_version": "1.2.0",
          "state": {
            "_model_module": "@jupyter-widgets/base",
            "_model_module_version": "1.2.0",
            "_model_name": "LayoutModel",
            "_view_count": null,
            "_view_module": "@jupyter-widgets/base",
            "_view_module_version": "1.2.0",
            "_view_name": "LayoutView",
            "align_content": null,
            "align_items": null,
            "align_self": null,
            "border": null,
            "bottom": null,
            "display": null,
            "flex": null,
            "flex_flow": null,
            "grid_area": null,
            "grid_auto_columns": null,
            "grid_auto_flow": null,
            "grid_auto_rows": null,
            "grid_column": null,
            "grid_gap": null,
            "grid_row": null,
            "grid_template_areas": null,
            "grid_template_columns": null,
            "grid_template_rows": null,
            "height": null,
            "justify_content": null,
            "justify_items": null,
            "left": null,
            "margin": null,
            "max_height": null,
            "max_width": null,
            "min_height": null,
            "min_width": null,
            "object_fit": null,
            "object_position": null,
            "order": null,
            "overflow": null,
            "overflow_x": null,
            "overflow_y": null,
            "padding": null,
            "right": null,
            "top": null,
            "visibility": null,
            "width": null
          }
        },
        "ee7d7901b5da4fdd837110ec7555e070": {
          "model_module": "@jupyter-widgets/base",
          "model_name": "LayoutModel",
          "model_module_version": "1.2.0",
          "state": {
            "_model_module": "@jupyter-widgets/base",
            "_model_module_version": "1.2.0",
            "_model_name": "LayoutModel",
            "_view_count": null,
            "_view_module": "@jupyter-widgets/base",
            "_view_module_version": "1.2.0",
            "_view_name": "LayoutView",
            "align_content": null,
            "align_items": null,
            "align_self": null,
            "border": null,
            "bottom": null,
            "display": null,
            "flex": null,
            "flex_flow": null,
            "grid_area": null,
            "grid_auto_columns": null,
            "grid_auto_flow": null,
            "grid_auto_rows": null,
            "grid_column": null,
            "grid_gap": null,
            "grid_row": null,
            "grid_template_areas": null,
            "grid_template_columns": null,
            "grid_template_rows": null,
            "height": null,
            "justify_content": null,
            "justify_items": null,
            "left": null,
            "margin": null,
            "max_height": null,
            "max_width": null,
            "min_height": null,
            "min_width": null,
            "object_fit": null,
            "object_position": null,
            "order": null,
            "overflow": null,
            "overflow_x": null,
            "overflow_y": null,
            "padding": null,
            "right": null,
            "top": null,
            "visibility": null,
            "width": null
          }
        },
        "0b4114177ba242b68155beecce1ec4a9": {
          "model_module": "@jupyter-widgets/controls",
          "model_name": "DescriptionStyleModel",
          "model_module_version": "1.5.0",
          "state": {
            "_model_module": "@jupyter-widgets/controls",
            "_model_module_version": "1.5.0",
            "_model_name": "DescriptionStyleModel",
            "_view_count": null,
            "_view_module": "@jupyter-widgets/base",
            "_view_module_version": "1.2.0",
            "_view_name": "StyleView",
            "description_width": ""
          }
        },
        "3f480630e52e496cb595af456797ef0e": {
          "model_module": "@jupyter-widgets/base",
          "model_name": "LayoutModel",
          "model_module_version": "1.2.0",
          "state": {
            "_model_module": "@jupyter-widgets/base",
            "_model_module_version": "1.2.0",
            "_model_name": "LayoutModel",
            "_view_count": null,
            "_view_module": "@jupyter-widgets/base",
            "_view_module_version": "1.2.0",
            "_view_name": "LayoutView",
            "align_content": null,
            "align_items": null,
            "align_self": null,
            "border": null,
            "bottom": null,
            "display": null,
            "flex": null,
            "flex_flow": null,
            "grid_area": null,
            "grid_auto_columns": null,
            "grid_auto_flow": null,
            "grid_auto_rows": null,
            "grid_column": null,
            "grid_gap": null,
            "grid_row": null,
            "grid_template_areas": null,
            "grid_template_columns": null,
            "grid_template_rows": null,
            "height": null,
            "justify_content": null,
            "justify_items": null,
            "left": null,
            "margin": null,
            "max_height": null,
            "max_width": null,
            "min_height": null,
            "min_width": null,
            "object_fit": null,
            "object_position": null,
            "order": null,
            "overflow": null,
            "overflow_x": null,
            "overflow_y": null,
            "padding": null,
            "right": null,
            "top": null,
            "visibility": null,
            "width": null
          }
        },
        "fc0d2c90816b4da2a1e064eefb08126c": {
          "model_module": "@jupyter-widgets/controls",
          "model_name": "ProgressStyleModel",
          "model_module_version": "1.5.0",
          "state": {
            "_model_module": "@jupyter-widgets/controls",
            "_model_module_version": "1.5.0",
            "_model_name": "ProgressStyleModel",
            "_view_count": null,
            "_view_module": "@jupyter-widgets/base",
            "_view_module_version": "1.2.0",
            "_view_name": "StyleView",
            "bar_color": null,
            "description_width": ""
          }
        },
        "6adbe8f45d1946a8b83116dbdff6ea2b": {
          "model_module": "@jupyter-widgets/base",
          "model_name": "LayoutModel",
          "model_module_version": "1.2.0",
          "state": {
            "_model_module": "@jupyter-widgets/base",
            "_model_module_version": "1.2.0",
            "_model_name": "LayoutModel",
            "_view_count": null,
            "_view_module": "@jupyter-widgets/base",
            "_view_module_version": "1.2.0",
            "_view_name": "LayoutView",
            "align_content": null,
            "align_items": null,
            "align_self": null,
            "border": null,
            "bottom": null,
            "display": null,
            "flex": null,
            "flex_flow": null,
            "grid_area": null,
            "grid_auto_columns": null,
            "grid_auto_flow": null,
            "grid_auto_rows": null,
            "grid_column": null,
            "grid_gap": null,
            "grid_row": null,
            "grid_template_areas": null,
            "grid_template_columns": null,
            "grid_template_rows": null,
            "height": null,
            "justify_content": null,
            "justify_items": null,
            "left": null,
            "margin": null,
            "max_height": null,
            "max_width": null,
            "min_height": null,
            "min_width": null,
            "object_fit": null,
            "object_position": null,
            "order": null,
            "overflow": null,
            "overflow_x": null,
            "overflow_y": null,
            "padding": null,
            "right": null,
            "top": null,
            "visibility": null,
            "width": null
          }
        },
        "76e150b64c924d0f998f587d3f83f501": {
          "model_module": "@jupyter-widgets/controls",
          "model_name": "DescriptionStyleModel",
          "model_module_version": "1.5.0",
          "state": {
            "_model_module": "@jupyter-widgets/controls",
            "_model_module_version": "1.5.0",
            "_model_name": "DescriptionStyleModel",
            "_view_count": null,
            "_view_module": "@jupyter-widgets/base",
            "_view_module_version": "1.2.0",
            "_view_name": "StyleView",
            "description_width": ""
          }
        },
        "32aee311a7834bbf8c011301021e735d": {
          "model_module": "@jupyter-widgets/controls",
          "model_name": "HBoxModel",
          "model_module_version": "1.5.0",
          "state": {
            "_dom_classes": [],
            "_model_module": "@jupyter-widgets/controls",
            "_model_module_version": "1.5.0",
            "_model_name": "HBoxModel",
            "_view_count": null,
            "_view_module": "@jupyter-widgets/controls",
            "_view_module_version": "1.5.0",
            "_view_name": "HBoxView",
            "box_style": "",
            "children": [
              "IPY_MODEL_1c7b1c43d1914b428b74a48afe84dff0",
              "IPY_MODEL_17be2fab62f3433385e3882fc8fb946d",
              "IPY_MODEL_2a788598c95f40b0945bf8e3a940fb22"
            ],
            "layout": "IPY_MODEL_dad60953dd7c478ba628898336d9b4e0"
          }
        },
        "1c7b1c43d1914b428b74a48afe84dff0": {
          "model_module": "@jupyter-widgets/controls",
          "model_name": "HTMLModel",
          "model_module_version": "1.5.0",
          "state": {
            "_dom_classes": [],
            "_model_module": "@jupyter-widgets/controls",
            "_model_module_version": "1.5.0",
            "_model_name": "HTMLModel",
            "_view_count": null,
            "_view_module": "@jupyter-widgets/controls",
            "_view_module_version": "1.5.0",
            "_view_name": "HTMLView",
            "description": "",
            "description_tooltip": null,
            "layout": "IPY_MODEL_249a4972fa8d4b12944099d552df3ead",
            "placeholder": "​",
            "style": "IPY_MODEL_8ca0da7f6a044453b4acf8749ba6a6cf",
            "value": "spiece.model: 100%"
          }
        },
        "17be2fab62f3433385e3882fc8fb946d": {
          "model_module": "@jupyter-widgets/controls",
          "model_name": "FloatProgressModel",
          "model_module_version": "1.5.0",
          "state": {
            "_dom_classes": [],
            "_model_module": "@jupyter-widgets/controls",
            "_model_module_version": "1.5.0",
            "_model_name": "FloatProgressModel",
            "_view_count": null,
            "_view_module": "@jupyter-widgets/controls",
            "_view_module_version": "1.5.0",
            "_view_name": "ProgressView",
            "bar_style": "success",
            "description": "",
            "description_tooltip": null,
            "layout": "IPY_MODEL_62d73b221f5842399d8d1f6607ae27ba",
            "max": 791656,
            "min": 0,
            "orientation": "horizontal",
            "style": "IPY_MODEL_fbbf8b3033fd49c38ab0d2788dccc52a",
            "value": 791656
          }
        },
        "2a788598c95f40b0945bf8e3a940fb22": {
          "model_module": "@jupyter-widgets/controls",
          "model_name": "HTMLModel",
          "model_module_version": "1.5.0",
          "state": {
            "_dom_classes": [],
            "_model_module": "@jupyter-widgets/controls",
            "_model_module_version": "1.5.0",
            "_model_name": "HTMLModel",
            "_view_count": null,
            "_view_module": "@jupyter-widgets/controls",
            "_view_module_version": "1.5.0",
            "_view_name": "HTMLView",
            "description": "",
            "description_tooltip": null,
            "layout": "IPY_MODEL_4dea2f5b678247c2938b77333bcb31c1",
            "placeholder": "​",
            "style": "IPY_MODEL_f2e63ff4c4d341ce86a00918ec540b74",
            "value": " 792k/792k [00:00&lt;00:00, 2.39MB/s]"
          }
        },
        "dad60953dd7c478ba628898336d9b4e0": {
          "model_module": "@jupyter-widgets/base",
          "model_name": "LayoutModel",
          "model_module_version": "1.2.0",
          "state": {
            "_model_module": "@jupyter-widgets/base",
            "_model_module_version": "1.2.0",
            "_model_name": "LayoutModel",
            "_view_count": null,
            "_view_module": "@jupyter-widgets/base",
            "_view_module_version": "1.2.0",
            "_view_name": "LayoutView",
            "align_content": null,
            "align_items": null,
            "align_self": null,
            "border": null,
            "bottom": null,
            "display": null,
            "flex": null,
            "flex_flow": null,
            "grid_area": null,
            "grid_auto_columns": null,
            "grid_auto_flow": null,
            "grid_auto_rows": null,
            "grid_column": null,
            "grid_gap": null,
            "grid_row": null,
            "grid_template_areas": null,
            "grid_template_columns": null,
            "grid_template_rows": null,
            "height": null,
            "justify_content": null,
            "justify_items": null,
            "left": null,
            "margin": null,
            "max_height": null,
            "max_width": null,
            "min_height": null,
            "min_width": null,
            "object_fit": null,
            "object_position": null,
            "order": null,
            "overflow": null,
            "overflow_x": null,
            "overflow_y": null,
            "padding": null,
            "right": null,
            "top": null,
            "visibility": null,
            "width": null
          }
        },
        "249a4972fa8d4b12944099d552df3ead": {
          "model_module": "@jupyter-widgets/base",
          "model_name": "LayoutModel",
          "model_module_version": "1.2.0",
          "state": {
            "_model_module": "@jupyter-widgets/base",
            "_model_module_version": "1.2.0",
            "_model_name": "LayoutModel",
            "_view_count": null,
            "_view_module": "@jupyter-widgets/base",
            "_view_module_version": "1.2.0",
            "_view_name": "LayoutView",
            "align_content": null,
            "align_items": null,
            "align_self": null,
            "border": null,
            "bottom": null,
            "display": null,
            "flex": null,
            "flex_flow": null,
            "grid_area": null,
            "grid_auto_columns": null,
            "grid_auto_flow": null,
            "grid_auto_rows": null,
            "grid_column": null,
            "grid_gap": null,
            "grid_row": null,
            "grid_template_areas": null,
            "grid_template_columns": null,
            "grid_template_rows": null,
            "height": null,
            "justify_content": null,
            "justify_items": null,
            "left": null,
            "margin": null,
            "max_height": null,
            "max_width": null,
            "min_height": null,
            "min_width": null,
            "object_fit": null,
            "object_position": null,
            "order": null,
            "overflow": null,
            "overflow_x": null,
            "overflow_y": null,
            "padding": null,
            "right": null,
            "top": null,
            "visibility": null,
            "width": null
          }
        },
        "8ca0da7f6a044453b4acf8749ba6a6cf": {
          "model_module": "@jupyter-widgets/controls",
          "model_name": "DescriptionStyleModel",
          "model_module_version": "1.5.0",
          "state": {
            "_model_module": "@jupyter-widgets/controls",
            "_model_module_version": "1.5.0",
            "_model_name": "DescriptionStyleModel",
            "_view_count": null,
            "_view_module": "@jupyter-widgets/base",
            "_view_module_version": "1.2.0",
            "_view_name": "StyleView",
            "description_width": ""
          }
        },
        "62d73b221f5842399d8d1f6607ae27ba": {
          "model_module": "@jupyter-widgets/base",
          "model_name": "LayoutModel",
          "model_module_version": "1.2.0",
          "state": {
            "_model_module": "@jupyter-widgets/base",
            "_model_module_version": "1.2.0",
            "_model_name": "LayoutModel",
            "_view_count": null,
            "_view_module": "@jupyter-widgets/base",
            "_view_module_version": "1.2.0",
            "_view_name": "LayoutView",
            "align_content": null,
            "align_items": null,
            "align_self": null,
            "border": null,
            "bottom": null,
            "display": null,
            "flex": null,
            "flex_flow": null,
            "grid_area": null,
            "grid_auto_columns": null,
            "grid_auto_flow": null,
            "grid_auto_rows": null,
            "grid_column": null,
            "grid_gap": null,
            "grid_row": null,
            "grid_template_areas": null,
            "grid_template_columns": null,
            "grid_template_rows": null,
            "height": null,
            "justify_content": null,
            "justify_items": null,
            "left": null,
            "margin": null,
            "max_height": null,
            "max_width": null,
            "min_height": null,
            "min_width": null,
            "object_fit": null,
            "object_position": null,
            "order": null,
            "overflow": null,
            "overflow_x": null,
            "overflow_y": null,
            "padding": null,
            "right": null,
            "top": null,
            "visibility": null,
            "width": null
          }
        },
        "fbbf8b3033fd49c38ab0d2788dccc52a": {
          "model_module": "@jupyter-widgets/controls",
          "model_name": "ProgressStyleModel",
          "model_module_version": "1.5.0",
          "state": {
            "_model_module": "@jupyter-widgets/controls",
            "_model_module_version": "1.5.0",
            "_model_name": "ProgressStyleModel",
            "_view_count": null,
            "_view_module": "@jupyter-widgets/base",
            "_view_module_version": "1.2.0",
            "_view_name": "StyleView",
            "bar_color": null,
            "description_width": ""
          }
        },
        "4dea2f5b678247c2938b77333bcb31c1": {
          "model_module": "@jupyter-widgets/base",
          "model_name": "LayoutModel",
          "model_module_version": "1.2.0",
          "state": {
            "_model_module": "@jupyter-widgets/base",
            "_model_module_version": "1.2.0",
            "_model_name": "LayoutModel",
            "_view_count": null,
            "_view_module": "@jupyter-widgets/base",
            "_view_module_version": "1.2.0",
            "_view_name": "LayoutView",
            "align_content": null,
            "align_items": null,
            "align_self": null,
            "border": null,
            "bottom": null,
            "display": null,
            "flex": null,
            "flex_flow": null,
            "grid_area": null,
            "grid_auto_columns": null,
            "grid_auto_flow": null,
            "grid_auto_rows": null,
            "grid_column": null,
            "grid_gap": null,
            "grid_row": null,
            "grid_template_areas": null,
            "grid_template_columns": null,
            "grid_template_rows": null,
            "height": null,
            "justify_content": null,
            "justify_items": null,
            "left": null,
            "margin": null,
            "max_height": null,
            "max_width": null,
            "min_height": null,
            "min_width": null,
            "object_fit": null,
            "object_position": null,
            "order": null,
            "overflow": null,
            "overflow_x": null,
            "overflow_y": null,
            "padding": null,
            "right": null,
            "top": null,
            "visibility": null,
            "width": null
          }
        },
        "f2e63ff4c4d341ce86a00918ec540b74": {
          "model_module": "@jupyter-widgets/controls",
          "model_name": "DescriptionStyleModel",
          "model_module_version": "1.5.0",
          "state": {
            "_model_module": "@jupyter-widgets/controls",
            "_model_module_version": "1.5.0",
            "_model_name": "DescriptionStyleModel",
            "_view_count": null,
            "_view_module": "@jupyter-widgets/base",
            "_view_module_version": "1.2.0",
            "_view_name": "StyleView",
            "description_width": ""
          }
        },
        "ba9226145ca743c89e81d84d5cdf3d4f": {
          "model_module": "@jupyter-widgets/controls",
          "model_name": "HBoxModel",
          "model_module_version": "1.5.0",
          "state": {
            "_dom_classes": [],
            "_model_module": "@jupyter-widgets/controls",
            "_model_module_version": "1.5.0",
            "_model_name": "HBoxModel",
            "_view_count": null,
            "_view_module": "@jupyter-widgets/controls",
            "_view_module_version": "1.5.0",
            "_view_name": "HBoxView",
            "box_style": "",
            "children": [
              "IPY_MODEL_94b79eec2d604969afa245c9ee5da4b9",
              "IPY_MODEL_71a31e84c89544d48021159ff978a79d",
              "IPY_MODEL_f8794585691d423fbe65244ecad5cd34"
            ],
            "layout": "IPY_MODEL_3477c96a68004cdf843b8b46fe0d5cb5"
          }
        },
        "94b79eec2d604969afa245c9ee5da4b9": {
          "model_module": "@jupyter-widgets/controls",
          "model_name": "HTMLModel",
          "model_module_version": "1.5.0",
          "state": {
            "_dom_classes": [],
            "_model_module": "@jupyter-widgets/controls",
            "_model_module_version": "1.5.0",
            "_model_name": "HTMLModel",
            "_view_count": null,
            "_view_module": "@jupyter-widgets/controls",
            "_view_module_version": "1.5.0",
            "_view_name": "HTMLView",
            "description": "",
            "description_tooltip": null,
            "layout": "IPY_MODEL_6bda4ae013ff4b8a8eb8c0a2ed8c6000",
            "placeholder": "​",
            "style": "IPY_MODEL_f1f98b5559b545aa896fffcd344c12ef",
            "value": "tokenizer.json: 100%"
          }
        },
        "71a31e84c89544d48021159ff978a79d": {
          "model_module": "@jupyter-widgets/controls",
          "model_name": "FloatProgressModel",
          "model_module_version": "1.5.0",
          "state": {
            "_dom_classes": [],
            "_model_module": "@jupyter-widgets/controls",
            "_model_module_version": "1.5.0",
            "_model_name": "FloatProgressModel",
            "_view_count": null,
            "_view_module": "@jupyter-widgets/controls",
            "_view_module_version": "1.5.0",
            "_view_name": "ProgressView",
            "bar_style": "success",
            "description": "",
            "description_tooltip": null,
            "layout": "IPY_MODEL_c856da8efc9243158081305801637990",
            "max": 1389353,
            "min": 0,
            "orientation": "horizontal",
            "style": "IPY_MODEL_57c525c9c8a1493a8941093c5f05a150",
            "value": 1389353
          }
        },
        "f8794585691d423fbe65244ecad5cd34": {
          "model_module": "@jupyter-widgets/controls",
          "model_name": "HTMLModel",
          "model_module_version": "1.5.0",
          "state": {
            "_dom_classes": [],
            "_model_module": "@jupyter-widgets/controls",
            "_model_module_version": "1.5.0",
            "_model_name": "HTMLModel",
            "_view_count": null,
            "_view_module": "@jupyter-widgets/controls",
            "_view_module_version": "1.5.0",
            "_view_name": "HTMLView",
            "description": "",
            "description_tooltip": null,
            "layout": "IPY_MODEL_b4eaaaa6522a49c19156ad3692b40c38",
            "placeholder": "​",
            "style": "IPY_MODEL_4b8aaaa260c34345b24b762af1d42977",
            "value": " 1.39M/1.39M [00:00&lt;00:00, 15.4MB/s]"
          }
        },
        "3477c96a68004cdf843b8b46fe0d5cb5": {
          "model_module": "@jupyter-widgets/base",
          "model_name": "LayoutModel",
          "model_module_version": "1.2.0",
          "state": {
            "_model_module": "@jupyter-widgets/base",
            "_model_module_version": "1.2.0",
            "_model_name": "LayoutModel",
            "_view_count": null,
            "_view_module": "@jupyter-widgets/base",
            "_view_module_version": "1.2.0",
            "_view_name": "LayoutView",
            "align_content": null,
            "align_items": null,
            "align_self": null,
            "border": null,
            "bottom": null,
            "display": null,
            "flex": null,
            "flex_flow": null,
            "grid_area": null,
            "grid_auto_columns": null,
            "grid_auto_flow": null,
            "grid_auto_rows": null,
            "grid_column": null,
            "grid_gap": null,
            "grid_row": null,
            "grid_template_areas": null,
            "grid_template_columns": null,
            "grid_template_rows": null,
            "height": null,
            "justify_content": null,
            "justify_items": null,
            "left": null,
            "margin": null,
            "max_height": null,
            "max_width": null,
            "min_height": null,
            "min_width": null,
            "object_fit": null,
            "object_position": null,
            "order": null,
            "overflow": null,
            "overflow_x": null,
            "overflow_y": null,
            "padding": null,
            "right": null,
            "top": null,
            "visibility": null,
            "width": null
          }
        },
        "6bda4ae013ff4b8a8eb8c0a2ed8c6000": {
          "model_module": "@jupyter-widgets/base",
          "model_name": "LayoutModel",
          "model_module_version": "1.2.0",
          "state": {
            "_model_module": "@jupyter-widgets/base",
            "_model_module_version": "1.2.0",
            "_model_name": "LayoutModel",
            "_view_count": null,
            "_view_module": "@jupyter-widgets/base",
            "_view_module_version": "1.2.0",
            "_view_name": "LayoutView",
            "align_content": null,
            "align_items": null,
            "align_self": null,
            "border": null,
            "bottom": null,
            "display": null,
            "flex": null,
            "flex_flow": null,
            "grid_area": null,
            "grid_auto_columns": null,
            "grid_auto_flow": null,
            "grid_auto_rows": null,
            "grid_column": null,
            "grid_gap": null,
            "grid_row": null,
            "grid_template_areas": null,
            "grid_template_columns": null,
            "grid_template_rows": null,
            "height": null,
            "justify_content": null,
            "justify_items": null,
            "left": null,
            "margin": null,
            "max_height": null,
            "max_width": null,
            "min_height": null,
            "min_width": null,
            "object_fit": null,
            "object_position": null,
            "order": null,
            "overflow": null,
            "overflow_x": null,
            "overflow_y": null,
            "padding": null,
            "right": null,
            "top": null,
            "visibility": null,
            "width": null
          }
        },
        "f1f98b5559b545aa896fffcd344c12ef": {
          "model_module": "@jupyter-widgets/controls",
          "model_name": "DescriptionStyleModel",
          "model_module_version": "1.5.0",
          "state": {
            "_model_module": "@jupyter-widgets/controls",
            "_model_module_version": "1.5.0",
            "_model_name": "DescriptionStyleModel",
            "_view_count": null,
            "_view_module": "@jupyter-widgets/base",
            "_view_module_version": "1.2.0",
            "_view_name": "StyleView",
            "description_width": ""
          }
        },
        "c856da8efc9243158081305801637990": {
          "model_module": "@jupyter-widgets/base",
          "model_name": "LayoutModel",
          "model_module_version": "1.2.0",
          "state": {
            "_model_module": "@jupyter-widgets/base",
            "_model_module_version": "1.2.0",
            "_model_name": "LayoutModel",
            "_view_count": null,
            "_view_module": "@jupyter-widgets/base",
            "_view_module_version": "1.2.0",
            "_view_name": "LayoutView",
            "align_content": null,
            "align_items": null,
            "align_self": null,
            "border": null,
            "bottom": null,
            "display": null,
            "flex": null,
            "flex_flow": null,
            "grid_area": null,
            "grid_auto_columns": null,
            "grid_auto_flow": null,
            "grid_auto_rows": null,
            "grid_column": null,
            "grid_gap": null,
            "grid_row": null,
            "grid_template_areas": null,
            "grid_template_columns": null,
            "grid_template_rows": null,
            "height": null,
            "justify_content": null,
            "justify_items": null,
            "left": null,
            "margin": null,
            "max_height": null,
            "max_width": null,
            "min_height": null,
            "min_width": null,
            "object_fit": null,
            "object_position": null,
            "order": null,
            "overflow": null,
            "overflow_x": null,
            "overflow_y": null,
            "padding": null,
            "right": null,
            "top": null,
            "visibility": null,
            "width": null
          }
        },
        "57c525c9c8a1493a8941093c5f05a150": {
          "model_module": "@jupyter-widgets/controls",
          "model_name": "ProgressStyleModel",
          "model_module_version": "1.5.0",
          "state": {
            "_model_module": "@jupyter-widgets/controls",
            "_model_module_version": "1.5.0",
            "_model_name": "ProgressStyleModel",
            "_view_count": null,
            "_view_module": "@jupyter-widgets/base",
            "_view_module_version": "1.2.0",
            "_view_name": "StyleView",
            "bar_color": null,
            "description_width": ""
          }
        },
        "b4eaaaa6522a49c19156ad3692b40c38": {
          "model_module": "@jupyter-widgets/base",
          "model_name": "LayoutModel",
          "model_module_version": "1.2.0",
          "state": {
            "_model_module": "@jupyter-widgets/base",
            "_model_module_version": "1.2.0",
            "_model_name": "LayoutModel",
            "_view_count": null,
            "_view_module": "@jupyter-widgets/base",
            "_view_module_version": "1.2.0",
            "_view_name": "LayoutView",
            "align_content": null,
            "align_items": null,
            "align_self": null,
            "border": null,
            "bottom": null,
            "display": null,
            "flex": null,
            "flex_flow": null,
            "grid_area": null,
            "grid_auto_columns": null,
            "grid_auto_flow": null,
            "grid_auto_rows": null,
            "grid_column": null,
            "grid_gap": null,
            "grid_row": null,
            "grid_template_areas": null,
            "grid_template_columns": null,
            "grid_template_rows": null,
            "height": null,
            "justify_content": null,
            "justify_items": null,
            "left": null,
            "margin": null,
            "max_height": null,
            "max_width": null,
            "min_height": null,
            "min_width": null,
            "object_fit": null,
            "object_position": null,
            "order": null,
            "overflow": null,
            "overflow_x": null,
            "overflow_y": null,
            "padding": null,
            "right": null,
            "top": null,
            "visibility": null,
            "width": null
          }
        },
        "4b8aaaa260c34345b24b762af1d42977": {
          "model_module": "@jupyter-widgets/controls",
          "model_name": "DescriptionStyleModel",
          "model_module_version": "1.5.0",
          "state": {
            "_model_module": "@jupyter-widgets/controls",
            "_model_module_version": "1.5.0",
            "_model_name": "DescriptionStyleModel",
            "_view_count": null,
            "_view_module": "@jupyter-widgets/base",
            "_view_module_version": "1.2.0",
            "_view_name": "StyleView",
            "description_width": ""
          }
        },
        "f46982a2940c48258dcc740a3f2aeed0": {
          "model_module": "@jupyter-widgets/controls",
          "model_name": "HBoxModel",
          "model_module_version": "1.5.0",
          "state": {
            "_dom_classes": [],
            "_model_module": "@jupyter-widgets/controls",
            "_model_module_version": "1.5.0",
            "_model_name": "HBoxModel",
            "_view_count": null,
            "_view_module": "@jupyter-widgets/controls",
            "_view_module_version": "1.5.0",
            "_view_name": "HBoxView",
            "box_style": "",
            "children": [
              "IPY_MODEL_1906eb35a7b947dd90a387fe4bf6e448",
              "IPY_MODEL_fecdbdee412a46ed84a662e9be5cba72",
              "IPY_MODEL_7c8814283d0946f9851dcb484299f6b9"
            ],
            "layout": "IPY_MODEL_f4bad092fb0a4d39ad129f2eefa4cd76"
          }
        },
        "1906eb35a7b947dd90a387fe4bf6e448": {
          "model_module": "@jupyter-widgets/controls",
          "model_name": "HTMLModel",
          "model_module_version": "1.5.0",
          "state": {
            "_dom_classes": [],
            "_model_module": "@jupyter-widgets/controls",
            "_model_module_version": "1.5.0",
            "_model_name": "HTMLModel",
            "_view_count": null,
            "_view_module": "@jupyter-widgets/controls",
            "_view_module_version": "1.5.0",
            "_view_name": "HTMLView",
            "description": "",
            "description_tooltip": null,
            "layout": "IPY_MODEL_491c34a2230b4d1fbc96975311b6b044",
            "placeholder": "​",
            "style": "IPY_MODEL_7a27e750789a455c8cc921eb2a67de90",
            "value": "config.json: 100%"
          }
        },
        "fecdbdee412a46ed84a662e9be5cba72": {
          "model_module": "@jupyter-widgets/controls",
          "model_name": "FloatProgressModel",
          "model_module_version": "1.5.0",
          "state": {
            "_dom_classes": [],
            "_model_module": "@jupyter-widgets/controls",
            "_model_module_version": "1.5.0",
            "_model_name": "FloatProgressModel",
            "_view_count": null,
            "_view_module": "@jupyter-widgets/controls",
            "_view_module_version": "1.5.0",
            "_view_name": "ProgressView",
            "bar_style": "success",
            "description": "",
            "description_tooltip": null,
            "layout": "IPY_MODEL_28944f9dae974d9c8c050480f96871d3",
            "max": 1208,
            "min": 0,
            "orientation": "horizontal",
            "style": "IPY_MODEL_2153635f8dd14afbb0c50052ddc54324",
            "value": 1208
          }
        },
        "7c8814283d0946f9851dcb484299f6b9": {
          "model_module": "@jupyter-widgets/controls",
          "model_name": "HTMLModel",
          "model_module_version": "1.5.0",
          "state": {
            "_dom_classes": [],
            "_model_module": "@jupyter-widgets/controls",
            "_model_module_version": "1.5.0",
            "_model_name": "HTMLModel",
            "_view_count": null,
            "_view_module": "@jupyter-widgets/controls",
            "_view_module_version": "1.5.0",
            "_view_name": "HTMLView",
            "description": "",
            "description_tooltip": null,
            "layout": "IPY_MODEL_7ee32cee66bf451b8695443d850db3ce",
            "placeholder": "​",
            "style": "IPY_MODEL_149a578056cb4e1eb1e9d73849392eae",
            "value": " 1.21k/1.21k [00:00&lt;00:00, 47.4kB/s]"
          }
        },
        "f4bad092fb0a4d39ad129f2eefa4cd76": {
          "model_module": "@jupyter-widgets/base",
          "model_name": "LayoutModel",
          "model_module_version": "1.2.0",
          "state": {
            "_model_module": "@jupyter-widgets/base",
            "_model_module_version": "1.2.0",
            "_model_name": "LayoutModel",
            "_view_count": null,
            "_view_module": "@jupyter-widgets/base",
            "_view_module_version": "1.2.0",
            "_view_name": "LayoutView",
            "align_content": null,
            "align_items": null,
            "align_self": null,
            "border": null,
            "bottom": null,
            "display": null,
            "flex": null,
            "flex_flow": null,
            "grid_area": null,
            "grid_auto_columns": null,
            "grid_auto_flow": null,
            "grid_auto_rows": null,
            "grid_column": null,
            "grid_gap": null,
            "grid_row": null,
            "grid_template_areas": null,
            "grid_template_columns": null,
            "grid_template_rows": null,
            "height": null,
            "justify_content": null,
            "justify_items": null,
            "left": null,
            "margin": null,
            "max_height": null,
            "max_width": null,
            "min_height": null,
            "min_width": null,
            "object_fit": null,
            "object_position": null,
            "order": null,
            "overflow": null,
            "overflow_x": null,
            "overflow_y": null,
            "padding": null,
            "right": null,
            "top": null,
            "visibility": null,
            "width": null
          }
        },
        "491c34a2230b4d1fbc96975311b6b044": {
          "model_module": "@jupyter-widgets/base",
          "model_name": "LayoutModel",
          "model_module_version": "1.2.0",
          "state": {
            "_model_module": "@jupyter-widgets/base",
            "_model_module_version": "1.2.0",
            "_model_name": "LayoutModel",
            "_view_count": null,
            "_view_module": "@jupyter-widgets/base",
            "_view_module_version": "1.2.0",
            "_view_name": "LayoutView",
            "align_content": null,
            "align_items": null,
            "align_self": null,
            "border": null,
            "bottom": null,
            "display": null,
            "flex": null,
            "flex_flow": null,
            "grid_area": null,
            "grid_auto_columns": null,
            "grid_auto_flow": null,
            "grid_auto_rows": null,
            "grid_column": null,
            "grid_gap": null,
            "grid_row": null,
            "grid_template_areas": null,
            "grid_template_columns": null,
            "grid_template_rows": null,
            "height": null,
            "justify_content": null,
            "justify_items": null,
            "left": null,
            "margin": null,
            "max_height": null,
            "max_width": null,
            "min_height": null,
            "min_width": null,
            "object_fit": null,
            "object_position": null,
            "order": null,
            "overflow": null,
            "overflow_x": null,
            "overflow_y": null,
            "padding": null,
            "right": null,
            "top": null,
            "visibility": null,
            "width": null
          }
        },
        "7a27e750789a455c8cc921eb2a67de90": {
          "model_module": "@jupyter-widgets/controls",
          "model_name": "DescriptionStyleModel",
          "model_module_version": "1.5.0",
          "state": {
            "_model_module": "@jupyter-widgets/controls",
            "_model_module_version": "1.5.0",
            "_model_name": "DescriptionStyleModel",
            "_view_count": null,
            "_view_module": "@jupyter-widgets/base",
            "_view_module_version": "1.2.0",
            "_view_name": "StyleView",
            "description_width": ""
          }
        },
        "28944f9dae974d9c8c050480f96871d3": {
          "model_module": "@jupyter-widgets/base",
          "model_name": "LayoutModel",
          "model_module_version": "1.2.0",
          "state": {
            "_model_module": "@jupyter-widgets/base",
            "_model_module_version": "1.2.0",
            "_model_name": "LayoutModel",
            "_view_count": null,
            "_view_module": "@jupyter-widgets/base",
            "_view_module_version": "1.2.0",
            "_view_name": "LayoutView",
            "align_content": null,
            "align_items": null,
            "align_self": null,
            "border": null,
            "bottom": null,
            "display": null,
            "flex": null,
            "flex_flow": null,
            "grid_area": null,
            "grid_auto_columns": null,
            "grid_auto_flow": null,
            "grid_auto_rows": null,
            "grid_column": null,
            "grid_gap": null,
            "grid_row": null,
            "grid_template_areas": null,
            "grid_template_columns": null,
            "grid_template_rows": null,
            "height": null,
            "justify_content": null,
            "justify_items": null,
            "left": null,
            "margin": null,
            "max_height": null,
            "max_width": null,
            "min_height": null,
            "min_width": null,
            "object_fit": null,
            "object_position": null,
            "order": null,
            "overflow": null,
            "overflow_x": null,
            "overflow_y": null,
            "padding": null,
            "right": null,
            "top": null,
            "visibility": null,
            "width": null
          }
        },
        "2153635f8dd14afbb0c50052ddc54324": {
          "model_module": "@jupyter-widgets/controls",
          "model_name": "ProgressStyleModel",
          "model_module_version": "1.5.0",
          "state": {
            "_model_module": "@jupyter-widgets/controls",
            "_model_module_version": "1.5.0",
            "_model_name": "ProgressStyleModel",
            "_view_count": null,
            "_view_module": "@jupyter-widgets/base",
            "_view_module_version": "1.2.0",
            "_view_name": "StyleView",
            "bar_color": null,
            "description_width": ""
          }
        },
        "7ee32cee66bf451b8695443d850db3ce": {
          "model_module": "@jupyter-widgets/base",
          "model_name": "LayoutModel",
          "model_module_version": "1.2.0",
          "state": {
            "_model_module": "@jupyter-widgets/base",
            "_model_module_version": "1.2.0",
            "_model_name": "LayoutModel",
            "_view_count": null,
            "_view_module": "@jupyter-widgets/base",
            "_view_module_version": "1.2.0",
            "_view_name": "LayoutView",
            "align_content": null,
            "align_items": null,
            "align_self": null,
            "border": null,
            "bottom": null,
            "display": null,
            "flex": null,
            "flex_flow": null,
            "grid_area": null,
            "grid_auto_columns": null,
            "grid_auto_flow": null,
            "grid_auto_rows": null,
            "grid_column": null,
            "grid_gap": null,
            "grid_row": null,
            "grid_template_areas": null,
            "grid_template_columns": null,
            "grid_template_rows": null,
            "height": null,
            "justify_content": null,
            "justify_items": null,
            "left": null,
            "margin": null,
            "max_height": null,
            "max_width": null,
            "min_height": null,
            "min_width": null,
            "object_fit": null,
            "object_position": null,
            "order": null,
            "overflow": null,
            "overflow_x": null,
            "overflow_y": null,
            "padding": null,
            "right": null,
            "top": null,
            "visibility": null,
            "width": null
          }
        },
        "149a578056cb4e1eb1e9d73849392eae": {
          "model_module": "@jupyter-widgets/controls",
          "model_name": "DescriptionStyleModel",
          "model_module_version": "1.5.0",
          "state": {
            "_model_module": "@jupyter-widgets/controls",
            "_model_module_version": "1.5.0",
            "_model_name": "DescriptionStyleModel",
            "_view_count": null,
            "_view_module": "@jupyter-widgets/base",
            "_view_module_version": "1.2.0",
            "_view_name": "StyleView",
            "description_width": ""
          }
        },
        "d2d510cac2354037bf0e624f9e3c2696": {
          "model_module": "@jupyter-widgets/controls",
          "model_name": "HBoxModel",
          "model_module_version": "1.5.0",
          "state": {
            "_dom_classes": [],
            "_model_module": "@jupyter-widgets/controls",
            "_model_module_version": "1.5.0",
            "_model_name": "HBoxModel",
            "_view_count": null,
            "_view_module": "@jupyter-widgets/controls",
            "_view_module_version": "1.5.0",
            "_view_name": "HBoxView",
            "box_style": "",
            "children": [
              "IPY_MODEL_cf495749ed6f4dd5887b8709ba97da6e",
              "IPY_MODEL_d6184aefb3bf42d9856adea602f61b34",
              "IPY_MODEL_923ed1b605744a6bb2d42947ee494115"
            ],
            "layout": "IPY_MODEL_1121851575884f6882e0d837a7a413c6"
          }
        },
        "cf495749ed6f4dd5887b8709ba97da6e": {
          "model_module": "@jupyter-widgets/controls",
          "model_name": "HTMLModel",
          "model_module_version": "1.5.0",
          "state": {
            "_dom_classes": [],
            "_model_module": "@jupyter-widgets/controls",
            "_model_module_version": "1.5.0",
            "_model_name": "HTMLModel",
            "_view_count": null,
            "_view_module": "@jupyter-widgets/controls",
            "_view_module_version": "1.5.0",
            "_view_name": "HTMLView",
            "description": "",
            "description_tooltip": null,
            "layout": "IPY_MODEL_ab15ae03574041f8bbc32fa9011e94c8",
            "placeholder": "​",
            "style": "IPY_MODEL_eede901a3e3d4a4d980a013ceff6d066",
            "value": "model.safetensors: 100%"
          }
        },
        "d6184aefb3bf42d9856adea602f61b34": {
          "model_module": "@jupyter-widgets/controls",
          "model_name": "FloatProgressModel",
          "model_module_version": "1.5.0",
          "state": {
            "_dom_classes": [],
            "_model_module": "@jupyter-widgets/controls",
            "_model_module_version": "1.5.0",
            "_model_name": "FloatProgressModel",
            "_view_count": null,
            "_view_module": "@jupyter-widgets/controls",
            "_view_module_version": "1.5.0",
            "_view_name": "ProgressView",
            "bar_style": "success",
            "description": "",
            "description_tooltip": null,
            "layout": "IPY_MODEL_e4df803d1af14c8fb83917c3125a4259",
            "max": 891646390,
            "min": 0,
            "orientation": "horizontal",
            "style": "IPY_MODEL_15b95f35ae7d4e448bed8a5ca1235570",
            "value": 891646390
          }
        },
        "923ed1b605744a6bb2d42947ee494115": {
          "model_module": "@jupyter-widgets/controls",
          "model_name": "HTMLModel",
          "model_module_version": "1.5.0",
          "state": {
            "_dom_classes": [],
            "_model_module": "@jupyter-widgets/controls",
            "_model_module_version": "1.5.0",
            "_model_name": "HTMLModel",
            "_view_count": null,
            "_view_module": "@jupyter-widgets/controls",
            "_view_module_version": "1.5.0",
            "_view_name": "HTMLView",
            "description": "",
            "description_tooltip": null,
            "layout": "IPY_MODEL_f70e97134ab0416cb0c31e2b814c1616",
            "placeholder": "​",
            "style": "IPY_MODEL_76a09edc69ff4725afa5880548703666",
            "value": " 892M/892M [00:10&lt;00:00, 107MB/s]"
          }
        },
        "1121851575884f6882e0d837a7a413c6": {
          "model_module": "@jupyter-widgets/base",
          "model_name": "LayoutModel",
          "model_module_version": "1.2.0",
          "state": {
            "_model_module": "@jupyter-widgets/base",
            "_model_module_version": "1.2.0",
            "_model_name": "LayoutModel",
            "_view_count": null,
            "_view_module": "@jupyter-widgets/base",
            "_view_module_version": "1.2.0",
            "_view_name": "LayoutView",
            "align_content": null,
            "align_items": null,
            "align_self": null,
            "border": null,
            "bottom": null,
            "display": null,
            "flex": null,
            "flex_flow": null,
            "grid_area": null,
            "grid_auto_columns": null,
            "grid_auto_flow": null,
            "grid_auto_rows": null,
            "grid_column": null,
            "grid_gap": null,
            "grid_row": null,
            "grid_template_areas": null,
            "grid_template_columns": null,
            "grid_template_rows": null,
            "height": null,
            "justify_content": null,
            "justify_items": null,
            "left": null,
            "margin": null,
            "max_height": null,
            "max_width": null,
            "min_height": null,
            "min_width": null,
            "object_fit": null,
            "object_position": null,
            "order": null,
            "overflow": null,
            "overflow_x": null,
            "overflow_y": null,
            "padding": null,
            "right": null,
            "top": null,
            "visibility": null,
            "width": null
          }
        },
        "ab15ae03574041f8bbc32fa9011e94c8": {
          "model_module": "@jupyter-widgets/base",
          "model_name": "LayoutModel",
          "model_module_version": "1.2.0",
          "state": {
            "_model_module": "@jupyter-widgets/base",
            "_model_module_version": "1.2.0",
            "_model_name": "LayoutModel",
            "_view_count": null,
            "_view_module": "@jupyter-widgets/base",
            "_view_module_version": "1.2.0",
            "_view_name": "LayoutView",
            "align_content": null,
            "align_items": null,
            "align_self": null,
            "border": null,
            "bottom": null,
            "display": null,
            "flex": null,
            "flex_flow": null,
            "grid_area": null,
            "grid_auto_columns": null,
            "grid_auto_flow": null,
            "grid_auto_rows": null,
            "grid_column": null,
            "grid_gap": null,
            "grid_row": null,
            "grid_template_areas": null,
            "grid_template_columns": null,
            "grid_template_rows": null,
            "height": null,
            "justify_content": null,
            "justify_items": null,
            "left": null,
            "margin": null,
            "max_height": null,
            "max_width": null,
            "min_height": null,
            "min_width": null,
            "object_fit": null,
            "object_position": null,
            "order": null,
            "overflow": null,
            "overflow_x": null,
            "overflow_y": null,
            "padding": null,
            "right": null,
            "top": null,
            "visibility": null,
            "width": null
          }
        },
        "eede901a3e3d4a4d980a013ceff6d066": {
          "model_module": "@jupyter-widgets/controls",
          "model_name": "DescriptionStyleModel",
          "model_module_version": "1.5.0",
          "state": {
            "_model_module": "@jupyter-widgets/controls",
            "_model_module_version": "1.5.0",
            "_model_name": "DescriptionStyleModel",
            "_view_count": null,
            "_view_module": "@jupyter-widgets/base",
            "_view_module_version": "1.2.0",
            "_view_name": "StyleView",
            "description_width": ""
          }
        },
        "e4df803d1af14c8fb83917c3125a4259": {
          "model_module": "@jupyter-widgets/base",
          "model_name": "LayoutModel",
          "model_module_version": "1.2.0",
          "state": {
            "_model_module": "@jupyter-widgets/base",
            "_model_module_version": "1.2.0",
            "_model_name": "LayoutModel",
            "_view_count": null,
            "_view_module": "@jupyter-widgets/base",
            "_view_module_version": "1.2.0",
            "_view_name": "LayoutView",
            "align_content": null,
            "align_items": null,
            "align_self": null,
            "border": null,
            "bottom": null,
            "display": null,
            "flex": null,
            "flex_flow": null,
            "grid_area": null,
            "grid_auto_columns": null,
            "grid_auto_flow": null,
            "grid_auto_rows": null,
            "grid_column": null,
            "grid_gap": null,
            "grid_row": null,
            "grid_template_areas": null,
            "grid_template_columns": null,
            "grid_template_rows": null,
            "height": null,
            "justify_content": null,
            "justify_items": null,
            "left": null,
            "margin": null,
            "max_height": null,
            "max_width": null,
            "min_height": null,
            "min_width": null,
            "object_fit": null,
            "object_position": null,
            "order": null,
            "overflow": null,
            "overflow_x": null,
            "overflow_y": null,
            "padding": null,
            "right": null,
            "top": null,
            "visibility": null,
            "width": null
          }
        },
        "15b95f35ae7d4e448bed8a5ca1235570": {
          "model_module": "@jupyter-widgets/controls",
          "model_name": "ProgressStyleModel",
          "model_module_version": "1.5.0",
          "state": {
            "_model_module": "@jupyter-widgets/controls",
            "_model_module_version": "1.5.0",
            "_model_name": "ProgressStyleModel",
            "_view_count": null,
            "_view_module": "@jupyter-widgets/base",
            "_view_module_version": "1.2.0",
            "_view_name": "StyleView",
            "bar_color": null,
            "description_width": ""
          }
        },
        "f70e97134ab0416cb0c31e2b814c1616": {
          "model_module": "@jupyter-widgets/base",
          "model_name": "LayoutModel",
          "model_module_version": "1.2.0",
          "state": {
            "_model_module": "@jupyter-widgets/base",
            "_model_module_version": "1.2.0",
            "_model_name": "LayoutModel",
            "_view_count": null,
            "_view_module": "@jupyter-widgets/base",
            "_view_module_version": "1.2.0",
            "_view_name": "LayoutView",
            "align_content": null,
            "align_items": null,
            "align_self": null,
            "border": null,
            "bottom": null,
            "display": null,
            "flex": null,
            "flex_flow": null,
            "grid_area": null,
            "grid_auto_columns": null,
            "grid_auto_flow": null,
            "grid_auto_rows": null,
            "grid_column": null,
            "grid_gap": null,
            "grid_row": null,
            "grid_template_areas": null,
            "grid_template_columns": null,
            "grid_template_rows": null,
            "height": null,
            "justify_content": null,
            "justify_items": null,
            "left": null,
            "margin": null,
            "max_height": null,
            "max_width": null,
            "min_height": null,
            "min_width": null,
            "object_fit": null,
            "object_position": null,
            "order": null,
            "overflow": null,
            "overflow_x": null,
            "overflow_y": null,
            "padding": null,
            "right": null,
            "top": null,
            "visibility": null,
            "width": null
          }
        },
        "76a09edc69ff4725afa5880548703666": {
          "model_module": "@jupyter-widgets/controls",
          "model_name": "DescriptionStyleModel",
          "model_module_version": "1.5.0",
          "state": {
            "_model_module": "@jupyter-widgets/controls",
            "_model_module_version": "1.5.0",
            "_model_name": "DescriptionStyleModel",
            "_view_count": null,
            "_view_module": "@jupyter-widgets/base",
            "_view_module_version": "1.2.0",
            "_view_name": "StyleView",
            "description_width": ""
          }
        },
        "67ee2c53e2064efd90d55e8227726c39": {
          "model_module": "@jupyter-widgets/controls",
          "model_name": "HBoxModel",
          "model_module_version": "1.5.0",
          "state": {
            "_dom_classes": [],
            "_model_module": "@jupyter-widgets/controls",
            "_model_module_version": "1.5.0",
            "_model_name": "HBoxModel",
            "_view_count": null,
            "_view_module": "@jupyter-widgets/controls",
            "_view_module_version": "1.5.0",
            "_view_name": "HBoxView",
            "box_style": "",
            "children": [
              "IPY_MODEL_3dfd70263c794ec8a89f9d924e898196",
              "IPY_MODEL_a5ff9e25dcae4dc2a4cc0e2b96c65baa",
              "IPY_MODEL_ed91189d1e35499881e815a2f10e5acd"
            ],
            "layout": "IPY_MODEL_16d771e9f7334ccdb5125c7ba6c197fb"
          }
        },
        "3dfd70263c794ec8a89f9d924e898196": {
          "model_module": "@jupyter-widgets/controls",
          "model_name": "HTMLModel",
          "model_module_version": "1.5.0",
          "state": {
            "_dom_classes": [],
            "_model_module": "@jupyter-widgets/controls",
            "_model_module_version": "1.5.0",
            "_model_name": "HTMLModel",
            "_view_count": null,
            "_view_module": "@jupyter-widgets/controls",
            "_view_module_version": "1.5.0",
            "_view_name": "HTMLView",
            "description": "",
            "description_tooltip": null,
            "layout": "IPY_MODEL_7e442bd5ca1140c5aca3adce8e1dba14",
            "placeholder": "​",
            "style": "IPY_MODEL_0670b27bea1e4f65afe9494d3cd86d06",
            "value": "generation_config.json: 100%"
          }
        },
        "a5ff9e25dcae4dc2a4cc0e2b96c65baa": {
          "model_module": "@jupyter-widgets/controls",
          "model_name": "FloatProgressModel",
          "model_module_version": "1.5.0",
          "state": {
            "_dom_classes": [],
            "_model_module": "@jupyter-widgets/controls",
            "_model_module_version": "1.5.0",
            "_model_name": "FloatProgressModel",
            "_view_count": null,
            "_view_module": "@jupyter-widgets/controls",
            "_view_module_version": "1.5.0",
            "_view_name": "ProgressView",
            "bar_style": "success",
            "description": "",
            "description_tooltip": null,
            "layout": "IPY_MODEL_7425307567d84d089a8ccda1aa064a65",
            "max": 147,
            "min": 0,
            "orientation": "horizontal",
            "style": "IPY_MODEL_47b75a36c3d541fb81be6c28eb34073b",
            "value": 147
          }
        },
        "ed91189d1e35499881e815a2f10e5acd": {
          "model_module": "@jupyter-widgets/controls",
          "model_name": "HTMLModel",
          "model_module_version": "1.5.0",
          "state": {
            "_dom_classes": [],
            "_model_module": "@jupyter-widgets/controls",
            "_model_module_version": "1.5.0",
            "_model_name": "HTMLModel",
            "_view_count": null,
            "_view_module": "@jupyter-widgets/controls",
            "_view_module_version": "1.5.0",
            "_view_name": "HTMLView",
            "description": "",
            "description_tooltip": null,
            "layout": "IPY_MODEL_2c89600a78884362b531f9063c9f3a31",
            "placeholder": "​",
            "style": "IPY_MODEL_80387316db8840d48fd379908f361912",
            "value": " 147/147 [00:00&lt;00:00, 3.82kB/s]"
          }
        },
        "16d771e9f7334ccdb5125c7ba6c197fb": {
          "model_module": "@jupyter-widgets/base",
          "model_name": "LayoutModel",
          "model_module_version": "1.2.0",
          "state": {
            "_model_module": "@jupyter-widgets/base",
            "_model_module_version": "1.2.0",
            "_model_name": "LayoutModel",
            "_view_count": null,
            "_view_module": "@jupyter-widgets/base",
            "_view_module_version": "1.2.0",
            "_view_name": "LayoutView",
            "align_content": null,
            "align_items": null,
            "align_self": null,
            "border": null,
            "bottom": null,
            "display": null,
            "flex": null,
            "flex_flow": null,
            "grid_area": null,
            "grid_auto_columns": null,
            "grid_auto_flow": null,
            "grid_auto_rows": null,
            "grid_column": null,
            "grid_gap": null,
            "grid_row": null,
            "grid_template_areas": null,
            "grid_template_columns": null,
            "grid_template_rows": null,
            "height": null,
            "justify_content": null,
            "justify_items": null,
            "left": null,
            "margin": null,
            "max_height": null,
            "max_width": null,
            "min_height": null,
            "min_width": null,
            "object_fit": null,
            "object_position": null,
            "order": null,
            "overflow": null,
            "overflow_x": null,
            "overflow_y": null,
            "padding": null,
            "right": null,
            "top": null,
            "visibility": null,
            "width": null
          }
        },
        "7e442bd5ca1140c5aca3adce8e1dba14": {
          "model_module": "@jupyter-widgets/base",
          "model_name": "LayoutModel",
          "model_module_version": "1.2.0",
          "state": {
            "_model_module": "@jupyter-widgets/base",
            "_model_module_version": "1.2.0",
            "_model_name": "LayoutModel",
            "_view_count": null,
            "_view_module": "@jupyter-widgets/base",
            "_view_module_version": "1.2.0",
            "_view_name": "LayoutView",
            "align_content": null,
            "align_items": null,
            "align_self": null,
            "border": null,
            "bottom": null,
            "display": null,
            "flex": null,
            "flex_flow": null,
            "grid_area": null,
            "grid_auto_columns": null,
            "grid_auto_flow": null,
            "grid_auto_rows": null,
            "grid_column": null,
            "grid_gap": null,
            "grid_row": null,
            "grid_template_areas": null,
            "grid_template_columns": null,
            "grid_template_rows": null,
            "height": null,
            "justify_content": null,
            "justify_items": null,
            "left": null,
            "margin": null,
            "max_height": null,
            "max_width": null,
            "min_height": null,
            "min_width": null,
            "object_fit": null,
            "object_position": null,
            "order": null,
            "overflow": null,
            "overflow_x": null,
            "overflow_y": null,
            "padding": null,
            "right": null,
            "top": null,
            "visibility": null,
            "width": null
          }
        },
        "0670b27bea1e4f65afe9494d3cd86d06": {
          "model_module": "@jupyter-widgets/controls",
          "model_name": "DescriptionStyleModel",
          "model_module_version": "1.5.0",
          "state": {
            "_model_module": "@jupyter-widgets/controls",
            "_model_module_version": "1.5.0",
            "_model_name": "DescriptionStyleModel",
            "_view_count": null,
            "_view_module": "@jupyter-widgets/base",
            "_view_module_version": "1.2.0",
            "_view_name": "StyleView",
            "description_width": ""
          }
        },
        "7425307567d84d089a8ccda1aa064a65": {
          "model_module": "@jupyter-widgets/base",
          "model_name": "LayoutModel",
          "model_module_version": "1.2.0",
          "state": {
            "_model_module": "@jupyter-widgets/base",
            "_model_module_version": "1.2.0",
            "_model_name": "LayoutModel",
            "_view_count": null,
            "_view_module": "@jupyter-widgets/base",
            "_view_module_version": "1.2.0",
            "_view_name": "LayoutView",
            "align_content": null,
            "align_items": null,
            "align_self": null,
            "border": null,
            "bottom": null,
            "display": null,
            "flex": null,
            "flex_flow": null,
            "grid_area": null,
            "grid_auto_columns": null,
            "grid_auto_flow": null,
            "grid_auto_rows": null,
            "grid_column": null,
            "grid_gap": null,
            "grid_row": null,
            "grid_template_areas": null,
            "grid_template_columns": null,
            "grid_template_rows": null,
            "height": null,
            "justify_content": null,
            "justify_items": null,
            "left": null,
            "margin": null,
            "max_height": null,
            "max_width": null,
            "min_height": null,
            "min_width": null,
            "object_fit": null,
            "object_position": null,
            "order": null,
            "overflow": null,
            "overflow_x": null,
            "overflow_y": null,
            "padding": null,
            "right": null,
            "top": null,
            "visibility": null,
            "width": null
          }
        },
        "47b75a36c3d541fb81be6c28eb34073b": {
          "model_module": "@jupyter-widgets/controls",
          "model_name": "ProgressStyleModel",
          "model_module_version": "1.5.0",
          "state": {
            "_model_module": "@jupyter-widgets/controls",
            "_model_module_version": "1.5.0",
            "_model_name": "ProgressStyleModel",
            "_view_count": null,
            "_view_module": "@jupyter-widgets/base",
            "_view_module_version": "1.2.0",
            "_view_name": "StyleView",
            "bar_color": null,
            "description_width": ""
          }
        },
        "2c89600a78884362b531f9063c9f3a31": {
          "model_module": "@jupyter-widgets/base",
          "model_name": "LayoutModel",
          "model_module_version": "1.2.0",
          "state": {
            "_model_module": "@jupyter-widgets/base",
            "_model_module_version": "1.2.0",
            "_model_name": "LayoutModel",
            "_view_count": null,
            "_view_module": "@jupyter-widgets/base",
            "_view_module_version": "1.2.0",
            "_view_name": "LayoutView",
            "align_content": null,
            "align_items": null,
            "align_self": null,
            "border": null,
            "bottom": null,
            "display": null,
            "flex": null,
            "flex_flow": null,
            "grid_area": null,
            "grid_auto_columns": null,
            "grid_auto_flow": null,
            "grid_auto_rows": null,
            "grid_column": null,
            "grid_gap": null,
            "grid_row": null,
            "grid_template_areas": null,
            "grid_template_columns": null,
            "grid_template_rows": null,
            "height": null,
            "justify_content": null,
            "justify_items": null,
            "left": null,
            "margin": null,
            "max_height": null,
            "max_width": null,
            "min_height": null,
            "min_width": null,
            "object_fit": null,
            "object_position": null,
            "order": null,
            "overflow": null,
            "overflow_x": null,
            "overflow_y": null,
            "padding": null,
            "right": null,
            "top": null,
            "visibility": null,
            "width": null
          }
        },
        "80387316db8840d48fd379908f361912": {
          "model_module": "@jupyter-widgets/controls",
          "model_name": "DescriptionStyleModel",
          "model_module_version": "1.5.0",
          "state": {
            "_model_module": "@jupyter-widgets/controls",
            "_model_module_version": "1.5.0",
            "_model_name": "DescriptionStyleModel",
            "_view_count": null,
            "_view_module": "@jupyter-widgets/base",
            "_view_module_version": "1.2.0",
            "_view_name": "StyleView",
            "description_width": ""
          }
        }
      }
    }
  },
  "nbformat": 4,
  "nbformat_minor": 0
}