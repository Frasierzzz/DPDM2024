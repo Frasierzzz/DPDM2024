{
  "nbformat": 4,
  "nbformat_minor": 0,
  "metadata": {
    "colab": {
      "provenance": [],
      "collapsed_sections": [
        "EH37DP8vi1Ur",
        "FuFFWwvu4542",
        "tiiZ45pe-jPK",
        "-m8JBZKo7Y1P",
        "Nh26MEP2AAZ-",
        "DwvpuZVQyl9f",
        "niZVA-aj0yEZ",
        "7mESBU1n5EIm"
      ],
      "toc_visible": true,
      "include_colab_link": true
    },
    "kernelspec": {
      "name": "python3",
      "display_name": "Python 3"
    },
    "language_info": {
      "name": "python"
    }
  },
  "cells": [
    {
      "cell_type": "markdown",
      "metadata": {
        "id": "view-in-github",
        "colab_type": "text"
      },
      "source": [
        "<a href=\"https://colab.research.google.com/github/Frasierzzz/DPDM2024/blob/main/Python101.ipynb\" target=\"_parent\"><img src=\"https://colab.research.google.com/assets/colab-badge.svg\" alt=\"Open In Colab\"/></a>"
      ]
    },
    {
      "cell_type": "markdown",
      "source": [
        "#Class 19/06/2567"
      ],
      "metadata": {
        "id": "-r1MczOuHS0_"
      }
    },
    {
      "cell_type": "markdown",
      "source": [
        "#Markdown\n"
      ],
      "metadata": {
        "id": "EH37DP8vi1Ur"
      }
    },
    {
      "cell_type": "markdown",
      "source": [
        "คือ การตั้งหัวข้อของสารบัญ เพื่อให้ง่ายสำหรับการย้อนดูข้อมูลในภายหลังสามารถทำได้โดยการใส่เครื่องหมาย # ข้างหน้าหัวข้อ\n",
        "~~~\n",
        "#Variable\n",
        "##Variable type //ตัวนี้จะเป็นหัวข้อรองของ Variable\n",
        "~~~"
      ],
      "metadata": {
        "id": "6Of0x4soi79e"
      }
    },
    {
      "cell_type": "markdown",
      "source": [
        "#Python example"
      ],
      "metadata": {
        "id": "FuFFWwvu4542"
      }
    },
    {
      "cell_type": "markdown",
      "source": [
        "[] -> square blanket,\n",
        "() -> round blanket"
      ],
      "metadata": {
        "id": "S2weCDxpk5su"
      }
    },
    {
      "cell_type": "code",
      "execution_count": 3,
      "metadata": {
        "colab": {
          "base_uri": "https://localhost:8080/"
        },
        "id": "rxedi5lG4jQH",
        "outputId": "a815e096-a36a-4799-d5a2-06570f6bf515"
      },
      "outputs": [
        {
          "output_type": "stream",
          "name": "stdout",
          "text": [
            "a /\n",
            "10\n",
            "10\n",
            "10\n",
            "10\n",
            "10\n",
            "10\n",
            "10\n",
            "10\n",
            "10\n",
            "10\n",
            "b /\n",
            "10\n",
            "10\n",
            "10\n",
            "10\n",
            "10\n",
            "10\n",
            "10\n",
            "10\n",
            "10\n",
            "10\n",
            "c /\n",
            "10\n",
            "10\n",
            "10\n",
            "10\n",
            "10\n",
            "10\n",
            "10\n",
            "10\n",
            "10\n",
            "10\n"
          ]
        }
      ],
      "source": [
        "for i in ['a','b','c'] :\n",
        "  print(i,end=' ')\n",
        "  print('/')\n",
        "  for j in range(10):\n",
        "    ccc=10\n",
        "    print(ccc)"
      ]
    },
    {
      "cell_type": "markdown",
      "source": [
        "#String manipulation and print statment"
      ],
      "metadata": {
        "id": "k0XX13py7S-Q"
      }
    },
    {
      "cell_type": "markdown",
      "source": [
        "##Variable"
      ],
      "metadata": {
        "id": "92_IMkwc92kG"
      }
    },
    {
      "cell_type": "markdown",
      "source": [
        "How to difne varuable.\n",
        "~~~\n",
        "variable_a = ข้อมูลที่เราต้องการ\n",
        "~~~"
      ],
      "metadata": {
        "id": "U6oCMFtsjCR6"
      }
    },
    {
      "cell_type": "markdown",
      "source": [
        "### Variable naming rules\n",
        "\n",
        "  \n"
      ],
      "metadata": {
        "id": "tiiZ45pe-jPK"
      }
    },
    {
      "cell_type": "markdown",
      "source": [
        "ข้อกำหนดในการตั้งชื่อตัวแปร\n",
        "1. ตั้งให้สื่อความหมาย\n",
        "2. ตั้งให้เป็นภาษาอังกฤษ\n",
        "3. ใช้ตัวเลขผสมกับตัวหนังสือได้ แต่ห้ามขึ้นต้นด้วยตัวเลข\n",
        "4. ห้ามมีเว้นวรรคในชื่อตัวแปร\n",
        "5. ตัวใหญ่ ตัวเล็กค่าไม่เท่ากัน\n",
        "\n",
        "variable naming rules\n",
        "1. Try to use meaningful word\n",
        "2. Do it in English\n",
        "3. You can use number in variable name the name connot atart with number\n",
        "4. there should be no space in the name\n",
        "5. variable name is case-sensitive (Abc is not equal to ABC)"
      ],
      "metadata": {
        "id": "fuxN1BSCjnFb"
      }
    },
    {
      "cell_type": "code",
      "source": [
        "a = 5 # กำหนดตัวแปรขึ้นมา โดยชื่อของตัวแปร คือ \"a\" ค่าของตัวแปร คือ \"5\" int(จำนวนเต็ม)\n",
        "print(a)"
      ],
      "metadata": {
        "id": "vB5ALhEJ97of",
        "colab": {
          "base_uri": "https://localhost:8080/"
        },
        "outputId": "b0648020-245d-4f6d-9834-fc3419fcb71d"
      },
      "execution_count": 4,
      "outputs": [
        {
          "output_type": "stream",
          "name": "stdout",
          "text": [
            "5\n"
          ]
        }
      ]
    },
    {
      "cell_type": "code",
      "source": [
        "b=5.7 # กำหนดตัวแปรขึ้นมา โดยชื่อของตัวแปร คือ \"b\" ค่าของตัวแปร คือ \"5.7\" float(ทศนิยม)\n",
        "print(b)"
      ],
      "metadata": {
        "id": "MxkYPB1V-DP1",
        "colab": {
          "base_uri": "https://localhost:8080/"
        },
        "outputId": "b655d046-dc1b-416d-bacd-4bc4fb9bf769"
      },
      "execution_count": 5,
      "outputs": [
        {
          "output_type": "stream",
          "name": "stdout",
          "text": [
            "5.7\n"
          ]
        }
      ]
    },
    {
      "cell_type": "code",
      "source": [
        "c= a-b # กำหนดตัวแปรขึ้นมา โดยชื่อของตัวแปร คือ \"c\" โดยที่ค่าของตัวแปร เกิดจากการรวมค่าตัวเลขของตัวแปร a และ b\n",
        "print(c)"
      ],
      "metadata": {
        "id": "neR8DQ2w-GP8",
        "colab": {
          "base_uri": "https://localhost:8080/"
        },
        "outputId": "a4ce4a02-5fea-4890-fa59-0edad5c19fac"
      },
      "execution_count": 6,
      "outputs": [
        {
          "output_type": "stream",
          "name": "stdout",
          "text": [
            "-0.7000000000000002\n"
          ]
        }
      ]
    },
    {
      "cell_type": "markdown",
      "source": [
        "###Variable types"
      ],
      "metadata": {
        "id": "-QnDNqvu_Zsz"
      }
    },
    {
      "cell_type": "markdown",
      "source": [
        "####String(text)"
      ],
      "metadata": {
        "id": "-m8JBZKo7Y1P"
      }
    },
    {
      "cell_type": "code",
      "source": [
        "text1 = \"Stat\" #กำหนดตัวแปรขึ้นมา โดยชื่อของตัวแปร คือ \"text1\" ค่าของตัวแปร คือ \"Stat\""
      ],
      "metadata": {
        "id": "03NdyV_F6zdZ"
      },
      "execution_count": 7,
      "outputs": []
    },
    {
      "cell_type": "code",
      "source": [
        "text2 = 'ม.ขอนแก่น'"
      ],
      "metadata": {
        "id": "_poJKAOP7kyZ"
      },
      "execution_count": 8,
      "outputs": []
    },
    {
      "cell_type": "code",
      "source": [
        "text3 = '123456'"
      ],
      "metadata": {
        "id": "tbMRE1t3qdjg"
      },
      "execution_count": 9,
      "outputs": []
    },
    {
      "cell_type": "code",
      "source": [
        "print(text1)  #แสดงค่าของตัวแปร \"text1\""
      ],
      "metadata": {
        "colab": {
          "base_uri": "https://localhost:8080/"
        },
        "id": "X3COpj2X7pqu",
        "outputId": "c29cb262-4a52-43b8-904c-5705ae5770b6"
      },
      "execution_count": 10,
      "outputs": [
        {
          "output_type": "stream",
          "name": "stdout",
          "text": [
            "Stat\n"
          ]
        }
      ]
    },
    {
      "cell_type": "code",
      "source": [
        "print(text1+' '+text2) #แสดงค่าของตัวแปร \"text1\" และตัวแปร \"text2 โดยเอาทั้งสองตัวแปรมารวมกัน"
      ],
      "metadata": {
        "colab": {
          "base_uri": "https://localhost:8080/"
        },
        "id": "4x2nnXCr8UC3",
        "outputId": "ddd170ea-378a-4b15-a071-fb8eb7ccaeda"
      },
      "execution_count": 11,
      "outputs": [
        {
          "output_type": "stream",
          "name": "stdout",
          "text": [
            "Stat ม.ขอนแก่น\n"
          ]
        }
      ]
    },
    {
      "cell_type": "code",
      "source": [
        "int1 = 5"
      ],
      "metadata": {
        "id": "KaIbf0cdotAs"
      },
      "execution_count": 12,
      "outputs": []
    },
    {
      "cell_type": "code",
      "source": [
        "print(text1+int1) # ไม่สามารถรวม(+) Data คนละชนิดกันได้"
      ],
      "metadata": {
        "colab": {
          "base_uri": "https://localhost:8080/",
          "height": 141
        },
        "id": "o1WwS7NH8r52",
        "outputId": "4ebde59b-d647-4eeb-9ca2-d547baf3ed6d"
      },
      "execution_count": 13,
      "outputs": [
        {
          "output_type": "error",
          "ename": "TypeError",
          "evalue": "can only concatenate str (not \"int\") to str",
          "traceback": [
            "\u001b[0;31m---------------------------------------------------------------------------\u001b[0m",
            "\u001b[0;31mTypeError\u001b[0m                                 Traceback (most recent call last)",
            "\u001b[0;32m<ipython-input-13-e4df0f892fe1>\u001b[0m in \u001b[0;36m<cell line: 1>\u001b[0;34m()\u001b[0m\n\u001b[0;32m----> 1\u001b[0;31m \u001b[0mprint\u001b[0m\u001b[0;34m(\u001b[0m\u001b[0mtext1\u001b[0m\u001b[0;34m+\u001b[0m\u001b[0mint1\u001b[0m\u001b[0;34m)\u001b[0m \u001b[0;31m# ไม่สามารถรวม(+) Data คนละชนิดกันได้\u001b[0m\u001b[0;34m\u001b[0m\u001b[0;34m\u001b[0m\u001b[0m\n\u001b[0m",
            "\u001b[0;31mTypeError\u001b[0m: can only concatenate str (not \"int\") to str"
          ]
        }
      ]
    },
    {
      "cell_type": "code",
      "source": [
        "print(int1+text3) # ไม่สามารถรวม(+) Data คนละชนิดกันได้ แต่สามารถรวมตัวแปรที่ค่าของตัวแปรเป็นตัวเลขได้ etc int float ดังตัวแปร a b"
      ],
      "metadata": {
        "id": "HbL-wENO845v"
      },
      "execution_count": null,
      "outputs": []
    },
    {
      "cell_type": "code",
      "source": [
        "# prompt: สุ่มตัวเลข 10 ตัว ใส่ตัวแปร x\n",
        "\n",
        "import random\n",
        "\n",
        "x = random.sample(range(10), 10)\n",
        "print(x)\n"
      ],
      "metadata": {
        "id": "6CL7Pfogry3V",
        "colab": {
          "base_uri": "https://localhost:8080/"
        },
        "outputId": "95954d73-22f7-4ef8-ad47-0323455c5015"
      },
      "execution_count": 14,
      "outputs": [
        {
          "output_type": "stream",
          "name": "stdout",
          "text": [
            "[7, 4, 2, 0, 6, 3, 1, 5, 8, 9]\n"
          ]
        }
      ]
    },
    {
      "cell_type": "markdown",
      "source": [
        "##Advanced printing"
      ],
      "metadata": {
        "id": "Nh26MEP2AAZ-"
      }
    },
    {
      "cell_type": "markdown",
      "source": [
        "~~~\n",
        "print(object(s), sep=seperator, end=end, file=file, flush=flush)\n",
        "~~~"
      ],
      "metadata": {
        "id": "comN3jisyBV2"
      }
    },
    {
      "cell_type": "markdown",
      "source": [
        "เราสามารถจัดการ text แบบพิเศษ (ใช้ตัวแปร หรือ run code ใน text) ได้โดยการใช้\n",
        "~~~\n",
        "f'ข้อความ1 {ส่วนของ code1} ข้อความ2 {ส่วนของ code2}'\n",
        "~~~"
      ],
      "metadata": {
        "id": "Kxa0n6hYumuM"
      }
    },
    {
      "cell_type": "code",
      "source": [
        "print(f'six plus five = {6+5}') # {} จะ ยัง ไม่ถือว่าเป็น str จนกว่าจะมี ' หรือ ''"
      ],
      "metadata": {
        "id": "qBGEvY9yAFH_",
        "colab": {
          "base_uri": "https://localhost:8080/"
        },
        "outputId": "9703938f-c8f1-4c11-a6dd-eeb62b8f4269"
      },
      "execution_count": 15,
      "outputs": [
        {
          "output_type": "stream",
          "name": "stdout",
          "text": [
            "six plus five = 11\n"
          ]
        }
      ]
    },
    {
      "cell_type": "code",
      "source": [
        "print(f'six plus five = {6+5:.2f}%') # ใส่ :.2f คือให้แสดงค่าของตัวเลข เป็นทศนิยม 2 ตำแหน่ง"
      ],
      "metadata": {
        "id": "lgEUG1XNAWQd",
        "colab": {
          "base_uri": "https://localhost:8080/"
        },
        "outputId": "f87f11db-e5cc-42a2-84be-8326c0833a9c"
      },
      "execution_count": 16,
      "outputs": [
        {
          "output_type": "stream",
          "name": "stdout",
          "text": [
            "six plus five = 11.00%\n"
          ]
        }
      ]
    },
    {
      "cell_type": "code",
      "source": [
        "print(f'six plus five = {6+5.7:.0f}%') # :.0f หมายถึงไม่ให้มีจุดทศนิยม"
      ],
      "metadata": {
        "colab": {
          "base_uri": "https://localhost:8080/"
        },
        "id": "YlnR-LtPvunP",
        "outputId": "30ee3f68-4e63-4647-af0e-ac2a72337f84"
      },
      "execution_count": 17,
      "outputs": [
        {
          "output_type": "stream",
          "name": "stdout",
          "text": [
            "six plus five = 12%\n"
          ]
        }
      ]
    },
    {
      "cell_type": "code",
      "source": [
        "print(f'six plus five = {6+5:03d}') # แสดงผลลัพธ์ออกเป็น 3 หลัก"
      ],
      "metadata": {
        "id": "BpIiiOp4AzE_",
        "colab": {
          "base_uri": "https://localhost:8080/"
        },
        "outputId": "f5113a9b-82fd-460f-d146-1fff8061add6"
      },
      "execution_count": 18,
      "outputs": [
        {
          "output_type": "stream",
          "name": "stdout",
          "text": [
            "six plus five = 011\n"
          ]
        }
      ]
    },
    {
      "cell_type": "code",
      "source": [
        "st1 = f'six plus five = {6+5:03d}' # สร้างตัวแปร st1 มาเก็บค่าของ f'six plus five = {6+5:03d}"
      ],
      "metadata": {
        "id": "BZcsS96iBqrH"
      },
      "execution_count": 19,
      "outputs": []
    },
    {
      "cell_type": "code",
      "source": [
        "st1 # แสดงค่าของst1"
      ],
      "metadata": {
        "id": "WqGPokUTCWcP",
        "colab": {
          "base_uri": "https://localhost:8080/",
          "height": 35
        },
        "outputId": "dc6f9e32-ab14-4ffc-9cb2-43d8225ec00e"
      },
      "execution_count": 20,
      "outputs": [
        {
          "output_type": "execute_result",
          "data": {
            "text/plain": [
              "'six plus five = 011'"
            ],
            "application/vnd.google.colaboratory.intrinsic+json": {
              "type": "string"
            }
          },
          "metadata": {},
          "execution_count": 20
        }
      ]
    },
    {
      "cell_type": "code",
      "source": [
        "st1 = f\"six plus five = {'six'+'five'}\"\n",
        "st1"
      ],
      "metadata": {
        "colab": {
          "base_uri": "https://localhost:8080/",
          "height": 35
        },
        "id": "S2JudVz-wP0D",
        "outputId": "47ee047b-2449-4ffb-d223-08bb548bb7db"
      },
      "execution_count": 21,
      "outputs": [
        {
          "output_type": "execute_result",
          "data": {
            "text/plain": [
              "'six plus five = sixfive'"
            ],
            "application/vnd.google.colaboratory.intrinsic+json": {
              "type": "string"
            }
          },
          "metadata": {},
          "execution_count": 21
        }
      ]
    },
    {
      "cell_type": "markdown",
      "source": [
        "###Object(s)\n",
        "~~~\n",
        "(s) สามารถ input object ได้มากกว่า 1\n",
        "~~~"
      ],
      "metadata": {
        "id": "DwvpuZVQyl9f"
      }
    },
    {
      "cell_type": "code",
      "source": [
        "print(text1,text2,text3) # สามารถแสดงผลตัวแปรได้มากกว่า 1"
      ],
      "metadata": {
        "colab": {
          "base_uri": "https://localhost:8080/"
        },
        "id": "eskCr-ZVx0QJ",
        "outputId": "289d288f-19ac-459f-bac7-8210eb5e1b93"
      },
      "execution_count": 22,
      "outputs": [
        {
          "output_type": "stream",
          "name": "stdout",
          "text": [
            "Stat ม.ขอนแก่น 123456\n"
          ]
        }
      ]
    },
    {
      "cell_type": "markdown",
      "source": [
        "###Separator (sep)"
      ],
      "metadata": {
        "id": "niZVA-aj0yEZ"
      }
    },
    {
      "cell_type": "code",
      "source": [
        "print(text1,text2,text3)"
      ],
      "metadata": {
        "colab": {
          "base_uri": "https://localhost:8080/"
        },
        "id": "1jw2hbuFnsHu",
        "outputId": "0ee5d48a-940a-4719-8bdb-fb26af7648b6"
      },
      "execution_count": 23,
      "outputs": [
        {
          "output_type": "stream",
          "name": "stdout",
          "text": [
            "Stat ม.ขอนแก่น 123456\n"
          ]
        }
      ]
    },
    {
      "cell_type": "code",
      "source": [
        "print(text1,text2,text3, sep='+') # ใช้ sep ตัวไหนมันก็จะใช้ตัวนั้น แต่ถ้าไม่ใช้ default จะเป็น ' '"
      ],
      "metadata": {
        "colab": {
          "base_uri": "https://localhost:8080/"
        },
        "id": "8uHB0MH9zK4c",
        "outputId": "4316c237-315a-4a67-b904-ba977af160b0"
      },
      "execution_count": 24,
      "outputs": [
        {
          "output_type": "stream",
          "name": "stdout",
          "text": [
            "Stat+ม.ขอนแก่น+123456\n"
          ]
        }
      ]
    },
    {
      "cell_type": "code",
      "source": [
        "print(text1,text2,text3,sep='/')"
      ],
      "metadata": {
        "id": "PnkaNmlp-D6K",
        "colab": {
          "base_uri": "https://localhost:8080/"
        },
        "outputId": "1479d412-27b8-4e22-c03e-c3e7fb4063fa"
      },
      "execution_count": 29,
      "outputs": [
        {
          "output_type": "stream",
          "name": "stdout",
          "text": [
            "Stat/ม.ขอนแก่น/123456\n"
          ]
        }
      ]
    },
    {
      "cell_type": "markdown",
      "source": [
        "### End (end)\n",
        "\n",
        "\n",
        "ไว้สำหรับการขึ้นบรรทัดใหม่หรือการเพิ่มตัวอักษร\n",
        "```\n",
        "Default is '\\n'\n",
        "```"
      ],
      "metadata": {
        "id": "7mESBU1n5EIm"
      }
    },
    {
      "cell_type": "code",
      "source": [
        "print('stat')\n",
        "print('KKU')"
      ],
      "metadata": {
        "colab": {
          "base_uri": "https://localhost:8080/"
        },
        "id": "pHmbjzIJ5N63",
        "outputId": "5d14d25b-30df-4d79-8430-92f5444a94c7"
      },
      "execution_count": 25,
      "outputs": [
        {
          "output_type": "stream",
          "name": "stdout",
          "text": [
            "stat\n",
            "KKU\n"
          ]
        }
      ]
    },
    {
      "cell_type": "code",
      "source": [
        "print('stat','KKU')"
      ],
      "metadata": {
        "id": "rbQHnHmk9mDO",
        "colab": {
          "base_uri": "https://localhost:8080/"
        },
        "outputId": "568ec9fb-901a-4168-8105-1c9acd1bf344"
      },
      "execution_count": 26,
      "outputs": [
        {
          "output_type": "stream",
          "name": "stdout",
          "text": [
            "stat KKU\n"
          ]
        }
      ]
    },
    {
      "cell_type": "code",
      "source": [
        "print('stat',end='+-+')\n",
        "print('KKU')"
      ],
      "metadata": {
        "id": "Xy517KQD-2RW",
        "colab": {
          "base_uri": "https://localhost:8080/"
        },
        "outputId": "d854bb9f-186b-472a-e474-ce3d1d7e62fb"
      },
      "execution_count": 28,
      "outputs": [
        {
          "output_type": "stream",
          "name": "stdout",
          "text": [
            "stat+-+KKU\n"
          ]
        }
      ]
    }
  ]
}