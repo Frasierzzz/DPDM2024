{
  "nbformat": 4,
  "nbformat_minor": 0,
  "metadata": {
    "colab": {
      "provenance": [],
      "authorship_tag": "ABX9TyOdSEXFaxGfS1xgypK605T+",
      "include_colab_link": true
    },
    "kernelspec": {
      "name": "python3",
      "display_name": "Python 3"
    },
    "language_info": {
      "name": "python"
    }
  },
  "cells": [
    {
      "cell_type": "markdown",
      "metadata": {
        "id": "view-in-github",
        "colab_type": "text"
      },
      "source": [
        "<a href=\"https://colab.research.google.com/github/Frasierzzz/DPDM2024/blob/main/HW_1%261_5_DPDM.ipynb\" target=\"_parent\"><img src=\"https://colab.research.google.com/assets/colab-badge.svg\" alt=\"Open In Colab\"/></a>"
      ]
    },
    {
      "cell_type": "code",
      "execution_count": 46,
      "metadata": {
        "colab": {
          "base_uri": "https://localhost:8080/"
        },
        "id": "EEZX6V3yLEQy",
        "outputId": "f93e8b3a-093f-4ed5-f8f5-cfb2ba63d1fd"
      },
      "outputs": [
        {
          "output_type": "execute_result",
          "data": {
            "text/plain": [
              "['chiken',\n",
              " 'water',\n",
              " 'vegetable',\n",
              " 'rice',\n",
              " 'plate',\n",
              " 'spoon',\n",
              " 'fork',\n",
              " 'knife',\n",
              " 'apple']"
            ]
          },
          "metadata": {},
          "execution_count": 46
        }
      ],
      "source": [
        "list_aa = ['chiken', 'water', 'vegetable', 'rice', 'plate', 'spoon', 'fork', 'knife', 'apple']\n",
        "word_find = ['nice', 'spork', 'warickz']\n",
        "list_aa"
      ]
    },
    {
      "cell_type": "code",
      "source": [
        "alphabet = []\n",
        "for i in list_aa:\n",
        "  for j in i:\n",
        "    if j not in alphabet:\n",
        "      alphabet.append(j)\n",
        "print(alphabet)"
      ],
      "metadata": {
        "colab": {
          "base_uri": "https://localhost:8080/"
        },
        "id": "oi0UMp8XMcPy",
        "outputId": "60708ef3-d7f2-4e2c-932f-0fc99d63dcd3"
      },
      "execution_count": 18,
      "outputs": [
        {
          "output_type": "stream",
          "name": "stdout",
          "text": [
            "['c', 'h', 'i', 'k', 'e', 'n', 'w', 'a', 't', 'r', 'v', 'g', 'b', 'l', 'p', 's', 'o', 'f']\n"
          ]
        }
      ]
    },
    {
      "cell_type": "code",
      "source": [
        "word = []\n",
        "for i in word_find:\n",
        "  alphabet_2 = []\n",
        "  for j in i:\n",
        "    if j in alphabet:\n",
        "      alphabet_2.append(j)\n",
        "    else:\n",
        "      print(f\"{j} is not in list_aa\")\n",
        "      alphabet_2.append(j)\n",
        "  word.append(''.join(alphabet_2))\n",
        "print(word)"
      ],
      "metadata": {
        "colab": {
          "base_uri": "https://localhost:8080/"
        },
        "id": "v_qvdGRnWF1x",
        "outputId": "faf9976f-bc27-4e38-a61e-0f93746af934"
      },
      "execution_count": 48,
      "outputs": [
        {
          "output_type": "stream",
          "name": "stdout",
          "text": [
            "z is not in list_aa\n",
            "['nice', 'spork', 'warickz']\n"
          ]
        }
      ]
    },
    {
      "cell_type": "code",
      "source": [
        "#กำหนดคำใน list และคำที่ต้องการหาใน list\n",
        "list_word = ['chiken', 'water', 'vegetable', 'rice', 'plate', 'spoon', 'fork', 'knife', 'apple']\n",
        "word_find = ['nice', 'spork', 'warickz']"
      ],
      "metadata": {
        "id": "8ntwlcu8YypR"
      },
      "execution_count": 49,
      "outputs": []
    },
    {
      "cell_type": "code",
      "source": [
        "# สร้างฟังก์ชันสำหรับ รับค่าของ list word และคำที่ต้องการหา\n",
        "def my_list(list_word,word_find):\n",
        "  alphabet = []; word = []\n",
        "  for i in list_word: # loop วิ่งบน คำ\n",
        "    for j in i:           # loop วิ่งบนตัวอักษร ในคำ\n",
        "      if j not in alphabet: # เช็คว่ามีตัวซ้ำหรือไม่ ถ้ามีก็เก็บค่า\n",
        "        alphabet.append(j)\n",
        "\n",
        "  for i in word_find:\n",
        "    alphabet_2 = [] # ไว้เก็บค่าตัวอักษรทั้งหมดของคำหนึง\n",
        "    for j in i:\n",
        "      if j in alphabet:\n",
        "        alphabet_2.append(j) # เก็บค่าตัวอักษรทุกครั้งเมื่อ ตัวอักษรของคำที่ต้องการหา มีในคำที่กำหนด\n",
        "      else:\n",
        "        print(f\"{j} is not in list_aa\") # เก็บตัวอักษรเหมือนกัน แต่เช็คด้วยว่ามีในคำที่กำหนดหรือเปล่า\n",
        "        alphabet_2.append(j)\n",
        "    word.append(''.join(alphabet_2)) # จับตัวอักษรที่เช็คแล้วทั้งหมดมารวมเป็นคำ พร้อมกับบอกด้วยว่า ตัวอักษรใดที่ไม่มีในคำที่กำหนด\n",
        "  print(word)"
      ],
      "metadata": {
        "id": "EO8MVfviYhf0"
      },
      "execution_count": 50,
      "outputs": []
    },
    {
      "cell_type": "code",
      "source": [
        "my_list(list_word,word_find)"
      ],
      "metadata": {
        "colab": {
          "base_uri": "https://localhost:8080/"
        },
        "id": "SF7dXjLbae-Z",
        "outputId": "fefddf53-2180-4862-f6c4-f70e818baf5c"
      },
      "execution_count": 51,
      "outputs": [
        {
          "output_type": "stream",
          "name": "stdout",
          "text": [
            "z is not in list_aa\n",
            "['nice', 'spork', 'warickz']\n"
          ]
        }
      ]
    }
  ]
}