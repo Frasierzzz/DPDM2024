{
  "nbformat": 4,
  "nbformat_minor": 0,
  "metadata": {
    "colab": {
      "provenance": [],
      "toc_visible": true,
      "authorship_tag": "ABX9TyMpuNoE8wKIok09iQUJTRDQ",
      "include_colab_link": true
    },
    "kernelspec": {
      "name": "python3",
      "display_name": "Python 3"
    },
    "language_info": {
      "name": "python"
    }
  },
  "cells": [
    {
      "cell_type": "markdown",
      "metadata": {
        "id": "view-in-github",
        "colab_type": "text"
      },
      "source": [
        "<a href=\"https://colab.research.google.com/github/Frasierzzz/DPDM2024/blob/main/Python102.ipynb\" target=\"_parent\"><img src=\"https://colab.research.google.com/assets/colab-badge.svg\" alt=\"Open In Colab\"/></a>"
      ]
    },
    {
      "cell_type": "markdown",
      "source": [
        "##Class 10/07/2567"
      ],
      "metadata": {
        "id": "MfbLolsqcSPU"
      }
    },
    {
      "cell_type": "markdown",
      "source": [
        "#Char (character : ตัวอักษร)"
      ],
      "metadata": {
        "id": "lvYMJk-KcXWa"
      }
    },
    {
      "cell_type": "markdown",
      "source": [
        "String + String = ต่อตัวอักษร, String * scalar = ข้อความจะทวีคูณจำนวน"
      ],
      "metadata": {
        "id": "TehScB3edIrZ"
      }
    },
    {
      "cell_type": "code",
      "execution_count": 1,
      "metadata": {
        "colab": {
          "base_uri": "https://localhost:8080/"
        },
        "id": "2Cug4Nfma8Mh",
        "outputId": "8b504a8f-a7ca-4d33-c1af-046ccf365f25"
      },
      "outputs": [
        {
          "output_type": "stream",
          "name": "stdout",
          "text": [
            "a=C b=avbc, then C + avbc = Cavbc\n"
          ]
        }
      ],
      "source": [
        "a = 'C'\n",
        "b = 'avbc'\n",
        "print(f'a={a} b={b}, then {a} + {b} = {a+b}')"
      ]
    },
    {
      "cell_type": "code",
      "source": [
        "A = '1'\n",
        "B = 2\n",
        "print(5*A)"
      ],
      "metadata": {
        "colab": {
          "base_uri": "https://localhost:8080/"
        },
        "id": "49P64m3BcHiS",
        "outputId": "d4808bfc-121a-4f0a-a89e-22db11f3e189"
      },
      "execution_count": 5,
      "outputs": [
        {
          "output_type": "stream",
          "name": "stdout",
          "text": [
            "11111\n"
          ]
        }
      ]
    },
    {
      "cell_type": "markdown",
      "source": [
        "#List() โครงสร้างข้อมูล"
      ],
      "metadata": {
        "id": "Z_uWG691g3Ey"
      }
    },
    {
      "cell_type": "markdown",
      "source": [
        "ลำดับของข้อมูลมีผล และมีความสำคัญมาก"
      ],
      "metadata": {
        "id": "R-WI_AyoiK2T"
      }
    },
    {
      "cell_type": "code",
      "source": [
        "list_a = [1,2,3]"
      ],
      "metadata": {
        "id": "0gKWsd92g_PP"
      },
      "execution_count": 6,
      "outputs": []
    },
    {
      "cell_type": "code",
      "source": [
        "list_b = list()\n",
        "list_b"
      ],
      "metadata": {
        "colab": {
          "base_uri": "https://localhost:8080/"
        },
        "id": "pVbnzLBQhhGX",
        "outputId": "553a6b2d-33b4-47df-818d-029265c33e85"
      },
      "execution_count": 8,
      "outputs": [
        {
          "output_type": "execute_result",
          "data": {
            "text/plain": [
              "[]"
            ]
          },
          "metadata": {},
          "execution_count": 8
        }
      ]
    },
    {
      "cell_type": "code",
      "source": [
        "list_a.append(1)\n",
        "list_b.append(2)\n",
        "list_a"
      ],
      "metadata": {
        "colab": {
          "base_uri": "https://localhost:8080/"
        },
        "id": "N4kItd4lh4uV",
        "outputId": "3f09b0d3-7c14-44c7-a1b0-2a294118a7bf"
      },
      "execution_count": 14,
      "outputs": [
        {
          "output_type": "execute_result",
          "data": {
            "text/plain": [
              "[1, 2, 3, 1]"
            ]
          },
          "metadata": {},
          "execution_count": 14
        }
      ]
    },
    {
      "cell_type": "code",
      "source": [
        "list_b.append('f')\n",
        "list_b.append([12,6,'a'])\n",
        "list_b"
      ],
      "metadata": {
        "colab": {
          "base_uri": "https://localhost:8080/"
        },
        "id": "fp1sUoq5iZqd",
        "outputId": "3d56d37e-8dec-449c-bf2b-0310994acf58"
      },
      "execution_count": 16,
      "outputs": [
        {
          "output_type": "execute_result",
          "data": {
            "text/plain": [
              "[2, 'f', [12, 6, 'a']]"
            ]
          },
          "metadata": {},
          "execution_count": 16
        }
      ]
    },
    {
      "cell_type": "code",
      "source": [
        "list_b[2]"
      ],
      "metadata": {
        "colab": {
          "base_uri": "https://localhost:8080/"
        },
        "id": "eQkRlXaFirGJ",
        "outputId": "258dc634-aaea-4fbf-a263-a8b97d0ad9ab"
      },
      "execution_count": 18,
      "outputs": [
        {
          "output_type": "execute_result",
          "data": {
            "text/plain": [
              "[12, 6, 'a']"
            ]
          },
          "metadata": {},
          "execution_count": 18
        }
      ]
    },
    {
      "cell_type": "markdown",
      "source": [
        "#For loop การวนซ้ำ"
      ],
      "metadata": {
        "id": "O74XrrNyjL2j"
      }
    },
    {
      "cell_type": "markdown",
      "source": [
        "~~~\n",
        "for (สมาชิกแต่ละตัว) in (list):\n",
        "     (ทำอะไรสักอย่างหนึง)\n",
        "~~~"
      ],
      "metadata": {
        "id": "KqiulEIqjXa9"
      }
    },
    {
      "cell_type": "code",
      "source": [
        "for i in [1,2,3,4,7]:\n",
        "  print(2*i,end=' ')"
      ],
      "metadata": {
        "colab": {
          "base_uri": "https://localhost:8080/"
        },
        "id": "f9pnggCSjUH_",
        "outputId": "8609a3a2-7898-42f5-fbb5-4c7f12082dd3"
      },
      "execution_count": 20,
      "outputs": [
        {
          "output_type": "stream",
          "name": "stdout",
          "text": [
            "2 4 6 8 14 "
          ]
        }
      ]
    },
    {
      "cell_type": "markdown",
      "source": [
        "#Quiz 2"
      ],
      "metadata": {
        "id": "alyaQfeXky0G"
      }
    },
    {
      "cell_type": "markdown",
      "source": [
        "print Ka 5 ครั้ง  ต่อด้วย Ga อีก 10 ครั้ง แบบใช้ loop และ\n",
        "\n",
        "ขั้น Ka แต่ละตัวด้วย + ขั้น Ga แต่ละตัวด้วย x(อยู่ในบรรทัดเดียวกันทั้งหมด)"
      ],
      "metadata": {
        "id": "YDvu0qBslHR6"
      }
    },
    {
      "cell_type": "code",
      "source": [
        "q1 = 'Ka'\n",
        "q2 = 'Ga'\n",
        "n = list(range(1,16))"
      ],
      "metadata": {
        "id": "dEEICFJLlWjY"
      },
      "execution_count": 41,
      "outputs": []
    },
    {
      "cell_type": "code",
      "source": [
        "for i in n:\n",
        "  if i < 6:\n",
        "    print(q1,end=' + ')\n",
        "  else:\n",
        "    print(q2,end= ' x ')"
      ],
      "metadata": {
        "colab": {
          "base_uri": "https://localhost:8080/"
        },
        "id": "d5zIXZflkw3E",
        "outputId": "281337f0-92dd-4dc0-9868-21fb2d7cd599"
      },
      "execution_count": 42,
      "outputs": [
        {
          "output_type": "stream",
          "name": "stdout",
          "text": [
            "Ka + Ka + Ka + Ka + Ka + Ga x Ga x Ga x Ga x Ga x Ga x Ga x Ga x Ga x Ga x "
          ]
        }
      ]
    }
  ]
}